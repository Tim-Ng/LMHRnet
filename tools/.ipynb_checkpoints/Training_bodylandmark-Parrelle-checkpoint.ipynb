{
 "cells": [
  {
   "cell_type": "code",
   "execution_count": 1,
   "id": "ece9439a",
   "metadata": {},
   "outputs": [],
   "source": [
    "import torch \n",
    "from PIL import Image, ImageOps\n",
    "from torchvision import transforms\n",
    "import yaml\n",
    "from yaml.loader import SafeLoader\n",
    "from munch import DefaultMunch\n",
    "from tensorboardX import SummaryWriter\n",
    "import time\n",
    "import utils\n",
    "from tqdm import tqdm\n",
    "import argparse\n",
    "import os\n",
    "import pprint\n",
    "import shutil\n",
    "import sys\n",
    "\n",
    "import time\n",
    "import timeit\n",
    "from pathlib import Path\n",
    "\n",
    "import numpy as np\n",
    "\n",
    "import torch\n",
    "import torch.nn as nn\n",
    "import torch.backends.cudnn as cudnn\n",
    "from utils_v2 import LandmarkEvaluator as _evaluator\n",
    "import _init_paths\n",
    "import models\n",
    "import datasets\n",
    "from config import config\n",
    "from config import update_config\n",
    "from datasets import CustlrDataset\n",
    "import cv2\n",
    "from torch.nn import functional as F\n",
    "from torch.utils.data import DataLoader\n",
    "import pandas as pd"
   ]
  },
  {
   "cell_type": "code",
   "execution_count": 2,
   "id": "95588761",
   "metadata": {},
   "outputs": [],
   "source": [
    "os.chdir(\"../\")"
   ]
  },
  {
   "cell_type": "code",
   "execution_count": 3,
   "id": "602a26f6",
   "metadata": {
    "scrolled": false
   },
   "outputs": [],
   "source": [
    "lm2name = ['L.Che', 'R.Che', 'Sho.A', 'Sho.B', 'Sho.C', 'Sho.D', 'Sho.E', 'Arm.A', 'Arm.B', 'L.Wai', 'R.Wai', 'Arm.E']\n",
    "\n",
    "def training_mod(learn=0.001,NUMEPOCH = 20):\n",
    "    class args():\n",
    "        cfg= \"experiments\\lip\\seg_hrnet_w48_473x473_sgd_lr7e-3_wd5e-4_bs_40_epoch150.yaml\"\n",
    "    device = torch.device('cuda:0' if torch.cuda.is_available() else 'cpu')\n",
    "    learning_rate = learn\n",
    "    args = args()\n",
    "    update_config(config, args)\n",
    "    print(\"Building model\")\n",
    "    # build model\n",
    "\n",
    "    module = eval('models.seg_hrnet_bodylandmark')\n",
    "    #module = eval('models.'+config.MODEL.NAME)\n",
    "    module.BatchNorm2d_class = module.BatchNorm2d = torch.nn.BatchNorm2d\n",
    "    model = eval('models.seg_hrnet_bodylandmark.get_seg_body_model')(config)\n",
    "    #model = eval('models.'+config.MODEL.NAME +'.get_seg_model')(config)\n",
    "    dump_input = torch.rand(\n",
    "        (1, 3, config.TRAIN.IMAGE_SIZE[1], config.TRAIN.IMAGE_SIZE[0])\n",
    "    )\n",
    "    model_state_file = config.TEST.MODEL_FILE  \n",
    "    pretrained_dict = torch.load('pretrained_models/hrnet_w48_lip_cls20_473x473.pth')\n",
    "    if 'state_dict' in pretrained_dict:\n",
    "        pretrained_dict = pretrained_dict['state_dict']\n",
    "    model_dict = model.state_dict()\n",
    "    pretrained_dict = {k[6:]: v for k, v in pretrained_dict.items()\n",
    "                        if k[6:] in model_dict.keys()}\n",
    "    print(\"Loading model...\")\n",
    "    model_dict.update(pretrained_dict)\n",
    "    model.load_state_dict(model_dict)\n",
    "    model.eval()\n",
    "    model.to(\"cuda\")\n",
    "    #load dataset\n",
    "    traincsv='data_body_landmark/custlr/auged/train.csv'\n",
    "    valcsv='data_body_landmark/custlr/auged/val.csv'\n",
    "    base_path = 'data_body_landmark/custlr/auged/'\n",
    "    traindf = pd.read_csv(traincsv)\n",
    "    valdf = pd.read_csv(valcsv)\n",
    "\n",
    "    train_dataset = CustlrDataset(traindf, mode='NOCROP', base_path=base_path)\n",
    "    val_dataset = CustlrDataset(valdf, mode='NOCROP', base_path=base_path)\n",
    "    out_channel = train_dataset[0]['landmark_map'].shape[0]\n",
    "    print(\"Number of out channels \" +str(out_channel))\n",
    "    evaluator = _evaluator(out_channel)\n",
    "\n",
    "    print('training set', len(train_dataset))\n",
    "    print('val set', len(val_dataset))\n",
    "    dssize = len(train_dataset)+len(val_dataset)\n",
    "\n",
    "    trainloader = DataLoader(train_dataset, batch_size=10, shuffle=True, num_workers=0)\n",
    "    valloader = DataLoader(val_dataset, batch_size=10, shuffle=True, num_workers=0)\n",
    "    #retrain last layer\n",
    "    trainstartparam=921\n",
    "    optimizer = torch.optim.Adam(model.parameters(), lr=learning_rate)\n",
    "    #freeze some layer params total 0-51 vgg16 extractor 0-25, lm branch upsample 26-51\n",
    "    for i, param in enumerate(model.parameters()):\n",
    "        if i >= trainstartparam:\n",
    "            break\n",
    "        param.requires_grad = False\n",
    "\n",
    "    k=trainstartparam\n",
    "    for name, param in model.named_parameters():\n",
    "        if param.requires_grad:\n",
    "            if 'bias' in name:\n",
    "                torch.nn.init.constant_(param, 0) # initialise bias with zeros\n",
    "            else:\n",
    "                print(name)\n",
    "                torch.nn.init.uniform_(param) #initialise linear weights with Kaiming/Xavier uniform weights\n",
    "            print(k,name)\n",
    "            k=k+1\n",
    "    logname = time.strftime('%m-%d %H-%M-%S', time.localtime())\n",
    "    logname = logname + ' param ' + str(trainstartparam)+'-51' + 'dataset size '+ str(dssize)\n",
    "    logname = 'runs/'+logname\n",
    "    writer = SummaryWriter(logname)\n",
    "    optimizer = torch.optim.Adam(model.parameters(), lr=learning_rate)\n",
    "\n",
    "    \n",
    "    train_pos_loss = []\n",
    "    val_pos_loss = []\n",
    "    NUMSTEP = len(trainloader)\n",
    "    step = 0\n",
    "    for epoch in range(NUMEPOCH):\n",
    "        for stat in ['train','val']:\n",
    "            #print(stat)\n",
    "            if stat == 'train':\n",
    "                print(\"---Starting traing---\")\n",
    "                model.train()\n",
    "                for i, sample in enumerate(tqdm(trainloader)):\n",
    "                    step += 1\n",
    "                    for key in sample:\n",
    "                        sample[key] = sample[key].to(\"cuda\")\n",
    "                    output = model(sample)\n",
    "                    #print(output['lm_pos_map'])\n",
    "\n",
    "                    loss = model.cal_loss(sample, output)\n",
    "                    optimizer.zero_grad()\n",
    "                    loss['all'].backward()\n",
    "                    optimizer.step()\n",
    "\n",
    "                    if 'lm_vis_loss' in loss:\n",
    "                        writer.add_scalar('loss/lm_vis_loss', loss['lm_vis_loss'], step)\n",
    "                        writer.add_scalar('loss_weighted/lm_vis_loss', loss['weighted_lm_vis_loss'], step)\n",
    "                    if 'lm_pos_loss' in loss:\n",
    "                        writer.add_scalar('loss/lm_pos_loss', loss['lm_pos_loss'], step)\n",
    "                        writer.add_scalar('loss_weighted/lm_pos_loss', loss['weighted_lm_pos_loss'], step)\n",
    "                    writer.add_scalar('loss_weighted/all', loss['all'], step)\n",
    "                    writer.add_scalar('global/learning_rate', learning_rate, step)\n",
    "\n",
    "                    train_pos_loss.append(loss['lm_pos_loss'])\n",
    "                    print('EPOCH:', epoch+1,'/',NUMEPOCH,'step:', i+1,'/',NUMSTEP,'| lm position loss:', loss['lm_pos_loss'],' | weighted loss:', loss['weighted_lm_pos_loss'])\n",
    "                print(\"---End traing---\")\n",
    "            else:\n",
    "                print(\"---Start evaluation---\")\n",
    "                model.eval()\n",
    "                for i, sample in enumerate(tqdm(valloader)):\n",
    "                    step += 1\n",
    "                    for key in sample:\n",
    "                        sample[key] = sample[key].to(device)\n",
    "                    output = model(sample)\n",
    "                    #print(output['lm_pos_map'])\n",
    "                    evaluator.add(output, sample)\n",
    "                ret = evaluator.evaluate()\n",
    "                for i in range(12):\n",
    "                    print('metrics/dist_part_{}_{}'.format(i, lm2name[i]), ret['lm_individual_dist'][i])\n",
    "                    writer.add_scalar('metrics/dist_part_{}_{}'.format(i, lm2name[i]), ret['lm_individual_dist'][i], step)\n",
    "                print('metrics/dist_all', ret['lm_dist'])\n",
    "                writer.add_scalar('metrics/dist_all', ret['lm_dist'], step)\n",
    "                val_pos_loss.append(ret['lm_dist'])\n",
    "                print('EPOCH:', epoch+1,'/',NUMEPOCH,'| lm distance:', ret['lm_dist'])\n",
    "                model.train()\n",
    "                print(\"---End evaluation---\")\n",
    "        LEARNING_RATE_DECAY =0.9 #0.9\n",
    "        learning_rate *= LEARNING_RATE_DECAY\n",
    "        optimizer = torch.optim.Adam(model.parameters(), lr=learning_rate)\n",
    "    experiment=''\n",
    "    name ='lm param epoch='+str(NUMEPOCH)+' lr =' + str(learn) + 'R=' + str(12)\n",
    "    torch.save(model.state_dict(), './'+ experiment + name + str(trainstartparam) + '-78'+' dataset '+str(dssize) +'.pkl')\n",
    "    import matplotlib.pyplot as plt\n",
    "    plt.plot(train_pos_loss,label='training pos loss')\n",
    "    tfigname = 'experimentlayersgraph/training loss'+name+str(trainstartparam)+'-78'+' dataset '+str(dssize) +'.png'\n",
    "    plt.savefig(tfigname)\n",
    "    #plt.show()\n",
    "    plt.plot(val_pos_loss,label='validation pos loss')\n",
    "    vfigname = 'experimentlayersgraph/val loss'+name+str(trainstartparam)+'-78'+' dataset '+str(dssize) +'.png'\n",
    "    plt.savefig(vfigname)\n",
    "    #plt.show()"
   ]
  },
  {
   "cell_type": "code",
   "execution_count": 4,
   "id": "4c4fbe09",
   "metadata": {},
   "outputs": [
    {
     "name": "stdout",
     "output_type": "stream",
     "text": [
      "Building model\n",
      "Loading model...\n",
      "Number of out channels 12\n",
      "training set 78\n",
      "val set 21\n",
      "LM_branch.stage5.0.branches.0.0.conv1.weight\n",
      "921 LM_branch.stage5.0.branches.0.0.conv1.weight\n",
      "LM_branch.stage5.0.branches.0.0.bn1.weight\n",
      "922 LM_branch.stage5.0.branches.0.0.bn1.weight\n",
      "923 LM_branch.stage5.0.branches.0.0.bn1.bias\n",
      "LM_branch.stage5.0.branches.0.0.conv2.weight\n",
      "924 LM_branch.stage5.0.branches.0.0.conv2.weight\n",
      "LM_branch.stage5.0.branches.0.0.bn2.weight\n",
      "925 LM_branch.stage5.0.branches.0.0.bn2.weight\n",
      "926 LM_branch.stage5.0.branches.0.0.bn2.bias\n",
      "LM_branch.stage5.0.branches.0.1.conv1.weight\n",
      "927 LM_branch.stage5.0.branches.0.1.conv1.weight\n",
      "LM_branch.stage5.0.branches.0.1.bn1.weight\n",
      "928 LM_branch.stage5.0.branches.0.1.bn1.weight\n",
      "929 LM_branch.stage5.0.branches.0.1.bn1.bias\n",
      "LM_branch.stage5.0.branches.0.1.conv2.weight\n",
      "930 LM_branch.stage5.0.branches.0.1.conv2.weight\n",
      "LM_branch.stage5.0.branches.0.1.bn2.weight\n",
      "931 LM_branch.stage5.0.branches.0.1.bn2.weight\n",
      "932 LM_branch.stage5.0.branches.0.1.bn2.bias\n",
      "LM_branch.stage5.0.branches.0.2.conv1.weight\n",
      "933 LM_branch.stage5.0.branches.0.2.conv1.weight\n",
      "LM_branch.stage5.0.branches.0.2.bn1.weight\n",
      "934 LM_branch.stage5.0.branches.0.2.bn1.weight\n",
      "935 LM_branch.stage5.0.branches.0.2.bn1.bias\n",
      "LM_branch.stage5.0.branches.0.2.conv2.weight\n",
      "936 LM_branch.stage5.0.branches.0.2.conv2.weight\n",
      "LM_branch.stage5.0.branches.0.2.bn2.weight\n",
      "937 LM_branch.stage5.0.branches.0.2.bn2.weight\n",
      "938 LM_branch.stage5.0.branches.0.2.bn2.bias\n",
      "LM_branch.stage5.0.branches.0.3.conv1.weight\n",
      "939 LM_branch.stage5.0.branches.0.3.conv1.weight\n",
      "LM_branch.stage5.0.branches.0.3.bn1.weight\n",
      "940 LM_branch.stage5.0.branches.0.3.bn1.weight\n",
      "941 LM_branch.stage5.0.branches.0.3.bn1.bias\n",
      "LM_branch.stage5.0.branches.0.3.conv2.weight\n",
      "942 LM_branch.stage5.0.branches.0.3.conv2.weight\n",
      "LM_branch.stage5.0.branches.0.3.bn2.weight\n",
      "943 LM_branch.stage5.0.branches.0.3.bn2.weight\n",
      "944 LM_branch.stage5.0.branches.0.3.bn2.bias\n",
      "LM_branch.stage5.0.branches.1.0.conv1.weight\n",
      "945 LM_branch.stage5.0.branches.1.0.conv1.weight\n",
      "LM_branch.stage5.0.branches.1.0.bn1.weight\n",
      "946 LM_branch.stage5.0.branches.1.0.bn1.weight\n",
      "947 LM_branch.stage5.0.branches.1.0.bn1.bias\n",
      "LM_branch.stage5.0.branches.1.0.conv2.weight\n",
      "948 LM_branch.stage5.0.branches.1.0.conv2.weight\n",
      "LM_branch.stage5.0.branches.1.0.bn2.weight\n",
      "949 LM_branch.stage5.0.branches.1.0.bn2.weight\n",
      "950 LM_branch.stage5.0.branches.1.0.bn2.bias\n",
      "LM_branch.stage5.0.branches.1.1.conv1.weight\n",
      "951 LM_branch.stage5.0.branches.1.1.conv1.weight\n",
      "LM_branch.stage5.0.branches.1.1.bn1.weight\n",
      "952 LM_branch.stage5.0.branches.1.1.bn1.weight\n",
      "953 LM_branch.stage5.0.branches.1.1.bn1.bias\n",
      "LM_branch.stage5.0.branches.1.1.conv2.weight\n",
      "954 LM_branch.stage5.0.branches.1.1.conv2.weight\n",
      "LM_branch.stage5.0.branches.1.1.bn2.weight\n",
      "955 LM_branch.stage5.0.branches.1.1.bn2.weight\n",
      "956 LM_branch.stage5.0.branches.1.1.bn2.bias\n",
      "LM_branch.stage5.0.branches.1.2.conv1.weight\n",
      "957 LM_branch.stage5.0.branches.1.2.conv1.weight\n",
      "LM_branch.stage5.0.branches.1.2.bn1.weight\n",
      "958 LM_branch.stage5.0.branches.1.2.bn1.weight\n",
      "959 LM_branch.stage5.0.branches.1.2.bn1.bias\n",
      "LM_branch.stage5.0.branches.1.2.conv2.weight\n",
      "960 LM_branch.stage5.0.branches.1.2.conv2.weight\n",
      "LM_branch.stage5.0.branches.1.2.bn2.weight\n",
      "961 LM_branch.stage5.0.branches.1.2.bn2.weight\n",
      "962 LM_branch.stage5.0.branches.1.2.bn2.bias\n",
      "LM_branch.stage5.0.branches.1.3.conv1.weight\n",
      "963 LM_branch.stage5.0.branches.1.3.conv1.weight\n",
      "LM_branch.stage5.0.branches.1.3.bn1.weight\n",
      "964 LM_branch.stage5.0.branches.1.3.bn1.weight\n",
      "965 LM_branch.stage5.0.branches.1.3.bn1.bias\n",
      "LM_branch.stage5.0.branches.1.3.conv2.weight\n",
      "966 LM_branch.stage5.0.branches.1.3.conv2.weight\n",
      "LM_branch.stage5.0.branches.1.3.bn2.weight\n",
      "967 LM_branch.stage5.0.branches.1.3.bn2.weight\n",
      "968 LM_branch.stage5.0.branches.1.3.bn2.bias\n",
      "LM_branch.stage5.0.branches.2.0.conv1.weight\n",
      "969 LM_branch.stage5.0.branches.2.0.conv1.weight\n",
      "LM_branch.stage5.0.branches.2.0.bn1.weight\n",
      "970 LM_branch.stage5.0.branches.2.0.bn1.weight\n",
      "971 LM_branch.stage5.0.branches.2.0.bn1.bias\n",
      "LM_branch.stage5.0.branches.2.0.conv2.weight\n",
      "972 LM_branch.stage5.0.branches.2.0.conv2.weight\n",
      "LM_branch.stage5.0.branches.2.0.bn2.weight\n",
      "973 LM_branch.stage5.0.branches.2.0.bn2.weight\n",
      "974 LM_branch.stage5.0.branches.2.0.bn2.bias\n",
      "LM_branch.stage5.0.branches.2.1.conv1.weight\n",
      "975 LM_branch.stage5.0.branches.2.1.conv1.weight\n",
      "LM_branch.stage5.0.branches.2.1.bn1.weight\n",
      "976 LM_branch.stage5.0.branches.2.1.bn1.weight\n",
      "977 LM_branch.stage5.0.branches.2.1.bn1.bias\n",
      "LM_branch.stage5.0.branches.2.1.conv2.weight\n",
      "978 LM_branch.stage5.0.branches.2.1.conv2.weight\n",
      "LM_branch.stage5.0.branches.2.1.bn2.weight\n",
      "979 LM_branch.stage5.0.branches.2.1.bn2.weight\n",
      "980 LM_branch.stage5.0.branches.2.1.bn2.bias\n",
      "LM_branch.stage5.0.branches.2.2.conv1.weight\n",
      "981 LM_branch.stage5.0.branches.2.2.conv1.weight\n",
      "LM_branch.stage5.0.branches.2.2.bn1.weight\n",
      "982 LM_branch.stage5.0.branches.2.2.bn1.weight\n",
      "983 LM_branch.stage5.0.branches.2.2.bn1.bias\n",
      "LM_branch.stage5.0.branches.2.2.conv2.weight\n",
      "984 LM_branch.stage5.0.branches.2.2.conv2.weight\n",
      "LM_branch.stage5.0.branches.2.2.bn2.weight\n",
      "985 LM_branch.stage5.0.branches.2.2.bn2.weight\n",
      "986 LM_branch.stage5.0.branches.2.2.bn2.bias\n",
      "LM_branch.stage5.0.branches.2.3.conv1.weight\n",
      "987 LM_branch.stage5.0.branches.2.3.conv1.weight\n",
      "LM_branch.stage5.0.branches.2.3.bn1.weight\n",
      "988 LM_branch.stage5.0.branches.2.3.bn1.weight\n",
      "989 LM_branch.stage5.0.branches.2.3.bn1.bias\n",
      "LM_branch.stage5.0.branches.2.3.conv2.weight\n",
      "990 LM_branch.stage5.0.branches.2.3.conv2.weight\n",
      "LM_branch.stage5.0.branches.2.3.bn2.weight\n",
      "991 LM_branch.stage5.0.branches.2.3.bn2.weight\n",
      "992 LM_branch.stage5.0.branches.2.3.bn2.bias\n",
      "LM_branch.stage5.0.branches.3.0.conv1.weight\n",
      "993 LM_branch.stage5.0.branches.3.0.conv1.weight\n",
      "LM_branch.stage5.0.branches.3.0.bn1.weight\n",
      "994 LM_branch.stage5.0.branches.3.0.bn1.weight\n",
      "995 LM_branch.stage5.0.branches.3.0.bn1.bias\n",
      "LM_branch.stage5.0.branches.3.0.conv2.weight\n",
      "996 LM_branch.stage5.0.branches.3.0.conv2.weight\n",
      "LM_branch.stage5.0.branches.3.0.bn2.weight\n",
      "997 LM_branch.stage5.0.branches.3.0.bn2.weight\n",
      "998 LM_branch.stage5.0.branches.3.0.bn2.bias\n",
      "LM_branch.stage5.0.branches.3.1.conv1.weight\n",
      "999 LM_branch.stage5.0.branches.3.1.conv1.weight\n",
      "LM_branch.stage5.0.branches.3.1.bn1.weight\n",
      "1000 LM_branch.stage5.0.branches.3.1.bn1.weight\n",
      "1001 LM_branch.stage5.0.branches.3.1.bn1.bias\n",
      "LM_branch.stage5.0.branches.3.1.conv2.weight\n",
      "1002 LM_branch.stage5.0.branches.3.1.conv2.weight\n",
      "LM_branch.stage5.0.branches.3.1.bn2.weight\n",
      "1003 LM_branch.stage5.0.branches.3.1.bn2.weight\n",
      "1004 LM_branch.stage5.0.branches.3.1.bn2.bias\n",
      "LM_branch.stage5.0.branches.3.2.conv1.weight\n",
      "1005 LM_branch.stage5.0.branches.3.2.conv1.weight\n",
      "LM_branch.stage5.0.branches.3.2.bn1.weight\n",
      "1006 LM_branch.stage5.0.branches.3.2.bn1.weight\n",
      "1007 LM_branch.stage5.0.branches.3.2.bn1.bias\n",
      "LM_branch.stage5.0.branches.3.2.conv2.weight\n",
      "1008 LM_branch.stage5.0.branches.3.2.conv2.weight\n",
      "LM_branch.stage5.0.branches.3.2.bn2.weight\n",
      "1009 LM_branch.stage5.0.branches.3.2.bn2.weight\n",
      "1010 LM_branch.stage5.0.branches.3.2.bn2.bias\n",
      "LM_branch.stage5.0.branches.3.3.conv1.weight\n",
      "1011 LM_branch.stage5.0.branches.3.3.conv1.weight\n",
      "LM_branch.stage5.0.branches.3.3.bn1.weight\n",
      "1012 LM_branch.stage5.0.branches.3.3.bn1.weight\n",
      "1013 LM_branch.stage5.0.branches.3.3.bn1.bias\n",
      "LM_branch.stage5.0.branches.3.3.conv2.weight\n",
      "1014 LM_branch.stage5.0.branches.3.3.conv2.weight\n",
      "LM_branch.stage5.0.branches.3.3.bn2.weight\n",
      "1015 LM_branch.stage5.0.branches.3.3.bn2.weight\n",
      "1016 LM_branch.stage5.0.branches.3.3.bn2.bias\n",
      "LM_branch.stage5.0.fuse_layers.0.1.0.weight\n",
      "1017 LM_branch.stage5.0.fuse_layers.0.1.0.weight\n",
      "LM_branch.stage5.0.fuse_layers.0.1.1.weight\n",
      "1018 LM_branch.stage5.0.fuse_layers.0.1.1.weight\n",
      "1019 LM_branch.stage5.0.fuse_layers.0.1.1.bias\n",
      "LM_branch.stage5.0.fuse_layers.0.2.0.weight\n",
      "1020 LM_branch.stage5.0.fuse_layers.0.2.0.weight\n",
      "LM_branch.stage5.0.fuse_layers.0.2.1.weight\n",
      "1021 LM_branch.stage5.0.fuse_layers.0.2.1.weight\n",
      "1022 LM_branch.stage5.0.fuse_layers.0.2.1.bias\n",
      "LM_branch.stage5.0.fuse_layers.0.3.0.weight\n",
      "1023 LM_branch.stage5.0.fuse_layers.0.3.0.weight\n",
      "LM_branch.stage5.0.fuse_layers.0.3.1.weight\n",
      "1024 LM_branch.stage5.0.fuse_layers.0.3.1.weight\n",
      "1025 LM_branch.stage5.0.fuse_layers.0.3.1.bias\n",
      "LM_branch.stage5.0.fuse_layers.1.0.0.0.weight\n",
      "1026 LM_branch.stage5.0.fuse_layers.1.0.0.0.weight\n",
      "LM_branch.stage5.0.fuse_layers.1.0.0.1.weight\n",
      "1027 LM_branch.stage5.0.fuse_layers.1.0.0.1.weight\n",
      "1028 LM_branch.stage5.0.fuse_layers.1.0.0.1.bias\n",
      "LM_branch.stage5.0.fuse_layers.1.2.0.weight\n",
      "1029 LM_branch.stage5.0.fuse_layers.1.2.0.weight\n",
      "LM_branch.stage5.0.fuse_layers.1.2.1.weight\n",
      "1030 LM_branch.stage5.0.fuse_layers.1.2.1.weight\n",
      "1031 LM_branch.stage5.0.fuse_layers.1.2.1.bias\n",
      "LM_branch.stage5.0.fuse_layers.1.3.0.weight\n",
      "1032 LM_branch.stage5.0.fuse_layers.1.3.0.weight\n",
      "LM_branch.stage5.0.fuse_layers.1.3.1.weight\n",
      "1033 LM_branch.stage5.0.fuse_layers.1.3.1.weight\n",
      "1034 LM_branch.stage5.0.fuse_layers.1.3.1.bias\n",
      "LM_branch.stage5.0.fuse_layers.2.0.0.0.weight\n",
      "1035 LM_branch.stage5.0.fuse_layers.2.0.0.0.weight\n",
      "LM_branch.stage5.0.fuse_layers.2.0.0.1.weight\n",
      "1036 LM_branch.stage5.0.fuse_layers.2.0.0.1.weight\n",
      "1037 LM_branch.stage5.0.fuse_layers.2.0.0.1.bias\n",
      "LM_branch.stage5.0.fuse_layers.2.0.1.0.weight\n",
      "1038 LM_branch.stage5.0.fuse_layers.2.0.1.0.weight\n",
      "LM_branch.stage5.0.fuse_layers.2.0.1.1.weight\n",
      "1039 LM_branch.stage5.0.fuse_layers.2.0.1.1.weight\n",
      "1040 LM_branch.stage5.0.fuse_layers.2.0.1.1.bias\n",
      "LM_branch.stage5.0.fuse_layers.2.1.0.0.weight\n",
      "1041 LM_branch.stage5.0.fuse_layers.2.1.0.0.weight\n",
      "LM_branch.stage5.0.fuse_layers.2.1.0.1.weight\n",
      "1042 LM_branch.stage5.0.fuse_layers.2.1.0.1.weight\n",
      "1043 LM_branch.stage5.0.fuse_layers.2.1.0.1.bias\n",
      "LM_branch.stage5.0.fuse_layers.2.3.0.weight\n",
      "1044 LM_branch.stage5.0.fuse_layers.2.3.0.weight\n",
      "LM_branch.stage5.0.fuse_layers.2.3.1.weight\n",
      "1045 LM_branch.stage5.0.fuse_layers.2.3.1.weight\n",
      "1046 LM_branch.stage5.0.fuse_layers.2.3.1.bias\n",
      "LM_branch.stage5.0.fuse_layers.3.0.0.0.weight\n",
      "1047 LM_branch.stage5.0.fuse_layers.3.0.0.0.weight\n",
      "LM_branch.stage5.0.fuse_layers.3.0.0.1.weight\n",
      "1048 LM_branch.stage5.0.fuse_layers.3.0.0.1.weight\n",
      "1049 LM_branch.stage5.0.fuse_layers.3.0.0.1.bias\n",
      "LM_branch.stage5.0.fuse_layers.3.0.1.0.weight\n",
      "1050 LM_branch.stage5.0.fuse_layers.3.0.1.0.weight\n",
      "LM_branch.stage5.0.fuse_layers.3.0.1.1.weight\n",
      "1051 LM_branch.stage5.0.fuse_layers.3.0.1.1.weight\n",
      "1052 LM_branch.stage5.0.fuse_layers.3.0.1.1.bias\n",
      "LM_branch.stage5.0.fuse_layers.3.0.2.0.weight\n",
      "1053 LM_branch.stage5.0.fuse_layers.3.0.2.0.weight\n",
      "LM_branch.stage5.0.fuse_layers.3.0.2.1.weight\n",
      "1054 LM_branch.stage5.0.fuse_layers.3.0.2.1.weight\n",
      "1055 LM_branch.stage5.0.fuse_layers.3.0.2.1.bias\n",
      "LM_branch.stage5.0.fuse_layers.3.1.0.0.weight\n",
      "1056 LM_branch.stage5.0.fuse_layers.3.1.0.0.weight\n",
      "LM_branch.stage5.0.fuse_layers.3.1.0.1.weight\n",
      "1057 LM_branch.stage5.0.fuse_layers.3.1.0.1.weight\n",
      "1058 LM_branch.stage5.0.fuse_layers.3.1.0.1.bias\n",
      "LM_branch.stage5.0.fuse_layers.3.1.1.0.weight\n",
      "1059 LM_branch.stage5.0.fuse_layers.3.1.1.0.weight\n",
      "LM_branch.stage5.0.fuse_layers.3.1.1.1.weight\n",
      "1060 LM_branch.stage5.0.fuse_layers.3.1.1.1.weight\n",
      "1061 LM_branch.stage5.0.fuse_layers.3.1.1.1.bias\n",
      "LM_branch.stage5.0.fuse_layers.3.2.0.0.weight\n",
      "1062 LM_branch.stage5.0.fuse_layers.3.2.0.0.weight\n",
      "LM_branch.stage5.0.fuse_layers.3.2.0.1.weight\n",
      "1063 LM_branch.stage5.0.fuse_layers.3.2.0.1.weight\n",
      "1064 LM_branch.stage5.0.fuse_layers.3.2.0.1.bias\n",
      "LM_branch.last_layer_landmark.0.weight\n",
      "1065 LM_branch.last_layer_landmark.0.weight\n",
      "1066 LM_branch.last_layer_landmark.0.bias\n",
      "LM_branch.last_layer_landmark.1.weight\n",
      "1067 LM_branch.last_layer_landmark.1.weight\n",
      "1068 LM_branch.last_layer_landmark.1.bias\n",
      "LM_branch.last_layer_landmark.3.weight\n",
      "1069 LM_branch.last_layer_landmark.3.weight\n",
      "1070 LM_branch.last_layer_landmark.3.bias\n",
      "---Starting traing---\n"
     ]
    },
    {
     "name": "stderr",
     "output_type": "stream",
     "text": [
      "  0%|                                                                                                                                                                            | 0/8 [00:00<?, ?it/s]C:\\Users\\timng\\anaconda3\\envs\\pytorch1.7\\lib\\site-packages\\torch\\nn\\functional.py:3063: UserWarning: Default upsampling behavior when mode=bilinear is changed to align_corners=False since 0.4.0. Please specify align_corners=True if the old behavior is desired. See the documentation of nn.Upsample for details.\n",
      "  \"See the documentation of nn.Upsample for details.\".format(mode))\n",
      " 12%|████████████████████▌                                                                                                                                               | 1/8 [00:31<03:41, 31.68s/it]"
     ]
    },
    {
     "name": "stdout",
     "output_type": "stream",
     "text": [
      "EPOCH: 1 / 20 step: 1 / 8 | lm position loss: 29066.39453125  | weighted loss: 290663.9453125\n"
     ]
    },
    {
     "name": "stderr",
     "output_type": "stream",
     "text": [
      " 12%|████████████████████▌                                                                                                                                               | 1/8 [00:36<04:15, 36.45s/it]\n"
     ]
    },
    {
     "ename": "KeyboardInterrupt",
     "evalue": "",
     "output_type": "error",
     "traceback": [
      "\u001b[1;31m---------------------------------------------------------------------------\u001b[0m",
      "\u001b[1;31mKeyboardInterrupt\u001b[0m                         Traceback (most recent call last)",
      "\u001b[1;32m~\\AppData\\Local\\Temp\\ipykernel_5432\\2840861195.py\u001b[0m in \u001b[0;36m<module>\u001b[1;34m\u001b[0m\n\u001b[0;32m      1\u001b[0m \u001b[0mlist_lr\u001b[0m\u001b[1;33m=\u001b[0m\u001b[1;33m[\u001b[0m\u001b[1;36m0.025\u001b[0m\u001b[1;33m,\u001b[0m\u001b[1;36m0.0225\u001b[0m\u001b[1;33m,\u001b[0m\u001b[1;36m0.0275\u001b[0m\u001b[1;33m]\u001b[0m\u001b[1;31m#0.01,0.02,0.03,0.04,0.05,0.06,   0.07,0.08,0.09\u001b[0m\u001b[1;33m\u001b[0m\u001b[1;33m\u001b[0m\u001b[0m\n\u001b[0;32m      2\u001b[0m \u001b[1;32mfor\u001b[0m \u001b[0mi\u001b[0m \u001b[1;32min\u001b[0m \u001b[0mlist_lr\u001b[0m\u001b[1;33m:\u001b[0m\u001b[1;33m\u001b[0m\u001b[1;33m\u001b[0m\u001b[0m\n\u001b[1;32m----> 3\u001b[1;33m     \u001b[0mtraining_mod\u001b[0m\u001b[1;33m(\u001b[0m\u001b[0mi\u001b[0m\u001b[1;33m,\u001b[0m\u001b[1;36m20\u001b[0m\u001b[1;33m)\u001b[0m\u001b[1;33m\u001b[0m\u001b[1;33m\u001b[0m\u001b[0m\n\u001b[0m",
      "\u001b[1;32m~\\AppData\\Local\\Temp\\ipykernel_5432\\2725700896.py\u001b[0m in \u001b[0;36mtraining_mod\u001b[1;34m(learn, NUMEPOCH)\u001b[0m\n\u001b[0;32m     86\u001b[0m                 \u001b[0mprint\u001b[0m\u001b[1;33m(\u001b[0m\u001b[1;34m\"---Starting traing---\"\u001b[0m\u001b[1;33m)\u001b[0m\u001b[1;33m\u001b[0m\u001b[1;33m\u001b[0m\u001b[0m\n\u001b[0;32m     87\u001b[0m                 \u001b[0mmodel\u001b[0m\u001b[1;33m.\u001b[0m\u001b[0mtrain\u001b[0m\u001b[1;33m(\u001b[0m\u001b[1;33m)\u001b[0m\u001b[1;33m\u001b[0m\u001b[1;33m\u001b[0m\u001b[0m\n\u001b[1;32m---> 88\u001b[1;33m                 \u001b[1;32mfor\u001b[0m \u001b[0mi\u001b[0m\u001b[1;33m,\u001b[0m \u001b[0msample\u001b[0m \u001b[1;32min\u001b[0m \u001b[0menumerate\u001b[0m\u001b[1;33m(\u001b[0m\u001b[0mtqdm\u001b[0m\u001b[1;33m(\u001b[0m\u001b[0mtrainloader\u001b[0m\u001b[1;33m)\u001b[0m\u001b[1;33m)\u001b[0m\u001b[1;33m:\u001b[0m\u001b[1;33m\u001b[0m\u001b[1;33m\u001b[0m\u001b[0m\n\u001b[0m\u001b[0;32m     89\u001b[0m                     \u001b[0mstep\u001b[0m \u001b[1;33m+=\u001b[0m \u001b[1;36m1\u001b[0m\u001b[1;33m\u001b[0m\u001b[1;33m\u001b[0m\u001b[0m\n\u001b[0;32m     90\u001b[0m                     \u001b[1;32mfor\u001b[0m \u001b[0mkey\u001b[0m \u001b[1;32min\u001b[0m \u001b[0msample\u001b[0m\u001b[1;33m:\u001b[0m\u001b[1;33m\u001b[0m\u001b[1;33m\u001b[0m\u001b[0m\n",
      "\u001b[1;32m~\\anaconda3\\envs\\pytorch1.7\\lib\\site-packages\\tqdm\\std.py\u001b[0m in \u001b[0;36m__iter__\u001b[1;34m(self)\u001b[0m\n\u001b[0;32m   1193\u001b[0m \u001b[1;33m\u001b[0m\u001b[0m\n\u001b[0;32m   1194\u001b[0m         \u001b[1;32mtry\u001b[0m\u001b[1;33m:\u001b[0m\u001b[1;33m\u001b[0m\u001b[1;33m\u001b[0m\u001b[0m\n\u001b[1;32m-> 1195\u001b[1;33m             \u001b[1;32mfor\u001b[0m \u001b[0mobj\u001b[0m \u001b[1;32min\u001b[0m \u001b[0miterable\u001b[0m\u001b[1;33m:\u001b[0m\u001b[1;33m\u001b[0m\u001b[1;33m\u001b[0m\u001b[0m\n\u001b[0m\u001b[0;32m   1196\u001b[0m                 \u001b[1;32myield\u001b[0m \u001b[0mobj\u001b[0m\u001b[1;33m\u001b[0m\u001b[1;33m\u001b[0m\u001b[0m\n\u001b[0;32m   1197\u001b[0m                 \u001b[1;31m# Update and possibly print the progressbar.\u001b[0m\u001b[1;33m\u001b[0m\u001b[1;33m\u001b[0m\u001b[1;33m\u001b[0m\u001b[0m\n",
      "\u001b[1;32m~\\anaconda3\\envs\\pytorch1.7\\lib\\site-packages\\torch\\utils\\data\\dataloader.py\u001b[0m in \u001b[0;36m__next__\u001b[1;34m(self)\u001b[0m\n\u001b[0;32m    433\u001b[0m         \u001b[1;32mif\u001b[0m \u001b[0mself\u001b[0m\u001b[1;33m.\u001b[0m\u001b[0m_sampler_iter\u001b[0m \u001b[1;32mis\u001b[0m \u001b[1;32mNone\u001b[0m\u001b[1;33m:\u001b[0m\u001b[1;33m\u001b[0m\u001b[1;33m\u001b[0m\u001b[0m\n\u001b[0;32m    434\u001b[0m             \u001b[0mself\u001b[0m\u001b[1;33m.\u001b[0m\u001b[0m_reset\u001b[0m\u001b[1;33m(\u001b[0m\u001b[1;33m)\u001b[0m\u001b[1;33m\u001b[0m\u001b[1;33m\u001b[0m\u001b[0m\n\u001b[1;32m--> 435\u001b[1;33m         \u001b[0mdata\u001b[0m \u001b[1;33m=\u001b[0m \u001b[0mself\u001b[0m\u001b[1;33m.\u001b[0m\u001b[0m_next_data\u001b[0m\u001b[1;33m(\u001b[0m\u001b[1;33m)\u001b[0m\u001b[1;33m\u001b[0m\u001b[1;33m\u001b[0m\u001b[0m\n\u001b[0m\u001b[0;32m    436\u001b[0m         \u001b[0mself\u001b[0m\u001b[1;33m.\u001b[0m\u001b[0m_num_yielded\u001b[0m \u001b[1;33m+=\u001b[0m \u001b[1;36m1\u001b[0m\u001b[1;33m\u001b[0m\u001b[1;33m\u001b[0m\u001b[0m\n\u001b[0;32m    437\u001b[0m         \u001b[1;32mif\u001b[0m \u001b[0mself\u001b[0m\u001b[1;33m.\u001b[0m\u001b[0m_dataset_kind\u001b[0m \u001b[1;33m==\u001b[0m \u001b[0m_DatasetKind\u001b[0m\u001b[1;33m.\u001b[0m\u001b[0mIterable\u001b[0m \u001b[1;32mand\u001b[0m\u001b[0;31m \u001b[0m\u001b[0;31m\\\u001b[0m\u001b[1;33m\u001b[0m\u001b[1;33m\u001b[0m\u001b[0m\n",
      "\u001b[1;32m~\\anaconda3\\envs\\pytorch1.7\\lib\\site-packages\\torch\\utils\\data\\dataloader.py\u001b[0m in \u001b[0;36m_next_data\u001b[1;34m(self)\u001b[0m\n\u001b[0;32m    473\u001b[0m     \u001b[1;32mdef\u001b[0m \u001b[0m_next_data\u001b[0m\u001b[1;33m(\u001b[0m\u001b[0mself\u001b[0m\u001b[1;33m)\u001b[0m\u001b[1;33m:\u001b[0m\u001b[1;33m\u001b[0m\u001b[1;33m\u001b[0m\u001b[0m\n\u001b[0;32m    474\u001b[0m         \u001b[0mindex\u001b[0m \u001b[1;33m=\u001b[0m \u001b[0mself\u001b[0m\u001b[1;33m.\u001b[0m\u001b[0m_next_index\u001b[0m\u001b[1;33m(\u001b[0m\u001b[1;33m)\u001b[0m  \u001b[1;31m# may raise StopIteration\u001b[0m\u001b[1;33m\u001b[0m\u001b[1;33m\u001b[0m\u001b[0m\n\u001b[1;32m--> 475\u001b[1;33m         \u001b[0mdata\u001b[0m \u001b[1;33m=\u001b[0m \u001b[0mself\u001b[0m\u001b[1;33m.\u001b[0m\u001b[0m_dataset_fetcher\u001b[0m\u001b[1;33m.\u001b[0m\u001b[0mfetch\u001b[0m\u001b[1;33m(\u001b[0m\u001b[0mindex\u001b[0m\u001b[1;33m)\u001b[0m  \u001b[1;31m# may raise StopIteration\u001b[0m\u001b[1;33m\u001b[0m\u001b[1;33m\u001b[0m\u001b[0m\n\u001b[0m\u001b[0;32m    476\u001b[0m         \u001b[1;32mif\u001b[0m \u001b[0mself\u001b[0m\u001b[1;33m.\u001b[0m\u001b[0m_pin_memory\u001b[0m\u001b[1;33m:\u001b[0m\u001b[1;33m\u001b[0m\u001b[1;33m\u001b[0m\u001b[0m\n\u001b[0;32m    477\u001b[0m             \u001b[0mdata\u001b[0m \u001b[1;33m=\u001b[0m \u001b[0m_utils\u001b[0m\u001b[1;33m.\u001b[0m\u001b[0mpin_memory\u001b[0m\u001b[1;33m.\u001b[0m\u001b[0mpin_memory\u001b[0m\u001b[1;33m(\u001b[0m\u001b[0mdata\u001b[0m\u001b[1;33m)\u001b[0m\u001b[1;33m\u001b[0m\u001b[1;33m\u001b[0m\u001b[0m\n",
      "\u001b[1;32m~\\anaconda3\\envs\\pytorch1.7\\lib\\site-packages\\torch\\utils\\data\\_utils\\fetch.py\u001b[0m in \u001b[0;36mfetch\u001b[1;34m(self, possibly_batched_index)\u001b[0m\n\u001b[0;32m     42\u001b[0m     \u001b[1;32mdef\u001b[0m \u001b[0mfetch\u001b[0m\u001b[1;33m(\u001b[0m\u001b[0mself\u001b[0m\u001b[1;33m,\u001b[0m \u001b[0mpossibly_batched_index\u001b[0m\u001b[1;33m)\u001b[0m\u001b[1;33m:\u001b[0m\u001b[1;33m\u001b[0m\u001b[1;33m\u001b[0m\u001b[0m\n\u001b[0;32m     43\u001b[0m         \u001b[1;32mif\u001b[0m \u001b[0mself\u001b[0m\u001b[1;33m.\u001b[0m\u001b[0mauto_collation\u001b[0m\u001b[1;33m:\u001b[0m\u001b[1;33m\u001b[0m\u001b[1;33m\u001b[0m\u001b[0m\n\u001b[1;32m---> 44\u001b[1;33m             \u001b[0mdata\u001b[0m \u001b[1;33m=\u001b[0m \u001b[1;33m[\u001b[0m\u001b[0mself\u001b[0m\u001b[1;33m.\u001b[0m\u001b[0mdataset\u001b[0m\u001b[1;33m[\u001b[0m\u001b[0midx\u001b[0m\u001b[1;33m]\u001b[0m \u001b[1;32mfor\u001b[0m \u001b[0midx\u001b[0m \u001b[1;32min\u001b[0m \u001b[0mpossibly_batched_index\u001b[0m\u001b[1;33m]\u001b[0m\u001b[1;33m\u001b[0m\u001b[1;33m\u001b[0m\u001b[0m\n\u001b[0m\u001b[0;32m     45\u001b[0m         \u001b[1;32melse\u001b[0m\u001b[1;33m:\u001b[0m\u001b[1;33m\u001b[0m\u001b[1;33m\u001b[0m\u001b[0m\n\u001b[0;32m     46\u001b[0m             \u001b[0mdata\u001b[0m \u001b[1;33m=\u001b[0m \u001b[0mself\u001b[0m\u001b[1;33m.\u001b[0m\u001b[0mdataset\u001b[0m\u001b[1;33m[\u001b[0m\u001b[0mpossibly_batched_index\u001b[0m\u001b[1;33m]\u001b[0m\u001b[1;33m\u001b[0m\u001b[1;33m\u001b[0m\u001b[0m\n",
      "\u001b[1;32m~\\anaconda3\\envs\\pytorch1.7\\lib\\site-packages\\torch\\utils\\data\\_utils\\fetch.py\u001b[0m in \u001b[0;36m<listcomp>\u001b[1;34m(.0)\u001b[0m\n\u001b[0;32m     42\u001b[0m     \u001b[1;32mdef\u001b[0m \u001b[0mfetch\u001b[0m\u001b[1;33m(\u001b[0m\u001b[0mself\u001b[0m\u001b[1;33m,\u001b[0m \u001b[0mpossibly_batched_index\u001b[0m\u001b[1;33m)\u001b[0m\u001b[1;33m:\u001b[0m\u001b[1;33m\u001b[0m\u001b[1;33m\u001b[0m\u001b[0m\n\u001b[0;32m     43\u001b[0m         \u001b[1;32mif\u001b[0m \u001b[0mself\u001b[0m\u001b[1;33m.\u001b[0m\u001b[0mauto_collation\u001b[0m\u001b[1;33m:\u001b[0m\u001b[1;33m\u001b[0m\u001b[1;33m\u001b[0m\u001b[0m\n\u001b[1;32m---> 44\u001b[1;33m             \u001b[0mdata\u001b[0m \u001b[1;33m=\u001b[0m \u001b[1;33m[\u001b[0m\u001b[0mself\u001b[0m\u001b[1;33m.\u001b[0m\u001b[0mdataset\u001b[0m\u001b[1;33m[\u001b[0m\u001b[0midx\u001b[0m\u001b[1;33m]\u001b[0m \u001b[1;32mfor\u001b[0m \u001b[0midx\u001b[0m \u001b[1;32min\u001b[0m \u001b[0mpossibly_batched_index\u001b[0m\u001b[1;33m]\u001b[0m\u001b[1;33m\u001b[0m\u001b[1;33m\u001b[0m\u001b[0m\n\u001b[0m\u001b[0;32m     45\u001b[0m         \u001b[1;32melse\u001b[0m\u001b[1;33m:\u001b[0m\u001b[1;33m\u001b[0m\u001b[1;33m\u001b[0m\u001b[0m\n\u001b[0;32m     46\u001b[0m             \u001b[0mdata\u001b[0m \u001b[1;33m=\u001b[0m \u001b[0mself\u001b[0m\u001b[1;33m.\u001b[0m\u001b[0mdataset\u001b[0m\u001b[1;33m[\u001b[0m\u001b[0mpossibly_batched_index\u001b[0m\u001b[1;33m]\u001b[0m\u001b[1;33m\u001b[0m\u001b[1;33m\u001b[0m\u001b[0m\n",
      "\u001b[1;32m~\\OneDrive - University of Nottingham Malaysia\\Module\\Year3\\FYP\\Programm\\1.7 - Copy\\tools\\..\\lib\\datasets\\bodylandmark.py\u001b[0m in \u001b[0;36m__getitem__\u001b[1;34m(self, i)\u001b[0m\n\u001b[0;32m    272\u001b[0m \u001b[1;33m\u001b[0m\u001b[0m\n\u001b[0;32m    273\u001b[0m         \u001b[1;32melif\u001b[0m \u001b[0mself\u001b[0m\u001b[1;33m.\u001b[0m\u001b[0mmode\u001b[0m \u001b[1;33m==\u001b[0m \u001b[1;34m'NOCROP'\u001b[0m\u001b[1;33m:\u001b[0m\u001b[1;33m\u001b[0m\u001b[1;33m\u001b[0m\u001b[0m\n\u001b[1;32m--> 274\u001b[1;33m             \u001b[0mimage\u001b[0m\u001b[1;33m,\u001b[0m \u001b[0mlandmark_pos\u001b[0m \u001b[1;33m=\u001b[0m \u001b[0mself\u001b[0m\u001b[1;33m.\u001b[0m\u001b[0mrescale224square\u001b[0m\u001b[1;33m(\u001b[0m\u001b[0mimage\u001b[0m\u001b[1;33m,\u001b[0m \u001b[0mlandmark_pos\u001b[0m\u001b[1;33m)\u001b[0m\u001b[1;33m\u001b[0m\u001b[1;33m\u001b[0m\u001b[0m\n\u001b[0m\u001b[0;32m    275\u001b[0m         \u001b[1;32melse\u001b[0m\u001b[1;33m:\u001b[0m\u001b[1;33m\u001b[0m\u001b[1;33m\u001b[0m\u001b[0m\n\u001b[0;32m    276\u001b[0m             \u001b[1;32mraise\u001b[0m \u001b[0mNotImplementedError\u001b[0m\u001b[1;33m\u001b[0m\u001b[1;33m\u001b[0m\u001b[0m\n",
      "\u001b[1;32m~\\OneDrive - University of Nottingham Malaysia\\Module\\Year3\\FYP\\Programm\\1.7 - Copy\\tools\\..\\lib\\datasets\\bodylandmark.py\u001b[0m in \u001b[0;36m__call__\u001b[1;34m(self, image, landmarks)\u001b[0m\n\u001b[0;32m     63\u001b[0m         \u001b[0mnew_h\u001b[0m\u001b[1;33m,\u001b[0m \u001b[0mnew_w\u001b[0m \u001b[1;33m=\u001b[0m \u001b[0mint\u001b[0m\u001b[1;33m(\u001b[0m\u001b[0mnew_h\u001b[0m\u001b[1;33m)\u001b[0m\u001b[1;33m,\u001b[0m \u001b[0mint\u001b[0m\u001b[1;33m(\u001b[0m\u001b[0mnew_w\u001b[0m\u001b[1;33m)\u001b[0m\u001b[1;33m\u001b[0m\u001b[1;33m\u001b[0m\u001b[0m\n\u001b[0;32m     64\u001b[0m \u001b[1;33m\u001b[0m\u001b[0m\n\u001b[1;32m---> 65\u001b[1;33m         \u001b[0mimg\u001b[0m \u001b[1;33m=\u001b[0m \u001b[0mtransform\u001b[0m\u001b[1;33m.\u001b[0m\u001b[0mresize\u001b[0m\u001b[1;33m(\u001b[0m\u001b[0mimage\u001b[0m\u001b[1;33m,\u001b[0m \u001b[1;33m(\u001b[0m\u001b[0mnew_h\u001b[0m\u001b[1;33m,\u001b[0m \u001b[0mnew_w\u001b[0m\u001b[1;33m)\u001b[0m\u001b[1;33m,\u001b[0m \u001b[0mmode\u001b[0m\u001b[1;33m=\u001b[0m\u001b[1;34m'constant'\u001b[0m\u001b[1;33m)\u001b[0m\u001b[1;33m\u001b[0m\u001b[1;33m\u001b[0m\u001b[0m\n\u001b[0m\u001b[0;32m     66\u001b[0m \u001b[1;33m\u001b[0m\u001b[0m\n\u001b[0;32m     67\u001b[0m         \u001b[1;31m# h and w are swapped for landmarks because for images,\u001b[0m\u001b[1;33m\u001b[0m\u001b[1;33m\u001b[0m\u001b[1;33m\u001b[0m\u001b[0m\n",
      "\u001b[1;32m~\\anaconda3\\envs\\pytorch1.7\\lib\\site-packages\\skimage\\transform\\_warps.py\u001b[0m in \u001b[0;36mresize\u001b[1;34m(image, output_shape, order, mode, cval, clip, preserve_range, anti_aliasing, anti_aliasing_sigma)\u001b[0m\n\u001b[0;32m    180\u001b[0m                      \"not down-sampling along all axes\")\n\u001b[0;32m    181\u001b[0m         image = ndi.gaussian_filter(image, anti_aliasing_sigma,\n\u001b[1;32m--> 182\u001b[1;33m                                     cval=cval, mode=ndi_mode)\n\u001b[0m\u001b[0;32m    183\u001b[0m \u001b[1;33m\u001b[0m\u001b[0m\n\u001b[0;32m    184\u001b[0m     \u001b[1;32mif\u001b[0m \u001b[0mNumpyVersion\u001b[0m\u001b[1;33m(\u001b[0m\u001b[0mscipy\u001b[0m\u001b[1;33m.\u001b[0m\u001b[0m__version__\u001b[0m\u001b[1;33m)\u001b[0m \u001b[1;33m>=\u001b[0m \u001b[1;34m'1.6.0'\u001b[0m\u001b[1;33m:\u001b[0m\u001b[1;33m\u001b[0m\u001b[1;33m\u001b[0m\u001b[0m\n",
      "\u001b[1;32m~\\anaconda3\\envs\\pytorch1.7\\lib\\site-packages\\scipy\\ndimage\\filters.py\u001b[0m in \u001b[0;36mgaussian_filter\u001b[1;34m(input, sigma, order, output, mode, cval, truncate)\u001b[0m\n\u001b[0;32m    341\u001b[0m         \u001b[1;32mfor\u001b[0m \u001b[0maxis\u001b[0m\u001b[1;33m,\u001b[0m \u001b[0msigma\u001b[0m\u001b[1;33m,\u001b[0m \u001b[0morder\u001b[0m\u001b[1;33m,\u001b[0m \u001b[0mmode\u001b[0m \u001b[1;32min\u001b[0m \u001b[0maxes\u001b[0m\u001b[1;33m:\u001b[0m\u001b[1;33m\u001b[0m\u001b[1;33m\u001b[0m\u001b[0m\n\u001b[0;32m    342\u001b[0m             gaussian_filter1d(input, sigma, axis, order, output,\n\u001b[1;32m--> 343\u001b[1;33m                               mode, cval, truncate)\n\u001b[0m\u001b[0;32m    344\u001b[0m             \u001b[0minput\u001b[0m \u001b[1;33m=\u001b[0m \u001b[0moutput\u001b[0m\u001b[1;33m\u001b[0m\u001b[1;33m\u001b[0m\u001b[0m\n\u001b[0;32m    345\u001b[0m     \u001b[1;32melse\u001b[0m\u001b[1;33m:\u001b[0m\u001b[1;33m\u001b[0m\u001b[1;33m\u001b[0m\u001b[0m\n",
      "\u001b[1;32m~\\anaconda3\\envs\\pytorch1.7\\lib\\site-packages\\scipy\\ndimage\\filters.py\u001b[0m in \u001b[0;36mgaussian_filter1d\u001b[1;34m(input, sigma, axis, order, output, mode, cval, truncate)\u001b[0m\n\u001b[0;32m    259\u001b[0m     \u001b[1;31m# Since we are calling correlate, not convolve, revert the kernel\u001b[0m\u001b[1;33m\u001b[0m\u001b[1;33m\u001b[0m\u001b[1;33m\u001b[0m\u001b[0m\n\u001b[0;32m    260\u001b[0m     \u001b[0mweights\u001b[0m \u001b[1;33m=\u001b[0m \u001b[0m_gaussian_kernel1d\u001b[0m\u001b[1;33m(\u001b[0m\u001b[0msigma\u001b[0m\u001b[1;33m,\u001b[0m \u001b[0morder\u001b[0m\u001b[1;33m,\u001b[0m \u001b[0mlw\u001b[0m\u001b[1;33m)\u001b[0m\u001b[1;33m[\u001b[0m\u001b[1;33m:\u001b[0m\u001b[1;33m:\u001b[0m\u001b[1;33m-\u001b[0m\u001b[1;36m1\u001b[0m\u001b[1;33m]\u001b[0m\u001b[1;33m\u001b[0m\u001b[1;33m\u001b[0m\u001b[0m\n\u001b[1;32m--> 261\u001b[1;33m     \u001b[1;32mreturn\u001b[0m \u001b[0mcorrelate1d\u001b[0m\u001b[1;33m(\u001b[0m\u001b[0minput\u001b[0m\u001b[1;33m,\u001b[0m \u001b[0mweights\u001b[0m\u001b[1;33m,\u001b[0m \u001b[0maxis\u001b[0m\u001b[1;33m,\u001b[0m \u001b[0moutput\u001b[0m\u001b[1;33m,\u001b[0m \u001b[0mmode\u001b[0m\u001b[1;33m,\u001b[0m \u001b[0mcval\u001b[0m\u001b[1;33m,\u001b[0m \u001b[1;36m0\u001b[0m\u001b[1;33m)\u001b[0m\u001b[1;33m\u001b[0m\u001b[1;33m\u001b[0m\u001b[0m\n\u001b[0m\u001b[0;32m    262\u001b[0m \u001b[1;33m\u001b[0m\u001b[0m\n\u001b[0;32m    263\u001b[0m \u001b[1;33m\u001b[0m\u001b[0m\n",
      "\u001b[1;32m~\\anaconda3\\envs\\pytorch1.7\\lib\\site-packages\\scipy\\ndimage\\filters.py\u001b[0m in \u001b[0;36mcorrelate1d\u001b[1;34m(input, weights, axis, output, mode, cval, origin)\u001b[0m\n\u001b[0;32m    132\u001b[0m     \u001b[0mmode\u001b[0m \u001b[1;33m=\u001b[0m \u001b[0m_ni_support\u001b[0m\u001b[1;33m.\u001b[0m\u001b[0m_extend_mode_to_code\u001b[0m\u001b[1;33m(\u001b[0m\u001b[0mmode\u001b[0m\u001b[1;33m)\u001b[0m\u001b[1;33m\u001b[0m\u001b[1;33m\u001b[0m\u001b[0m\n\u001b[0;32m    133\u001b[0m     _nd_image.correlate1d(input, weights, axis, output, mode, cval,\n\u001b[1;32m--> 134\u001b[1;33m                           origin)\n\u001b[0m\u001b[0;32m    135\u001b[0m     \u001b[1;32mreturn\u001b[0m \u001b[0moutput\u001b[0m\u001b[1;33m\u001b[0m\u001b[1;33m\u001b[0m\u001b[0m\n\u001b[0;32m    136\u001b[0m \u001b[1;33m\u001b[0m\u001b[0m\n",
      "\u001b[1;31mKeyboardInterrupt\u001b[0m: "
     ]
    }
   ],
   "source": [
    "list_lr=[0.025,0.0225,0.0275]#0.01,0.02,0.03,0.04,0.05,0.06,   0.07,0.08,0.09\n",
    "for i in list_lr:\n",
    "    training_mod(i,20)"
   ]
  },
  {
   "cell_type": "code",
   "execution_count": null,
   "id": "8a09ade6",
   "metadata": {},
   "outputs": [],
   "source": [
    "list_lr=[0.01,0.02,0.03,0.04,0.05,0.06,0.07,0.08,0.09]\n",
    "for i in list_lr:\n",
    "    training_mod(i,50)"
   ]
  },
  {
   "cell_type": "code",
   "execution_count": null,
   "id": "6b93e09f",
   "metadata": {},
   "outputs": [],
   "source": [
    "list_lr=[0.01,0.02,0.03,0.04,0.05,0.06,0.07,0.08,0.09]\n",
    "for i in list_lr:\n",
    "    training_mod(i,100)"
   ]
  },
  {
   "cell_type": "code",
   "execution_count": null,
   "id": "3599739f",
   "metadata": {
    "scrolled": true
   },
   "outputs": [],
   "source": [
    "list_lr=[0.001,0.002,0.003,0.004,0.005,0.006,0.007,0.008,0.009,0.01,0.011,0.012,0.013,0.014,0.015,0.016,0.017,0.018,0.019,0.02]\n",
    "for i in list_lr:\n",
    "    training_mod(i,20)"
   ]
  },
  {
   "cell_type": "code",
   "execution_count": 4,
   "id": "9996bb31",
   "metadata": {
    "scrolled": true
   },
   "outputs": [
    {
     "name": "stdout",
     "output_type": "stream",
     "text": [
      "Building model\n",
      "Loading model...\n",
      "Number of out channels 12\n",
      "training set 78\n",
      "val set 21\n",
      "LM_branch.stage5.0.branches.0.0.conv1.weight\n",
      "921 LM_branch.stage5.0.branches.0.0.conv1.weight\n",
      "LM_branch.stage5.0.branches.0.0.bn1.weight\n",
      "922 LM_branch.stage5.0.branches.0.0.bn1.weight\n",
      "923 LM_branch.stage5.0.branches.0.0.bn1.bias\n",
      "LM_branch.stage5.0.branches.0.0.conv2.weight\n",
      "924 LM_branch.stage5.0.branches.0.0.conv2.weight\n",
      "LM_branch.stage5.0.branches.0.0.bn2.weight\n",
      "925 LM_branch.stage5.0.branches.0.0.bn2.weight\n",
      "926 LM_branch.stage5.0.branches.0.0.bn2.bias\n",
      "LM_branch.stage5.0.branches.0.1.conv1.weight\n",
      "927 LM_branch.stage5.0.branches.0.1.conv1.weight\n",
      "LM_branch.stage5.0.branches.0.1.bn1.weight\n",
      "928 LM_branch.stage5.0.branches.0.1.bn1.weight\n",
      "929 LM_branch.stage5.0.branches.0.1.bn1.bias\n",
      "LM_branch.stage5.0.branches.0.1.conv2.weight\n",
      "930 LM_branch.stage5.0.branches.0.1.conv2.weight\n",
      "LM_branch.stage5.0.branches.0.1.bn2.weight\n",
      "931 LM_branch.stage5.0.branches.0.1.bn2.weight\n",
      "932 LM_branch.stage5.0.branches.0.1.bn2.bias\n",
      "LM_branch.stage5.0.branches.0.2.conv1.weight\n",
      "933 LM_branch.stage5.0.branches.0.2.conv1.weight\n",
      "LM_branch.stage5.0.branches.0.2.bn1.weight\n",
      "934 LM_branch.stage5.0.branches.0.2.bn1.weight\n",
      "935 LM_branch.stage5.0.branches.0.2.bn1.bias\n",
      "LM_branch.stage5.0.branches.0.2.conv2.weight\n",
      "936 LM_branch.stage5.0.branches.0.2.conv2.weight\n",
      "LM_branch.stage5.0.branches.0.2.bn2.weight\n",
      "937 LM_branch.stage5.0.branches.0.2.bn2.weight\n",
      "938 LM_branch.stage5.0.branches.0.2.bn2.bias\n",
      "LM_branch.stage5.0.branches.0.3.conv1.weight\n",
      "939 LM_branch.stage5.0.branches.0.3.conv1.weight\n",
      "LM_branch.stage5.0.branches.0.3.bn1.weight\n",
      "940 LM_branch.stage5.0.branches.0.3.bn1.weight\n",
      "941 LM_branch.stage5.0.branches.0.3.bn1.bias\n",
      "LM_branch.stage5.0.branches.0.3.conv2.weight\n",
      "942 LM_branch.stage5.0.branches.0.3.conv2.weight\n",
      "LM_branch.stage5.0.branches.0.3.bn2.weight\n",
      "943 LM_branch.stage5.0.branches.0.3.bn2.weight\n",
      "944 LM_branch.stage5.0.branches.0.3.bn2.bias\n",
      "LM_branch.stage5.0.branches.1.0.conv1.weight\n",
      "945 LM_branch.stage5.0.branches.1.0.conv1.weight\n",
      "LM_branch.stage5.0.branches.1.0.bn1.weight\n",
      "946 LM_branch.stage5.0.branches.1.0.bn1.weight\n",
      "947 LM_branch.stage5.0.branches.1.0.bn1.bias\n",
      "LM_branch.stage5.0.branches.1.0.conv2.weight\n",
      "948 LM_branch.stage5.0.branches.1.0.conv2.weight\n",
      "LM_branch.stage5.0.branches.1.0.bn2.weight\n",
      "949 LM_branch.stage5.0.branches.1.0.bn2.weight\n",
      "950 LM_branch.stage5.0.branches.1.0.bn2.bias\n",
      "LM_branch.stage5.0.branches.1.1.conv1.weight\n",
      "951 LM_branch.stage5.0.branches.1.1.conv1.weight\n",
      "LM_branch.stage5.0.branches.1.1.bn1.weight\n",
      "952 LM_branch.stage5.0.branches.1.1.bn1.weight\n",
      "953 LM_branch.stage5.0.branches.1.1.bn1.bias\n",
      "LM_branch.stage5.0.branches.1.1.conv2.weight\n",
      "954 LM_branch.stage5.0.branches.1.1.conv2.weight\n",
      "LM_branch.stage5.0.branches.1.1.bn2.weight\n",
      "955 LM_branch.stage5.0.branches.1.1.bn2.weight\n",
      "956 LM_branch.stage5.0.branches.1.1.bn2.bias\n",
      "LM_branch.stage5.0.branches.1.2.conv1.weight\n",
      "957 LM_branch.stage5.0.branches.1.2.conv1.weight\n",
      "LM_branch.stage5.0.branches.1.2.bn1.weight\n",
      "958 LM_branch.stage5.0.branches.1.2.bn1.weight\n",
      "959 LM_branch.stage5.0.branches.1.2.bn1.bias\n",
      "LM_branch.stage5.0.branches.1.2.conv2.weight\n",
      "960 LM_branch.stage5.0.branches.1.2.conv2.weight\n",
      "LM_branch.stage5.0.branches.1.2.bn2.weight\n",
      "961 LM_branch.stage5.0.branches.1.2.bn2.weight\n",
      "962 LM_branch.stage5.0.branches.1.2.bn2.bias\n",
      "LM_branch.stage5.0.branches.1.3.conv1.weight\n",
      "963 LM_branch.stage5.0.branches.1.3.conv1.weight\n",
      "LM_branch.stage5.0.branches.1.3.bn1.weight\n",
      "964 LM_branch.stage5.0.branches.1.3.bn1.weight\n",
      "965 LM_branch.stage5.0.branches.1.3.bn1.bias\n",
      "LM_branch.stage5.0.branches.1.3.conv2.weight\n",
      "966 LM_branch.stage5.0.branches.1.3.conv2.weight\n",
      "LM_branch.stage5.0.branches.1.3.bn2.weight\n",
      "967 LM_branch.stage5.0.branches.1.3.bn2.weight\n",
      "968 LM_branch.stage5.0.branches.1.3.bn2.bias\n",
      "LM_branch.stage5.0.branches.2.0.conv1.weight\n",
      "969 LM_branch.stage5.0.branches.2.0.conv1.weight\n",
      "LM_branch.stage5.0.branches.2.0.bn1.weight\n",
      "970 LM_branch.stage5.0.branches.2.0.bn1.weight\n",
      "971 LM_branch.stage5.0.branches.2.0.bn1.bias\n",
      "LM_branch.stage5.0.branches.2.0.conv2.weight\n",
      "972 LM_branch.stage5.0.branches.2.0.conv2.weight\n",
      "LM_branch.stage5.0.branches.2.0.bn2.weight\n",
      "973 LM_branch.stage5.0.branches.2.0.bn2.weight\n",
      "974 LM_branch.stage5.0.branches.2.0.bn2.bias\n",
      "LM_branch.stage5.0.branches.2.1.conv1.weight\n",
      "975 LM_branch.stage5.0.branches.2.1.conv1.weight\n",
      "LM_branch.stage5.0.branches.2.1.bn1.weight\n",
      "976 LM_branch.stage5.0.branches.2.1.bn1.weight\n",
      "977 LM_branch.stage5.0.branches.2.1.bn1.bias\n",
      "LM_branch.stage5.0.branches.2.1.conv2.weight\n",
      "978 LM_branch.stage5.0.branches.2.1.conv2.weight\n",
      "LM_branch.stage5.0.branches.2.1.bn2.weight\n",
      "979 LM_branch.stage5.0.branches.2.1.bn2.weight\n",
      "980 LM_branch.stage5.0.branches.2.1.bn2.bias\n",
      "LM_branch.stage5.0.branches.2.2.conv1.weight\n",
      "981 LM_branch.stage5.0.branches.2.2.conv1.weight\n",
      "LM_branch.stage5.0.branches.2.2.bn1.weight\n",
      "982 LM_branch.stage5.0.branches.2.2.bn1.weight\n",
      "983 LM_branch.stage5.0.branches.2.2.bn1.bias\n",
      "LM_branch.stage5.0.branches.2.2.conv2.weight\n",
      "984 LM_branch.stage5.0.branches.2.2.conv2.weight\n",
      "LM_branch.stage5.0.branches.2.2.bn2.weight\n",
      "985 LM_branch.stage5.0.branches.2.2.bn2.weight\n",
      "986 LM_branch.stage5.0.branches.2.2.bn2.bias\n",
      "LM_branch.stage5.0.branches.2.3.conv1.weight\n",
      "987 LM_branch.stage5.0.branches.2.3.conv1.weight\n",
      "LM_branch.stage5.0.branches.2.3.bn1.weight\n",
      "988 LM_branch.stage5.0.branches.2.3.bn1.weight\n",
      "989 LM_branch.stage5.0.branches.2.3.bn1.bias\n",
      "LM_branch.stage5.0.branches.2.3.conv2.weight\n",
      "990 LM_branch.stage5.0.branches.2.3.conv2.weight\n",
      "LM_branch.stage5.0.branches.2.3.bn2.weight\n",
      "991 LM_branch.stage5.0.branches.2.3.bn2.weight\n",
      "992 LM_branch.stage5.0.branches.2.3.bn2.bias\n",
      "LM_branch.stage5.0.branches.3.0.conv1.weight\n",
      "993 LM_branch.stage5.0.branches.3.0.conv1.weight\n",
      "LM_branch.stage5.0.branches.3.0.bn1.weight\n",
      "994 LM_branch.stage5.0.branches.3.0.bn1.weight\n",
      "995 LM_branch.stage5.0.branches.3.0.bn1.bias\n",
      "LM_branch.stage5.0.branches.3.0.conv2.weight\n",
      "996 LM_branch.stage5.0.branches.3.0.conv2.weight\n",
      "LM_branch.stage5.0.branches.3.0.bn2.weight\n",
      "997 LM_branch.stage5.0.branches.3.0.bn2.weight\n",
      "998 LM_branch.stage5.0.branches.3.0.bn2.bias\n",
      "LM_branch.stage5.0.branches.3.1.conv1.weight\n",
      "999 LM_branch.stage5.0.branches.3.1.conv1.weight\n",
      "LM_branch.stage5.0.branches.3.1.bn1.weight\n",
      "1000 LM_branch.stage5.0.branches.3.1.bn1.weight\n",
      "1001 LM_branch.stage5.0.branches.3.1.bn1.bias\n",
      "LM_branch.stage5.0.branches.3.1.conv2.weight\n",
      "1002 LM_branch.stage5.0.branches.3.1.conv2.weight\n",
      "LM_branch.stage5.0.branches.3.1.bn2.weight\n",
      "1003 LM_branch.stage5.0.branches.3.1.bn2.weight\n",
      "1004 LM_branch.stage5.0.branches.3.1.bn2.bias\n",
      "LM_branch.stage5.0.branches.3.2.conv1.weight\n",
      "1005 LM_branch.stage5.0.branches.3.2.conv1.weight\n",
      "LM_branch.stage5.0.branches.3.2.bn1.weight\n",
      "1006 LM_branch.stage5.0.branches.3.2.bn1.weight\n",
      "1007 LM_branch.stage5.0.branches.3.2.bn1.bias\n",
      "LM_branch.stage5.0.branches.3.2.conv2.weight\n",
      "1008 LM_branch.stage5.0.branches.3.2.conv2.weight\n",
      "LM_branch.stage5.0.branches.3.2.bn2.weight\n",
      "1009 LM_branch.stage5.0.branches.3.2.bn2.weight\n",
      "1010 LM_branch.stage5.0.branches.3.2.bn2.bias\n",
      "LM_branch.stage5.0.branches.3.3.conv1.weight\n",
      "1011 LM_branch.stage5.0.branches.3.3.conv1.weight\n",
      "LM_branch.stage5.0.branches.3.3.bn1.weight\n",
      "1012 LM_branch.stage5.0.branches.3.3.bn1.weight\n",
      "1013 LM_branch.stage5.0.branches.3.3.bn1.bias\n",
      "LM_branch.stage5.0.branches.3.3.conv2.weight\n",
      "1014 LM_branch.stage5.0.branches.3.3.conv2.weight\n",
      "LM_branch.stage5.0.branches.3.3.bn2.weight\n",
      "1015 LM_branch.stage5.0.branches.3.3.bn2.weight\n",
      "1016 LM_branch.stage5.0.branches.3.3.bn2.bias\n",
      "LM_branch.stage5.0.fuse_layers.0.1.0.weight\n",
      "1017 LM_branch.stage5.0.fuse_layers.0.1.0.weight\n",
      "LM_branch.stage5.0.fuse_layers.0.1.1.weight\n",
      "1018 LM_branch.stage5.0.fuse_layers.0.1.1.weight\n",
      "1019 LM_branch.stage5.0.fuse_layers.0.1.1.bias\n",
      "LM_branch.stage5.0.fuse_layers.0.2.0.weight\n",
      "1020 LM_branch.stage5.0.fuse_layers.0.2.0.weight\n",
      "LM_branch.stage5.0.fuse_layers.0.2.1.weight\n",
      "1021 LM_branch.stage5.0.fuse_layers.0.2.1.weight\n",
      "1022 LM_branch.stage5.0.fuse_layers.0.2.1.bias\n",
      "LM_branch.stage5.0.fuse_layers.0.3.0.weight\n",
      "1023 LM_branch.stage5.0.fuse_layers.0.3.0.weight\n",
      "LM_branch.stage5.0.fuse_layers.0.3.1.weight\n",
      "1024 LM_branch.stage5.0.fuse_layers.0.3.1.weight\n",
      "1025 LM_branch.stage5.0.fuse_layers.0.3.1.bias\n",
      "LM_branch.stage5.0.fuse_layers.1.0.0.0.weight\n",
      "1026 LM_branch.stage5.0.fuse_layers.1.0.0.0.weight\n",
      "LM_branch.stage5.0.fuse_layers.1.0.0.1.weight\n",
      "1027 LM_branch.stage5.0.fuse_layers.1.0.0.1.weight\n",
      "1028 LM_branch.stage5.0.fuse_layers.1.0.0.1.bias\n",
      "LM_branch.stage5.0.fuse_layers.1.2.0.weight\n",
      "1029 LM_branch.stage5.0.fuse_layers.1.2.0.weight\n",
      "LM_branch.stage5.0.fuse_layers.1.2.1.weight\n",
      "1030 LM_branch.stage5.0.fuse_layers.1.2.1.weight\n",
      "1031 LM_branch.stage5.0.fuse_layers.1.2.1.bias\n",
      "LM_branch.stage5.0.fuse_layers.1.3.0.weight\n",
      "1032 LM_branch.stage5.0.fuse_layers.1.3.0.weight\n",
      "LM_branch.stage5.0.fuse_layers.1.3.1.weight\n",
      "1033 LM_branch.stage5.0.fuse_layers.1.3.1.weight\n",
      "1034 LM_branch.stage5.0.fuse_layers.1.3.1.bias\n",
      "LM_branch.stage5.0.fuse_layers.2.0.0.0.weight\n",
      "1035 LM_branch.stage5.0.fuse_layers.2.0.0.0.weight\n",
      "LM_branch.stage5.0.fuse_layers.2.0.0.1.weight\n",
      "1036 LM_branch.stage5.0.fuse_layers.2.0.0.1.weight\n",
      "1037 LM_branch.stage5.0.fuse_layers.2.0.0.1.bias\n",
      "LM_branch.stage5.0.fuse_layers.2.0.1.0.weight\n",
      "1038 LM_branch.stage5.0.fuse_layers.2.0.1.0.weight\n",
      "LM_branch.stage5.0.fuse_layers.2.0.1.1.weight\n",
      "1039 LM_branch.stage5.0.fuse_layers.2.0.1.1.weight\n",
      "1040 LM_branch.stage5.0.fuse_layers.2.0.1.1.bias\n",
      "LM_branch.stage5.0.fuse_layers.2.1.0.0.weight\n",
      "1041 LM_branch.stage5.0.fuse_layers.2.1.0.0.weight\n",
      "LM_branch.stage5.0.fuse_layers.2.1.0.1.weight\n",
      "1042 LM_branch.stage5.0.fuse_layers.2.1.0.1.weight\n",
      "1043 LM_branch.stage5.0.fuse_layers.2.1.0.1.bias\n",
      "LM_branch.stage5.0.fuse_layers.2.3.0.weight\n",
      "1044 LM_branch.stage5.0.fuse_layers.2.3.0.weight\n",
      "LM_branch.stage5.0.fuse_layers.2.3.1.weight\n",
      "1045 LM_branch.stage5.0.fuse_layers.2.3.1.weight\n",
      "1046 LM_branch.stage5.0.fuse_layers.2.3.1.bias\n",
      "LM_branch.stage5.0.fuse_layers.3.0.0.0.weight\n",
      "1047 LM_branch.stage5.0.fuse_layers.3.0.0.0.weight\n",
      "LM_branch.stage5.0.fuse_layers.3.0.0.1.weight\n",
      "1048 LM_branch.stage5.0.fuse_layers.3.0.0.1.weight\n",
      "1049 LM_branch.stage5.0.fuse_layers.3.0.0.1.bias\n",
      "LM_branch.stage5.0.fuse_layers.3.0.1.0.weight\n",
      "1050 LM_branch.stage5.0.fuse_layers.3.0.1.0.weight\n",
      "LM_branch.stage5.0.fuse_layers.3.0.1.1.weight\n",
      "1051 LM_branch.stage5.0.fuse_layers.3.0.1.1.weight\n",
      "1052 LM_branch.stage5.0.fuse_layers.3.0.1.1.bias\n",
      "LM_branch.stage5.0.fuse_layers.3.0.2.0.weight\n",
      "1053 LM_branch.stage5.0.fuse_layers.3.0.2.0.weight\n",
      "LM_branch.stage5.0.fuse_layers.3.0.2.1.weight\n",
      "1054 LM_branch.stage5.0.fuse_layers.3.0.2.1.weight\n",
      "1055 LM_branch.stage5.0.fuse_layers.3.0.2.1.bias\n",
      "LM_branch.stage5.0.fuse_layers.3.1.0.0.weight\n",
      "1056 LM_branch.stage5.0.fuse_layers.3.1.0.0.weight\n",
      "LM_branch.stage5.0.fuse_layers.3.1.0.1.weight\n",
      "1057 LM_branch.stage5.0.fuse_layers.3.1.0.1.weight\n",
      "1058 LM_branch.stage5.0.fuse_layers.3.1.0.1.bias\n",
      "LM_branch.stage5.0.fuse_layers.3.1.1.0.weight\n",
      "1059 LM_branch.stage5.0.fuse_layers.3.1.1.0.weight\n",
      "LM_branch.stage5.0.fuse_layers.3.1.1.1.weight\n",
      "1060 LM_branch.stage5.0.fuse_layers.3.1.1.1.weight\n",
      "1061 LM_branch.stage5.0.fuse_layers.3.1.1.1.bias\n",
      "LM_branch.stage5.0.fuse_layers.3.2.0.0.weight\n",
      "1062 LM_branch.stage5.0.fuse_layers.3.2.0.0.weight\n",
      "LM_branch.stage5.0.fuse_layers.3.2.0.1.weight\n",
      "1063 LM_branch.stage5.0.fuse_layers.3.2.0.1.weight\n",
      "1064 LM_branch.stage5.0.fuse_layers.3.2.0.1.bias\n",
      "LM_branch.last_layer_landmark.0.weight\n",
      "1065 LM_branch.last_layer_landmark.0.weight\n",
      "1066 LM_branch.last_layer_landmark.0.bias\n",
      "LM_branch.last_layer_landmark.1.weight\n",
      "1067 LM_branch.last_layer_landmark.1.weight\n",
      "1068 LM_branch.last_layer_landmark.1.bias\n",
      "LM_branch.last_layer_landmark.3.weight\n",
      "1069 LM_branch.last_layer_landmark.3.weight\n",
      "1070 LM_branch.last_layer_landmark.3.bias\n",
      "---Starting traing---\n"
     ]
    },
    {
     "name": "stderr",
     "output_type": "stream",
     "text": [
      "  0%|                                                                                                                                                                            | 0/8 [00:00<?, ?it/s]C:\\Users\\timng\\anaconda3\\envs\\pytorch1.7\\lib\\site-packages\\torch\\nn\\functional.py:3063: UserWarning: Default upsampling behavior when mode=bilinear is changed to align_corners=False since 0.4.0. Please specify align_corners=True if the old behavior is desired. See the documentation of nn.Upsample for details.\n",
      "  \"See the documentation of nn.Upsample for details.\".format(mode))\n",
      " 12%|████████████████████▌                                                                                                                                               | 1/8 [00:31<03:43, 31.88s/it]"
     ]
    },
    {
     "name": "stdout",
     "output_type": "stream",
     "text": [
      "EPOCH: 1 / 20 step: 1 / 8 | lm position loss: 27971.4453125  | weighted loss: 279714.453125\n"
     ]
    },
    {
     "name": "stderr",
     "output_type": "stream",
     "text": [
      "\r",
      " 25%|█████████████████████████████████████████                                                                                                                           | 2/8 [01:00<03:01, 30.18s/it]"
     ]
    },
    {
     "name": "stdout",
     "output_type": "stream",
     "text": [
      "EPOCH: 1 / 20 step: 2 / 8 | lm position loss: 21248.232421875  | weighted loss: 212482.32421875\n"
     ]
    },
    {
     "name": "stderr",
     "output_type": "stream",
     "text": [
      "\r",
      " 38%|█████████████████████████████████████████████████████████████▌                                                                                                      | 3/8 [01:29<02:27, 29.60s/it]"
     ]
    },
    {
     "name": "stdout",
     "output_type": "stream",
     "text": [
      "EPOCH: 1 / 20 step: 3 / 8 | lm position loss: 15473.6435546875  | weighted loss: 154736.435546875\n"
     ]
    },
    {
     "name": "stderr",
     "output_type": "stream",
     "text": [
      "\r",
      " 50%|██████████████████████████████████████████████████████████████████████████████████                                                                                  | 4/8 [02:01<02:01, 30.41s/it]"
     ]
    },
    {
     "name": "stdout",
     "output_type": "stream",
     "text": [
      "EPOCH: 1 / 20 step: 4 / 8 | lm position loss: 12739.0126953125  | weighted loss: 127390.126953125\n"
     ]
    },
    {
     "name": "stderr",
     "output_type": "stream",
     "text": [
      "\r",
      " 62%|██████████████████████████████████████████████████████████████████████████████████████████████████████▌                                                             | 5/8 [02:31<01:30, 30.30s/it]"
     ]
    },
    {
     "name": "stdout",
     "output_type": "stream",
     "text": [
      "EPOCH: 1 / 20 step: 5 / 8 | lm position loss: 10674.2763671875  | weighted loss: 106742.763671875\n"
     ]
    },
    {
     "name": "stderr",
     "output_type": "stream",
     "text": [
      "\r",
      " 75%|███████████████████████████████████████████████████████████████████████████████████████████████████████████████████████████                                         | 6/8 [03:00<00:59, 29.81s/it]"
     ]
    },
    {
     "name": "stdout",
     "output_type": "stream",
     "text": [
      "EPOCH: 1 / 20 step: 6 / 8 | lm position loss: 8263.001953125  | weighted loss: 82630.01953125\n"
     ]
    },
    {
     "name": "stderr",
     "output_type": "stream",
     "text": [
      "\r",
      " 88%|███████████████████████████████████████████████████████████████████████████████████████████████████████████████████████████████████████████████▌                    | 7/8 [03:29<00:29, 29.44s/it]"
     ]
    },
    {
     "name": "stdout",
     "output_type": "stream",
     "text": [
      "EPOCH: 1 / 20 step: 7 / 8 | lm position loss: 4872.98193359375  | weighted loss: 48729.8193359375\n"
     ]
    },
    {
     "name": "stderr",
     "output_type": "stream",
     "text": [
      "100%|████████████████████████████████████████████████████████████████████████████████████████████████████████████████████████████████████████████████████████████████████| 8/8 [03:52<00:00, 29.04s/it]\n"
     ]
    },
    {
     "name": "stdout",
     "output_type": "stream",
     "text": [
      "EPOCH: 1 / 20 step: 8 / 8 | lm position loss: 3587.9931640625  | weighted loss: 35879.931640625\n",
      "---End traing---\n",
      "---Start evaluation---\n"
     ]
    },
    {
     "name": "stderr",
     "output_type": "stream",
     "text": [
      "100%|████████████████████████████████████████████████████████████████████████████████████████████████████████████████████████████████████████████████████████████████████| 3/3 [01:03<00:00, 21.03s/it]\n"
     ]
    },
    {
     "name": "stdout",
     "output_type": "stream",
     "text": [
      "metrics/dist_part_0_L.Che 0.35405898530138896\n",
      "metrics/dist_part_1_R.Che 0.7463720839729071\n",
      "metrics/dist_part_2_Sho.A 0.2756683383112929\n",
      "metrics/dist_part_3_Sho.B 0.3803849634968011\n",
      "metrics/dist_part_4_Sho.C 0.5083782082395933\n",
      "metrics/dist_part_5_Sho.D 0.6519334753888648\n",
      "metrics/dist_part_6_Sho.E 0.7675549984207027\n",
      "metrics/dist_part_7_Arm.A 0.3162277811648754\n",
      "metrics/dist_part_8_Arm.B 0.406457443946818\n",
      "metrics/dist_part_9_L.Wai 0.5401301653920153\n",
      "metrics/dist_part_10_R.Wai 0.820559873606866\n",
      "metrics/dist_part_11_Arm.E 1.0235595382024159\n",
      "metrics/dist_all 0.5659404879537118\n",
      "EPOCH: 1 / 20 | lm distance: 0.5659404879537118\n",
      "---End evaluation---\n",
      "---Starting traing---\n"
     ]
    },
    {
     "name": "stderr",
     "output_type": "stream",
     "text": [
      " 12%|████████████████████▌                                                                                                                                               | 1/8 [00:28<03:21, 28.78s/it]"
     ]
    },
    {
     "name": "stdout",
     "output_type": "stream",
     "text": [
      "EPOCH: 2 / 20 step: 1 / 8 | lm position loss: 2627.715576171875  | weighted loss: 26277.15576171875\n"
     ]
    },
    {
     "name": "stderr",
     "output_type": "stream",
     "text": [
      "\r",
      " 25%|█████████████████████████████████████████                                                                                                                           | 2/8 [00:57<02:53, 28.95s/it]"
     ]
    },
    {
     "name": "stdout",
     "output_type": "stream",
     "text": [
      "EPOCH: 2 / 20 step: 2 / 8 | lm position loss: 2692.67138671875  | weighted loss: 26926.7138671875\n"
     ]
    },
    {
     "name": "stderr",
     "output_type": "stream",
     "text": [
      "\r",
      " 38%|█████████████████████████████████████████████████████████████▌                                                                                                      | 3/8 [01:28<02:27, 29.56s/it]"
     ]
    },
    {
     "name": "stdout",
     "output_type": "stream",
     "text": [
      "EPOCH: 2 / 20 step: 3 / 8 | lm position loss: 1373.6737060546875  | weighted loss: 13736.737060546875\n"
     ]
    },
    {
     "name": "stderr",
     "output_type": "stream",
     "text": [
      "\r",
      " 50%|██████████████████████████████████████████████████████████████████████████████████                                                                                  | 4/8 [01:58<01:58, 29.69s/it]"
     ]
    },
    {
     "name": "stdout",
     "output_type": "stream",
     "text": [
      "EPOCH: 2 / 20 step: 4 / 8 | lm position loss: 1369.060791015625  | weighted loss: 13690.60791015625\n"
     ]
    },
    {
     "name": "stderr",
     "output_type": "stream",
     "text": [
      "\r",
      " 62%|██████████████████████████████████████████████████████████████████████████████████████████████████████▌                                                             | 5/8 [02:27<01:28, 29.62s/it]"
     ]
    },
    {
     "name": "stdout",
     "output_type": "stream",
     "text": [
      "EPOCH: 2 / 20 step: 5 / 8 | lm position loss: 825.475341796875  | weighted loss: 8254.75341796875\n"
     ]
    },
    {
     "name": "stderr",
     "output_type": "stream",
     "text": [
      "\r",
      " 75%|███████████████████████████████████████████████████████████████████████████████████████████████████████████████████████████                                         | 6/8 [02:56<00:58, 29.37s/it]"
     ]
    },
    {
     "name": "stdout",
     "output_type": "stream",
     "text": [
      "EPOCH: 2 / 20 step: 6 / 8 | lm position loss: 714.5603637695312  | weighted loss: 7145.6036376953125\n"
     ]
    },
    {
     "name": "stderr",
     "output_type": "stream",
     "text": [
      "\r",
      " 88%|███████████████████████████████████████████████████████████████████████████████████████████████████████████████████████████████████████████████▌                    | 7/8 [03:26<00:29, 29.54s/it]"
     ]
    },
    {
     "name": "stdout",
     "output_type": "stream",
     "text": [
      "EPOCH: 2 / 20 step: 7 / 8 | lm position loss: 439.75238037109375  | weighted loss: 4397.5238037109375\n"
     ]
    },
    {
     "name": "stderr",
     "output_type": "stream",
     "text": [
      "100%|████████████████████████████████████████████████████████████████████████████████████████████████████████████████████████████████████████████████████████████████████| 8/8 [03:51<00:00, 28.91s/it]\n"
     ]
    },
    {
     "name": "stdout",
     "output_type": "stream",
     "text": [
      "EPOCH: 2 / 20 step: 8 / 8 | lm position loss: 385.0277404785156  | weighted loss: 3850.2774047851562\n",
      "---End traing---\n",
      "---Start evaluation---\n"
     ]
    },
    {
     "name": "stderr",
     "output_type": "stream",
     "text": [
      "100%|████████████████████████████████████████████████████████████████████████████████████████████████████████████████████████████████████████████████████████████████████| 3/3 [01:00<00:00, 20.02s/it]\n"
     ]
    },
    {
     "name": "stdout",
     "output_type": "stream",
     "text": [
      "metrics/dist_part_0_L.Che 0.35405898530138896\n",
      "metrics/dist_part_1_R.Che 0.7463720839729071\n",
      "metrics/dist_part_2_Sho.A 0.2756683383112929\n",
      "metrics/dist_part_3_Sho.B 0.38038496349680107\n",
      "metrics/dist_part_4_Sho.C 0.5083782082395933\n",
      "metrics/dist_part_5_Sho.D 0.6519334753888648\n",
      "metrics/dist_part_6_Sho.E 0.7675549984207027\n",
      "metrics/dist_part_7_Arm.A 0.3162277811648754\n",
      "metrics/dist_part_8_Arm.B 0.4064574439468179\n",
      "metrics/dist_part_9_L.Wai 0.5401301653920152\n",
      "metrics/dist_part_10_R.Wai 0.820559873606866\n",
      "metrics/dist_part_11_Arm.E 1.0235595382024159\n",
      "metrics/dist_all 0.5659404879537118\n",
      "EPOCH: 2 / 20 | lm distance: 0.5659404879537118\n",
      "---End evaluation---\n",
      "---Starting traing---\n"
     ]
    },
    {
     "name": "stderr",
     "output_type": "stream",
     "text": [
      " 12%|████████████████████▌                                                                                                                                               | 1/8 [00:29<03:27, 29.61s/it]"
     ]
    },
    {
     "name": "stdout",
     "output_type": "stream",
     "text": [
      "EPOCH: 3 / 20 step: 1 / 8 | lm position loss: 215.46615600585938  | weighted loss: 2154.6615600585938\n"
     ]
    },
    {
     "name": "stderr",
     "output_type": "stream",
     "text": [
      "\r",
      " 25%|█████████████████████████████████████████                                                                                                                           | 2/8 [00:59<02:58, 29.78s/it]"
     ]
    },
    {
     "name": "stdout",
     "output_type": "stream",
     "text": [
      "EPOCH: 3 / 20 step: 2 / 8 | lm position loss: 124.95623016357422  | weighted loss: 1249.5623016357422\n"
     ]
    },
    {
     "name": "stderr",
     "output_type": "stream",
     "text": [
      "\r",
      " 38%|█████████████████████████████████████████████████████████████▌                                                                                                      | 3/8 [01:29<02:29, 29.82s/it]"
     ]
    },
    {
     "name": "stdout",
     "output_type": "stream",
     "text": [
      "EPOCH: 3 / 20 step: 3 / 8 | lm position loss: 103.13472747802734  | weighted loss: 1031.3472747802734\n"
     ]
    },
    {
     "name": "stderr",
     "output_type": "stream",
     "text": [
      "\r",
      " 50%|██████████████████████████████████████████████████████████████████████████████████                                                                                  | 4/8 [01:58<01:57, 29.37s/it]"
     ]
    },
    {
     "name": "stdout",
     "output_type": "stream",
     "text": [
      "EPOCH: 3 / 20 step: 4 / 8 | lm position loss: 20.92713737487793  | weighted loss: 209.2713737487793\n"
     ]
    },
    {
     "name": "stderr",
     "output_type": "stream",
     "text": [
      "\r",
      " 62%|██████████████████████████████████████████████████████████████████████████████████████████████████████▌                                                             | 5/8 [02:27<01:28, 29.48s/it]"
     ]
    },
    {
     "name": "stdout",
     "output_type": "stream",
     "text": [
      "EPOCH: 3 / 20 step: 5 / 8 | lm position loss: 32.134376525878906  | weighted loss: 321.34376525878906\n"
     ]
    },
    {
     "name": "stderr",
     "output_type": "stream",
     "text": [
      "\r",
      " 75%|███████████████████████████████████████████████████████████████████████████████████████████████████████████████████████████                                         | 6/8 [02:56<00:58, 29.36s/it]"
     ]
    },
    {
     "name": "stdout",
     "output_type": "stream",
     "text": [
      "EPOCH: 3 / 20 step: 6 / 8 | lm position loss: 6.772698879241943  | weighted loss: 67.72698879241943\n"
     ]
    },
    {
     "name": "stderr",
     "output_type": "stream",
     "text": [
      "\r",
      " 88%|███████████████████████████████████████████████████████████████████████████████████████████████████████████████████████████████████████████████▌                    | 7/8 [03:27<00:29, 29.91s/it]"
     ]
    },
    {
     "name": "stdout",
     "output_type": "stream",
     "text": [
      "EPOCH: 3 / 20 step: 7 / 8 | lm position loss: 12.311522483825684  | weighted loss: 123.11522483825684\n"
     ]
    },
    {
     "name": "stderr",
     "output_type": "stream",
     "text": [
      "100%|████████████████████████████████████████████████████████████████████████████████████████████████████████████████████████████████████████████████████████████████████| 8/8 [03:51<00:00, 28.89s/it]\n"
     ]
    },
    {
     "name": "stdout",
     "output_type": "stream",
     "text": [
      "EPOCH: 3 / 20 step: 8 / 8 | lm position loss: 2.6203560829162598  | weighted loss: 26.203560829162598\n",
      "---End traing---\n",
      "---Start evaluation---\n"
     ]
    },
    {
     "name": "stderr",
     "output_type": "stream",
     "text": [
      "100%|████████████████████████████████████████████████████████████████████████████████████████████████████████████████████████████████████████████████████████████████████| 3/3 [01:01<00:00, 20.38s/it]\n"
     ]
    },
    {
     "name": "stdout",
     "output_type": "stream",
     "text": [
      "metrics/dist_part_0_L.Che 0.35405898530138896\n",
      "metrics/dist_part_1_R.Che 0.7463720839729071\n",
      "metrics/dist_part_2_Sho.A 0.27566833831129284\n",
      "metrics/dist_part_3_Sho.B 0.38038496349680107\n",
      "metrics/dist_part_4_Sho.C 0.5083782082395933\n",
      "metrics/dist_part_5_Sho.D 0.6519334753888648\n",
      "metrics/dist_part_6_Sho.E 0.7675549984207027\n",
      "metrics/dist_part_7_Arm.A 0.31622778116487543\n",
      "metrics/dist_part_8_Arm.B 0.4064574439468179\n",
      "metrics/dist_part_9_L.Wai 0.5401301653920152\n",
      "metrics/dist_part_10_R.Wai 0.8205598736068659\n",
      "metrics/dist_part_11_Arm.E 1.023559538202416\n",
      "metrics/dist_all 0.5659404879537119\n",
      "EPOCH: 3 / 20 | lm distance: 0.5659404879537119\n",
      "---End evaluation---\n",
      "---Starting traing---\n"
     ]
    },
    {
     "name": "stderr",
     "output_type": "stream",
     "text": [
      " 12%|████████████████████▌                                                                                                                                               | 1/8 [00:30<03:33, 30.53s/it]"
     ]
    },
    {
     "name": "stdout",
     "output_type": "stream",
     "text": [
      "EPOCH: 4 / 20 step: 1 / 8 | lm position loss: 2.1297452449798584  | weighted loss: 21.297452449798584\n"
     ]
    },
    {
     "name": "stderr",
     "output_type": "stream",
     "text": [
      "\r",
      " 25%|█████████████████████████████████████████                                                                                                                           | 2/8 [00:59<02:59, 29.90s/it]"
     ]
    },
    {
     "name": "stdout",
     "output_type": "stream",
     "text": [
      "EPOCH: 4 / 20 step: 2 / 8 | lm position loss: 0.4118691086769104  | weighted loss: 4.118691086769104\n"
     ]
    },
    {
     "name": "stderr",
     "output_type": "stream",
     "text": [
      "\r",
      " 38%|█████████████████████████████████████████████████████████████▌                                                                                                      | 3/8 [01:30<02:30, 30.17s/it]"
     ]
    },
    {
     "name": "stdout",
     "output_type": "stream",
     "text": [
      "EPOCH: 4 / 20 step: 3 / 8 | lm position loss: 0.5123938322067261  | weighted loss: 5.123938322067261\n"
     ]
    },
    {
     "name": "stderr",
     "output_type": "stream",
     "text": [
      "\r",
      " 50%|██████████████████████████████████████████████████████████████████████████████████                                                                                  | 4/8 [02:00<01:59, 29.98s/it]"
     ]
    },
    {
     "name": "stdout",
     "output_type": "stream",
     "text": [
      "EPOCH: 4 / 20 step: 4 / 8 | lm position loss: 0.46539023518562317  | weighted loss: 4.653902351856232\n"
     ]
    },
    {
     "name": "stderr",
     "output_type": "stream",
     "text": [
      "\r",
      " 62%|██████████████████████████████████████████████████████████████████████████████████████████████████████▌                                                             | 5/8 [02:29<01:29, 29.87s/it]"
     ]
    },
    {
     "name": "stdout",
     "output_type": "stream",
     "text": [
      "EPOCH: 4 / 20 step: 5 / 8 | lm position loss: 0.5345198512077332  | weighted loss: 5.3451985120773315\n"
     ]
    },
    {
     "name": "stderr",
     "output_type": "stream",
     "text": [
      "\r",
      " 75%|███████████████████████████████████████████████████████████████████████████████████████████████████████████████████████████                                         | 6/8 [03:00<01:00, 30.08s/it]"
     ]
    },
    {
     "name": "stdout",
     "output_type": "stream",
     "text": [
      "EPOCH: 4 / 20 step: 6 / 8 | lm position loss: 0.1353677660226822  | weighted loss: 1.353677660226822\n"
     ]
    },
    {
     "name": "stderr",
     "output_type": "stream",
     "text": [
      "\r",
      " 88%|███████████████████████████████████████████████████████████████████████████████████████████████████████████████████████████████████████████████▌                    | 7/8 [03:30<00:30, 30.08s/it]"
     ]
    },
    {
     "name": "stdout",
     "output_type": "stream",
     "text": [
      "EPOCH: 4 / 20 step: 7 / 8 | lm position loss: 0.30743783712387085  | weighted loss: 3.0743783712387085\n"
     ]
    },
    {
     "name": "stderr",
     "output_type": "stream",
     "text": [
      "100%|████████████████████████████████████████████████████████████████████████████████████████████████████████████████████████████████████████████████████████████████████| 8/8 [03:54<00:00, 29.28s/it]\n"
     ]
    },
    {
     "name": "stdout",
     "output_type": "stream",
     "text": [
      "EPOCH: 4 / 20 step: 8 / 8 | lm position loss: 0.10497105121612549  | weighted loss: 1.0497105121612549\n",
      "---End traing---\n",
      "---Start evaluation---\n"
     ]
    },
    {
     "name": "stderr",
     "output_type": "stream",
     "text": [
      "100%|████████████████████████████████████████████████████████████████████████████████████████████████████████████████████████████████████████████████████████████████████| 3/3 [01:02<00:00, 20.79s/it]\n"
     ]
    },
    {
     "name": "stdout",
     "output_type": "stream",
     "text": [
      "metrics/dist_part_0_L.Che 0.4198034012580331\n",
      "metrics/dist_part_1_R.Che 0.7557920002194503\n",
      "metrics/dist_part_2_Sho.A 0.3870105940396507\n",
      "metrics/dist_part_3_Sho.B 0.4760355959237566\n",
      "metrics/dist_part_4_Sho.C 0.5898714262181863\n",
      "metrics/dist_part_5_Sho.D 0.7024726796443788\n",
      "metrics/dist_part_6_Sho.E 0.797479051990883\n",
      "metrics/dist_part_7_Arm.A 0.37426549422075767\n",
      "metrics/dist_part_8_Arm.B 0.43089273063036626\n",
      "metrics/dist_part_9_L.Wai 0.5003211518538422\n",
      "metrics/dist_part_10_R.Wai 0.7648341073279852\n",
      "metrics/dist_part_11_Arm.E 0.91303638825259\n",
      "metrics/dist_all 0.5926512184649899\n",
      "EPOCH: 4 / 20 | lm distance: 0.5926512184649899\n",
      "---End evaluation---\n",
      "---Starting traing---\n"
     ]
    },
    {
     "name": "stderr",
     "output_type": "stream",
     "text": [
      " 12%|████████████████████▌                                                                                                                                               | 1/8 [00:30<03:35, 30.72s/it]"
     ]
    },
    {
     "name": "stdout",
     "output_type": "stream",
     "text": [
      "EPOCH: 5 / 20 step: 1 / 8 | lm position loss: 0.1307847797870636  | weighted loss: 1.307847797870636\n"
     ]
    },
    {
     "name": "stderr",
     "output_type": "stream",
     "text": [
      "\r",
      " 25%|█████████████████████████████████████████                                                                                                                           | 2/8 [01:00<03:02, 30.44s/it]"
     ]
    },
    {
     "name": "stdout",
     "output_type": "stream",
     "text": [
      "EPOCH: 5 / 20 step: 2 / 8 | lm position loss: 0.046896688640117645  | weighted loss: 0.46896688640117645\n"
     ]
    },
    {
     "name": "stderr",
     "output_type": "stream",
     "text": [
      "\r",
      " 38%|█████████████████████████████████████████████████████████████▌                                                                                                      | 3/8 [01:29<02:28, 29.64s/it]"
     ]
    },
    {
     "name": "stdout",
     "output_type": "stream",
     "text": [
      "EPOCH: 5 / 20 step: 3 / 8 | lm position loss: 0.039895135909318924  | weighted loss: 0.39895135909318924\n"
     ]
    },
    {
     "name": "stderr",
     "output_type": "stream",
     "text": [
      "\r",
      " 50%|██████████████████████████████████████████████████████████████████████████████████                                                                                  | 4/8 [01:59<01:59, 29.82s/it]"
     ]
    },
    {
     "name": "stdout",
     "output_type": "stream",
     "text": [
      "EPOCH: 5 / 20 step: 4 / 8 | lm position loss: 0.045590564608573914  | weighted loss: 0.45590564608573914\n"
     ]
    },
    {
     "name": "stderr",
     "output_type": "stream",
     "text": [
      "\r",
      " 62%|██████████████████████████████████████████████████████████████████████████████████████████████████████▌                                                             | 5/8 [02:30<01:29, 29.99s/it]"
     ]
    },
    {
     "name": "stdout",
     "output_type": "stream",
     "text": [
      "EPOCH: 5 / 20 step: 5 / 8 | lm position loss: 0.034013181924819946  | weighted loss: 0.34013181924819946\n"
     ]
    },
    {
     "name": "stderr",
     "output_type": "stream",
     "text": [
      "\r",
      " 75%|███████████████████████████████████████████████████████████████████████████████████████████████████████████████████████████                                         | 6/8 [02:59<00:59, 29.68s/it]"
     ]
    },
    {
     "name": "stdout",
     "output_type": "stream",
     "text": [
      "EPOCH: 5 / 20 step: 6 / 8 | lm position loss: 0.029155384749174118  | weighted loss: 0.2915538474917412\n"
     ]
    },
    {
     "name": "stderr",
     "output_type": "stream",
     "text": [
      "\r",
      " 88%|███████████████████████████████████████████████████████████████████████████████████████████████████████████████████████████████████████████████▌                    | 7/8 [03:28<00:29, 29.42s/it]"
     ]
    },
    {
     "name": "stdout",
     "output_type": "stream",
     "text": [
      "EPOCH: 5 / 20 step: 7 / 8 | lm position loss: 0.023787494748830795  | weighted loss: 0.23787494748830795\n"
     ]
    },
    {
     "name": "stderr",
     "output_type": "stream",
     "text": [
      "100%|████████████████████████████████████████████████████████████████████████████████████████████████████████████████████████████████████████████████████████████████████| 8/8 [03:51<00:00, 28.88s/it]\n"
     ]
    },
    {
     "name": "stdout",
     "output_type": "stream",
     "text": [
      "EPOCH: 5 / 20 step: 8 / 8 | lm position loss: 0.021379316225647926  | weighted loss: 0.21379316225647926\n",
      "---End traing---\n",
      "---Start evaluation---\n"
     ]
    },
    {
     "name": "stderr",
     "output_type": "stream",
     "text": [
      "100%|████████████████████████████████████████████████████████████████████████████████████████████████████████████████████████████████████████████████████████████████████| 3/3 [01:04<00:00, 21.36s/it]\n"
     ]
    },
    {
     "name": "stdout",
     "output_type": "stream",
     "text": [
      "metrics/dist_part_0_L.Che 0.37452407018637557\n",
      "metrics/dist_part_1_R.Che 0.7539080169701416\n",
      "metrics/dist_part_2_Sho.A 0.49677617486521947\n",
      "metrics/dist_part_3_Sho.B 0.4569054694383656\n",
      "metrics/dist_part_4_Sho.C 0.5735727826224678\n",
      "metrics/dist_part_5_Sho.D 0.6923648387932759\n",
      "metrics/dist_part_6_Sho.E 0.7914942412768469\n",
      "metrics/dist_part_7_Arm.A 0.3626579516095812\n",
      "metrics/dist_part_8_Arm.B 0.3697933468366669\n",
      "metrics/dist_part_9_L.Wai 0.44559117183821256\n",
      "metrics/dist_part_10_R.Wai 0.6744004862209707\n",
      "metrics/dist_part_11_Arm.E 0.9351410182425552\n",
      "metrics/dist_all 0.5772607974083899\n",
      "EPOCH: 5 / 20 | lm distance: 0.5772607974083899\n",
      "---End evaluation---\n",
      "---Starting traing---\n"
     ]
    },
    {
     "name": "stderr",
     "output_type": "stream",
     "text": [
      " 12%|████████████████████▌                                                                                                                                               | 1/8 [00:28<03:21, 28.81s/it]"
     ]
    },
    {
     "name": "stdout",
     "output_type": "stream",
     "text": [
      "EPOCH: 6 / 20 step: 1 / 8 | lm position loss: 0.01813182607293129  | weighted loss: 0.1813182607293129\n"
     ]
    },
    {
     "name": "stderr",
     "output_type": "stream",
     "text": [
      "\r",
      " 25%|█████████████████████████████████████████                                                                                                                           | 2/8 [00:57<02:53, 28.84s/it]"
     ]
    },
    {
     "name": "stdout",
     "output_type": "stream",
     "text": [
      "EPOCH: 6 / 20 step: 2 / 8 | lm position loss: 0.02051921747624874  | weighted loss: 0.2051921747624874\n"
     ]
    },
    {
     "name": "stderr",
     "output_type": "stream",
     "text": [
      "\r",
      " 38%|█████████████████████████████████████████████████████████████▌                                                                                                      | 3/8 [01:27<02:27, 29.42s/it]"
     ]
    },
    {
     "name": "stdout",
     "output_type": "stream",
     "text": [
      "EPOCH: 6 / 20 step: 3 / 8 | lm position loss: 0.017699476331472397  | weighted loss: 0.17699476331472397\n"
     ]
    },
    {
     "name": "stderr",
     "output_type": "stream",
     "text": [
      "\r",
      " 50%|██████████████████████████████████████████████████████████████████████████████████                                                                                  | 4/8 [01:58<01:59, 29.99s/it]"
     ]
    },
    {
     "name": "stdout",
     "output_type": "stream",
     "text": [
      "EPOCH: 6 / 20 step: 4 / 8 | lm position loss: 0.016065005213022232  | weighted loss: 0.16065005213022232\n"
     ]
    },
    {
     "name": "stderr",
     "output_type": "stream",
     "text": [
      "\r",
      " 62%|██████████████████████████████████████████████████████████████████████████████████████████████████████▌                                                             | 5/8 [02:27<01:28, 29.67s/it]"
     ]
    },
    {
     "name": "stdout",
     "output_type": "stream",
     "text": [
      "EPOCH: 6 / 20 step: 5 / 8 | lm position loss: 0.014371316879987717  | weighted loss: 0.14371316879987717\n"
     ]
    },
    {
     "name": "stderr",
     "output_type": "stream",
     "text": [
      "\r",
      " 75%|███████████████████████████████████████████████████████████████████████████████████████████████████████████████████████████                                         | 6/8 [02:56<00:58, 29.33s/it]"
     ]
    },
    {
     "name": "stdout",
     "output_type": "stream",
     "text": [
      "EPOCH: 6 / 20 step: 6 / 8 | lm position loss: 0.01559481117874384  | weighted loss: 0.1559481117874384\n"
     ]
    },
    {
     "name": "stderr",
     "output_type": "stream",
     "text": [
      "\r",
      " 88%|███████████████████████████████████████████████████████████████████████████████████████████████████████████████████████████████████████████████▌                    | 7/8 [03:25<00:29, 29.25s/it]"
     ]
    },
    {
     "name": "stdout",
     "output_type": "stream",
     "text": [
      "EPOCH: 6 / 20 step: 7 / 8 | lm position loss: 0.014299841597676277  | weighted loss: 0.14299841597676277\n"
     ]
    },
    {
     "name": "stderr",
     "output_type": "stream",
     "text": [
      "100%|████████████████████████████████████████████████████████████████████████████████████████████████████████████████████████████████████████████████████████████████████| 8/8 [03:50<00:00, 28.79s/it]\n"
     ]
    },
    {
     "name": "stdout",
     "output_type": "stream",
     "text": [
      "EPOCH: 6 / 20 step: 8 / 8 | lm position loss: 0.01286396011710167  | weighted loss: 0.1286396011710167\n",
      "---End traing---\n",
      "---Start evaluation---\n"
     ]
    },
    {
     "name": "stderr",
     "output_type": "stream",
     "text": [
      "100%|████████████████████████████████████████████████████████████████████████████████████████████████████████████████████████████████████████████████████████████████████| 3/3 [01:00<00:00, 20.08s/it]\n"
     ]
    },
    {
     "name": "stdout",
     "output_type": "stream",
     "text": [
      "metrics/dist_part_0_L.Che 0.3361330829782885\n",
      "metrics/dist_part_1_R.Che 0.7526520281372692\n",
      "metrics/dist_part_2_Sho.A 0.45992486877289834\n",
      "metrics/dist_part_3_Sho.B 0.44415205178143813\n",
      "metrics/dist_part_4_Sho.C 0.562707020225322\n",
      "metrics/dist_part_5_Sho.D 0.6856262782258741\n",
      "metrics/dist_part_6_Sho.E 0.7875043674674895\n",
      "metrics/dist_part_7_Arm.A 0.3549195898687969\n",
      "metrics/dist_part_8_Arm.B 0.3358075008531493\n",
      "metrics/dist_part_9_L.Wai 0.41084669247909184\n",
      "metrics/dist_part_10_R.Wai 0.6569714889576499\n",
      "metrics/dist_part_11_Arm.E 0.9498774382358653\n",
      "metrics/dist_all 0.5614268673319277\n",
      "EPOCH: 6 / 20 | lm distance: 0.5614268673319277\n",
      "---End evaluation---\n",
      "---Starting traing---\n"
     ]
    },
    {
     "name": "stderr",
     "output_type": "stream",
     "text": [
      " 12%|████████████████████▌                                                                                                                                               | 1/8 [00:28<03:21, 28.82s/it]"
     ]
    },
    {
     "name": "stdout",
     "output_type": "stream",
     "text": [
      "EPOCH: 7 / 20 step: 1 / 8 | lm position loss: 0.012125104665756226  | weighted loss: 0.12125104665756226\n"
     ]
    },
    {
     "name": "stderr",
     "output_type": "stream",
     "text": [
      "\r",
      " 25%|█████████████████████████████████████████                                                                                                                           | 2/8 [00:59<03:00, 30.03s/it]"
     ]
    },
    {
     "name": "stdout",
     "output_type": "stream",
     "text": [
      "EPOCH: 7 / 20 step: 2 / 8 | lm position loss: 0.020079590380191803  | weighted loss: 0.20079590380191803\n"
     ]
    },
    {
     "name": "stderr",
     "output_type": "stream",
     "text": [
      "\r",
      " 38%|█████████████████████████████████████████████████████████████▌                                                                                                      | 3/8 [01:28<02:27, 29.51s/it]"
     ]
    },
    {
     "name": "stdout",
     "output_type": "stream",
     "text": [
      "EPOCH: 7 / 20 step: 3 / 8 | lm position loss: 0.012100773863494396  | weighted loss: 0.12100773863494396\n"
     ]
    },
    {
     "name": "stderr",
     "output_type": "stream",
     "text": [
      "\r",
      " 50%|██████████████████████████████████████████████████████████████████████████████████                                                                                  | 4/8 [01:57<01:56, 29.18s/it]"
     ]
    },
    {
     "name": "stdout",
     "output_type": "stream",
     "text": [
      "EPOCH: 7 / 20 step: 4 / 8 | lm position loss: 0.014259733259677887  | weighted loss: 0.14259733259677887\n"
     ]
    },
    {
     "name": "stderr",
     "output_type": "stream",
     "text": [
      "\r",
      " 62%|██████████████████████████████████████████████████████████████████████████████████████████████████████▌                                                             | 5/8 [02:26<01:27, 29.21s/it]"
     ]
    },
    {
     "name": "stdout",
     "output_type": "stream",
     "text": [
      "EPOCH: 7 / 20 step: 5 / 8 | lm position loss: 0.014616384170949459  | weighted loss: 0.1461638417094946\n"
     ]
    },
    {
     "name": "stderr",
     "output_type": "stream",
     "text": [
      "\r",
      " 75%|███████████████████████████████████████████████████████████████████████████████████████████████████████████████████████████                                         | 6/8 [02:56<00:59, 29.59s/it]"
     ]
    },
    {
     "name": "stdout",
     "output_type": "stream",
     "text": [
      "EPOCH: 7 / 20 step: 6 / 8 | lm position loss: 0.012575898319482803  | weighted loss: 0.12575898319482803\n"
     ]
    },
    {
     "name": "stderr",
     "output_type": "stream",
     "text": [
      "\r",
      " 88%|███████████████████████████████████████████████████████████████████████████████████████████████████████████████████████████████████████████████▌                    | 7/8 [03:27<00:29, 29.81s/it]"
     ]
    },
    {
     "name": "stdout",
     "output_type": "stream",
     "text": [
      "EPOCH: 7 / 20 step: 7 / 8 | lm position loss: 0.01155904121696949  | weighted loss: 0.1155904121696949\n"
     ]
    },
    {
     "name": "stderr",
     "output_type": "stream",
     "text": [
      "100%|████████████████████████████████████████████████████████████████████████████████████████████████████████████████████████████████████████████████████████████████████| 8/8 [03:50<00:00, 28.82s/it]\n"
     ]
    },
    {
     "name": "stdout",
     "output_type": "stream",
     "text": [
      "EPOCH: 7 / 20 step: 8 / 8 | lm position loss: 0.011894584633409977  | weighted loss: 0.11894584633409977\n",
      "---End traing---\n",
      "---Start evaluation---\n"
     ]
    },
    {
     "name": "stderr",
     "output_type": "stream",
     "text": [
      "100%|████████████████████████████████████████████████████████████████████████████████████████████████████████████████████████████████████████████████████████████████████| 3/3 [01:00<00:00, 20.24s/it]\n"
     ]
    },
    {
     "name": "stdout",
     "output_type": "stream",
     "text": [
      "metrics/dist_part_0_L.Che 0.30413394532770216\n",
      "metrics/dist_part_1_R.Che 0.6610753010087186\n",
      "metrics/dist_part_2_Sho.A 0.4108029312783725\n",
      "metrics/dist_part_3_Sho.B 0.4350424677407757\n",
      "metrics/dist_part_4_Sho.C 0.5549457613702179\n",
      "metrics/dist_part_5_Sho.D 0.6808130206777299\n",
      "metrics/dist_part_6_Sho.E 0.7577608551825813\n",
      "metrics/dist_part_7_Arm.A 0.31947402782076506\n",
      "metrics/dist_part_8_Arm.B 0.3055983028713141\n",
      "metrics/dist_part_9_L.Wai 0.39396692057231936\n",
      "metrics/dist_part_10_R.Wai 0.6096468519903525\n",
      "metrics/dist_part_11_Arm.E 0.8381488476292765\n",
      "metrics/dist_all 0.5226174361225105\n",
      "EPOCH: 7 / 20 | lm distance: 0.5226174361225105\n",
      "---End evaluation---\n",
      "---Starting traing---\n"
     ]
    },
    {
     "name": "stderr",
     "output_type": "stream",
     "text": [
      " 12%|████████████████████▌                                                                                                                                               | 1/8 [00:30<03:31, 30.15s/it]"
     ]
    },
    {
     "name": "stdout",
     "output_type": "stream",
     "text": [
      "EPOCH: 8 / 20 step: 1 / 8 | lm position loss: 0.012527063488960266  | weighted loss: 0.12527063488960266\n"
     ]
    },
    {
     "name": "stderr",
     "output_type": "stream",
     "text": [
      "\r",
      " 25%|█████████████████████████████████████████                                                                                                                           | 2/8 [00:59<02:58, 29.76s/it]"
     ]
    },
    {
     "name": "stdout",
     "output_type": "stream",
     "text": [
      "EPOCH: 8 / 20 step: 2 / 8 | lm position loss: 0.01521193329244852  | weighted loss: 0.1521193329244852\n"
     ]
    },
    {
     "name": "stderr",
     "output_type": "stream",
     "text": [
      "\r",
      " 38%|█████████████████████████████████████████████████████████████▌                                                                                                      | 3/8 [01:28<02:26, 29.27s/it]"
     ]
    },
    {
     "name": "stdout",
     "output_type": "stream",
     "text": [
      "EPOCH: 8 / 20 step: 3 / 8 | lm position loss: 0.012213993817567825  | weighted loss: 0.12213993817567825\n"
     ]
    },
    {
     "name": "stderr",
     "output_type": "stream",
     "text": [
      "\r",
      " 50%|██████████████████████████████████████████████████████████████████████████████████                                                                                  | 4/8 [01:58<01:57, 29.50s/it]"
     ]
    },
    {
     "name": "stdout",
     "output_type": "stream",
     "text": [
      "EPOCH: 8 / 20 step: 4 / 8 | lm position loss: 0.010478620417416096  | weighted loss: 0.10478620417416096\n"
     ]
    },
    {
     "name": "stderr",
     "output_type": "stream",
     "text": [
      "\r",
      " 62%|██████████████████████████████████████████████████████████████████████████████████████████████████████▌                                                             | 5/8 [02:27<01:28, 29.50s/it]"
     ]
    },
    {
     "name": "stdout",
     "output_type": "stream",
     "text": [
      "EPOCH: 8 / 20 step: 5 / 8 | lm position loss: 0.011678798124194145  | weighted loss: 0.11678798124194145\n"
     ]
    },
    {
     "name": "stderr",
     "output_type": "stream",
     "text": [
      "\r",
      " 75%|███████████████████████████████████████████████████████████████████████████████████████████████████████████████████████████                                         | 6/8 [02:57<00:59, 29.63s/it]"
     ]
    },
    {
     "name": "stdout",
     "output_type": "stream",
     "text": [
      "EPOCH: 8 / 20 step: 6 / 8 | lm position loss: 0.011821746826171875  | weighted loss: 0.11821746826171875\n"
     ]
    },
    {
     "name": "stderr",
     "output_type": "stream",
     "text": [
      "\r",
      " 88%|███████████████████████████████████████████████████████████████████████████████████████████████████████████████████████████████████████████████▌                    | 7/8 [03:26<00:29, 29.39s/it]"
     ]
    },
    {
     "name": "stdout",
     "output_type": "stream",
     "text": [
      "EPOCH: 8 / 20 step: 7 / 8 | lm position loss: 0.01061874907463789  | weighted loss: 0.1061874907463789\n"
     ]
    },
    {
     "name": "stderr",
     "output_type": "stream",
     "text": [
      "100%|████████████████████████████████████████████████████████████████████████████████████████████████████████████████████████████████████████████████████████████████████| 8/8 [03:50<00:00, 28.81s/it]\n"
     ]
    },
    {
     "name": "stdout",
     "output_type": "stream",
     "text": [
      "EPOCH: 8 / 20 step: 8 / 8 | lm position loss: 0.009843515232205391  | weighted loss: 0.09843515232205391\n",
      "---End traing---\n",
      "---Start evaluation---\n"
     ]
    },
    {
     "name": "stderr",
     "output_type": "stream",
     "text": [
      "100%|████████████████████████████████████████████████████████████████████████████████████████████████████████████████████████████████████████████████████████████████████| 3/3 [01:02<00:00, 20.69s/it]\n"
     ]
    },
    {
     "name": "stdout",
     "output_type": "stream",
     "text": [
      "metrics/dist_part_0_L.Che 0.28013459208976244\n",
      "metrics/dist_part_1_R.Che 0.6322197217301604\n",
      "metrics/dist_part_2_Sho.A 0.38973098528424577\n",
      "metrics/dist_part_3_Sho.B 0.42821027971027886\n",
      "metrics/dist_part_4_Sho.C 0.5491248172288898\n",
      "metrics/dist_part_5_Sho.D 0.6772030775166217\n",
      "metrics/dist_part_6_Sho.E 0.6825881814759539\n",
      "metrics/dist_part_7_Arm.A 0.2928898562847412\n",
      "metrics/dist_part_8_Arm.B 0.27920905367933807\n",
      "metrics/dist_part_9_L.Wai 0.38076441616194834\n",
      "metrics/dist_part_10_R.Wai 0.595823561699356\n",
      "metrics/dist_part_11_Arm.E 0.7536701963908603\n",
      "metrics/dist_all 0.49513072827101307\n",
      "EPOCH: 8 / 20 | lm distance: 0.49513072827101307\n",
      "---End evaluation---\n",
      "---Starting traing---\n"
     ]
    },
    {
     "name": "stderr",
     "output_type": "stream",
     "text": [
      " 12%|████████████████████▌                                                                                                                                               | 1/8 [00:28<03:20, 28.59s/it]"
     ]
    },
    {
     "name": "stdout",
     "output_type": "stream",
     "text": [
      "EPOCH: 9 / 20 step: 1 / 8 | lm position loss: 0.010291599668562412  | weighted loss: 0.10291599668562412\n"
     ]
    },
    {
     "name": "stderr",
     "output_type": "stream",
     "text": [
      "\r",
      " 25%|█████████████████████████████████████████                                                                                                                           | 2/8 [00:58<02:55, 29.23s/it]"
     ]
    },
    {
     "name": "stdout",
     "output_type": "stream",
     "text": [
      "EPOCH: 9 / 20 step: 2 / 8 | lm position loss: 0.014116061851382256  | weighted loss: 0.14116061851382256\n"
     ]
    },
    {
     "name": "stderr",
     "output_type": "stream",
     "text": [
      "\r",
      " 38%|█████████████████████████████████████████████████████████████▌                                                                                                      | 3/8 [01:27<02:26, 29.25s/it]"
     ]
    },
    {
     "name": "stdout",
     "output_type": "stream",
     "text": [
      "EPOCH: 9 / 20 step: 3 / 8 | lm position loss: 0.009551512077450752  | weighted loss: 0.09551512077450752\n"
     ]
    },
    {
     "name": "stderr",
     "output_type": "stream",
     "text": [
      "\r",
      " 50%|██████████████████████████████████████████████████████████████████████████████████                                                                                  | 4/8 [01:57<01:57, 29.42s/it]"
     ]
    },
    {
     "name": "stdout",
     "output_type": "stream",
     "text": [
      "EPOCH: 9 / 20 step: 4 / 8 | lm position loss: 0.010059330612421036  | weighted loss: 0.10059330612421036\n"
     ]
    },
    {
     "name": "stderr",
     "output_type": "stream",
     "text": [
      "\r",
      " 62%|██████████████████████████████████████████████████████████████████████████████████████████████████████▌                                                             | 5/8 [02:26<01:28, 29.52s/it]"
     ]
    },
    {
     "name": "stdout",
     "output_type": "stream",
     "text": [
      "EPOCH: 9 / 20 step: 5 / 8 | lm position loss: 0.01164016779512167  | weighted loss: 0.1164016779512167\n"
     ]
    },
    {
     "name": "stderr",
     "output_type": "stream",
     "text": [
      "\r",
      " 75%|███████████████████████████████████████████████████████████████████████████████████████████████████████████████████████████                                         | 6/8 [02:56<00:59, 29.64s/it]"
     ]
    },
    {
     "name": "stdout",
     "output_type": "stream",
     "text": [
      "EPOCH: 9 / 20 step: 6 / 8 | lm position loss: 0.010460343211889267  | weighted loss: 0.10460343211889267\n"
     ]
    },
    {
     "name": "stderr",
     "output_type": "stream",
     "text": [
      "\r",
      " 88%|███████████████████████████████████████████████████████████████████████████████████████████████████████████████████████████████████████████████▌                    | 7/8 [03:26<00:29, 29.52s/it]"
     ]
    },
    {
     "name": "stdout",
     "output_type": "stream",
     "text": [
      "EPOCH: 9 / 20 step: 7 / 8 | lm position loss: 0.009283878840506077  | weighted loss: 0.09283878840506077\n"
     ]
    },
    {
     "name": "stderr",
     "output_type": "stream",
     "text": [
      "100%|████████████████████████████████████████████████████████████████████████████████████████████████████████████████████████████████████████████████████████████████████| 8/8 [03:49<00:00, 28.64s/it]\n"
     ]
    },
    {
     "name": "stdout",
     "output_type": "stream",
     "text": [
      "EPOCH: 9 / 20 step: 8 / 8 | lm position loss: 0.009021219797432423  | weighted loss: 0.09021219797432423\n",
      "---End traing---\n",
      "---Start evaluation---\n"
     ]
    },
    {
     "name": "stderr",
     "output_type": "stream",
     "text": [
      "100%|████████████████████████████████████████████████████████████████████████████████████████████████████████████████████████████████████████████████████████████████████| 3/3 [01:02<00:00, 20.70s/it]\n"
     ]
    },
    {
     "name": "stdout",
     "output_type": "stream",
     "text": [
      "metrics/dist_part_0_L.Che 0.26146842846025375\n",
      "metrics/dist_part_1_R.Che 0.6137652001783744\n",
      "metrics/dist_part_2_Sho.A 0.3593243542872427\n",
      "metrics/dist_part_3_Sho.B 0.4209176917570031\n",
      "metrics/dist_part_4_Sho.C 0.5445974162300791\n",
      "metrics/dist_part_5_Sho.D 0.6743953439468711\n",
      "metrics/dist_part_6_Sho.E 0.6710510921383753\n",
      "metrics/dist_part_7_Arm.A 0.2722132784233892\n",
      "metrics/dist_part_8_Arm.B 0.26477702218663857\n",
      "metrics/dist_part_9_L.Wai 0.37049580162054874\n",
      "metrics/dist_part_10_R.Wai 0.5883312849520995\n",
      "metrics/dist_part_11_Arm.E 0.687964578760981\n",
      "metrics/dist_all 0.47744179107848805\n",
      "EPOCH: 9 / 20 | lm distance: 0.47744179107848805\n",
      "---End evaluation---\n",
      "---Starting traing---\n"
     ]
    },
    {
     "name": "stderr",
     "output_type": "stream",
     "text": [
      " 12%|████████████████████▌                                                                                                                                               | 1/8 [00:29<03:24, 29.14s/it]"
     ]
    },
    {
     "name": "stdout",
     "output_type": "stream",
     "text": [
      "EPOCH: 10 / 20 step: 1 / 8 | lm position loss: 0.009841486811637878  | weighted loss: 0.09841486811637878\n"
     ]
    },
    {
     "name": "stderr",
     "output_type": "stream",
     "text": [
      "\r",
      " 25%|█████████████████████████████████████████                                                                                                                           | 2/8 [00:57<02:53, 28.90s/it]"
     ]
    },
    {
     "name": "stdout",
     "output_type": "stream",
     "text": [
      "EPOCH: 10 / 20 step: 2 / 8 | lm position loss: 0.011168421246111393  | weighted loss: 0.11168421246111393\n"
     ]
    },
    {
     "name": "stderr",
     "output_type": "stream",
     "text": [
      "\r",
      " 38%|█████████████████████████████████████████████████████████████▌                                                                                                      | 3/8 [01:28<02:28, 29.80s/it]"
     ]
    },
    {
     "name": "stdout",
     "output_type": "stream",
     "text": [
      "EPOCH: 10 / 20 step: 3 / 8 | lm position loss: 0.009456116706132889  | weighted loss: 0.09456116706132889\n"
     ]
    },
    {
     "name": "stderr",
     "output_type": "stream",
     "text": [
      "\r",
      " 50%|██████████████████████████████████████████████████████████████████████████████████                                                                                  | 4/8 [01:58<01:59, 29.90s/it]"
     ]
    },
    {
     "name": "stdout",
     "output_type": "stream",
     "text": [
      "EPOCH: 10 / 20 step: 4 / 8 | lm position loss: 0.008428110741078854  | weighted loss: 0.08428110741078854\n"
     ]
    },
    {
     "name": "stderr",
     "output_type": "stream",
     "text": [
      "\r",
      " 62%|██████████████████████████████████████████████████████████████████████████████████████████████████████▌                                                             | 5/8 [02:28<01:29, 29.83s/it]"
     ]
    },
    {
     "name": "stdout",
     "output_type": "stream",
     "text": [
      "EPOCH: 10 / 20 step: 5 / 8 | lm position loss: 0.009246823377907276  | weighted loss: 0.09246823377907276\n"
     ]
    },
    {
     "name": "stderr",
     "output_type": "stream",
     "text": [
      "\r",
      " 75%|███████████████████████████████████████████████████████████████████████████████████████████████████████████████████████████                                         | 6/8 [02:57<00:59, 29.51s/it]"
     ]
    },
    {
     "name": "stdout",
     "output_type": "stream",
     "text": [
      "EPOCH: 10 / 20 step: 6 / 8 | lm position loss: 0.008723162114620209  | weighted loss: 0.08723162114620209\n"
     ]
    },
    {
     "name": "stderr",
     "output_type": "stream",
     "text": [
      "\r",
      " 88%|███████████████████████████████████████████████████████████████████████████████████████████████████████████████████████████████████████████████▌                    | 7/8 [03:26<00:29, 29.31s/it]"
     ]
    },
    {
     "name": "stdout",
     "output_type": "stream",
     "text": [
      "EPOCH: 10 / 20 step: 7 / 8 | lm position loss: 0.00834521185606718  | weighted loss: 0.0834521185606718\n"
     ]
    },
    {
     "name": "stderr",
     "output_type": "stream",
     "text": [
      "100%|████████████████████████████████████████████████████████████████████████████████████████████████████████████████████████████████████████████████████████████████████| 8/8 [03:50<00:00, 28.86s/it]\n"
     ]
    },
    {
     "name": "stdout",
     "output_type": "stream",
     "text": [
      "EPOCH: 10 / 20 step: 8 / 8 | lm position loss: 0.008202767930924892  | weighted loss: 0.08202767930924892\n",
      "---End traing---\n",
      "---Start evaluation---\n"
     ]
    },
    {
     "name": "stderr",
     "output_type": "stream",
     "text": [
      "100%|████████████████████████████████████████████████████████████████████████████████████████████████████████████████████████████████████████████████████████████████████| 3/3 [01:01<00:00, 20.35s/it]\n"
     ]
    },
    {
     "name": "stdout",
     "output_type": "stream",
     "text": [
      "metrics/dist_part_0_L.Che 0.2475399685167105\n",
      "metrics/dist_part_1_R.Che 0.6072281556586759\n",
      "metrics/dist_part_2_Sho.A 0.35512842992632127\n",
      "metrics/dist_part_3_Sho.B 0.3984609373820725\n",
      "metrics/dist_part_4_Sho.C 0.5409754954310305\n",
      "metrics/dist_part_5_Sho.D 0.6721491570910705\n",
      "metrics/dist_part_6_Sho.E 0.6245149350149853\n",
      "metrics/dist_part_7_Arm.A 0.26568096915708506\n",
      "metrics/dist_part_8_Arm.B 0.2483463163800365\n",
      "metrics/dist_part_9_L.Wai 0.36341670247608954\n",
      "metrics/dist_part_10_R.Wai 0.5625864619434211\n",
      "metrics/dist_part_11_Arm.E 0.6339216113460291\n",
      "metrics/dist_all 0.45999576169362727\n",
      "EPOCH: 10 / 20 | lm distance: 0.45999576169362727\n",
      "---End evaluation---\n",
      "---Starting traing---\n"
     ]
    },
    {
     "name": "stderr",
     "output_type": "stream",
     "text": [
      " 12%|████████████████████▌                                                                                                                                               | 1/8 [00:28<03:20, 28.60s/it]"
     ]
    },
    {
     "name": "stdout",
     "output_type": "stream",
     "text": [
      "EPOCH: 11 / 20 step: 1 / 8 | lm position loss: 0.008592612110078335  | weighted loss: 0.08592612110078335\n"
     ]
    },
    {
     "name": "stderr",
     "output_type": "stream",
     "text": [
      "\r",
      " 25%|█████████████████████████████████████████                                                                                                                           | 2/8 [00:58<02:57, 29.58s/it]"
     ]
    },
    {
     "name": "stdout",
     "output_type": "stream",
     "text": [
      "EPOCH: 11 / 20 step: 2 / 8 | lm position loss: 0.010531280189752579  | weighted loss: 0.10531280189752579\n"
     ]
    },
    {
     "name": "stderr",
     "output_type": "stream",
     "text": [
      "\r",
      " 38%|█████████████████████████████████████████████████████████████▌                                                                                                      | 3/8 [01:29<02:29, 29.99s/it]"
     ]
    },
    {
     "name": "stdout",
     "output_type": "stream",
     "text": [
      "EPOCH: 11 / 20 step: 3 / 8 | lm position loss: 0.008532264269888401  | weighted loss: 0.08532264269888401\n"
     ]
    },
    {
     "name": "stderr",
     "output_type": "stream",
     "text": [
      "\r",
      " 50%|██████████████████████████████████████████████████████████████████████████████████                                                                                  | 4/8 [01:58<01:58, 29.56s/it]"
     ]
    },
    {
     "name": "stdout",
     "output_type": "stream",
     "text": [
      "EPOCH: 11 / 20 step: 4 / 8 | lm position loss: 0.008233955129981041  | weighted loss: 0.08233955129981041\n"
     ]
    },
    {
     "name": "stderr",
     "output_type": "stream",
     "text": [
      "\r",
      " 62%|██████████████████████████████████████████████████████████████████████████████████████████████████████▌                                                             | 5/8 [02:27<01:28, 29.38s/it]"
     ]
    },
    {
     "name": "stdout",
     "output_type": "stream",
     "text": [
      "EPOCH: 11 / 20 step: 5 / 8 | lm position loss: 0.008830546401441097  | weighted loss: 0.08830546401441097\n"
     ]
    },
    {
     "name": "stderr",
     "output_type": "stream",
     "text": [
      "\r",
      " 75%|███████████████████████████████████████████████████████████████████████████████████████████████████████████████████████████                                         | 6/8 [02:56<00:58, 29.42s/it]"
     ]
    },
    {
     "name": "stdout",
     "output_type": "stream",
     "text": [
      "EPOCH: 11 / 20 step: 6 / 8 | lm position loss: 0.008392676711082458  | weighted loss: 0.08392676711082458\n"
     ]
    },
    {
     "name": "stderr",
     "output_type": "stream",
     "text": [
      "\r",
      " 88%|███████████████████████████████████████████████████████████████████████████████████████████████████████████████████████████████████████████████▌                    | 7/8 [03:27<00:29, 29.77s/it]"
     ]
    },
    {
     "name": "stdout",
     "output_type": "stream",
     "text": [
      "EPOCH: 11 / 20 step: 7 / 8 | lm position loss: 0.007444849703460932  | weighted loss: 0.07444849703460932\n"
     ]
    },
    {
     "name": "stderr",
     "output_type": "stream",
     "text": [
      "100%|████████████████████████████████████████████████████████████████████████████████████████████████████████████████████████████████████████████████████████████████████| 8/8 [03:50<00:00, 28.81s/it]\n"
     ]
    },
    {
     "name": "stdout",
     "output_type": "stream",
     "text": [
      "EPOCH: 11 / 20 step: 8 / 8 | lm position loss: 0.007728154771029949  | weighted loss: 0.07728154771029949\n",
      "---End traing---\n",
      "---Start evaluation---\n"
     ]
    },
    {
     "name": "stderr",
     "output_type": "stream",
     "text": [
      "100%|████████████████████████████████████████████████████████████████████████████████████████████████████████████████████████████████████████████████████████████████████| 3/3 [01:01<00:00, 20.43s/it]\n"
     ]
    },
    {
     "name": "stdout",
     "output_type": "stream",
     "text": [
      "metrics/dist_part_0_L.Che 0.23431701919182177\n",
      "metrics/dist_part_1_R.Che 0.6002333157971081\n",
      "metrics/dist_part_2_Sho.A 0.33322429993800234\n",
      "metrics/dist_part_3_Sho.B 0.3821378016319993\n",
      "metrics/dist_part_4_Sho.C 0.49977196964798815\n",
      "metrics/dist_part_5_Sho.D 0.6217138213292339\n",
      "metrics/dist_part_6_Sho.E 0.5897107085651354\n",
      "metrics/dist_part_7_Arm.A 0.2542516511311353\n",
      "metrics/dist_part_8_Arm.B 0.23670022009616526\n",
      "metrics/dist_part_9_L.Wai 0.35417199518036035\n",
      "metrics/dist_part_10_R.Wai 0.5377655984372539\n",
      "metrics/dist_part_11_Arm.E 0.5914249830475943\n",
      "metrics/dist_all 0.4362852819994832\n",
      "EPOCH: 11 / 20 | lm distance: 0.4362852819994832\n",
      "---End evaluation---\n",
      "---Starting traing---\n"
     ]
    },
    {
     "name": "stderr",
     "output_type": "stream",
     "text": [
      " 12%|████████████████████▌                                                                                                                                               | 1/8 [00:32<03:48, 32.58s/it]"
     ]
    },
    {
     "name": "stdout",
     "output_type": "stream",
     "text": [
      "EPOCH: 12 / 20 step: 1 / 8 | lm position loss: 0.007808636873960495  | weighted loss: 0.07808636873960495\n"
     ]
    },
    {
     "name": "stderr",
     "output_type": "stream",
     "text": [
      "\r",
      " 25%|█████████████████████████████████████████                                                                                                                           | 2/8 [01:01<03:03, 30.64s/it]"
     ]
    },
    {
     "name": "stdout",
     "output_type": "stream",
     "text": [
      "EPOCH: 12 / 20 step: 2 / 8 | lm position loss: 0.00940606091171503  | weighted loss: 0.0940606091171503\n"
     ]
    },
    {
     "name": "stderr",
     "output_type": "stream",
     "text": [
      "\r",
      " 38%|█████████████████████████████████████████████████████████████▌                                                                                                      | 3/8 [01:30<02:29, 29.93s/it]"
     ]
    },
    {
     "name": "stdout",
     "output_type": "stream",
     "text": [
      "EPOCH: 12 / 20 step: 3 / 8 | lm position loss: 0.007815464399755001  | weighted loss: 0.07815464399755001\n"
     ]
    },
    {
     "name": "stderr",
     "output_type": "stream",
     "text": [
      "\r",
      " 50%|██████████████████████████████████████████████████████████████████████████████████                                                                                  | 4/8 [01:59<01:57, 29.45s/it]"
     ]
    },
    {
     "name": "stdout",
     "output_type": "stream",
     "text": [
      "EPOCH: 12 / 20 step: 4 / 8 | lm position loss: 0.007427230477333069  | weighted loss: 0.07427230477333069\n"
     ]
    },
    {
     "name": "stderr",
     "output_type": "stream",
     "text": [
      "\r",
      " 62%|██████████████████████████████████████████████████████████████████████████████████████████████████████▌                                                             | 5/8 [02:30<01:29, 29.82s/it]"
     ]
    },
    {
     "name": "stdout",
     "output_type": "stream",
     "text": [
      "EPOCH: 12 / 20 step: 5 / 8 | lm position loss: 0.007945534773170948  | weighted loss: 0.07945534773170948\n"
     ]
    },
    {
     "name": "stderr",
     "output_type": "stream",
     "text": [
      "\r",
      " 75%|███████████████████████████████████████████████████████████████████████████████████████████████████████████████████████████                                         | 6/8 [02:59<00:59, 29.64s/it]"
     ]
    },
    {
     "name": "stdout",
     "output_type": "stream",
     "text": [
      "EPOCH: 12 / 20 step: 6 / 8 | lm position loss: 0.007687457837164402  | weighted loss: 0.07687457837164402\n"
     ]
    },
    {
     "name": "stderr",
     "output_type": "stream",
     "text": [
      "\r",
      " 88%|███████████████████████████████████████████████████████████████████████████████████████████████████████████████████████████████████████████████▌                    | 7/8 [03:28<00:29, 29.33s/it]"
     ]
    },
    {
     "name": "stdout",
     "output_type": "stream",
     "text": [
      "EPOCH: 12 / 20 step: 7 / 8 | lm position loss: 0.007342674769461155  | weighted loss: 0.07342674769461155\n"
     ]
    },
    {
     "name": "stderr",
     "output_type": "stream",
     "text": [
      "100%|████████████████████████████████████████████████████████████████████████████████████████████████████████████████████████████████████████████████████████████████████| 8/8 [03:51<00:00, 28.92s/it]\n"
     ]
    },
    {
     "name": "stdout",
     "output_type": "stream",
     "text": [
      "EPOCH: 12 / 20 step: 8 / 8 | lm position loss: 0.007611000444740057  | weighted loss: 0.07611000444740057\n",
      "---End traing---\n",
      "---Start evaluation---\n"
     ]
    },
    {
     "name": "stderr",
     "output_type": "stream",
     "text": [
      "100%|████████████████████████████████████████████████████████████████████████████████████████████████████████████████████████████████████████████████████████████████████| 3/3 [01:01<00:00, 20.65s/it]\n"
     ]
    },
    {
     "name": "stdout",
     "output_type": "stream",
     "text": [
      "metrics/dist_part_0_L.Che 0.22293074493701695\n",
      "metrics/dist_part_1_R.Che 0.5827767838650872\n",
      "metrics/dist_part_2_Sho.A 0.3229442478379015\n",
      "metrics/dist_part_3_Sho.B 0.36571887283768645\n",
      "metrics/dist_part_4_Sho.C 0.4674554558958623\n",
      "metrics/dist_part_5_Sho.D 0.583040297175471\n",
      "metrics/dist_part_6_Sho.E 0.5615667943933519\n",
      "metrics/dist_part_7_Arm.A 0.24682291044656288\n",
      "metrics/dist_part_8_Arm.B 0.22587772253052785\n",
      "metrics/dist_part_9_L.Wai 0.3464650785734003\n",
      "metrics/dist_part_10_R.Wai 0.5167081481914266\n",
      "metrics/dist_part_11_Arm.E 0.5521960598859841\n",
      "metrics/dist_all 0.4162085930475232\n",
      "EPOCH: 12 / 20 | lm distance: 0.4162085930475232\n",
      "---End evaluation---\n",
      "---Starting traing---\n"
     ]
    },
    {
     "name": "stderr",
     "output_type": "stream",
     "text": [
      " 12%|████████████████████▌                                                                                                                                               | 1/8 [00:28<03:22, 28.93s/it]"
     ]
    },
    {
     "name": "stdout",
     "output_type": "stream",
     "text": [
      "EPOCH: 13 / 20 step: 1 / 8 | lm position loss: 0.0074758646078407764  | weighted loss: 0.07475864607840776\n"
     ]
    },
    {
     "name": "stderr",
     "output_type": "stream",
     "text": [
      "\r",
      " 25%|█████████████████████████████████████████                                                                                                                           | 2/8 [00:57<02:53, 28.90s/it]"
     ]
    },
    {
     "name": "stdout",
     "output_type": "stream",
     "text": [
      "EPOCH: 13 / 20 step: 2 / 8 | lm position loss: 0.008498268201947212  | weighted loss: 0.08498268201947212\n"
     ]
    },
    {
     "name": "stderr",
     "output_type": "stream",
     "text": [
      "\r",
      " 38%|█████████████████████████████████████████████████████████████▌                                                                                                      | 3/8 [01:27<02:25, 29.17s/it]"
     ]
    },
    {
     "name": "stdout",
     "output_type": "stream",
     "text": [
      "EPOCH: 13 / 20 step: 3 / 8 | lm position loss: 0.007241077721118927  | weighted loss: 0.07241077721118927\n"
     ]
    },
    {
     "name": "stderr",
     "output_type": "stream",
     "text": [
      "\r",
      " 50%|██████████████████████████████████████████████████████████████████████████████████                                                                                  | 4/8 [01:56<01:57, 29.37s/it]"
     ]
    },
    {
     "name": "stdout",
     "output_type": "stream",
     "text": [
      "EPOCH: 13 / 20 step: 4 / 8 | lm position loss: 0.007355110254138708  | weighted loss: 0.07355110254138708\n"
     ]
    },
    {
     "name": "stderr",
     "output_type": "stream",
     "text": [
      "\r",
      " 62%|██████████████████████████████████████████████████████████████████████████████████████████████████████▌                                                             | 5/8 [02:26<01:28, 29.56s/it]"
     ]
    },
    {
     "name": "stdout",
     "output_type": "stream",
     "text": [
      "EPOCH: 13 / 20 step: 5 / 8 | lm position loss: 0.008022673428058624  | weighted loss: 0.08022673428058624\n"
     ]
    },
    {
     "name": "stderr",
     "output_type": "stream",
     "text": [
      "\r",
      " 75%|███████████████████████████████████████████████████████████████████████████████████████████████████████████████████████████                                         | 6/8 [02:55<00:58, 29.33s/it]"
     ]
    },
    {
     "name": "stdout",
     "output_type": "stream",
     "text": [
      "EPOCH: 13 / 20 step: 6 / 8 | lm position loss: 0.007227714639157057  | weighted loss: 0.07227714639157057\n"
     ]
    },
    {
     "name": "stderr",
     "output_type": "stream",
     "text": [
      "\r",
      " 88%|███████████████████████████████████████████████████████████████████████████████████████████████████████████████████████████████████████████████▌                    | 7/8 [03:26<00:29, 29.64s/it]"
     ]
    },
    {
     "name": "stdout",
     "output_type": "stream",
     "text": [
      "EPOCH: 13 / 20 step: 7 / 8 | lm position loss: 0.006694491486996412  | weighted loss: 0.06694491486996412\n"
     ]
    },
    {
     "name": "stderr",
     "output_type": "stream",
     "text": [
      "100%|████████████████████████████████████████████████████████████████████████████████████████████████████████████████████████████████████████████████████████████████████| 8/8 [03:50<00:00, 28.76s/it]\n"
     ]
    },
    {
     "name": "stdout",
     "output_type": "stream",
     "text": [
      "EPOCH: 13 / 20 step: 8 / 8 | lm position loss: 0.006785562261939049  | weighted loss: 0.06785562261939049\n",
      "---End traing---\n",
      "---Start evaluation---\n"
     ]
    },
    {
     "name": "stderr",
     "output_type": "stream",
     "text": [
      "100%|████████████████████████████████████████████████████████████████████████████████████████████████████████████████████████████████████████████████████████████████████| 3/3 [01:02<00:00, 20.88s/it]\n"
     ]
    },
    {
     "name": "stdout",
     "output_type": "stream",
     "text": [
      "metrics/dist_part_0_L.Che 0.2139799692058038\n",
      "metrics/dist_part_1_R.Che 0.5723658093597731\n",
      "metrics/dist_part_2_Sho.A 0.3069482849065049\n",
      "metrics/dist_part_3_Sho.B 0.34987217370710416\n",
      "metrics/dist_part_4_Sho.C 0.44024402473170166\n",
      "metrics/dist_part_5_Sho.D 0.549580350557407\n",
      "metrics/dist_part_6_Sho.E 0.5392971957157158\n",
      "metrics/dist_part_7_Arm.A 0.2371079969232357\n",
      "metrics/dist_part_8_Arm.B 0.21738084348353548\n",
      "metrics/dist_part_9_L.Wai 0.3377440883590616\n",
      "metrics/dist_part_10_R.Wai 0.4952268554293957\n",
      "metrics/dist_part_11_Arm.E 0.5189838250219132\n",
      "metrics/dist_all 0.3982276181167627\n",
      "EPOCH: 13 / 20 | lm distance: 0.3982276181167627\n",
      "---End evaluation---\n",
      "---Starting traing---\n"
     ]
    },
    {
     "name": "stderr",
     "output_type": "stream",
     "text": [
      " 12%|████████████████████▌                                                                                                                                               | 1/8 [00:29<03:23, 29.04s/it]"
     ]
    },
    {
     "name": "stdout",
     "output_type": "stream",
     "text": [
      "EPOCH: 14 / 20 step: 1 / 8 | lm position loss: 0.006922231521457434  | weighted loss: 0.06922231521457434\n"
     ]
    },
    {
     "name": "stderr",
     "output_type": "stream",
     "text": [
      "\r",
      " 25%|█████████████████████████████████████████                                                                                                                           | 2/8 [00:58<02:55, 29.18s/it]"
     ]
    },
    {
     "name": "stdout",
     "output_type": "stream",
     "text": [
      "EPOCH: 14 / 20 step: 2 / 8 | lm position loss: 0.00811093021184206  | weighted loss: 0.0811093021184206\n"
     ]
    },
    {
     "name": "stderr",
     "output_type": "stream",
     "text": [
      "\r",
      " 38%|█████████████████████████████████████████████████████████████▌                                                                                                      | 3/8 [01:28<02:27, 29.50s/it]"
     ]
    },
    {
     "name": "stdout",
     "output_type": "stream",
     "text": [
      "EPOCH: 14 / 20 step: 3 / 8 | lm position loss: 0.006904196459800005  | weighted loss: 0.06904196459800005\n"
     ]
    },
    {
     "name": "stderr",
     "output_type": "stream",
     "text": [
      "\r",
      " 50%|██████████████████████████████████████████████████████████████████████████████████                                                                                  | 4/8 [01:57<01:57, 29.41s/it]"
     ]
    },
    {
     "name": "stdout",
     "output_type": "stream",
     "text": [
      "EPOCH: 14 / 20 step: 4 / 8 | lm position loss: 0.007024209946393967  | weighted loss: 0.07024209946393967\n"
     ]
    },
    {
     "name": "stderr",
     "output_type": "stream",
     "text": [
      "\r",
      " 62%|██████████████████████████████████████████████████████████████████████████████████████████████████████▌                                                             | 5/8 [02:26<01:27, 29.30s/it]"
     ]
    },
    {
     "name": "stdout",
     "output_type": "stream",
     "text": [
      "EPOCH: 14 / 20 step: 5 / 8 | lm position loss: 0.007023586425930262  | weighted loss: 0.07023586425930262\n"
     ]
    },
    {
     "name": "stderr",
     "output_type": "stream",
     "text": [
      "\r",
      " 75%|███████████████████████████████████████████████████████████████████████████████████████████████████████████████████████████                                         | 6/8 [02:55<00:58, 29.30s/it]"
     ]
    },
    {
     "name": "stdout",
     "output_type": "stream",
     "text": [
      "EPOCH: 14 / 20 step: 6 / 8 | lm position loss: 0.007022811099886894  | weighted loss: 0.07022811099886894\n"
     ]
    },
    {
     "name": "stderr",
     "output_type": "stream",
     "text": [
      "\r",
      " 88%|███████████████████████████████████████████████████████████████████████████████████████████████████████████████████████████████████████████████▌                    | 7/8 [03:24<00:29, 29.15s/it]"
     ]
    },
    {
     "name": "stdout",
     "output_type": "stream",
     "text": [
      "EPOCH: 14 / 20 step: 7 / 8 | lm position loss: 0.006356928963214159  | weighted loss: 0.06356928963214159\n"
     ]
    },
    {
     "name": "stderr",
     "output_type": "stream",
     "text": [
      "100%|████████████████████████████████████████████████████████████████████████████████████████████████████████████████████████████████████████████████████████████████████| 8/8 [03:49<00:00, 28.69s/it]\n"
     ]
    },
    {
     "name": "stdout",
     "output_type": "stream",
     "text": [
      "EPOCH: 14 / 20 step: 8 / 8 | lm position loss: 0.006257007364183664  | weighted loss: 0.06257007364183664\n",
      "---End traing---\n",
      "---Start evaluation---\n"
     ]
    },
    {
     "name": "stderr",
     "output_type": "stream",
     "text": [
      "100%|████████████████████████████████████████████████████████████████████████████████████████████████████████████████████████████████████████████████████████████████████| 3/3 [01:03<00:00, 21.01s/it]\n"
     ]
    },
    {
     "name": "stdout",
     "output_type": "stream",
     "text": [
      "metrics/dist_part_0_L.Che 0.20590235884305733\n",
      "metrics/dist_part_1_R.Che 0.5545050539562487\n",
      "metrics/dist_part_2_Sho.A 0.2931738311460022\n",
      "metrics/dist_part_3_Sho.B 0.3388673742732865\n",
      "metrics/dist_part_4_Sho.C 0.41688930706098215\n",
      "metrics/dist_part_5_Sho.D 0.5194952010596183\n",
      "metrics/dist_part_6_Sho.E 0.5180412406456371\n",
      "metrics/dist_part_7_Arm.A 0.22713109070826037\n",
      "metrics/dist_part_8_Arm.B 0.20860632597512385\n",
      "metrics/dist_part_9_L.Wai 0.32453654773860513\n",
      "metrics/dist_part_10_R.Wai 0.47202479443224704\n",
      "metrics/dist_part_11_Arm.E 0.4906170072173275\n",
      "metrics/dist_all 0.38081584442136635\n",
      "EPOCH: 14 / 20 | lm distance: 0.38081584442136635\n",
      "---End evaluation---\n",
      "---Starting traing---\n"
     ]
    },
    {
     "name": "stderr",
     "output_type": "stream",
     "text": [
      " 12%|████████████████████▌                                                                                                                                               | 1/8 [00:29<03:27, 29.64s/it]"
     ]
    },
    {
     "name": "stdout",
     "output_type": "stream",
     "text": [
      "EPOCH: 15 / 20 step: 1 / 8 | lm position loss: 0.0069144670851528645  | weighted loss: 0.06914467085152864\n"
     ]
    },
    {
     "name": "stderr",
     "output_type": "stream",
     "text": [
      "\r",
      " 25%|█████████████████████████████████████████                                                                                                                           | 2/8 [00:59<02:59, 29.91s/it]"
     ]
    },
    {
     "name": "stdout",
     "output_type": "stream",
     "text": [
      "EPOCH: 15 / 20 step: 2 / 8 | lm position loss: 0.007706210017204285  | weighted loss: 0.07706210017204285\n"
     ]
    },
    {
     "name": "stderr",
     "output_type": "stream",
     "text": [
      "\r",
      " 38%|█████████████████████████████████████████████████████████████▌                                                                                                      | 3/8 [01:28<02:27, 29.44s/it]"
     ]
    },
    {
     "name": "stdout",
     "output_type": "stream",
     "text": [
      "EPOCH: 15 / 20 step: 3 / 8 | lm position loss: 0.006231484469026327  | weighted loss: 0.06231484469026327\n"
     ]
    },
    {
     "name": "stderr",
     "output_type": "stream",
     "text": [
      "\r",
      " 50%|██████████████████████████████████████████████████████████████████████████████████                                                                                  | 4/8 [01:58<01:58, 29.53s/it]"
     ]
    },
    {
     "name": "stdout",
     "output_type": "stream",
     "text": [
      "EPOCH: 15 / 20 step: 4 / 8 | lm position loss: 0.006506314035505056  | weighted loss: 0.06506314035505056\n"
     ]
    },
    {
     "name": "stderr",
     "output_type": "stream",
     "text": [
      "\r",
      " 62%|██████████████████████████████████████████████████████████████████████████████████████████████████████▌                                                             | 5/8 [02:26<01:27, 29.23s/it]"
     ]
    },
    {
     "name": "stdout",
     "output_type": "stream",
     "text": [
      "EPOCH: 15 / 20 step: 5 / 8 | lm position loss: 0.007038524840027094  | weighted loss: 0.07038524840027094\n"
     ]
    },
    {
     "name": "stderr",
     "output_type": "stream",
     "text": [
      "\r",
      " 75%|███████████████████████████████████████████████████████████████████████████████████████████████████████████████████████████                                         | 6/8 [02:56<00:58, 29.24s/it]"
     ]
    },
    {
     "name": "stdout",
     "output_type": "stream",
     "text": [
      "EPOCH: 15 / 20 step: 6 / 8 | lm position loss: 0.006659590173512697  | weighted loss: 0.06659590173512697\n"
     ]
    },
    {
     "name": "stderr",
     "output_type": "stream",
     "text": [
      "\r",
      " 88%|███████████████████████████████████████████████████████████████████████████████████████████████████████████████████████████████████████████████▌                    | 7/8 [03:26<00:29, 29.58s/it]"
     ]
    },
    {
     "name": "stdout",
     "output_type": "stream",
     "text": [
      "EPOCH: 15 / 20 step: 7 / 8 | lm position loss: 0.006179298274219036  | weighted loss: 0.06179298274219036\n"
     ]
    },
    {
     "name": "stderr",
     "output_type": "stream",
     "text": [
      "100%|████████████████████████████████████████████████████████████████████████████████████████████████████████████████████████████████████████████████████████████████████| 8/8 [03:50<00:00, 28.82s/it]\n"
     ]
    },
    {
     "name": "stdout",
     "output_type": "stream",
     "text": [
      "EPOCH: 15 / 20 step: 8 / 8 | lm position loss: 0.0058949231170117855  | weighted loss: 0.058949231170117855\n",
      "---End traing---\n",
      "---Start evaluation---\n"
     ]
    },
    {
     "name": "stderr",
     "output_type": "stream",
     "text": [
      "100%|████████████████████████████████████████████████████████████████████████████████████████████████████████████████████████████████████████████████████████████████████| 3/3 [01:00<00:00, 20.18s/it]\n"
     ]
    },
    {
     "name": "stdout",
     "output_type": "stream",
     "text": [
      "metrics/dist_part_0_L.Che 0.1978106585553001\n",
      "metrics/dist_part_1_R.Che 0.5293966689462475\n",
      "metrics/dist_part_2_Sho.A 0.28057804226022587\n",
      "metrics/dist_part_3_Sho.B 0.32687461020875586\n",
      "metrics/dist_part_4_Sho.C 0.39663576046758836\n",
      "metrics/dist_part_5_Sho.D 0.49288757764985647\n",
      "metrics/dist_part_6_Sho.E 0.4951156275371329\n",
      "metrics/dist_part_7_Arm.A 0.21828458273593962\n",
      "metrics/dist_part_8_Arm.B 0.20004848050684323\n",
      "metrics/dist_part_9_L.Wai 0.3089995338344678\n",
      "metrics/dist_part_10_R.Wai 0.4499131019794597\n",
      "metrics/dist_part_11_Arm.E 0.46689562298782084\n",
      "metrics/dist_all 0.3636200223058032\n",
      "EPOCH: 15 / 20 | lm distance: 0.3636200223058032\n",
      "---End evaluation---\n",
      "---Starting traing---\n"
     ]
    },
    {
     "name": "stderr",
     "output_type": "stream",
     "text": [
      " 12%|████████████████████▌                                                                                                                                               | 1/8 [00:31<03:37, 31.13s/it]"
     ]
    },
    {
     "name": "stdout",
     "output_type": "stream",
     "text": [
      "EPOCH: 16 / 20 step: 1 / 8 | lm position loss: 0.006201428826898336  | weighted loss: 0.062014288268983364\n"
     ]
    },
    {
     "name": "stderr",
     "output_type": "stream",
     "text": [
      "\r",
      " 25%|█████████████████████████████████████████                                                                                                                           | 2/8 [01:02<03:06, 31.09s/it]"
     ]
    },
    {
     "name": "stdout",
     "output_type": "stream",
     "text": [
      "EPOCH: 16 / 20 step: 2 / 8 | lm position loss: 0.006859064567834139  | weighted loss: 0.06859064567834139\n"
     ]
    },
    {
     "name": "stderr",
     "output_type": "stream",
     "text": [
      "\r",
      " 38%|█████████████████████████████████████████████████████████████▌                                                                                                      | 3/8 [01:31<02:31, 30.27s/it]"
     ]
    },
    {
     "name": "stdout",
     "output_type": "stream",
     "text": [
      "EPOCH: 16 / 20 step: 3 / 8 | lm position loss: 0.006229601334780455  | weighted loss: 0.062296013347804546\n"
     ]
    },
    {
     "name": "stderr",
     "output_type": "stream",
     "text": [
      "\r",
      " 50%|██████████████████████████████████████████████████████████████████████████████████                                                                                  | 4/8 [02:00<01:58, 29.64s/it]"
     ]
    },
    {
     "name": "stdout",
     "output_type": "stream",
     "text": [
      "EPOCH: 16 / 20 step: 4 / 8 | lm position loss: 0.005908368155360222  | weighted loss: 0.05908368155360222\n"
     ]
    },
    {
     "name": "stderr",
     "output_type": "stream",
     "text": [
      "\r",
      " 62%|██████████████████████████████████████████████████████████████████████████████████████████████████████▌                                                             | 5/8 [02:30<01:29, 29.73s/it]"
     ]
    },
    {
     "name": "stdout",
     "output_type": "stream",
     "text": [
      "EPOCH: 16 / 20 step: 5 / 8 | lm position loss: 0.006223107222467661  | weighted loss: 0.06223107222467661\n"
     ]
    },
    {
     "name": "stderr",
     "output_type": "stream",
     "text": [
      "\r",
      " 75%|███████████████████████████████████████████████████████████████████████████████████████████████████████████████████████████                                         | 6/8 [03:01<01:00, 30.19s/it]"
     ]
    },
    {
     "name": "stdout",
     "output_type": "stream",
     "text": [
      "EPOCH: 16 / 20 step: 6 / 8 | lm position loss: 0.006013944279402494  | weighted loss: 0.060139442794024944\n"
     ]
    },
    {
     "name": "stderr",
     "output_type": "stream",
     "text": [
      "\r",
      " 88%|███████████████████████████████████████████████████████████████████████████████████████████████████████████████████████████████████████████████▌                    | 7/8 [03:30<00:29, 29.83s/it]"
     ]
    },
    {
     "name": "stdout",
     "output_type": "stream",
     "text": [
      "EPOCH: 16 / 20 step: 7 / 8 | lm position loss: 0.006201303098350763  | weighted loss: 0.06201303098350763\n"
     ]
    },
    {
     "name": "stderr",
     "output_type": "stream",
     "text": [
      "100%|████████████████████████████████████████████████████████████████████████████████████████████████████████████████████████████████████████████████████████████████████| 8/8 [03:53<00:00, 29.16s/it]\n"
     ]
    },
    {
     "name": "stdout",
     "output_type": "stream",
     "text": [
      "EPOCH: 16 / 20 step: 8 / 8 | lm position loss: 0.006228195503354073  | weighted loss: 0.062281955033540726\n",
      "---End traing---\n",
      "---Start evaluation---\n"
     ]
    },
    {
     "name": "stderr",
     "output_type": "stream",
     "text": [
      "100%|████████████████████████████████████████████████████████████████████████████████████████████████████████████████████████████████████████████████████████████████████| 3/3 [01:02<00:00, 20.74s/it]\n"
     ]
    },
    {
     "name": "stdout",
     "output_type": "stream",
     "text": [
      "metrics/dist_part_0_L.Che 0.19044600395395309\n",
      "metrics/dist_part_1_R.Che 0.503833645587361\n",
      "metrics/dist_part_2_Sho.A 0.2695525977310975\n",
      "metrics/dist_part_3_Sho.B 0.31464809655781345\n",
      "metrics/dist_part_4_Sho.C 0.37779050753981347\n",
      "metrics/dist_part_5_Sho.D 0.46951282619545975\n",
      "metrics/dist_part_6_Sho.E 0.4745186445855078\n",
      "metrics/dist_part_7_Arm.A 0.21055022705449955\n",
      "metrics/dist_part_8_Arm.B 0.1921992731679246\n",
      "metrics/dist_part_9_L.Wai 0.2959339888124008\n",
      "metrics/dist_part_10_R.Wai 0.429102190829773\n",
      "metrics/dist_part_11_Arm.E 0.44446308791240974\n",
      "metrics/dist_all 0.34771259082733447\n",
      "EPOCH: 16 / 20 | lm distance: 0.34771259082733447\n",
      "---End evaluation---\n",
      "---Starting traing---\n"
     ]
    },
    {
     "name": "stderr",
     "output_type": "stream",
     "text": [
      " 12%|████████████████████▌                                                                                                                                               | 1/8 [00:29<03:23, 29.05s/it]"
     ]
    },
    {
     "name": "stdout",
     "output_type": "stream",
     "text": [
      "EPOCH: 17 / 20 step: 1 / 8 | lm position loss: 0.005666334647685289  | weighted loss: 0.056663346476852894\n"
     ]
    },
    {
     "name": "stderr",
     "output_type": "stream",
     "text": [
      "\r",
      " 25%|█████████████████████████████████████████                                                                                                                           | 2/8 [00:57<02:53, 28.95s/it]"
     ]
    },
    {
     "name": "stdout",
     "output_type": "stream",
     "text": [
      "EPOCH: 17 / 20 step: 2 / 8 | lm position loss: 0.006732193287461996  | weighted loss: 0.06732193287461996\n"
     ]
    },
    {
     "name": "stderr",
     "output_type": "stream",
     "text": [
      "\r",
      " 38%|█████████████████████████████████████████████████████████████▌                                                                                                      | 3/8 [01:26<02:24, 28.84s/it]"
     ]
    },
    {
     "name": "stdout",
     "output_type": "stream",
     "text": [
      "EPOCH: 17 / 20 step: 3 / 8 | lm position loss: 0.005906844511628151  | weighted loss: 0.05906844511628151\n"
     ]
    },
    {
     "name": "stderr",
     "output_type": "stream",
     "text": [
      "\r",
      " 50%|██████████████████████████████████████████████████████████████████████████████████                                                                                  | 4/8 [01:56<01:56, 29.25s/it]"
     ]
    },
    {
     "name": "stdout",
     "output_type": "stream",
     "text": [
      "EPOCH: 17 / 20 step: 4 / 8 | lm position loss: 0.006085251923650503  | weighted loss: 0.06085251923650503\n"
     ]
    },
    {
     "name": "stderr",
     "output_type": "stream",
     "text": [
      "\r",
      " 62%|██████████████████████████████████████████████████████████████████████████████████████████████████████▌                                                             | 5/8 [02:26<01:28, 29.40s/it]"
     ]
    },
    {
     "name": "stdout",
     "output_type": "stream",
     "text": [
      "EPOCH: 17 / 20 step: 5 / 8 | lm position loss: 0.00617595948278904  | weighted loss: 0.061759594827890396\n"
     ]
    },
    {
     "name": "stderr",
     "output_type": "stream",
     "text": [
      "\r",
      " 75%|███████████████████████████████████████████████████████████████████████████████████████████████████████████████████████████                                         | 6/8 [02:54<00:58, 29.16s/it]"
     ]
    },
    {
     "name": "stdout",
     "output_type": "stream",
     "text": [
      "EPOCH: 17 / 20 step: 6 / 8 | lm position loss: 0.00585817638784647  | weighted loss: 0.0585817638784647\n"
     ]
    },
    {
     "name": "stderr",
     "output_type": "stream",
     "text": [
      "\r",
      " 88%|███████████████████████████████████████████████████████████████████████████████████████████████████████████████████████████████████████████████▌                    | 7/8 [03:23<00:29, 29.06s/it]"
     ]
    },
    {
     "name": "stdout",
     "output_type": "stream",
     "text": [
      "EPOCH: 17 / 20 step: 7 / 8 | lm position loss: 0.0055220890790224075  | weighted loss: 0.055220890790224075\n"
     ]
    },
    {
     "name": "stderr",
     "output_type": "stream",
     "text": [
      "100%|████████████████████████████████████████████████████████████████████████████████████████████████████████████████████████████████████████████████████████████████████| 8/8 [03:46<00:00, 28.37s/it]\n"
     ]
    },
    {
     "name": "stdout",
     "output_type": "stream",
     "text": [
      "EPOCH: 17 / 20 step: 8 / 8 | lm position loss: 0.005483187269419432  | weighted loss: 0.05483187269419432\n",
      "---End traing---\n",
      "---Start evaluation---\n"
     ]
    },
    {
     "name": "stderr",
     "output_type": "stream",
     "text": [
      "100%|████████████████████████████████████████████████████████████████████████████████████████████████████████████████████████████████████████████████████████████████████| 3/3 [01:02<00:00, 20.81s/it]\n"
     ]
    },
    {
     "name": "stdout",
     "output_type": "stream",
     "text": [
      "metrics/dist_part_0_L.Che 0.18405790821198384\n",
      "metrics/dist_part_1_R.Che 0.4814109169849207\n",
      "metrics/dist_part_2_Sho.A 0.2597370248194021\n",
      "metrics/dist_part_3_Sho.B 0.3036639233169082\n",
      "metrics/dist_part_4_Sho.C 0.36164576415270905\n",
      "metrics/dist_part_5_Sho.D 0.44995103580945245\n",
      "metrics/dist_part_6_Sho.E 0.4557139342738283\n",
      "metrics/dist_part_7_Arm.A 0.20447068596968102\n",
      "metrics/dist_part_8_Arm.B 0.184995739047052\n",
      "metrics/dist_part_9_L.Wai 0.28402905124562167\n",
      "metrics/dist_part_10_R.Wai 0.4096628292570697\n",
      "metrics/dist_part_11_Arm.E 0.4245845725576694\n",
      "metrics/dist_all 0.3336602821371915\n",
      "EPOCH: 17 / 20 | lm distance: 0.3336602821371915\n",
      "---End evaluation---\n",
      "---Starting traing---\n"
     ]
    },
    {
     "name": "stderr",
     "output_type": "stream",
     "text": [
      " 12%|████████████████████▌                                                                                                                                               | 1/8 [00:28<03:21, 28.80s/it]"
     ]
    },
    {
     "name": "stdout",
     "output_type": "stream",
     "text": [
      "EPOCH: 18 / 20 step: 1 / 8 | lm position loss: 0.005621836055070162  | weighted loss: 0.05621836055070162\n"
     ]
    },
    {
     "name": "stderr",
     "output_type": "stream",
     "text": [
      "\r",
      " 25%|█████████████████████████████████████████                                                                                                                           | 2/8 [00:57<02:53, 28.96s/it]"
     ]
    },
    {
     "name": "stdout",
     "output_type": "stream",
     "text": [
      "EPOCH: 18 / 20 step: 2 / 8 | lm position loss: 0.006060817278921604  | weighted loss: 0.06060817278921604\n"
     ]
    },
    {
     "name": "stderr",
     "output_type": "stream",
     "text": [
      "\r",
      " 38%|█████████████████████████████████████████████████████████████▌                                                                                                      | 3/8 [01:28<02:28, 29.66s/it]"
     ]
    },
    {
     "name": "stdout",
     "output_type": "stream",
     "text": [
      "EPOCH: 18 / 20 step: 3 / 8 | lm position loss: 0.005593400448560715  | weighted loss: 0.05593400448560715\n"
     ]
    },
    {
     "name": "stderr",
     "output_type": "stream",
     "text": [
      "\r",
      " 50%|██████████████████████████████████████████████████████████████████████████████████                                                                                  | 4/8 [01:58<01:58, 29.67s/it]"
     ]
    },
    {
     "name": "stdout",
     "output_type": "stream",
     "text": [
      "EPOCH: 18 / 20 step: 4 / 8 | lm position loss: 0.005653320346027613  | weighted loss: 0.05653320346027613\n"
     ]
    },
    {
     "name": "stderr",
     "output_type": "stream",
     "text": [
      "\r",
      " 62%|██████████████████████████████████████████████████████████████████████████████████████████████████████▌                                                             | 5/8 [02:26<01:28, 29.38s/it]"
     ]
    },
    {
     "name": "stdout",
     "output_type": "stream",
     "text": [
      "EPOCH: 18 / 20 step: 5 / 8 | lm position loss: 0.005469924304634333  | weighted loss: 0.05469924304634333\n"
     ]
    },
    {
     "name": "stderr",
     "output_type": "stream",
     "text": [
      "\r",
      " 75%|███████████████████████████████████████████████████████████████████████████████████████████████████████████████████████████                                         | 6/8 [02:55<00:58, 29.15s/it]"
     ]
    },
    {
     "name": "stdout",
     "output_type": "stream",
     "text": [
      "EPOCH: 18 / 20 step: 6 / 8 | lm position loss: 0.005632502026855946  | weighted loss: 0.056325020268559456\n"
     ]
    },
    {
     "name": "stderr",
     "output_type": "stream",
     "text": [
      "\r",
      " 88%|███████████████████████████████████████████████████████████████████████████████████████████████████████████████████████████████████████████████▌                    | 7/8 [03:25<00:29, 29.32s/it]"
     ]
    },
    {
     "name": "stdout",
     "output_type": "stream",
     "text": [
      "EPOCH: 18 / 20 step: 7 / 8 | lm position loss: 0.005981683265417814  | weighted loss: 0.05981683265417814\n"
     ]
    },
    {
     "name": "stderr",
     "output_type": "stream",
     "text": [
      "100%|████████████████████████████████████████████████████████████████████████████████████████████████████████████████████████████████████████████████████████████████████| 8/8 [03:49<00:00, 28.69s/it]\n"
     ]
    },
    {
     "name": "stdout",
     "output_type": "stream",
     "text": [
      "EPOCH: 18 / 20 step: 8 / 8 | lm position loss: 0.005212018731981516  | weighted loss: 0.05212018731981516\n",
      "---End traing---\n",
      "---Start evaluation---\n"
     ]
    },
    {
     "name": "stderr",
     "output_type": "stream",
     "text": [
      "100%|████████████████████████████████████████████████████████████████████████████████████████████████████████████████████████████████████████████████████████████████████| 3/3 [01:00<00:00, 20.02s/it]\n"
     ]
    },
    {
     "name": "stdout",
     "output_type": "stream",
     "text": [
      "metrics/dist_part_0_L.Che 0.17794369042778213\n",
      "metrics/dist_part_1_R.Che 0.46284294717611607\n",
      "metrics/dist_part_2_Sho.A 0.25107901918900016\n",
      "metrics/dist_part_3_Sho.B 0.2945340119347431\n",
      "metrics/dist_part_4_Sho.C 0.3468115364325762\n",
      "metrics/dist_part_5_Sho.D 0.43244679800022356\n",
      "metrics/dist_part_6_Sho.E 0.4388880101318024\n",
      "metrics/dist_part_7_Arm.A 0.1992314026101266\n",
      "metrics/dist_part_8_Arm.B 0.17840466120922668\n",
      "metrics/dist_part_9_L.Wai 0.27317291557115553\n",
      "metrics/dist_part_10_R.Wai 0.3925633491376924\n",
      "metrics/dist_part_11_Arm.E 0.4060409590228356\n",
      "metrics/dist_all 0.32116327507027337\n",
      "EPOCH: 18 / 20 | lm distance: 0.32116327507027337\n",
      "---End evaluation---\n",
      "---Starting traing---\n"
     ]
    },
    {
     "name": "stderr",
     "output_type": "stream",
     "text": [
      " 12%|████████████████████▌                                                                                                                                               | 1/8 [00:29<03:27, 29.61s/it]"
     ]
    },
    {
     "name": "stdout",
     "output_type": "stream",
     "text": [
      "EPOCH: 19 / 20 step: 1 / 8 | lm position loss: 0.005512278992682695  | weighted loss: 0.055122789926826954\n"
     ]
    },
    {
     "name": "stderr",
     "output_type": "stream",
     "text": [
      "\r",
      " 25%|█████████████████████████████████████████                                                                                                                           | 2/8 [00:59<03:00, 30.00s/it]"
     ]
    },
    {
     "name": "stdout",
     "output_type": "stream",
     "text": [
      "EPOCH: 19 / 20 step: 2 / 8 | lm position loss: 0.006095544900745153  | weighted loss: 0.060955449007451534\n"
     ]
    },
    {
     "name": "stderr",
     "output_type": "stream",
     "text": [
      "\r",
      " 38%|█████████████████████████████████████████████████████████████▌                                                                                                      | 3/8 [01:29<02:28, 29.77s/it]"
     ]
    },
    {
     "name": "stdout",
     "output_type": "stream",
     "text": [
      "EPOCH: 19 / 20 step: 3 / 8 | lm position loss: 0.005458969622850418  | weighted loss: 0.05458969622850418\n"
     ]
    },
    {
     "name": "stderr",
     "output_type": "stream",
     "text": [
      "\r",
      " 50%|██████████████████████████████████████████████████████████████████████████████████                                                                                  | 4/8 [01:58<01:57, 29.42s/it]"
     ]
    },
    {
     "name": "stdout",
     "output_type": "stream",
     "text": [
      "EPOCH: 19 / 20 step: 4 / 8 | lm position loss: 0.005104356445372105  | weighted loss: 0.051043564453721046\n"
     ]
    },
    {
     "name": "stderr",
     "output_type": "stream",
     "text": [
      "\r",
      " 62%|██████████████████████████████████████████████████████████████████████████████████████████████████████▌                                                             | 5/8 [02:28<01:28, 29.59s/it]"
     ]
    },
    {
     "name": "stdout",
     "output_type": "stream",
     "text": [
      "EPOCH: 19 / 20 step: 5 / 8 | lm position loss: 0.005215754732489586  | weighted loss: 0.05215754732489586\n"
     ]
    },
    {
     "name": "stderr",
     "output_type": "stream",
     "text": [
      "\r",
      " 75%|███████████████████████████████████████████████████████████████████████████████████████████████████████████████████████████                                         | 6/8 [02:57<00:58, 29.35s/it]"
     ]
    },
    {
     "name": "stdout",
     "output_type": "stream",
     "text": [
      "EPOCH: 19 / 20 step: 6 / 8 | lm position loss: 0.005796253681182861  | weighted loss: 0.05796253681182861\n"
     ]
    },
    {
     "name": "stderr",
     "output_type": "stream",
     "text": [
      "\r",
      " 88%|███████████████████████████████████████████████████████████████████████████████████████████████████████████████████████████████████████████████▌                    | 7/8 [03:27<00:29, 29.59s/it]"
     ]
    },
    {
     "name": "stdout",
     "output_type": "stream",
     "text": [
      "EPOCH: 19 / 20 step: 7 / 8 | lm position loss: 0.005260915961116552  | weighted loss: 0.052609159611165524\n"
     ]
    },
    {
     "name": "stderr",
     "output_type": "stream",
     "text": [
      "100%|████████████████████████████████████████████████████████████████████████████████████████████████████████████████████████████████████████████████████████████████████| 8/8 [03:50<00:00, 28.82s/it]\n"
     ]
    },
    {
     "name": "stdout",
     "output_type": "stream",
     "text": [
      "EPOCH: 19 / 20 step: 8 / 8 | lm position loss: 0.0057573700323700905  | weighted loss: 0.057573700323700905\n",
      "---End traing---\n",
      "---Start evaluation---\n"
     ]
    },
    {
     "name": "stderr",
     "output_type": "stream",
     "text": [
      "100%|████████████████████████████████████████████████████████████████████████████████████████████████████████████████████████████████████████████████████████████████████| 3/3 [01:02<00:00, 20.78s/it]\n"
     ]
    },
    {
     "name": "stdout",
     "output_type": "stream",
     "text": [
      "metrics/dist_part_0_L.Che 0.17250310420305165\n",
      "metrics/dist_part_1_R.Che 0.4465699956345338\n",
      "metrics/dist_part_2_Sho.A 0.2434303002838766\n",
      "metrics/dist_part_3_Sho.B 0.28738132341478245\n",
      "metrics/dist_part_4_Sho.C 0.33402214057634283\n",
      "metrics/dist_part_5_Sho.D 0.4159674005777738\n",
      "metrics/dist_part_6_Sho.E 0.423095006407376\n",
      "metrics/dist_part_7_Arm.A 0.19381720731767546\n",
      "metrics/dist_part_8_Arm.B 0.17247722051842565\n",
      "metrics/dist_part_9_L.Wai 0.2637620050913626\n",
      "metrics/dist_part_10_R.Wai 0.37775232450052676\n",
      "metrics/dist_part_11_Arm.E 0.38972234796107014\n",
      "metrics/dist_all 0.3100416980405665\n",
      "EPOCH: 19 / 20 | lm distance: 0.3100416980405665\n",
      "---End evaluation---\n",
      "---Starting traing---\n"
     ]
    },
    {
     "name": "stderr",
     "output_type": "stream",
     "text": [
      " 12%|████████████████████▌                                                                                                                                               | 1/8 [00:30<03:30, 30.14s/it]"
     ]
    },
    {
     "name": "stdout",
     "output_type": "stream",
     "text": [
      "EPOCH: 20 / 20 step: 1 / 8 | lm position loss: 0.005152824334800243  | weighted loss: 0.051528243348002434\n"
     ]
    },
    {
     "name": "stderr",
     "output_type": "stream",
     "text": [
      "\r",
      " 25%|█████████████████████████████████████████                                                                                                                           | 2/8 [00:59<02:58, 29.74s/it]"
     ]
    },
    {
     "name": "stdout",
     "output_type": "stream",
     "text": [
      "EPOCH: 20 / 20 step: 2 / 8 | lm position loss: 0.005431755445897579  | weighted loss: 0.05431755445897579\n"
     ]
    },
    {
     "name": "stderr",
     "output_type": "stream",
     "text": [
      "\r",
      " 38%|█████████████████████████████████████████████████████████████▌                                                                                                      | 3/8 [01:29<02:29, 29.81s/it]"
     ]
    },
    {
     "name": "stdout",
     "output_type": "stream",
     "text": [
      "EPOCH: 20 / 20 step: 3 / 8 | lm position loss: 0.005365259014070034  | weighted loss: 0.05365259014070034\n"
     ]
    },
    {
     "name": "stderr",
     "output_type": "stream",
     "text": [
      "\r",
      " 50%|██████████████████████████████████████████████████████████████████████████████████                                                                                  | 4/8 [01:58<01:57, 29.44s/it]"
     ]
    },
    {
     "name": "stdout",
     "output_type": "stream",
     "text": [
      "EPOCH: 20 / 20 step: 4 / 8 | lm position loss: 0.00507219135761261  | weighted loss: 0.0507219135761261\n"
     ]
    },
    {
     "name": "stderr",
     "output_type": "stream",
     "text": [
      "\r",
      " 62%|██████████████████████████████████████████████████████████████████████████████████████████████████████▌                                                             | 5/8 [02:27<01:27, 29.31s/it]"
     ]
    },
    {
     "name": "stdout",
     "output_type": "stream",
     "text": [
      "EPOCH: 20 / 20 step: 5 / 8 | lm position loss: 0.005241073202341795  | weighted loss: 0.05241073202341795\n"
     ]
    },
    {
     "name": "stderr",
     "output_type": "stream",
     "text": [
      "\r",
      " 75%|███████████████████████████████████████████████████████████████████████████████████████████████████████████████████████████                                         | 6/8 [02:57<00:58, 29.44s/it]"
     ]
    },
    {
     "name": "stdout",
     "output_type": "stream",
     "text": [
      "EPOCH: 20 / 20 step: 6 / 8 | lm position loss: 0.0051938071846961975  | weighted loss: 0.051938071846961975\n"
     ]
    },
    {
     "name": "stderr",
     "output_type": "stream",
     "text": [
      "\r",
      " 88%|███████████████████████████████████████████████████████████████████████████████████████████████████████████████████████████████████████████████▌                    | 7/8 [03:27<00:29, 29.59s/it]"
     ]
    },
    {
     "name": "stdout",
     "output_type": "stream",
     "text": [
      "EPOCH: 20 / 20 step: 7 / 8 | lm position loss: 0.005128232762217522  | weighted loss: 0.05128232762217522\n"
     ]
    },
    {
     "name": "stderr",
     "output_type": "stream",
     "text": [
      "100%|████████████████████████████████████████████████████████████████████████████████████████████████████████████████████████████████████████████████████████████████████| 8/8 [03:50<00:00, 28.78s/it]\n"
     ]
    },
    {
     "name": "stdout",
     "output_type": "stream",
     "text": [
      "EPOCH: 20 / 20 step: 8 / 8 | lm position loss: 0.005462409928441048  | weighted loss: 0.05462409928441048\n",
      "---End traing---\n",
      "---Start evaluation---\n"
     ]
    },
    {
     "name": "stderr",
     "output_type": "stream",
     "text": [
      "100%|████████████████████████████████████████████████████████████████████████████████████████████████████████████████████████████████████████████████████████████████████| 3/3 [01:01<00:00, 20.65s/it]\n"
     ]
    },
    {
     "name": "stdout",
     "output_type": "stream",
     "text": [
      "metrics/dist_part_0_L.Che 0.1675752511507446\n",
      "metrics/dist_part_1_R.Che 0.4292791023408407\n",
      "metrics/dist_part_2_Sho.A 0.23644776755278843\n",
      "metrics/dist_part_3_Sho.B 0.2796402296954045\n",
      "metrics/dist_part_4_Sho.C 0.32242512787240346\n",
      "metrics/dist_part_5_Sho.D 0.4011625975509524\n",
      "metrics/dist_part_6_Sho.E 0.40802301035770017\n",
      "metrics/dist_part_7_Arm.A 0.18914571735951724\n",
      "metrics/dist_part_8_Arm.B 0.16727081974096045\n",
      "metrics/dist_part_9_L.Wai 0.2549478820337722\n",
      "metrics/dist_part_10_R.Wai 0.3638452262680232\n",
      "metrics/dist_part_11_Arm.E 0.37480952469328555\n",
      "metrics/dist_all 0.29954768805136606\n",
      "EPOCH: 20 / 20 | lm distance: 0.29954768805136606\n",
      "---End evaluation---\n",
      "Building model\n",
      "Loading model...\n",
      "Number of out channels 12\n",
      "training set 78\n",
      "val set 21\n",
      "LM_branch.stage5.0.branches.0.0.conv1.weight\n",
      "921 LM_branch.stage5.0.branches.0.0.conv1.weight\n",
      "LM_branch.stage5.0.branches.0.0.bn1.weight\n",
      "922 LM_branch.stage5.0.branches.0.0.bn1.weight\n",
      "923 LM_branch.stage5.0.branches.0.0.bn1.bias\n",
      "LM_branch.stage5.0.branches.0.0.conv2.weight\n",
      "924 LM_branch.stage5.0.branches.0.0.conv2.weight\n",
      "LM_branch.stage5.0.branches.0.0.bn2.weight\n",
      "925 LM_branch.stage5.0.branches.0.0.bn2.weight\n",
      "926 LM_branch.stage5.0.branches.0.0.bn2.bias\n",
      "LM_branch.stage5.0.branches.0.1.conv1.weight\n",
      "927 LM_branch.stage5.0.branches.0.1.conv1.weight\n",
      "LM_branch.stage5.0.branches.0.1.bn1.weight\n",
      "928 LM_branch.stage5.0.branches.0.1.bn1.weight\n",
      "929 LM_branch.stage5.0.branches.0.1.bn1.bias\n",
      "LM_branch.stage5.0.branches.0.1.conv2.weight\n",
      "930 LM_branch.stage5.0.branches.0.1.conv2.weight\n",
      "LM_branch.stage5.0.branches.0.1.bn2.weight\n",
      "931 LM_branch.stage5.0.branches.0.1.bn2.weight\n",
      "932 LM_branch.stage5.0.branches.0.1.bn2.bias\n",
      "LM_branch.stage5.0.branches.0.2.conv1.weight\n",
      "933 LM_branch.stage5.0.branches.0.2.conv1.weight\n",
      "LM_branch.stage5.0.branches.0.2.bn1.weight\n",
      "934 LM_branch.stage5.0.branches.0.2.bn1.weight\n",
      "935 LM_branch.stage5.0.branches.0.2.bn1.bias\n",
      "LM_branch.stage5.0.branches.0.2.conv2.weight\n",
      "936 LM_branch.stage5.0.branches.0.2.conv2.weight\n",
      "LM_branch.stage5.0.branches.0.2.bn2.weight\n",
      "937 LM_branch.stage5.0.branches.0.2.bn2.weight\n",
      "938 LM_branch.stage5.0.branches.0.2.bn2.bias\n",
      "LM_branch.stage5.0.branches.0.3.conv1.weight\n",
      "939 LM_branch.stage5.0.branches.0.3.conv1.weight\n",
      "LM_branch.stage5.0.branches.0.3.bn1.weight\n",
      "940 LM_branch.stage5.0.branches.0.3.bn1.weight\n",
      "941 LM_branch.stage5.0.branches.0.3.bn1.bias\n",
      "LM_branch.stage5.0.branches.0.3.conv2.weight\n",
      "942 LM_branch.stage5.0.branches.0.3.conv2.weight\n",
      "LM_branch.stage5.0.branches.0.3.bn2.weight\n",
      "943 LM_branch.stage5.0.branches.0.3.bn2.weight\n",
      "944 LM_branch.stage5.0.branches.0.3.bn2.bias\n",
      "LM_branch.stage5.0.branches.1.0.conv1.weight\n",
      "945 LM_branch.stage5.0.branches.1.0.conv1.weight\n",
      "LM_branch.stage5.0.branches.1.0.bn1.weight\n",
      "946 LM_branch.stage5.0.branches.1.0.bn1.weight\n",
      "947 LM_branch.stage5.0.branches.1.0.bn1.bias\n",
      "LM_branch.stage5.0.branches.1.0.conv2.weight\n",
      "948 LM_branch.stage5.0.branches.1.0.conv2.weight\n",
      "LM_branch.stage5.0.branches.1.0.bn2.weight\n",
      "949 LM_branch.stage5.0.branches.1.0.bn2.weight\n",
      "950 LM_branch.stage5.0.branches.1.0.bn2.bias\n",
      "LM_branch.stage5.0.branches.1.1.conv1.weight\n",
      "951 LM_branch.stage5.0.branches.1.1.conv1.weight\n",
      "LM_branch.stage5.0.branches.1.1.bn1.weight\n",
      "952 LM_branch.stage5.0.branches.1.1.bn1.weight\n",
      "953 LM_branch.stage5.0.branches.1.1.bn1.bias\n",
      "LM_branch.stage5.0.branches.1.1.conv2.weight\n",
      "954 LM_branch.stage5.0.branches.1.1.conv2.weight\n",
      "LM_branch.stage5.0.branches.1.1.bn2.weight\n",
      "955 LM_branch.stage5.0.branches.1.1.bn2.weight\n",
      "956 LM_branch.stage5.0.branches.1.1.bn2.bias\n",
      "LM_branch.stage5.0.branches.1.2.conv1.weight\n",
      "957 LM_branch.stage5.0.branches.1.2.conv1.weight\n",
      "LM_branch.stage5.0.branches.1.2.bn1.weight\n",
      "958 LM_branch.stage5.0.branches.1.2.bn1.weight\n",
      "959 LM_branch.stage5.0.branches.1.2.bn1.bias\n",
      "LM_branch.stage5.0.branches.1.2.conv2.weight\n",
      "960 LM_branch.stage5.0.branches.1.2.conv2.weight\n",
      "LM_branch.stage5.0.branches.1.2.bn2.weight\n",
      "961 LM_branch.stage5.0.branches.1.2.bn2.weight\n",
      "962 LM_branch.stage5.0.branches.1.2.bn2.bias\n",
      "LM_branch.stage5.0.branches.1.3.conv1.weight\n",
      "963 LM_branch.stage5.0.branches.1.3.conv1.weight\n",
      "LM_branch.stage5.0.branches.1.3.bn1.weight\n",
      "964 LM_branch.stage5.0.branches.1.3.bn1.weight\n",
      "965 LM_branch.stage5.0.branches.1.3.bn1.bias\n",
      "LM_branch.stage5.0.branches.1.3.conv2.weight\n",
      "966 LM_branch.stage5.0.branches.1.3.conv2.weight\n",
      "LM_branch.stage5.0.branches.1.3.bn2.weight\n",
      "967 LM_branch.stage5.0.branches.1.3.bn2.weight\n",
      "968 LM_branch.stage5.0.branches.1.3.bn2.bias\n",
      "LM_branch.stage5.0.branches.2.0.conv1.weight\n",
      "969 LM_branch.stage5.0.branches.2.0.conv1.weight\n",
      "LM_branch.stage5.0.branches.2.0.bn1.weight\n",
      "970 LM_branch.stage5.0.branches.2.0.bn1.weight\n",
      "971 LM_branch.stage5.0.branches.2.0.bn1.bias\n",
      "LM_branch.stage5.0.branches.2.0.conv2.weight\n",
      "972 LM_branch.stage5.0.branches.2.0.conv2.weight\n",
      "LM_branch.stage5.0.branches.2.0.bn2.weight\n",
      "973 LM_branch.stage5.0.branches.2.0.bn2.weight\n",
      "974 LM_branch.stage5.0.branches.2.0.bn2.bias\n",
      "LM_branch.stage5.0.branches.2.1.conv1.weight\n",
      "975 LM_branch.stage5.0.branches.2.1.conv1.weight\n",
      "LM_branch.stage5.0.branches.2.1.bn1.weight\n",
      "976 LM_branch.stage5.0.branches.2.1.bn1.weight\n",
      "977 LM_branch.stage5.0.branches.2.1.bn1.bias\n",
      "LM_branch.stage5.0.branches.2.1.conv2.weight\n",
      "978 LM_branch.stage5.0.branches.2.1.conv2.weight\n",
      "LM_branch.stage5.0.branches.2.1.bn2.weight\n",
      "979 LM_branch.stage5.0.branches.2.1.bn2.weight\n",
      "980 LM_branch.stage5.0.branches.2.1.bn2.bias\n",
      "LM_branch.stage5.0.branches.2.2.conv1.weight\n",
      "981 LM_branch.stage5.0.branches.2.2.conv1.weight\n",
      "LM_branch.stage5.0.branches.2.2.bn1.weight\n",
      "982 LM_branch.stage5.0.branches.2.2.bn1.weight\n",
      "983 LM_branch.stage5.0.branches.2.2.bn1.bias\n",
      "LM_branch.stage5.0.branches.2.2.conv2.weight\n",
      "984 LM_branch.stage5.0.branches.2.2.conv2.weight\n",
      "LM_branch.stage5.0.branches.2.2.bn2.weight\n",
      "985 LM_branch.stage5.0.branches.2.2.bn2.weight\n",
      "986 LM_branch.stage5.0.branches.2.2.bn2.bias\n",
      "LM_branch.stage5.0.branches.2.3.conv1.weight\n",
      "987 LM_branch.stage5.0.branches.2.3.conv1.weight\n",
      "LM_branch.stage5.0.branches.2.3.bn1.weight\n",
      "988 LM_branch.stage5.0.branches.2.3.bn1.weight\n",
      "989 LM_branch.stage5.0.branches.2.3.bn1.bias\n",
      "LM_branch.stage5.0.branches.2.3.conv2.weight\n",
      "990 LM_branch.stage5.0.branches.2.3.conv2.weight\n",
      "LM_branch.stage5.0.branches.2.3.bn2.weight\n",
      "991 LM_branch.stage5.0.branches.2.3.bn2.weight\n",
      "992 LM_branch.stage5.0.branches.2.3.bn2.bias\n",
      "LM_branch.stage5.0.branches.3.0.conv1.weight\n",
      "993 LM_branch.stage5.0.branches.3.0.conv1.weight\n",
      "LM_branch.stage5.0.branches.3.0.bn1.weight\n",
      "994 LM_branch.stage5.0.branches.3.0.bn1.weight\n",
      "995 LM_branch.stage5.0.branches.3.0.bn1.bias\n",
      "LM_branch.stage5.0.branches.3.0.conv2.weight\n",
      "996 LM_branch.stage5.0.branches.3.0.conv2.weight\n",
      "LM_branch.stage5.0.branches.3.0.bn2.weight\n",
      "997 LM_branch.stage5.0.branches.3.0.bn2.weight\n",
      "998 LM_branch.stage5.0.branches.3.0.bn2.bias\n",
      "LM_branch.stage5.0.branches.3.1.conv1.weight\n",
      "999 LM_branch.stage5.0.branches.3.1.conv1.weight\n",
      "LM_branch.stage5.0.branches.3.1.bn1.weight\n",
      "1000 LM_branch.stage5.0.branches.3.1.bn1.weight\n",
      "1001 LM_branch.stage5.0.branches.3.1.bn1.bias\n",
      "LM_branch.stage5.0.branches.3.1.conv2.weight\n",
      "1002 LM_branch.stage5.0.branches.3.1.conv2.weight\n",
      "LM_branch.stage5.0.branches.3.1.bn2.weight\n",
      "1003 LM_branch.stage5.0.branches.3.1.bn2.weight\n",
      "1004 LM_branch.stage5.0.branches.3.1.bn2.bias\n",
      "LM_branch.stage5.0.branches.3.2.conv1.weight\n",
      "1005 LM_branch.stage5.0.branches.3.2.conv1.weight\n",
      "LM_branch.stage5.0.branches.3.2.bn1.weight\n",
      "1006 LM_branch.stage5.0.branches.3.2.bn1.weight\n",
      "1007 LM_branch.stage5.0.branches.3.2.bn1.bias\n",
      "LM_branch.stage5.0.branches.3.2.conv2.weight\n",
      "1008 LM_branch.stage5.0.branches.3.2.conv2.weight\n",
      "LM_branch.stage5.0.branches.3.2.bn2.weight\n",
      "1009 LM_branch.stage5.0.branches.3.2.bn2.weight\n",
      "1010 LM_branch.stage5.0.branches.3.2.bn2.bias\n",
      "LM_branch.stage5.0.branches.3.3.conv1.weight\n",
      "1011 LM_branch.stage5.0.branches.3.3.conv1.weight\n",
      "LM_branch.stage5.0.branches.3.3.bn1.weight\n",
      "1012 LM_branch.stage5.0.branches.3.3.bn1.weight\n",
      "1013 LM_branch.stage5.0.branches.3.3.bn1.bias\n",
      "LM_branch.stage5.0.branches.3.3.conv2.weight\n",
      "1014 LM_branch.stage5.0.branches.3.3.conv2.weight\n",
      "LM_branch.stage5.0.branches.3.3.bn2.weight\n",
      "1015 LM_branch.stage5.0.branches.3.3.bn2.weight\n",
      "1016 LM_branch.stage5.0.branches.3.3.bn2.bias\n",
      "LM_branch.stage5.0.fuse_layers.0.1.0.weight\n",
      "1017 LM_branch.stage5.0.fuse_layers.0.1.0.weight\n",
      "LM_branch.stage5.0.fuse_layers.0.1.1.weight\n",
      "1018 LM_branch.stage5.0.fuse_layers.0.1.1.weight\n",
      "1019 LM_branch.stage5.0.fuse_layers.0.1.1.bias\n",
      "LM_branch.stage5.0.fuse_layers.0.2.0.weight\n",
      "1020 LM_branch.stage5.0.fuse_layers.0.2.0.weight\n",
      "LM_branch.stage5.0.fuse_layers.0.2.1.weight\n",
      "1021 LM_branch.stage5.0.fuse_layers.0.2.1.weight\n",
      "1022 LM_branch.stage5.0.fuse_layers.0.2.1.bias\n",
      "LM_branch.stage5.0.fuse_layers.0.3.0.weight\n",
      "1023 LM_branch.stage5.0.fuse_layers.0.3.0.weight\n",
      "LM_branch.stage5.0.fuse_layers.0.3.1.weight\n",
      "1024 LM_branch.stage5.0.fuse_layers.0.3.1.weight\n",
      "1025 LM_branch.stage5.0.fuse_layers.0.3.1.bias\n",
      "LM_branch.stage5.0.fuse_layers.1.0.0.0.weight\n",
      "1026 LM_branch.stage5.0.fuse_layers.1.0.0.0.weight\n",
      "LM_branch.stage5.0.fuse_layers.1.0.0.1.weight\n",
      "1027 LM_branch.stage5.0.fuse_layers.1.0.0.1.weight\n",
      "1028 LM_branch.stage5.0.fuse_layers.1.0.0.1.bias\n",
      "LM_branch.stage5.0.fuse_layers.1.2.0.weight\n",
      "1029 LM_branch.stage5.0.fuse_layers.1.2.0.weight\n",
      "LM_branch.stage5.0.fuse_layers.1.2.1.weight\n",
      "1030 LM_branch.stage5.0.fuse_layers.1.2.1.weight\n",
      "1031 LM_branch.stage5.0.fuse_layers.1.2.1.bias\n",
      "LM_branch.stage5.0.fuse_layers.1.3.0.weight\n",
      "1032 LM_branch.stage5.0.fuse_layers.1.3.0.weight\n",
      "LM_branch.stage5.0.fuse_layers.1.3.1.weight\n",
      "1033 LM_branch.stage5.0.fuse_layers.1.3.1.weight\n",
      "1034 LM_branch.stage5.0.fuse_layers.1.3.1.bias\n",
      "LM_branch.stage5.0.fuse_layers.2.0.0.0.weight\n",
      "1035 LM_branch.stage5.0.fuse_layers.2.0.0.0.weight\n",
      "LM_branch.stage5.0.fuse_layers.2.0.0.1.weight\n",
      "1036 LM_branch.stage5.0.fuse_layers.2.0.0.1.weight\n",
      "1037 LM_branch.stage5.0.fuse_layers.2.0.0.1.bias\n",
      "LM_branch.stage5.0.fuse_layers.2.0.1.0.weight\n",
      "1038 LM_branch.stage5.0.fuse_layers.2.0.1.0.weight\n",
      "LM_branch.stage5.0.fuse_layers.2.0.1.1.weight\n",
      "1039 LM_branch.stage5.0.fuse_layers.2.0.1.1.weight\n",
      "1040 LM_branch.stage5.0.fuse_layers.2.0.1.1.bias\n",
      "LM_branch.stage5.0.fuse_layers.2.1.0.0.weight\n",
      "1041 LM_branch.stage5.0.fuse_layers.2.1.0.0.weight\n",
      "LM_branch.stage5.0.fuse_layers.2.1.0.1.weight\n",
      "1042 LM_branch.stage5.0.fuse_layers.2.1.0.1.weight\n",
      "1043 LM_branch.stage5.0.fuse_layers.2.1.0.1.bias\n",
      "LM_branch.stage5.0.fuse_layers.2.3.0.weight\n",
      "1044 LM_branch.stage5.0.fuse_layers.2.3.0.weight\n",
      "LM_branch.stage5.0.fuse_layers.2.3.1.weight\n",
      "1045 LM_branch.stage5.0.fuse_layers.2.3.1.weight\n",
      "1046 LM_branch.stage5.0.fuse_layers.2.3.1.bias\n",
      "LM_branch.stage5.0.fuse_layers.3.0.0.0.weight\n",
      "1047 LM_branch.stage5.0.fuse_layers.3.0.0.0.weight\n",
      "LM_branch.stage5.0.fuse_layers.3.0.0.1.weight\n",
      "1048 LM_branch.stage5.0.fuse_layers.3.0.0.1.weight\n",
      "1049 LM_branch.stage5.0.fuse_layers.3.0.0.1.bias\n",
      "LM_branch.stage5.0.fuse_layers.3.0.1.0.weight\n",
      "1050 LM_branch.stage5.0.fuse_layers.3.0.1.0.weight\n",
      "LM_branch.stage5.0.fuse_layers.3.0.1.1.weight\n",
      "1051 LM_branch.stage5.0.fuse_layers.3.0.1.1.weight\n",
      "1052 LM_branch.stage5.0.fuse_layers.3.0.1.1.bias\n",
      "LM_branch.stage5.0.fuse_layers.3.0.2.0.weight\n",
      "1053 LM_branch.stage5.0.fuse_layers.3.0.2.0.weight\n",
      "LM_branch.stage5.0.fuse_layers.3.0.2.1.weight\n",
      "1054 LM_branch.stage5.0.fuse_layers.3.0.2.1.weight\n",
      "1055 LM_branch.stage5.0.fuse_layers.3.0.2.1.bias\n",
      "LM_branch.stage5.0.fuse_layers.3.1.0.0.weight\n",
      "1056 LM_branch.stage5.0.fuse_layers.3.1.0.0.weight\n",
      "LM_branch.stage5.0.fuse_layers.3.1.0.1.weight\n",
      "1057 LM_branch.stage5.0.fuse_layers.3.1.0.1.weight\n",
      "1058 LM_branch.stage5.0.fuse_layers.3.1.0.1.bias\n",
      "LM_branch.stage5.0.fuse_layers.3.1.1.0.weight\n",
      "1059 LM_branch.stage5.0.fuse_layers.3.1.1.0.weight\n",
      "LM_branch.stage5.0.fuse_layers.3.1.1.1.weight\n",
      "1060 LM_branch.stage5.0.fuse_layers.3.1.1.1.weight\n",
      "1061 LM_branch.stage5.0.fuse_layers.3.1.1.1.bias\n",
      "LM_branch.stage5.0.fuse_layers.3.2.0.0.weight\n",
      "1062 LM_branch.stage5.0.fuse_layers.3.2.0.0.weight\n",
      "LM_branch.stage5.0.fuse_layers.3.2.0.1.weight\n",
      "1063 LM_branch.stage5.0.fuse_layers.3.2.0.1.weight\n",
      "1064 LM_branch.stage5.0.fuse_layers.3.2.0.1.bias\n",
      "LM_branch.last_layer_landmark.0.weight\n",
      "1065 LM_branch.last_layer_landmark.0.weight\n",
      "1066 LM_branch.last_layer_landmark.0.bias\n",
      "LM_branch.last_layer_landmark.1.weight\n",
      "1067 LM_branch.last_layer_landmark.1.weight\n",
      "1068 LM_branch.last_layer_landmark.1.bias\n",
      "LM_branch.last_layer_landmark.3.weight\n",
      "1069 LM_branch.last_layer_landmark.3.weight\n",
      "1070 LM_branch.last_layer_landmark.3.bias\n",
      "---Starting traing---\n"
     ]
    },
    {
     "name": "stderr",
     "output_type": "stream",
     "text": [
      " 12%|████████████████████▌                                                                                                                                               | 1/8 [00:31<03:43, 31.92s/it]"
     ]
    },
    {
     "name": "stdout",
     "output_type": "stream",
     "text": [
      "EPOCH: 1 / 20 step: 1 / 8 | lm position loss: 27769.056640625  | weighted loss: 277690.56640625\n"
     ]
    },
    {
     "name": "stderr",
     "output_type": "stream",
     "text": [
      "\r",
      " 25%|█████████████████████████████████████████                                                                                                                           | 2/8 [01:01<03:02, 30.35s/it]"
     ]
    },
    {
     "name": "stdout",
     "output_type": "stream",
     "text": [
      "EPOCH: 1 / 20 step: 2 / 8 | lm position loss: 22743.51953125  | weighted loss: 227435.1953125\n"
     ]
    },
    {
     "name": "stderr",
     "output_type": "stream",
     "text": [
      "\r",
      " 38%|█████████████████████████████████████████████████████████████▌                                                                                                      | 3/8 [01:30<02:28, 29.77s/it]"
     ]
    },
    {
     "name": "stdout",
     "output_type": "stream",
     "text": [
      "EPOCH: 1 / 20 step: 3 / 8 | lm position loss: 18504.146484375  | weighted loss: 185041.46484375\n"
     ]
    },
    {
     "name": "stderr",
     "output_type": "stream",
     "text": [
      "\r",
      " 50%|██████████████████████████████████████████████████████████████████████████████████                                                                                  | 4/8 [02:00<01:59, 29.89s/it]"
     ]
    },
    {
     "name": "stdout",
     "output_type": "stream",
     "text": [
      "EPOCH: 1 / 20 step: 4 / 8 | lm position loss: 12769.384765625  | weighted loss: 127693.84765625\n"
     ]
    },
    {
     "name": "stderr",
     "output_type": "stream",
     "text": [
      "\r",
      " 62%|██████████████████████████████████████████████████████████████████████████████████████████████████████▌                                                             | 5/8 [02:30<01:29, 29.96s/it]"
     ]
    },
    {
     "name": "stdout",
     "output_type": "stream",
     "text": [
      "EPOCH: 1 / 20 step: 5 / 8 | lm position loss: 10733.0771484375  | weighted loss: 107330.771484375\n"
     ]
    },
    {
     "name": "stderr",
     "output_type": "stream",
     "text": [
      "\r",
      " 75%|███████████████████████████████████████████████████████████████████████████████████████████████████████████████████████████                                         | 6/8 [02:59<00:59, 29.60s/it]"
     ]
    },
    {
     "name": "stdout",
     "output_type": "stream",
     "text": [
      "EPOCH: 1 / 20 step: 6 / 8 | lm position loss: 8295.0791015625  | weighted loss: 82950.791015625\n"
     ]
    },
    {
     "name": "stderr",
     "output_type": "stream",
     "text": [
      "\r",
      " 88%|███████████████████████████████████████████████████████████████████████████████████████████████████████████████████████████████████████████████▌                    | 7/8 [03:28<00:29, 29.43s/it]"
     ]
    },
    {
     "name": "stdout",
     "output_type": "stream",
     "text": [
      "EPOCH: 1 / 20 step: 7 / 8 | lm position loss: 6288.67333984375  | weighted loss: 62886.7333984375\n"
     ]
    },
    {
     "name": "stderr",
     "output_type": "stream",
     "text": [
      "100%|████████████████████████████████████████████████████████████████████████████████████████████████████████████████████████████████████████████████████████████████████| 8/8 [03:51<00:00, 28.95s/it]\n"
     ]
    },
    {
     "name": "stdout",
     "output_type": "stream",
     "text": [
      "EPOCH: 1 / 20 step: 8 / 8 | lm position loss: 4947.44677734375  | weighted loss: 49474.4677734375\n",
      "---End traing---\n",
      "---Start evaluation---\n"
     ]
    },
    {
     "name": "stderr",
     "output_type": "stream",
     "text": [
      "100%|████████████████████████████████████████████████████████████████████████████████████████████████████████████████████████████████████████████████████████████████████| 3/3 [01:03<00:00, 21.16s/it]\n"
     ]
    },
    {
     "name": "stdout",
     "output_type": "stream",
     "text": [
      "metrics/dist_part_0_L.Che 0.35405898530138896\n",
      "metrics/dist_part_1_R.Che 0.7463720839729071\n",
      "metrics/dist_part_2_Sho.A 0.27566833831129295\n",
      "metrics/dist_part_3_Sho.B 0.38038496349680107\n",
      "metrics/dist_part_4_Sho.C 0.5083782082395933\n",
      "metrics/dist_part_5_Sho.D 0.6519334753888648\n",
      "metrics/dist_part_6_Sho.E 0.7675549984207027\n",
      "metrics/dist_part_7_Arm.A 0.3162277811648753\n",
      "metrics/dist_part_8_Arm.B 0.406457443946818\n",
      "metrics/dist_part_9_L.Wai 0.5401301653920152\n",
      "metrics/dist_part_10_R.Wai 0.820559873606866\n",
      "metrics/dist_part_11_Arm.E 1.0235595382024156\n",
      "metrics/dist_all 0.5659404879537118\n",
      "EPOCH: 1 / 20 | lm distance: 0.5659404879537118\n",
      "---End evaluation---\n",
      "---Starting traing---\n"
     ]
    },
    {
     "name": "stderr",
     "output_type": "stream",
     "text": [
      " 12%|████████████████████▌                                                                                                                                               | 1/8 [00:28<03:22, 28.97s/it]"
     ]
    },
    {
     "name": "stdout",
     "output_type": "stream",
     "text": [
      "EPOCH: 2 / 20 step: 1 / 8 | lm position loss: 3788.47021484375  | weighted loss: 37884.7021484375\n"
     ]
    },
    {
     "name": "stderr",
     "output_type": "stream",
     "text": [
      "\r",
      " 25%|█████████████████████████████████████████                                                                                                                           | 2/8 [00:58<02:54, 29.05s/it]"
     ]
    },
    {
     "name": "stdout",
     "output_type": "stream",
     "text": [
      "EPOCH: 2 / 20 step: 2 / 8 | lm position loss: 3077.152099609375  | weighted loss: 30771.52099609375\n"
     ]
    },
    {
     "name": "stderr",
     "output_type": "stream",
     "text": [
      "\r",
      " 38%|█████████████████████████████████████████████████████████████▌                                                                                                      | 3/8 [01:28<02:28, 29.71s/it]"
     ]
    },
    {
     "name": "stdout",
     "output_type": "stream",
     "text": [
      "EPOCH: 2 / 20 step: 3 / 8 | lm position loss: 1858.478271484375  | weighted loss: 18584.78271484375\n"
     ]
    },
    {
     "name": "stderr",
     "output_type": "stream",
     "text": [
      "\r",
      " 50%|██████████████████████████████████████████████████████████████████████████████████                                                                                  | 4/8 [01:57<01:58, 29.54s/it]"
     ]
    },
    {
     "name": "stdout",
     "output_type": "stream",
     "text": [
      "EPOCH: 2 / 20 step: 4 / 8 | lm position loss: 961.8875732421875  | weighted loss: 9618.875732421875\n"
     ]
    },
    {
     "name": "stderr",
     "output_type": "stream",
     "text": [
      "\r",
      " 62%|██████████████████████████████████████████████████████████████████████████████████████████████████████▌                                                             | 5/8 [02:26<01:27, 29.31s/it]"
     ]
    },
    {
     "name": "stdout",
     "output_type": "stream",
     "text": [
      "EPOCH: 2 / 20 step: 5 / 8 | lm position loss: 1069.845703125  | weighted loss: 10698.45703125\n"
     ]
    },
    {
     "name": "stderr",
     "output_type": "stream",
     "text": [
      "\r",
      " 75%|███████████████████████████████████████████████████████████████████████████████████████████████████████████████████████████                                         | 6/8 [02:56<00:58, 29.49s/it]"
     ]
    },
    {
     "name": "stdout",
     "output_type": "stream",
     "text": [
      "EPOCH: 2 / 20 step: 6 / 8 | lm position loss: 641.0574340820312  | weighted loss: 6410.5743408203125\n"
     ]
    },
    {
     "name": "stderr",
     "output_type": "stream",
     "text": [
      "\r",
      " 88%|███████████████████████████████████████████████████████████████████████████████████████████████████████████████████████████████████████████████▌                    | 7/8 [03:26<00:29, 29.63s/it]"
     ]
    },
    {
     "name": "stdout",
     "output_type": "stream",
     "text": [
      "EPOCH: 2 / 20 step: 7 / 8 | lm position loss: 517.0328369140625  | weighted loss: 5170.328369140625\n"
     ]
    },
    {
     "name": "stderr",
     "output_type": "stream",
     "text": [
      "100%|████████████████████████████████████████████████████████████████████████████████████████████████████████████████████████████████████████████████████████████████████| 8/8 [03:51<00:00, 28.89s/it]\n"
     ]
    },
    {
     "name": "stdout",
     "output_type": "stream",
     "text": [
      "EPOCH: 2 / 20 step: 8 / 8 | lm position loss: 294.3076171875  | weighted loss: 2943.076171875\n",
      "---End traing---\n",
      "---Start evaluation---\n"
     ]
    },
    {
     "name": "stderr",
     "output_type": "stream",
     "text": [
      "100%|████████████████████████████████████████████████████████████████████████████████████████████████████████████████████████████████████████████████████████████████████| 3/3 [01:00<00:00, 20.16s/it]\n"
     ]
    },
    {
     "name": "stdout",
     "output_type": "stream",
     "text": [
      "metrics/dist_part_0_L.Che 0.3540589853013889\n",
      "metrics/dist_part_1_R.Che 0.7463720839729071\n",
      "metrics/dist_part_2_Sho.A 0.27566833831129295\n",
      "metrics/dist_part_3_Sho.B 0.380384963496801\n",
      "metrics/dist_part_4_Sho.C 0.5083782082395933\n",
      "metrics/dist_part_5_Sho.D 0.6519334753888648\n",
      "metrics/dist_part_6_Sho.E 0.7675549984207027\n",
      "metrics/dist_part_7_Arm.A 0.3162277811648753\n",
      "metrics/dist_part_8_Arm.B 0.406457443946818\n",
      "metrics/dist_part_9_L.Wai 0.5401301653920152\n",
      "metrics/dist_part_10_R.Wai 0.8205598736068658\n",
      "metrics/dist_part_11_Arm.E 1.0235595382024159\n",
      "metrics/dist_all 0.5659404879537118\n",
      "EPOCH: 2 / 20 | lm distance: 0.5659404879537118\n",
      "---End evaluation---\n",
      "---Starting traing---\n"
     ]
    },
    {
     "name": "stderr",
     "output_type": "stream",
     "text": [
      " 12%|████████████████████▌                                                                                                                                               | 1/8 [00:29<03:24, 29.19s/it]"
     ]
    },
    {
     "name": "stdout",
     "output_type": "stream",
     "text": [
      "EPOCH: 3 / 20 step: 1 / 8 | lm position loss: 244.206298828125  | weighted loss: 2442.06298828125\n"
     ]
    },
    {
     "name": "stderr",
     "output_type": "stream",
     "text": [
      "\r",
      " 25%|█████████████████████████████████████████                                                                                                                           | 2/8 [01:00<03:03, 30.54s/it]"
     ]
    },
    {
     "name": "stdout",
     "output_type": "stream",
     "text": [
      "EPOCH: 3 / 20 step: 2 / 8 | lm position loss: 136.11395263671875  | weighted loss: 1361.1395263671875\n"
     ]
    },
    {
     "name": "stderr",
     "output_type": "stream",
     "text": [
      "\r",
      " 38%|█████████████████████████████████████████████████████████████▌                                                                                                      | 3/8 [01:29<02:29, 29.96s/it]"
     ]
    },
    {
     "name": "stdout",
     "output_type": "stream",
     "text": [
      "EPOCH: 3 / 20 step: 3 / 8 | lm position loss: 111.83802032470703  | weighted loss: 1118.3802032470703\n"
     ]
    },
    {
     "name": "stderr",
     "output_type": "stream",
     "text": [
      "\r",
      " 50%|██████████████████████████████████████████████████████████████████████████████████                                                                                  | 4/8 [01:59<01:58, 29.61s/it]"
     ]
    },
    {
     "name": "stdout",
     "output_type": "stream",
     "text": [
      "EPOCH: 3 / 20 step: 4 / 8 | lm position loss: 69.43218994140625  | weighted loss: 694.3218994140625\n"
     ]
    },
    {
     "name": "stderr",
     "output_type": "stream",
     "text": [
      "\r",
      " 62%|██████████████████████████████████████████████████████████████████████████████████████████████████████▌                                                             | 5/8 [02:28<01:28, 29.42s/it]"
     ]
    },
    {
     "name": "stdout",
     "output_type": "stream",
     "text": [
      "EPOCH: 3 / 20 step: 5 / 8 | lm position loss: 29.861379623413086  | weighted loss: 298.61379623413086\n"
     ]
    },
    {
     "name": "stderr",
     "output_type": "stream",
     "text": [
      "\r",
      " 75%|███████████████████████████████████████████████████████████████████████████████████████████████████████████████████████████                                         | 6/8 [02:58<00:59, 29.92s/it]"
     ]
    },
    {
     "name": "stdout",
     "output_type": "stream",
     "text": [
      "EPOCH: 3 / 20 step: 6 / 8 | lm position loss: 12.743680000305176  | weighted loss: 127.43680000305176\n"
     ]
    },
    {
     "name": "stderr",
     "output_type": "stream",
     "text": [
      "\r",
      " 88%|███████████████████████████████████████████████████████████████████████████████████████████████████████████████████████████████████████████████▌                    | 7/8 [03:28<00:29, 29.84s/it]"
     ]
    },
    {
     "name": "stdout",
     "output_type": "stream",
     "text": [
      "EPOCH: 3 / 20 step: 7 / 8 | lm position loss: 4.198502063751221  | weighted loss: 41.98502063751221\n"
     ]
    },
    {
     "name": "stderr",
     "output_type": "stream",
     "text": [
      "100%|████████████████████████████████████████████████████████████████████████████████████████████████████████████████████████████████████████████████████████████████████| 8/8 [03:53<00:00, 29.19s/it]\n"
     ]
    },
    {
     "name": "stdout",
     "output_type": "stream",
     "text": [
      "EPOCH: 3 / 20 step: 8 / 8 | lm position loss: 0.41498419642448425  | weighted loss: 4.1498419642448425\n",
      "---End traing---\n",
      "---Start evaluation---\n"
     ]
    },
    {
     "name": "stderr",
     "output_type": "stream",
     "text": [
      "100%|████████████████████████████████████████████████████████████████████████████████████████████████████████████████████████████████████████████████████████████████████| 3/3 [01:07<00:00, 22.48s/it]\n"
     ]
    },
    {
     "name": "stdout",
     "output_type": "stream",
     "text": [
      "metrics/dist_part_0_L.Che 0.3540589853013889\n",
      "metrics/dist_part_1_R.Che 0.7463720839729071\n",
      "metrics/dist_part_2_Sho.A 0.2756683383112929\n",
      "metrics/dist_part_3_Sho.B 0.380384963496801\n",
      "metrics/dist_part_4_Sho.C 0.5083782082395933\n",
      "metrics/dist_part_5_Sho.D 0.6519334753888647\n",
      "metrics/dist_part_6_Sho.E 0.7675549984207026\n",
      "metrics/dist_part_7_Arm.A 0.3162277811648754\n",
      "metrics/dist_part_8_Arm.B 0.406457443946818\n",
      "metrics/dist_part_9_L.Wai 0.5401301653920152\n",
      "metrics/dist_part_10_R.Wai 0.8205598736068659\n",
      "metrics/dist_part_11_Arm.E 1.0235595382024159\n",
      "metrics/dist_all 0.5659404879537117\n",
      "EPOCH: 3 / 20 | lm distance: 0.5659404879537117\n",
      "---End evaluation---\n",
      "---Starting traing---\n"
     ]
    },
    {
     "name": "stderr",
     "output_type": "stream",
     "text": [
      " 12%|████████████████████▌                                                                                                                                               | 1/8 [00:33<03:55, 33.61s/it]"
     ]
    },
    {
     "name": "stdout",
     "output_type": "stream",
     "text": [
      "EPOCH: 4 / 20 step: 1 / 8 | lm position loss: 0.3558628261089325  | weighted loss: 3.558628261089325\n"
     ]
    },
    {
     "name": "stderr",
     "output_type": "stream",
     "text": [
      "\r",
      " 25%|█████████████████████████████████████████                                                                                                                           | 2/8 [01:05<03:14, 32.48s/it]"
     ]
    },
    {
     "name": "stdout",
     "output_type": "stream",
     "text": [
      "EPOCH: 4 / 20 step: 2 / 8 | lm position loss: 1.3858511447906494  | weighted loss: 13.858511447906494\n"
     ]
    },
    {
     "name": "stderr",
     "output_type": "stream",
     "text": [
      "\r",
      " 38%|█████████████████████████████████████████████████████████████▌                                                                                                      | 3/8 [01:37<02:42, 32.40s/it]"
     ]
    },
    {
     "name": "stdout",
     "output_type": "stream",
     "text": [
      "EPOCH: 4 / 20 step: 3 / 8 | lm position loss: 0.3120131492614746  | weighted loss: 3.120131492614746\n"
     ]
    },
    {
     "name": "stderr",
     "output_type": "stream",
     "text": [
      "\r",
      " 50%|██████████████████████████████████████████████████████████████████████████████████                                                                                  | 4/8 [02:09<02:08, 32.12s/it]"
     ]
    },
    {
     "name": "stdout",
     "output_type": "stream",
     "text": [
      "EPOCH: 4 / 20 step: 4 / 8 | lm position loss: 0.26873788237571716  | weighted loss: 2.6873788237571716\n"
     ]
    },
    {
     "name": "stderr",
     "output_type": "stream",
     "text": [
      "\r",
      " 62%|██████████████████████████████████████████████████████████████████████████████████████████████████████▌                                                             | 5/8 [02:41<01:36, 32.11s/it]"
     ]
    },
    {
     "name": "stdout",
     "output_type": "stream",
     "text": [
      "EPOCH: 4 / 20 step: 5 / 8 | lm position loss: 0.29556626081466675  | weighted loss: 2.9556626081466675\n"
     ]
    },
    {
     "name": "stderr",
     "output_type": "stream",
     "text": [
      "\r",
      " 75%|███████████████████████████████████████████████████████████████████████████████████████████████████████████████████████████                                         | 6/8 [03:13<01:04, 32.03s/it]"
     ]
    },
    {
     "name": "stdout",
     "output_type": "stream",
     "text": [
      "EPOCH: 4 / 20 step: 6 / 8 | lm position loss: 0.2792428135871887  | weighted loss: 2.792428135871887\n"
     ]
    },
    {
     "name": "stderr",
     "output_type": "stream",
     "text": [
      "\r",
      " 88%|███████████████████████████████████████████████████████████████████████████████████████████████████████████████████████████████████████████████▌                    | 7/8 [03:45<00:32, 32.11s/it]"
     ]
    },
    {
     "name": "stdout",
     "output_type": "stream",
     "text": [
      "EPOCH: 4 / 20 step: 7 / 8 | lm position loss: 0.16397367417812347  | weighted loss: 1.6397367417812347\n"
     ]
    },
    {
     "name": "stderr",
     "output_type": "stream",
     "text": [
      "100%|████████████████████████████████████████████████████████████████████████████████████████████████████████████████████████████████████████████████████████████████████| 8/8 [04:10<00:00, 31.35s/it]\n"
     ]
    },
    {
     "name": "stdout",
     "output_type": "stream",
     "text": [
      "EPOCH: 4 / 20 step: 8 / 8 | lm position loss: 0.13381990790367126  | weighted loss: 1.3381990790367126\n",
      "---End traing---\n",
      "---Start evaluation---\n"
     ]
    },
    {
     "name": "stderr",
     "output_type": "stream",
     "text": [
      "100%|████████████████████████████████████████████████████████████████████████████████████████████████████████████████████████████████████████████████████████████████████| 3/3 [01:07<00:00, 22.60s/it]\n"
     ]
    },
    {
     "name": "stdout",
     "output_type": "stream",
     "text": [
      "metrics/dist_part_0_L.Che 0.42036129064351285\n",
      "metrics/dist_part_1_R.Che 0.7587049926766072\n",
      "metrics/dist_part_2_Sho.A 0.38730968921352726\n",
      "metrics/dist_part_3_Sho.B 0.4770091100593845\n",
      "metrics/dist_part_4_Sho.C 0.5914873959151806\n",
      "metrics/dist_part_5_Sho.D 0.7047889682386375\n",
      "metrics/dist_part_6_Sho.E 0.8002766182514799\n",
      "metrics/dist_part_7_Arm.A 0.373783745291528\n",
      "metrics/dist_part_8_Arm.B 0.43128163537613534\n",
      "metrics/dist_part_9_L.Wai 0.5014049176141357\n",
      "metrics/dist_part_10_R.Wai 0.7684234853383641\n",
      "metrics/dist_part_11_Arm.E 0.9174038578155732\n",
      "metrics/dist_all 0.5943529755361722\n",
      "EPOCH: 4 / 20 | lm distance: 0.5943529755361722\n",
      "---End evaluation---\n",
      "---Starting traing---\n"
     ]
    },
    {
     "name": "stderr",
     "output_type": "stream",
     "text": [
      " 12%|████████████████████▌                                                                                                                                               | 1/8 [00:32<03:45, 32.29s/it]"
     ]
    },
    {
     "name": "stdout",
     "output_type": "stream",
     "text": [
      "EPOCH: 5 / 20 step: 1 / 8 | lm position loss: 0.11426005512475967  | weighted loss: 1.1426005512475967\n"
     ]
    },
    {
     "name": "stderr",
     "output_type": "stream",
     "text": [
      "\r",
      " 25%|█████████████████████████████████████████                                                                                                                           | 2/8 [01:02<03:07, 31.22s/it]"
     ]
    },
    {
     "name": "stdout",
     "output_type": "stream",
     "text": [
      "EPOCH: 5 / 20 step: 2 / 8 | lm position loss: 0.05744278058409691  | weighted loss: 0.5744278058409691\n"
     ]
    },
    {
     "name": "stderr",
     "output_type": "stream",
     "text": [
      "\r",
      " 38%|█████████████████████████████████████████████████████████████▌                                                                                                      | 3/8 [01:33<02:33, 30.80s/it]"
     ]
    },
    {
     "name": "stdout",
     "output_type": "stream",
     "text": [
      "EPOCH: 5 / 20 step: 3 / 8 | lm position loss: 0.05963274464011192  | weighted loss: 0.5963274464011192\n"
     ]
    },
    {
     "name": "stderr",
     "output_type": "stream",
     "text": [
      "\r",
      " 50%|██████████████████████████████████████████████████████████████████████████████████                                                                                  | 4/8 [02:02<02:00, 30.12s/it]"
     ]
    },
    {
     "name": "stdout",
     "output_type": "stream",
     "text": [
      "EPOCH: 5 / 20 step: 4 / 8 | lm position loss: 0.03592199832201004  | weighted loss: 0.3592199832201004\n"
     ]
    },
    {
     "name": "stderr",
     "output_type": "stream",
     "text": [
      "\r",
      " 62%|██████████████████████████████████████████████████████████████████████████████████████████████████████▌                                                             | 5/8 [02:32<01:30, 30.10s/it]"
     ]
    },
    {
     "name": "stdout",
     "output_type": "stream",
     "text": [
      "EPOCH: 5 / 20 step: 5 / 8 | lm position loss: 0.026205074042081833  | weighted loss: 0.26205074042081833\n"
     ]
    },
    {
     "name": "stderr",
     "output_type": "stream",
     "text": [
      "\r",
      " 75%|███████████████████████████████████████████████████████████████████████████████████████████████████████████████████████████                                         | 6/8 [03:01<00:59, 29.83s/it]"
     ]
    },
    {
     "name": "stdout",
     "output_type": "stream",
     "text": [
      "EPOCH: 5 / 20 step: 6 / 8 | lm position loss: 0.026688972488045692  | weighted loss: 0.2668897248804569\n"
     ]
    },
    {
     "name": "stderr",
     "output_type": "stream",
     "text": [
      "\r",
      " 88%|███████████████████████████████████████████████████████████████████████████████████████████████████████████████████████████████████████████████▌                    | 7/8 [03:31<00:30, 30.04s/it]"
     ]
    },
    {
     "name": "stdout",
     "output_type": "stream",
     "text": [
      "EPOCH: 5 / 20 step: 7 / 8 | lm position loss: 0.024451084434986115  | weighted loss: 0.24451084434986115\n"
     ]
    },
    {
     "name": "stderr",
     "output_type": "stream",
     "text": [
      "100%|████████████████████████████████████████████████████████████████████████████████████████████████████████████████████████████████████████████████████████████████████| 8/8 [03:56<00:00, 29.57s/it]\n"
     ]
    },
    {
     "name": "stdout",
     "output_type": "stream",
     "text": [
      "EPOCH: 5 / 20 step: 8 / 8 | lm position loss: 0.0226091630756855  | weighted loss: 0.226091630756855\n",
      "---End traing---\n",
      "---Start evaluation---\n"
     ]
    },
    {
     "name": "stderr",
     "output_type": "stream",
     "text": [
      "100%|████████████████████████████████████████████████████████████████████████████████████████████████████████████████████████████████████████████████████████████████████| 3/3 [01:01<00:00, 20.56s/it]\n"
     ]
    },
    {
     "name": "stdout",
     "output_type": "stream",
     "text": [
      "metrics/dist_part_0_L.Che 0.3587168563996471\n",
      "metrics/dist_part_1_R.Che 0.7562384109358672\n",
      "metrics/dist_part_2_Sho.A 0.36498141903308035\n",
      "metrics/dist_part_3_Sho.B 0.45768428074686784\n",
      "metrics/dist_part_4_Sho.C 0.5748655583800631\n",
      "metrics/dist_part_5_Sho.D 0.6942178696686828\n",
      "metrics/dist_part_6_Sho.E 0.7937322942853245\n",
      "metrics/dist_part_7_Arm.A 0.3622725524661975\n",
      "metrics/dist_part_8_Arm.B 0.42631679709027187\n",
      "metrics/dist_part_9_L.Wai 0.4596615919176455\n",
      "metrics/dist_part_10_R.Wai 0.7290590031151075\n",
      "metrics/dist_part_11_Arm.E 0.8874663069924748\n",
      "metrics/dist_all 0.5721010784192692\n",
      "EPOCH: 5 / 20 | lm distance: 0.5721010784192692\n",
      "---End evaluation---\n",
      "---Starting traing---\n"
     ]
    },
    {
     "name": "stderr",
     "output_type": "stream",
     "text": [
      " 12%|████████████████████▌                                                                                                                                               | 1/8 [00:28<03:22, 28.98s/it]"
     ]
    },
    {
     "name": "stdout",
     "output_type": "stream",
     "text": [
      "EPOCH: 6 / 20 step: 1 / 8 | lm position loss: 0.01814555563032627  | weighted loss: 0.1814555563032627\n"
     ]
    },
    {
     "name": "stderr",
     "output_type": "stream",
     "text": [
      "\r",
      " 25%|█████████████████████████████████████████                                                                                                                           | 2/8 [00:59<02:58, 29.75s/it]"
     ]
    },
    {
     "name": "stdout",
     "output_type": "stream",
     "text": [
      "EPOCH: 6 / 20 step: 2 / 8 | lm position loss: 0.019113482907414436  | weighted loss: 0.19113482907414436\n"
     ]
    },
    {
     "name": "stderr",
     "output_type": "stream",
     "text": [
      "\r",
      " 38%|█████████████████████████████████████████████████████████████▌                                                                                                      | 3/8 [01:29<02:29, 29.91s/it]"
     ]
    },
    {
     "name": "stdout",
     "output_type": "stream",
     "text": [
      "EPOCH: 6 / 20 step: 3 / 8 | lm position loss: 0.014613114297389984  | weighted loss: 0.14613114297389984\n"
     ]
    },
    {
     "name": "stderr",
     "output_type": "stream",
     "text": [
      "\r",
      " 50%|██████████████████████████████████████████████████████████████████████████████████                                                                                  | 4/8 [01:58<01:58, 29.51s/it]"
     ]
    },
    {
     "name": "stdout",
     "output_type": "stream",
     "text": [
      "EPOCH: 6 / 20 step: 4 / 8 | lm position loss: 0.018446460366249084  | weighted loss: 0.18446460366249084\n"
     ]
    },
    {
     "name": "stderr",
     "output_type": "stream",
     "text": [
      "\r",
      " 62%|██████████████████████████████████████████████████████████████████████████████████████████████████████▌                                                             | 5/8 [02:27<01:28, 29.35s/it]"
     ]
    },
    {
     "name": "stdout",
     "output_type": "stream",
     "text": [
      "EPOCH: 6 / 20 step: 5 / 8 | lm position loss: 0.014555114321410656  | weighted loss: 0.14555114321410656\n"
     ]
    },
    {
     "name": "stderr",
     "output_type": "stream",
     "text": [
      "\r",
      " 75%|███████████████████████████████████████████████████████████████████████████████████████████████████████████████████████████                                         | 6/8 [02:58<00:59, 29.80s/it]"
     ]
    },
    {
     "name": "stdout",
     "output_type": "stream",
     "text": [
      "EPOCH: 6 / 20 step: 6 / 8 | lm position loss: 0.013671478256583214  | weighted loss: 0.13671478256583214\n"
     ]
    },
    {
     "name": "stderr",
     "output_type": "stream",
     "text": [
      "\r",
      " 88%|███████████████████████████████████████████████████████████████████████████████████████████████████████████████████████████████████████████████▌                    | 7/8 [03:28<00:29, 29.90s/it]"
     ]
    },
    {
     "name": "stdout",
     "output_type": "stream",
     "text": [
      "EPOCH: 6 / 20 step: 7 / 8 | lm position loss: 0.012807538732886314  | weighted loss: 0.12807538732886314\n"
     ]
    },
    {
     "name": "stderr",
     "output_type": "stream",
     "text": [
      "100%|████████████████████████████████████████████████████████████████████████████████████████████████████████████████████████████████████████████████████████████████████| 8/8 [03:51<00:00, 28.92s/it]\n"
     ]
    },
    {
     "name": "stdout",
     "output_type": "stream",
     "text": [
      "EPOCH: 6 / 20 step: 8 / 8 | lm position loss: 0.013073276728391647  | weighted loss: 0.13073276728391647\n",
      "---End traing---\n",
      "---Start evaluation---\n"
     ]
    },
    {
     "name": "stderr",
     "output_type": "stream",
     "text": [
      "100%|████████████████████████████████████████████████████████████████████████████████████████████████████████████████████████████████████████████████████████████████████| 3/3 [01:01<00:00, 20.41s/it]\n"
     ]
    },
    {
     "name": "stdout",
     "output_type": "stream",
     "text": [
      "metrics/dist_part_0_L.Che 0.31360024693502725\n",
      "metrics/dist_part_1_R.Che 0.7545940231087072\n",
      "metrics/dist_part_2_Sho.A 0.32349640024610327\n",
      "metrics/dist_part_3_Sho.B 0.44480106120519003\n",
      "metrics/dist_part_4_Sho.C 0.5395344086849144\n",
      "metrics/dist_part_5_Sho.D 0.6557349866067871\n",
      "metrics/dist_part_6_Sho.E 0.7893694116412209\n",
      "metrics/dist_part_7_Arm.A 0.31969390297726025\n",
      "metrics/dist_part_8_Arm.B 0.36869548075969893\n",
      "metrics/dist_part_9_L.Wai 0.4318327081199853\n",
      "metrics/dist_part_10_R.Wai 0.6921944764999108\n",
      "metrics/dist_part_11_Arm.E 0.8675079397770759\n",
      "metrics/dist_all 0.54175458721349\n",
      "EPOCH: 6 / 20 | lm distance: 0.54175458721349\n",
      "---End evaluation---\n",
      "---Starting traing---\n"
     ]
    },
    {
     "name": "stderr",
     "output_type": "stream",
     "text": [
      " 12%|████████████████████▌                                                                                                                                               | 1/8 [00:30<03:34, 30.60s/it]"
     ]
    },
    {
     "name": "stdout",
     "output_type": "stream",
     "text": [
      "EPOCH: 7 / 20 step: 1 / 8 | lm position loss: 0.013132105581462383  | weighted loss: 0.13132105581462383\n"
     ]
    },
    {
     "name": "stderr",
     "output_type": "stream",
     "text": [
      "\r",
      " 25%|█████████████████████████████████████████                                                                                                                           | 2/8 [00:59<02:58, 29.71s/it]"
     ]
    },
    {
     "name": "stdout",
     "output_type": "stream",
     "text": [
      "EPOCH: 7 / 20 step: 2 / 8 | lm position loss: 0.014561867341399193  | weighted loss: 0.14561867341399193\n"
     ]
    },
    {
     "name": "stderr",
     "output_type": "stream",
     "text": [
      "\r",
      " 38%|█████████████████████████████████████████████████████████████▌                                                                                                      | 3/8 [01:28<02:26, 29.33s/it]"
     ]
    },
    {
     "name": "stdout",
     "output_type": "stream",
     "text": [
      "EPOCH: 7 / 20 step: 3 / 8 | lm position loss: 0.012747791595757008  | weighted loss: 0.12747791595757008\n"
     ]
    },
    {
     "name": "stderr",
     "output_type": "stream",
     "text": [
      "\r",
      " 50%|██████████████████████████████████████████████████████████████████████████████████                                                                                  | 4/8 [01:57<01:56, 29.17s/it]"
     ]
    },
    {
     "name": "stdout",
     "output_type": "stream",
     "text": [
      "EPOCH: 7 / 20 step: 4 / 8 | lm position loss: 0.012363330461084843  | weighted loss: 0.12363330461084843\n"
     ]
    },
    {
     "name": "stderr",
     "output_type": "stream",
     "text": [
      "\r",
      " 62%|██████████████████████████████████████████████████████████████████████████████████████████████████████▌                                                             | 5/8 [02:28<01:29, 29.71s/it]"
     ]
    },
    {
     "name": "stdout",
     "output_type": "stream",
     "text": [
      "EPOCH: 7 / 20 step: 5 / 8 | lm position loss: 0.011819549836218357  | weighted loss: 0.11819549836218357\n"
     ]
    },
    {
     "name": "stderr",
     "output_type": "stream",
     "text": [
      "\r",
      " 75%|███████████████████████████████████████████████████████████████████████████████████████████████████████████████████████████                                         | 6/8 [02:57<00:58, 29.50s/it]"
     ]
    },
    {
     "name": "stdout",
     "output_type": "stream",
     "text": [
      "EPOCH: 7 / 20 step: 6 / 8 | lm position loss: 0.012168795801699162  | weighted loss: 0.12168795801699162\n"
     ]
    },
    {
     "name": "stderr",
     "output_type": "stream",
     "text": [
      "\r",
      " 88%|███████████████████████████████████████████████████████████████████████████████████████████████████████████████████████████████████████████████▌                    | 7/8 [03:26<00:29, 29.30s/it]"
     ]
    },
    {
     "name": "stdout",
     "output_type": "stream",
     "text": [
      "EPOCH: 7 / 20 step: 7 / 8 | lm position loss: 0.011548804119229317  | weighted loss: 0.11548804119229317\n"
     ]
    },
    {
     "name": "stderr",
     "output_type": "stream",
     "text": [
      "100%|████████████████████████████████████████████████████████████████████████████████████████████████████████████████████████████████████████████████████████████████████| 8/8 [03:49<00:00, 28.67s/it]\n"
     ]
    },
    {
     "name": "stdout",
     "output_type": "stream",
     "text": [
      "EPOCH: 7 / 20 step: 8 / 8 | lm position loss: 0.011078080162405968  | weighted loss: 0.11078080162405968\n",
      "---End traing---\n",
      "---Start evaluation---\n"
     ]
    },
    {
     "name": "stderr",
     "output_type": "stream",
     "text": [
      "100%|████████████████████████████████████████████████████████████████████████████████████████████████████████████████████████████████████████████████████████████████████| 3/3 [01:02<00:00, 20.76s/it]\n"
     ]
    },
    {
     "name": "stdout",
     "output_type": "stream",
     "text": [
      "metrics/dist_part_0_L.Che 0.3193800667016503\n",
      "metrics/dist_part_1_R.Che 0.7534194603750215\n",
      "metrics/dist_part_2_Sho.A 0.3166638199697018\n",
      "metrics/dist_part_3_Sho.B 0.4355987615325631\n",
      "metrics/dist_part_4_Sho.C 0.5350835229070114\n",
      "metrics/dist_part_5_Sho.D 0.6551919135756553\n",
      "metrics/dist_part_6_Sho.E 0.7862530668954327\n",
      "metrics/dist_part_7_Arm.A 0.31919874271834814\n",
      "metrics/dist_part_8_Arm.B 0.37409004692928743\n",
      "metrics/dist_part_9_L.Wai 0.4153949531758354\n",
      "metrics/dist_part_10_R.Wai 0.6493591371742117\n",
      "metrics/dist_part_11_Arm.E 0.7692156616971974\n",
      "metrics/dist_all 0.5274040961376597\n",
      "EPOCH: 7 / 20 | lm distance: 0.5274040961376597\n",
      "---End evaluation---\n",
      "---Starting traing---\n"
     ]
    },
    {
     "name": "stderr",
     "output_type": "stream",
     "text": [
      " 12%|████████████████████▌                                                                                                                                               | 1/8 [00:28<03:21, 28.77s/it]"
     ]
    },
    {
     "name": "stdout",
     "output_type": "stream",
     "text": [
      "EPOCH: 8 / 20 step: 1 / 8 | lm position loss: 0.010742593556642532  | weighted loss: 0.10742593556642532\n"
     ]
    },
    {
     "name": "stderr",
     "output_type": "stream",
     "text": [
      "\r",
      " 25%|█████████████████████████████████████████                                                                                                                           | 2/8 [00:57<02:53, 28.85s/it]"
     ]
    },
    {
     "name": "stdout",
     "output_type": "stream",
     "text": [
      "EPOCH: 8 / 20 step: 2 / 8 | lm position loss: 0.015377156436443329  | weighted loss: 0.1537715643644333\n"
     ]
    },
    {
     "name": "stderr",
     "output_type": "stream",
     "text": [
      "\r",
      " 38%|█████████████████████████████████████████████████████████████▌                                                                                                      | 3/8 [01:26<02:25, 29.04s/it]"
     ]
    },
    {
     "name": "stdout",
     "output_type": "stream",
     "text": [
      "EPOCH: 8 / 20 step: 3 / 8 | lm position loss: 0.012300425209105015  | weighted loss: 0.12300425209105015\n"
     ]
    },
    {
     "name": "stderr",
     "output_type": "stream",
     "text": [
      "\r",
      " 50%|██████████████████████████████████████████████████████████████████████████████████                                                                                  | 4/8 [01:57<01:59, 29.77s/it]"
     ]
    },
    {
     "name": "stdout",
     "output_type": "stream",
     "text": [
      "EPOCH: 8 / 20 step: 4 / 8 | lm position loss: 0.011529708281159401  | weighted loss: 0.11529708281159401\n"
     ]
    },
    {
     "name": "stderr",
     "output_type": "stream",
     "text": [
      "\r",
      " 62%|██████████████████████████████████████████████████████████████████████████████████████████████████████▌                                                             | 5/8 [02:26<01:28, 29.45s/it]"
     ]
    },
    {
     "name": "stdout",
     "output_type": "stream",
     "text": [
      "EPOCH: 8 / 20 step: 5 / 8 | lm position loss: 0.011198403313755989  | weighted loss: 0.11198403313755989\n"
     ]
    },
    {
     "name": "stderr",
     "output_type": "stream",
     "text": [
      "\r",
      " 75%|███████████████████████████████████████████████████████████████████████████████████████████████████████████████████████████                                         | 6/8 [02:55<00:58, 29.26s/it]"
     ]
    },
    {
     "name": "stdout",
     "output_type": "stream",
     "text": [
      "EPOCH: 8 / 20 step: 6 / 8 | lm position loss: 0.012256273068487644  | weighted loss: 0.12256273068487644\n"
     ]
    },
    {
     "name": "stderr",
     "output_type": "stream",
     "text": [
      "\r",
      " 88%|███████████████████████████████████████████████████████████████████████████████████████████████████████████████████████████████████████████████▌                    | 7/8 [03:24<00:29, 29.19s/it]"
     ]
    },
    {
     "name": "stdout",
     "output_type": "stream",
     "text": [
      "EPOCH: 8 / 20 step: 7 / 8 | lm position loss: 0.011575349606573582  | weighted loss: 0.11575349606573582\n"
     ]
    },
    {
     "name": "stderr",
     "output_type": "stream",
     "text": [
      "100%|████████████████████████████████████████████████████████████████████████████████████████████████████████████████████████████████████████████████████████████████████| 8/8 [03:49<00:00, 28.66s/it]\n"
     ]
    },
    {
     "name": "stdout",
     "output_type": "stream",
     "text": [
      "EPOCH: 8 / 20 step: 8 / 8 | lm position loss: 0.011033551767468452  | weighted loss: 0.11033551767468452\n",
      "---End traing---\n",
      "---Start evaluation---\n"
     ]
    },
    {
     "name": "stderr",
     "output_type": "stream",
     "text": [
      "100%|████████████████████████████████████████████████████████████████████████████████████████████████████████████████████████████████████████████████████████████████████| 3/3 [01:01<00:00, 20.53s/it]\n"
     ]
    },
    {
     "name": "stdout",
     "output_type": "stream",
     "text": [
      "metrics/dist_part_0_L.Che 0.28729257713611495\n",
      "metrics/dist_part_1_R.Che 0.7525385383247573\n",
      "metrics/dist_part_2_Sho.A 0.3115393847624007\n",
      "metrics/dist_part_3_Sho.B 0.42869703677809284\n",
      "metrics/dist_part_4_Sho.C 0.509481698428248\n",
      "metrics/dist_part_5_Sho.D 0.6314718393806183\n",
      "metrics/dist_part_6_Sho.E 0.7839158083360915\n",
      "metrics/dist_part_7_Arm.A 0.31882737252416404\n",
      "metrics/dist_part_8_Arm.B 0.3480924756399241\n",
      "metrics/dist_part_9_L.Wai 0.4021170968969668\n",
      "metrics/dist_part_10_R.Wai 0.6180402583419843\n",
      "metrics/dist_part_11_Arm.E 0.6961152155743525\n",
      "metrics/dist_all 0.5073441085103095\n",
      "EPOCH: 8 / 20 | lm distance: 0.5073441085103095\n",
      "---End evaluation---\n",
      "---Starting traing---\n"
     ]
    },
    {
     "name": "stderr",
     "output_type": "stream",
     "text": [
      " 12%|████████████████████▌                                                                                                                                               | 1/8 [00:28<03:21, 28.85s/it]"
     ]
    },
    {
     "name": "stdout",
     "output_type": "stream",
     "text": [
      "EPOCH: 9 / 20 step: 1 / 8 | lm position loss: 0.010846310295164585  | weighted loss: 0.10846310295164585\n"
     ]
    },
    {
     "name": "stderr",
     "output_type": "stream",
     "text": [
      "\r",
      " 25%|█████████████████████████████████████████                                                                                                                           | 2/8 [00:58<02:57, 29.57s/it]"
     ]
    },
    {
     "name": "stdout",
     "output_type": "stream",
     "text": [
      "EPOCH: 9 / 20 step: 2 / 8 | lm position loss: 0.012984548695385456  | weighted loss: 0.12984548695385456\n"
     ]
    },
    {
     "name": "stderr",
     "output_type": "stream",
     "text": [
      "\r",
      " 38%|█████████████████████████████████████████████████████████████▌                                                                                                      | 3/8 [01:30<02:31, 30.26s/it]"
     ]
    },
    {
     "name": "stdout",
     "output_type": "stream",
     "text": [
      "EPOCH: 9 / 20 step: 3 / 8 | lm position loss: 0.010861027985811234  | weighted loss: 0.10861027985811234\n"
     ]
    },
    {
     "name": "stderr",
     "output_type": "stream",
     "text": [
      "\r",
      " 50%|██████████████████████████████████████████████████████████████████████████████████                                                                                  | 4/8 [01:58<01:58, 29.73s/it]"
     ]
    },
    {
     "name": "stdout",
     "output_type": "stream",
     "text": [
      "EPOCH: 9 / 20 step: 4 / 8 | lm position loss: 0.011411801911890507  | weighted loss: 0.11411801911890507\n"
     ]
    },
    {
     "name": "stderr",
     "output_type": "stream",
     "text": [
      "\r",
      " 62%|██████████████████████████████████████████████████████████████████████████████████████████████████████▌                                                             | 5/8 [02:27<01:28, 29.49s/it]"
     ]
    },
    {
     "name": "stdout",
     "output_type": "stream",
     "text": [
      "EPOCH: 9 / 20 step: 5 / 8 | lm position loss: 0.010990538634359837  | weighted loss: 0.10990538634359837\n"
     ]
    },
    {
     "name": "stderr",
     "output_type": "stream",
     "text": [
      "\r",
      " 75%|███████████████████████████████████████████████████████████████████████████████████████████████████████████████████████████                                         | 6/8 [02:58<00:59, 29.69s/it]"
     ]
    },
    {
     "name": "stdout",
     "output_type": "stream",
     "text": [
      "EPOCH: 9 / 20 step: 6 / 8 | lm position loss: 0.010078823193907738  | weighted loss: 0.10078823193907738\n"
     ]
    },
    {
     "name": "stderr",
     "output_type": "stream",
     "text": [
      "\r",
      " 88%|███████████████████████████████████████████████████████████████████████████████████████████████████████████████████████████████████████████████▌                    | 7/8 [03:27<00:29, 29.76s/it]"
     ]
    },
    {
     "name": "stdout",
     "output_type": "stream",
     "text": [
      "EPOCH: 9 / 20 step: 7 / 8 | lm position loss: 0.01021802332252264  | weighted loss: 0.1021802332252264\n"
     ]
    },
    {
     "name": "stderr",
     "output_type": "stream",
     "text": [
      "100%|████████████████████████████████████████████████████████████████████████████████████████████████████████████████████████████████████████████████████████████████████| 8/8 [03:51<00:00, 28.90s/it]\n"
     ]
    },
    {
     "name": "stdout",
     "output_type": "stream",
     "text": [
      "EPOCH: 9 / 20 step: 8 / 8 | lm position loss: 0.010883199982345104  | weighted loss: 0.10883199982345104\n",
      "---End traing---\n",
      "---Start evaluation---\n"
     ]
    },
    {
     "name": "stderr",
     "output_type": "stream",
     "text": [
      "100%|████████████████████████████████████████████████████████████████████████████████████████████████████████████████████████████████████████████████████████████████████| 3/3 [01:02<00:00, 20.88s/it]\n"
     ]
    },
    {
     "name": "stdout",
     "output_type": "stream",
     "text": [
      "metrics/dist_part_0_L.Che 0.2774002433981151\n",
      "metrics/dist_part_1_R.Che 0.7518533767301071\n",
      "metrics/dist_part_2_Sho.A 0.3075537129344998\n",
      "metrics/dist_part_3_Sho.B 0.42332902863572713\n",
      "metrics/dist_part_4_Sho.C 0.5093590884072864\n",
      "metrics/dist_part_5_Sho.D 0.592136775790401\n",
      "metrics/dist_part_6_Sho.E 0.7820979405677151\n",
      "metrics/dist_part_7_Arm.A 0.3185385290397987\n",
      "metrics/dist_part_8_Arm.B 0.32617254961320963\n",
      "metrics/dist_part_9_L.Wai 0.37940758642171524\n",
      "metrics/dist_part_10_R.Wai 0.5899686384208797\n",
      "metrics/dist_part_11_Arm.E 0.636804595812974\n",
      "metrics/dist_all 0.4912185054810357\n",
      "EPOCH: 9 / 20 | lm distance: 0.4912185054810357\n",
      "---End evaluation---\n",
      "---Starting traing---\n"
     ]
    },
    {
     "name": "stderr",
     "output_type": "stream",
     "text": [
      " 12%|████████████████████▌                                                                                                                                               | 1/8 [00:29<03:23, 29.03s/it]"
     ]
    },
    {
     "name": "stdout",
     "output_type": "stream",
     "text": [
      "EPOCH: 10 / 20 step: 1 / 8 | lm position loss: 0.010261657647788525  | weighted loss: 0.10261657647788525\n"
     ]
    },
    {
     "name": "stderr",
     "output_type": "stream",
     "text": [
      "\r",
      " 25%|█████████████████████████████████████████                                                                                                                           | 2/8 [01:00<03:02, 30.47s/it]"
     ]
    },
    {
     "name": "stdout",
     "output_type": "stream",
     "text": [
      "EPOCH: 10 / 20 step: 2 / 8 | lm position loss: 0.012971604242920876  | weighted loss: 0.12971604242920876\n"
     ]
    },
    {
     "name": "stderr",
     "output_type": "stream",
     "text": [
      "\r",
      " 38%|█████████████████████████████████████████████████████████████▌                                                                                                      | 3/8 [01:29<02:28, 29.75s/it]"
     ]
    },
    {
     "name": "stdout",
     "output_type": "stream",
     "text": [
      "EPOCH: 10 / 20 step: 3 / 8 | lm position loss: 0.010047061368823051  | weighted loss: 0.10047061368823051\n"
     ]
    },
    {
     "name": "stderr",
     "output_type": "stream",
     "text": [
      "\r",
      " 50%|██████████████████████████████████████████████████████████████████████████████████                                                                                  | 4/8 [01:59<01:59, 29.82s/it]"
     ]
    },
    {
     "name": "stdout",
     "output_type": "stream",
     "text": [
      "EPOCH: 10 / 20 step: 4 / 8 | lm position loss: 0.009888685308396816  | weighted loss: 0.09888685308396816\n"
     ]
    },
    {
     "name": "stderr",
     "output_type": "stream",
     "text": [
      "\r",
      " 62%|██████████████████████████████████████████████████████████████████████████████████████████████████████▌                                                             | 5/8 [02:28<01:28, 29.47s/it]"
     ]
    },
    {
     "name": "stdout",
     "output_type": "stream",
     "text": [
      "EPOCH: 10 / 20 step: 5 / 8 | lm position loss: 0.010675313882529736  | weighted loss: 0.10675313882529736\n"
     ]
    },
    {
     "name": "stderr",
     "output_type": "stream",
     "text": [
      "\r",
      " 75%|███████████████████████████████████████████████████████████████████████████████████████████████████████████████████████████                                         | 6/8 [02:58<00:59, 29.68s/it]"
     ]
    },
    {
     "name": "stdout",
     "output_type": "stream",
     "text": [
      "EPOCH: 10 / 20 step: 6 / 8 | lm position loss: 0.010182060301303864  | weighted loss: 0.10182060301303864\n"
     ]
    },
    {
     "name": "stderr",
     "output_type": "stream",
     "text": [
      "\r",
      " 88%|███████████████████████████████████████████████████████████████████████████████████████████████████████████████████████████████████████████████▌                    | 7/8 [03:27<00:29, 29.48s/it]"
     ]
    },
    {
     "name": "stdout",
     "output_type": "stream",
     "text": [
      "EPOCH: 10 / 20 step: 7 / 8 | lm position loss: 0.009753982536494732  | weighted loss: 0.09753982536494732\n"
     ]
    },
    {
     "name": "stderr",
     "output_type": "stream",
     "text": [
      "100%|████████████████████████████████████████████████████████████████████████████████████████████████████████████████████████████████████████████████████████████████████| 8/8 [03:51<00:00, 28.92s/it]\n"
     ]
    },
    {
     "name": "stdout",
     "output_type": "stream",
     "text": [
      "EPOCH: 10 / 20 step: 8 / 8 | lm position loss: 0.009626134298741817  | weighted loss: 0.09626134298741817\n",
      "---End traing---\n",
      "---Start evaluation---\n"
     ]
    },
    {
     "name": "stderr",
     "output_type": "stream",
     "text": [
      "100%|████████████████████████████████████████████████████████████████████████████████████████████████████████████████████████████████████████████████████████████████████| 3/3 [01:00<00:00, 20.24s/it]\n"
     ]
    },
    {
     "name": "stdout",
     "output_type": "stream",
     "text": [
      "metrics/dist_part_0_L.Che 0.26087413100072204\n",
      "metrics/dist_part_1_R.Che 0.7162463309689507\n",
      "metrics/dist_part_2_Sho.A 0.29184539307266893\n",
      "metrics/dist_part_3_Sho.B 0.41903462212183457\n",
      "metrics/dist_part_4_Sho.C 0.4911931611949633\n",
      "metrics/dist_part_5_Sho.D 0.579379873439915\n",
      "metrics/dist_part_6_Sho.E 0.7806436463530139\n",
      "metrics/dist_part_7_Arm.A 0.321491814581702\n",
      "metrics/dist_part_8_Arm.B 0.34435087261065134\n",
      "metrics/dist_part_9_L.Wai 0.4052155436284131\n",
      "metrics/dist_part_10_R.Wai 0.5921030624570779\n",
      "metrics/dist_part_11_Arm.E 0.5893561000038713\n",
      "metrics/dist_all 0.4826445459528154\n",
      "EPOCH: 10 / 20 | lm distance: 0.4826445459528154\n",
      "---End evaluation---\n",
      "---Starting traing---\n"
     ]
    },
    {
     "name": "stderr",
     "output_type": "stream",
     "text": [
      " 12%|████████████████████▌                                                                                                                                               | 1/8 [00:30<03:35, 30.74s/it]"
     ]
    },
    {
     "name": "stdout",
     "output_type": "stream",
     "text": [
      "EPOCH: 11 / 20 step: 1 / 8 | lm position loss: 0.009875698946416378  | weighted loss: 0.09875698946416378\n"
     ]
    },
    {
     "name": "stderr",
     "output_type": "stream",
     "text": [
      "\r",
      " 25%|█████████████████████████████████████████                                                                                                                           | 2/8 [01:01<03:02, 30.48s/it]"
     ]
    },
    {
     "name": "stdout",
     "output_type": "stream",
     "text": [
      "EPOCH: 11 / 20 step: 2 / 8 | lm position loss: 0.011152775026857853  | weighted loss: 0.11152775026857853\n"
     ]
    },
    {
     "name": "stderr",
     "output_type": "stream",
     "text": [
      "\r",
      " 38%|█████████████████████████████████████████████████████████████▌                                                                                                      | 3/8 [01:30<02:29, 29.84s/it]"
     ]
    },
    {
     "name": "stdout",
     "output_type": "stream",
     "text": [
      "EPOCH: 11 / 20 step: 3 / 8 | lm position loss: 0.009724101983010769  | weighted loss: 0.09724101983010769\n"
     ]
    },
    {
     "name": "stderr",
     "output_type": "stream",
     "text": [
      "\r",
      " 50%|██████████████████████████████████████████████████████████████████████████████████                                                                                  | 4/8 [01:58<01:57, 29.46s/it]"
     ]
    },
    {
     "name": "stdout",
     "output_type": "stream",
     "text": [
      "EPOCH: 11 / 20 step: 4 / 8 | lm position loss: 0.00924683827906847  | weighted loss: 0.0924683827906847\n"
     ]
    },
    {
     "name": "stderr",
     "output_type": "stream",
     "text": [
      "\r",
      " 62%|██████████████████████████████████████████████████████████████████████████████████████████████████████▌                                                             | 5/8 [02:29<01:29, 29.83s/it]"
     ]
    },
    {
     "name": "stdout",
     "output_type": "stream",
     "text": [
      "EPOCH: 11 / 20 step: 5 / 8 | lm position loss: 0.010110276751220226  | weighted loss: 0.10110276751220226\n"
     ]
    },
    {
     "name": "stderr",
     "output_type": "stream",
     "text": [
      "\r",
      " 75%|███████████████████████████████████████████████████████████████████████████████████████████████████████████████████████████                                         | 6/8 [03:00<01:00, 30.19s/it]"
     ]
    },
    {
     "name": "stdout",
     "output_type": "stream",
     "text": [
      "EPOCH: 11 / 20 step: 6 / 8 | lm position loss: 0.01001301221549511  | weighted loss: 0.1001301221549511\n"
     ]
    },
    {
     "name": "stderr",
     "output_type": "stream",
     "text": [
      "\r",
      " 88%|███████████████████████████████████████████████████████████████████████████████████████████████████████████████████████████████████████████████▌                    | 7/8 [03:29<00:29, 29.83s/it]"
     ]
    },
    {
     "name": "stdout",
     "output_type": "stream",
     "text": [
      "EPOCH: 11 / 20 step: 7 / 8 | lm position loss: 0.009090572595596313  | weighted loss: 0.09090572595596313\n"
     ]
    },
    {
     "name": "stderr",
     "output_type": "stream",
     "text": [
      "100%|████████████████████████████████████████████████████████████████████████████████████████████████████████████████████████████████████████████████████████████████████| 8/8 [03:52<00:00, 29.08s/it]\n"
     ]
    },
    {
     "name": "stdout",
     "output_type": "stream",
     "text": [
      "EPOCH: 11 / 20 step: 8 / 8 | lm position loss: 0.008645121939480305  | weighted loss: 0.08645121939480305\n",
      "---End traing---\n",
      "---Start evaluation---\n"
     ]
    },
    {
     "name": "stderr",
     "output_type": "stream",
     "text": [
      "100%|████████████████████████████████████████████████████████████████████████████████████████████████████████████████████████████████████████████████████████████████████| 3/3 [01:03<00:00, 21.06s/it]\n"
     ]
    },
    {
     "name": "stdout",
     "output_type": "stream",
     "text": [
      "metrics/dist_part_0_L.Che 0.2534301638803743\n",
      "metrics/dist_part_1_R.Che 0.6777261148820098\n",
      "metrics/dist_part_2_Sho.A 0.29037475173072563\n",
      "metrics/dist_part_3_Sho.B 0.4155210167922861\n",
      "metrics/dist_part_4_Sho.C 0.457939528477412\n",
      "metrics/dist_part_5_Sho.D 0.5455476353407109\n",
      "metrics/dist_part_6_Sho.E 0.7794537692682584\n",
      "metrics/dist_part_7_Arm.A 0.3367840982613126\n",
      "metrics/dist_part_8_Arm.B 0.32639493164463146\n",
      "metrics/dist_part_9_L.Wai 0.39960783920016474\n",
      "metrics/dist_part_10_R.Wai 0.5855315694735193\n",
      "metrics/dist_part_11_Arm.E 0.5480374317648186\n",
      "metrics/dist_all 0.46802907089301865\n",
      "EPOCH: 11 / 20 | lm distance: 0.46802907089301865\n",
      "---End evaluation---\n",
      "---Starting traing---\n"
     ]
    },
    {
     "name": "stderr",
     "output_type": "stream",
     "text": [
      " 12%|████████████████████▌                                                                                                                                               | 1/8 [00:29<03:23, 29.08s/it]"
     ]
    },
    {
     "name": "stdout",
     "output_type": "stream",
     "text": [
      "EPOCH: 12 / 20 step: 1 / 8 | lm position loss: 0.009250841103494167  | weighted loss: 0.09250841103494167\n"
     ]
    },
    {
     "name": "stderr",
     "output_type": "stream",
     "text": [
      "\r",
      " 25%|█████████████████████████████████████████                                                                                                                           | 2/8 [00:57<02:53, 28.96s/it]"
     ]
    },
    {
     "name": "stdout",
     "output_type": "stream",
     "text": [
      "EPOCH: 12 / 20 step: 2 / 8 | lm position loss: 0.010630517266690731  | weighted loss: 0.10630517266690731\n"
     ]
    },
    {
     "name": "stderr",
     "output_type": "stream",
     "text": [
      "\r",
      " 38%|█████████████████████████████████████████████████████████████▌                                                                                                      | 3/8 [01:27<02:25, 29.02s/it]"
     ]
    },
    {
     "name": "stdout",
     "output_type": "stream",
     "text": [
      "EPOCH: 12 / 20 step: 3 / 8 | lm position loss: 0.00898418016731739  | weighted loss: 0.0898418016731739\n"
     ]
    },
    {
     "name": "stderr",
     "output_type": "stream",
     "text": [
      "\r",
      " 50%|██████████████████████████████████████████████████████████████████████████████████                                                                                  | 4/8 [01:57<01:58, 29.68s/it]"
     ]
    },
    {
     "name": "stdout",
     "output_type": "stream",
     "text": [
      "EPOCH: 12 / 20 step: 4 / 8 | lm position loss: 0.008936138823628426  | weighted loss: 0.08936138823628426\n"
     ]
    },
    {
     "name": "stderr",
     "output_type": "stream",
     "text": [
      "\r",
      " 62%|██████████████████████████████████████████████████████████████████████████████████████████████████████▌                                                             | 5/8 [02:27<01:28, 29.61s/it]"
     ]
    },
    {
     "name": "stdout",
     "output_type": "stream",
     "text": [
      "EPOCH: 12 / 20 step: 5 / 8 | lm position loss: 0.009147518314421177  | weighted loss: 0.09147518314421177\n"
     ]
    },
    {
     "name": "stderr",
     "output_type": "stream",
     "text": [
      "\r",
      " 75%|███████████████████████████████████████████████████████████████████████████████████████████████████████████████████████████                                         | 6/8 [02:56<00:58, 29.36s/it]"
     ]
    },
    {
     "name": "stdout",
     "output_type": "stream",
     "text": [
      "EPOCH: 12 / 20 step: 6 / 8 | lm position loss: 0.008779358118772507  | weighted loss: 0.08779358118772507\n"
     ]
    },
    {
     "name": "stderr",
     "output_type": "stream",
     "text": [
      "\r",
      " 88%|███████████████████████████████████████████████████████████████████████████████████████████████████████████████████████████████████████████████▌                    | 7/8 [03:24<00:29, 29.21s/it]"
     ]
    },
    {
     "name": "stdout",
     "output_type": "stream",
     "text": [
      "EPOCH: 12 / 20 step: 7 / 8 | lm position loss: 0.008402216248214245  | weighted loss: 0.08402216248214245\n"
     ]
    },
    {
     "name": "stderr",
     "output_type": "stream",
     "text": [
      "100%|████████████████████████████████████████████████████████████████████████████████████████████████████████████████████████████████████████████████████████████████████| 8/8 [03:49<00:00, 28.65s/it]\n"
     ]
    },
    {
     "name": "stdout",
     "output_type": "stream",
     "text": [
      "EPOCH: 12 / 20 step: 8 / 8 | lm position loss: 0.00865078903734684  | weighted loss: 0.0865078903734684\n",
      "---End traing---\n",
      "---Start evaluation---\n"
     ]
    },
    {
     "name": "stderr",
     "output_type": "stream",
     "text": [
      "100%|████████████████████████████████████████████████████████████████████████████████████████████████████████████████████████████████████████████████████████████████████| 3/3 [01:03<00:00, 21.23s/it]\n"
     ]
    },
    {
     "name": "stdout",
     "output_type": "stream",
     "text": [
      "metrics/dist_part_0_L.Che 0.243614576829506\n",
      "metrics/dist_part_1_R.Che 0.6591116035500303\n",
      "metrics/dist_part_2_Sho.A 0.2860781893530273\n",
      "metrics/dist_part_3_Sho.B 0.4125930123509957\n",
      "metrics/dist_part_4_Sho.C 0.4312567889334193\n",
      "metrics/dist_part_5_Sho.D 0.5254461078432761\n",
      "metrics/dist_part_6_Sho.E 0.7736088547722895\n",
      "metrics/dist_part_7_Arm.A 0.31944658509808743\n",
      "metrics/dist_part_8_Arm.B 0.3229293314612121\n",
      "metrics/dist_part_9_L.Wai 0.3910919770495083\n",
      "metrics/dist_part_10_R.Wai 0.5638407373281642\n",
      "metrics/dist_part_11_Arm.E 0.5152976471851404\n",
      "metrics/dist_all 0.4536929509795548\n",
      "EPOCH: 12 / 20 | lm distance: 0.4536929509795548\n",
      "---End evaluation---\n",
      "---Starting traing---\n"
     ]
    },
    {
     "name": "stderr",
     "output_type": "stream",
     "text": [
      " 12%|████████████████████▌                                                                                                                                               | 1/8 [00:28<03:22, 28.96s/it]"
     ]
    },
    {
     "name": "stdout",
     "output_type": "stream",
     "text": [
      "EPOCH: 13 / 20 step: 1 / 8 | lm position loss: 0.00859052687883377  | weighted loss: 0.08590526878833771\n"
     ]
    },
    {
     "name": "stderr",
     "output_type": "stream",
     "text": [
      "\r",
      " 25%|█████████████████████████████████████████                                                                                                                           | 2/8 [00:57<02:53, 28.93s/it]"
     ]
    },
    {
     "name": "stdout",
     "output_type": "stream",
     "text": [
      "EPOCH: 13 / 20 step: 2 / 8 | lm position loss: 0.009544335305690765  | weighted loss: 0.09544335305690765\n"
     ]
    },
    {
     "name": "stderr",
     "output_type": "stream",
     "text": [
      "\r",
      " 38%|█████████████████████████████████████████████████████████████▌                                                                                                      | 3/8 [01:28<02:29, 29.92s/it]"
     ]
    },
    {
     "name": "stdout",
     "output_type": "stream",
     "text": [
      "EPOCH: 13 / 20 step: 3 / 8 | lm position loss: 0.008583765476942062  | weighted loss: 0.08583765476942062\n"
     ]
    },
    {
     "name": "stderr",
     "output_type": "stream",
     "text": [
      "\r",
      " 50%|██████████████████████████████████████████████████████████████████████████████████                                                                                  | 4/8 [01:58<01:58, 29.65s/it]"
     ]
    },
    {
     "name": "stdout",
     "output_type": "stream",
     "text": [
      "EPOCH: 13 / 20 step: 4 / 8 | lm position loss: 0.008181584998965263  | weighted loss: 0.08181584998965263\n"
     ]
    },
    {
     "name": "stderr",
     "output_type": "stream",
     "text": [
      "\r",
      " 62%|██████████████████████████████████████████████████████████████████████████████████████████████████████▌                                                             | 5/8 [02:27<01:28, 29.38s/it]"
     ]
    },
    {
     "name": "stdout",
     "output_type": "stream",
     "text": [
      "EPOCH: 13 / 20 step: 5 / 8 | lm position loss: 0.009424558840692043  | weighted loss: 0.09424558840692043\n"
     ]
    },
    {
     "name": "stderr",
     "output_type": "stream",
     "text": [
      "\r",
      " 75%|███████████████████████████████████████████████████████████████████████████████████████████████████████████████████████████                                         | 6/8 [02:56<00:58, 29.27s/it]"
     ]
    },
    {
     "name": "stdout",
     "output_type": "stream",
     "text": [
      "EPOCH: 13 / 20 step: 6 / 8 | lm position loss: 0.00868204329162836  | weighted loss: 0.08682043291628361\n"
     ]
    },
    {
     "name": "stderr",
     "output_type": "stream",
     "text": [
      "\r",
      " 88%|███████████████████████████████████████████████████████████████████████████████████████████████████████████████████████████████████████████████▌                    | 7/8 [03:27<00:29, 30.00s/it]"
     ]
    },
    {
     "name": "stdout",
     "output_type": "stream",
     "text": [
      "EPOCH: 13 / 20 step: 7 / 8 | lm position loss: 0.008159125223755836  | weighted loss: 0.08159125223755836\n"
     ]
    },
    {
     "name": "stderr",
     "output_type": "stream",
     "text": [
      "100%|████████████████████████████████████████████████████████████████████████████████████████████████████████████████████████████████████████████████████████████████████| 8/8 [03:51<00:00, 28.94s/it]\n"
     ]
    },
    {
     "name": "stdout",
     "output_type": "stream",
     "text": [
      "EPOCH: 13 / 20 step: 8 / 8 | lm position loss: 0.008036455139517784  | weighted loss: 0.08036455139517784\n",
      "---End traing---\n",
      "---Start evaluation---\n"
     ]
    },
    {
     "name": "stderr",
     "output_type": "stream",
     "text": [
      "100%|████████████████████████████████████████████████████████████████████████████████████████████████████████████████████████████████████████████████████████████████████| 3/3 [01:00<00:00, 20.09s/it]\n"
     ]
    },
    {
     "name": "stdout",
     "output_type": "stream",
     "text": [
      "metrics/dist_part_0_L.Che 0.23547388289483373\n",
      "metrics/dist_part_1_R.Che 0.6193100072133085\n",
      "metrics/dist_part_2_Sho.A 0.2832676594814288\n",
      "metrics/dist_part_3_Sho.B 0.40535658064475916\n",
      "metrics/dist_part_4_Sho.C 0.40651125555653345\n",
      "metrics/dist_part_5_Sho.D 0.5062497175581745\n",
      "metrics/dist_part_6_Sho.E 0.7705978535016004\n",
      "metrics/dist_part_7_Arm.A 0.3271362148305919\n",
      "metrics/dist_part_8_Arm.B 0.3169995155495931\n",
      "metrics/dist_part_9_L.Wai 0.3778434334522513\n",
      "metrics/dist_part_10_R.Wai 0.5389570841395744\n",
      "metrics/dist_part_11_Arm.E 0.48583885577564867\n",
      "metrics/dist_all 0.43946183838319147\n",
      "EPOCH: 13 / 20 | lm distance: 0.43946183838319147\n",
      "---End evaluation---\n",
      "---Starting traing---\n"
     ]
    },
    {
     "name": "stderr",
     "output_type": "stream",
     "text": [
      " 12%|████████████████████▌                                                                                                                                               | 1/8 [00:30<03:32, 30.39s/it]"
     ]
    },
    {
     "name": "stdout",
     "output_type": "stream",
     "text": [
      "EPOCH: 14 / 20 step: 1 / 8 | lm position loss: 0.00838361494243145  | weighted loss: 0.0838361494243145\n"
     ]
    },
    {
     "name": "stderr",
     "output_type": "stream",
     "text": [
      "\r",
      " 25%|█████████████████████████████████████████                                                                                                                           | 2/8 [01:00<02:59, 29.97s/it]"
     ]
    },
    {
     "name": "stdout",
     "output_type": "stream",
     "text": [
      "EPOCH: 14 / 20 step: 2 / 8 | lm position loss: 0.008985189720988274  | weighted loss: 0.08985189720988274\n"
     ]
    },
    {
     "name": "stderr",
     "output_type": "stream",
     "text": [
      "\r",
      " 38%|█████████████████████████████████████████████████████████████▌                                                                                                      | 3/8 [01:29<02:27, 29.56s/it]"
     ]
    },
    {
     "name": "stdout",
     "output_type": "stream",
     "text": [
      "EPOCH: 14 / 20 step: 3 / 8 | lm position loss: 0.008585850708186626  | weighted loss: 0.08585850708186626\n"
     ]
    },
    {
     "name": "stderr",
     "output_type": "stream",
     "text": [
      "\r",
      " 50%|██████████████████████████████████████████████████████████████████████████████████                                                                                  | 4/8 [01:58<01:57, 29.38s/it]"
     ]
    },
    {
     "name": "stdout",
     "output_type": "stream",
     "text": [
      "EPOCH: 14 / 20 step: 4 / 8 | lm position loss: 0.008107415400445461  | weighted loss: 0.08107415400445461\n"
     ]
    },
    {
     "name": "stderr",
     "output_type": "stream",
     "text": [
      "\r",
      " 62%|██████████████████████████████████████████████████████████████████████████████████████████████████████▌                                                             | 5/8 [02:28<01:28, 29.56s/it]"
     ]
    },
    {
     "name": "stdout",
     "output_type": "stream",
     "text": [
      "EPOCH: 14 / 20 step: 5 / 8 | lm position loss: 0.00803439598530531  | weighted loss: 0.08034395985305309\n"
     ]
    },
    {
     "name": "stderr",
     "output_type": "stream",
     "text": [
      "\r",
      " 75%|███████████████████████████████████████████████████████████████████████████████████████████████████████████████████████████                                         | 6/8 [02:59<01:00, 30.01s/it]"
     ]
    },
    {
     "name": "stdout",
     "output_type": "stream",
     "text": [
      "EPOCH: 14 / 20 step: 6 / 8 | lm position loss: 0.008321915753185749  | weighted loss: 0.08321915753185749\n"
     ]
    },
    {
     "name": "stderr",
     "output_type": "stream",
     "text": [
      "\r",
      " 88%|███████████████████████████████████████████████████████████████████████████████████████████████████████████████████████████████████████████████▌                    | 7/8 [03:28<00:29, 29.77s/it]"
     ]
    },
    {
     "name": "stdout",
     "output_type": "stream",
     "text": [
      "EPOCH: 14 / 20 step: 7 / 8 | lm position loss: 0.007935171015560627  | weighted loss: 0.07935171015560627\n"
     ]
    },
    {
     "name": "stderr",
     "output_type": "stream",
     "text": [
      "100%|████████████████████████████████████████████████████████████████████████████████████████████████████████████████████████████████████████████████████████████████████| 8/8 [03:51<00:00, 28.94s/it]\n"
     ]
    },
    {
     "name": "stdout",
     "output_type": "stream",
     "text": [
      "EPOCH: 14 / 20 step: 8 / 8 | lm position loss: 0.007792805787175894  | weighted loss: 0.07792805787175894\n",
      "---End traing---\n",
      "---Start evaluation---\n"
     ]
    },
    {
     "name": "stderr",
     "output_type": "stream",
     "text": [
      "100%|████████████████████████████████████████████████████████████████████████████████████████████████████████████████████████████████████████████████████████████████████| 3/3 [01:03<00:00, 21.13s/it]\n"
     ]
    },
    {
     "name": "stdout",
     "output_type": "stream",
     "text": [
      "metrics/dist_part_0_L.Che 0.22873005088883516\n",
      "metrics/dist_part_1_R.Che 0.5838081083111323\n",
      "metrics/dist_part_2_Sho.A 0.2812365909030965\n",
      "metrics/dist_part_3_Sho.B 0.38835395135161527\n",
      "metrics/dist_part_4_Sho.C 0.38831666607292276\n",
      "metrics/dist_part_5_Sho.D 0.4858555350057247\n",
      "metrics/dist_part_6_Sho.E 0.7402276776345811\n",
      "metrics/dist_part_7_Arm.A 0.31854233211492855\n",
      "metrics/dist_part_8_Arm.B 0.30664147995341456\n",
      "metrics/dist_part_9_L.Wai 0.3663917556722743\n",
      "metrics/dist_part_10_R.Wai 0.5152111567159737\n",
      "metrics/dist_part_11_Arm.E 0.4606632839130129\n",
      "metrics/dist_all 0.42199821571145923\n",
      "EPOCH: 14 / 20 | lm distance: 0.42199821571145923\n",
      "---End evaluation---\n",
      "---Starting traing---\n"
     ]
    },
    {
     "name": "stderr",
     "output_type": "stream",
     "text": [
      " 12%|████████████████████▌                                                                                                                                               | 1/8 [00:29<03:24, 29.28s/it]"
     ]
    },
    {
     "name": "stdout",
     "output_type": "stream",
     "text": [
      "EPOCH: 15 / 20 step: 1 / 8 | lm position loss: 0.008085163310170174  | weighted loss: 0.08085163310170174\n"
     ]
    },
    {
     "name": "stderr",
     "output_type": "stream",
     "text": [
      "\r",
      " 25%|█████████████████████████████████████████                                                                                                                           | 2/8 [00:59<02:57, 29.62s/it]"
     ]
    },
    {
     "name": "stdout",
     "output_type": "stream",
     "text": [
      "EPOCH: 15 / 20 step: 2 / 8 | lm position loss: 0.008885549381375313  | weighted loss: 0.08885549381375313\n"
     ]
    },
    {
     "name": "stderr",
     "output_type": "stream",
     "text": [
      "\r",
      " 38%|█████████████████████████████████████████████████████████████▌                                                                                                      | 3/8 [01:29<02:29, 29.84s/it]"
     ]
    },
    {
     "name": "stdout",
     "output_type": "stream",
     "text": [
      "EPOCH: 15 / 20 step: 3 / 8 | lm position loss: 0.007729582488536835  | weighted loss: 0.07729582488536835\n"
     ]
    },
    {
     "name": "stderr",
     "output_type": "stream",
     "text": [
      "\r",
      " 50%|██████████████████████████████████████████████████████████████████████████████████                                                                                  | 4/8 [01:58<01:57, 29.46s/it]"
     ]
    },
    {
     "name": "stdout",
     "output_type": "stream",
     "text": [
      "EPOCH: 15 / 20 step: 4 / 8 | lm position loss: 0.007935333997011185  | weighted loss: 0.07935333997011185\n"
     ]
    },
    {
     "name": "stderr",
     "output_type": "stream",
     "text": [
      "\r",
      " 62%|██████████████████████████████████████████████████████████████████████████████████████████████████████▌                                                             | 5/8 [02:29<01:29, 29.97s/it]"
     ]
    },
    {
     "name": "stdout",
     "output_type": "stream",
     "text": [
      "EPOCH: 15 / 20 step: 5 / 8 | lm position loss: 0.007920745760202408  | weighted loss: 0.07920745760202408\n"
     ]
    },
    {
     "name": "stderr",
     "output_type": "stream",
     "text": [
      "\r",
      " 75%|███████████████████████████████████████████████████████████████████████████████████████████████████████████████████████████                                         | 6/8 [02:58<00:59, 29.74s/it]"
     ]
    },
    {
     "name": "stdout",
     "output_type": "stream",
     "text": [
      "EPOCH: 15 / 20 step: 6 / 8 | lm position loss: 0.007861923426389694  | weighted loss: 0.07861923426389694\n"
     ]
    },
    {
     "name": "stderr",
     "output_type": "stream",
     "text": [
      "\r",
      " 88%|███████████████████████████████████████████████████████████████████████████████████████████████████████████████████████████████████████████████▌                    | 7/8 [03:28<00:29, 29.86s/it]"
     ]
    },
    {
     "name": "stdout",
     "output_type": "stream",
     "text": [
      "EPOCH: 15 / 20 step: 7 / 8 | lm position loss: 0.00759125268086791  | weighted loss: 0.0759125268086791\n"
     ]
    },
    {
     "name": "stderr",
     "output_type": "stream",
     "text": [
      "100%|████████████████████████████████████████████████████████████████████████████████████████████████████████████████████████████████████████████████████████████████████| 8/8 [03:52<00:00, 29.05s/it]\n"
     ]
    },
    {
     "name": "stdout",
     "output_type": "stream",
     "text": [
      "EPOCH: 15 / 20 step: 8 / 8 | lm position loss: 0.0078152846544981  | weighted loss: 0.078152846544981\n",
      "---End traing---\n",
      "---Start evaluation---\n"
     ]
    },
    {
     "name": "stderr",
     "output_type": "stream",
     "text": [
      "100%|████████████████████████████████████████████████████████████████████████████████████████████████████████████████████████████████████████████████████████████████████| 3/3 [01:04<00:00, 21.52s/it]\n"
     ]
    },
    {
     "name": "stdout",
     "output_type": "stream",
     "text": [
      "metrics/dist_part_0_L.Che 0.2236476371287242\n",
      "metrics/dist_part_1_R.Che 0.552119709387125\n",
      "metrics/dist_part_2_Sho.A 0.2799954937888982\n",
      "metrics/dist_part_3_Sho.B 0.3724647924061233\n",
      "metrics/dist_part_4_Sho.C 0.3704176860796341\n",
      "metrics/dist_part_5_Sho.D 0.4678736472519689\n",
      "metrics/dist_part_6_Sho.E 0.7051094372447476\n",
      "metrics/dist_part_7_Arm.A 0.31891224428390597\n",
      "metrics/dist_part_8_Arm.B 0.29593157859460745\n",
      "metrics/dist_part_9_L.Wai 0.3521840212400066\n",
      "metrics/dist_part_10_R.Wai 0.4877181988942895\n",
      "metrics/dist_part_11_Arm.E 0.4371627499829559\n",
      "metrics/dist_all 0.4052947663569155\n",
      "EPOCH: 15 / 20 | lm distance: 0.4052947663569155\n",
      "---End evaluation---\n",
      "---Starting traing---\n"
     ]
    },
    {
     "name": "stderr",
     "output_type": "stream",
     "text": [
      " 12%|████████████████████▌                                                                                                                                               | 1/8 [00:30<03:33, 30.50s/it]"
     ]
    },
    {
     "name": "stdout",
     "output_type": "stream",
     "text": [
      "EPOCH: 16 / 20 step: 1 / 8 | lm position loss: 0.007834927178919315  | weighted loss: 0.07834927178919315\n"
     ]
    },
    {
     "name": "stderr",
     "output_type": "stream",
     "text": [
      "\r",
      " 25%|█████████████████████████████████████████                                                                                                                           | 2/8 [00:59<02:58, 29.68s/it]"
     ]
    },
    {
     "name": "stdout",
     "output_type": "stream",
     "text": [
      "EPOCH: 16 / 20 step: 2 / 8 | lm position loss: 0.007689840625971556  | weighted loss: 0.07689840625971556\n"
     ]
    },
    {
     "name": "stderr",
     "output_type": "stream",
     "text": [
      "\r",
      " 38%|█████████████████████████████████████████████████████████████▌                                                                                                      | 3/8 [01:29<02:27, 29.59s/it]"
     ]
    },
    {
     "name": "stdout",
     "output_type": "stream",
     "text": [
      "EPOCH: 16 / 20 step: 3 / 8 | lm position loss: 0.0077992393635213375  | weighted loss: 0.07799239363521338\n"
     ]
    },
    {
     "name": "stderr",
     "output_type": "stream",
     "text": [
      "\r",
      " 50%|██████████████████████████████████████████████████████████████████████████████████                                                                                  | 4/8 [01:59<01:59, 29.94s/it]"
     ]
    },
    {
     "name": "stdout",
     "output_type": "stream",
     "text": [
      "EPOCH: 16 / 20 step: 4 / 8 | lm position loss: 0.007685771677643061  | weighted loss: 0.0768577167764306\n"
     ]
    },
    {
     "name": "stderr",
     "output_type": "stream",
     "text": [
      "\r",
      " 62%|██████████████████████████████████████████████████████████████████████████████████████████████████████▌                                                             | 5/8 [02:29<01:29, 29.92s/it]"
     ]
    },
    {
     "name": "stdout",
     "output_type": "stream",
     "text": [
      "EPOCH: 16 / 20 step: 5 / 8 | lm position loss: 0.007470528595149517  | weighted loss: 0.07470528595149517\n"
     ]
    },
    {
     "name": "stderr",
     "output_type": "stream",
     "text": [
      "\r",
      " 75%|███████████████████████████████████████████████████████████████████████████████████████████████████████████████████████████                                         | 6/8 [02:58<00:59, 29.63s/it]"
     ]
    },
    {
     "name": "stdout",
     "output_type": "stream",
     "text": [
      "EPOCH: 16 / 20 step: 6 / 8 | lm position loss: 0.007452894002199173  | weighted loss: 0.07452894002199173\n"
     ]
    },
    {
     "name": "stderr",
     "output_type": "stream",
     "text": [
      "\r",
      " 88%|███████████████████████████████████████████████████████████████████████████████████████████████████████████████████████████████████████████████▌                    | 7/8 [03:27<00:29, 29.52s/it]"
     ]
    },
    {
     "name": "stdout",
     "output_type": "stream",
     "text": [
      "EPOCH: 16 / 20 step: 7 / 8 | lm position loss: 0.007626363541930914  | weighted loss: 0.07626363541930914\n"
     ]
    },
    {
     "name": "stderr",
     "output_type": "stream",
     "text": [
      "100%|████████████████████████████████████████████████████████████████████████████████████████████████████████████████████████████████████████████████████████████████████| 8/8 [03:52<00:00, 29.03s/it]\n"
     ]
    },
    {
     "name": "stdout",
     "output_type": "stream",
     "text": [
      "EPOCH: 16 / 20 step: 8 / 8 | lm position loss: 0.007422303315252066  | weighted loss: 0.07422303315252066\n",
      "---End traing---\n",
      "---Start evaluation---\n"
     ]
    },
    {
     "name": "stderr",
     "output_type": "stream",
     "text": [
      "100%|████████████████████████████████████████████████████████████████████████████████████████████████████████████████████████████████████████████████████████████████████| 3/3 [01:02<00:00, 20.83s/it]\n"
     ]
    },
    {
     "name": "stdout",
     "output_type": "stream",
     "text": [
      "metrics/dist_part_0_L.Che 0.21891433550307818\n",
      "metrics/dist_part_1_R.Che 0.5235626910346198\n",
      "metrics/dist_part_2_Sho.A 0.2761272606512996\n",
      "metrics/dist_part_3_Sho.B 0.3581271544359116\n",
      "metrics/dist_part_4_Sho.C 0.3582715131940122\n",
      "metrics/dist_part_5_Sho.D 0.447415017747594\n",
      "metrics/dist_part_6_Sho.E 0.6662656079466592\n",
      "metrics/dist_part_7_Arm.A 0.30684945873145997\n",
      "metrics/dist_part_8_Arm.B 0.28527221840722117\n",
      "metrics/dist_part_9_L.Wai 0.33886598553344666\n",
      "metrics/dist_part_10_R.Wai 0.46387466937872673\n",
      "metrics/dist_part_11_Arm.E 0.41506158512377217\n",
      "metrics/dist_all 0.38821729147398343\n",
      "EPOCH: 16 / 20 | lm distance: 0.38821729147398343\n",
      "---End evaluation---\n",
      "---Starting traing---\n"
     ]
    },
    {
     "name": "stderr",
     "output_type": "stream",
     "text": [
      " 12%|████████████████████▌                                                                                                                                               | 1/8 [00:28<03:22, 28.98s/it]"
     ]
    },
    {
     "name": "stdout",
     "output_type": "stream",
     "text": [
      "EPOCH: 17 / 20 step: 1 / 8 | lm position loss: 0.007278131786733866  | weighted loss: 0.07278131786733866\n"
     ]
    },
    {
     "name": "stderr",
     "output_type": "stream",
     "text": [
      "\r",
      " 25%|█████████████████████████████████████████                                                                                                                           | 2/8 [00:58<02:56, 29.38s/it]"
     ]
    },
    {
     "name": "stdout",
     "output_type": "stream",
     "text": [
      "EPOCH: 17 / 20 step: 2 / 8 | lm position loss: 0.008058950304985046  | weighted loss: 0.08058950304985046\n"
     ]
    },
    {
     "name": "stderr",
     "output_type": "stream",
     "text": [
      "\r",
      " 38%|█████████████████████████████████████████████████████████████▌                                                                                                      | 3/8 [01:28<02:29, 29.80s/it]"
     ]
    },
    {
     "name": "stdout",
     "output_type": "stream",
     "text": [
      "EPOCH: 17 / 20 step: 3 / 8 | lm position loss: 0.00735329557210207  | weighted loss: 0.0735329557210207\n"
     ]
    },
    {
     "name": "stderr",
     "output_type": "stream",
     "text": [
      "\r",
      " 50%|██████████████████████████████████████████████████████████████████████████████████                                                                                  | 4/8 [01:58<01:58, 29.59s/it]"
     ]
    },
    {
     "name": "stdout",
     "output_type": "stream",
     "text": [
      "EPOCH: 17 / 20 step: 4 / 8 | lm position loss: 0.007649642415344715  | weighted loss: 0.07649642415344715\n"
     ]
    },
    {
     "name": "stderr",
     "output_type": "stream",
     "text": [
      "\r",
      " 62%|██████████████████████████████████████████████████████████████████████████████████████████████████████▌                                                             | 5/8 [02:27<01:28, 29.40s/it]"
     ]
    },
    {
     "name": "stdout",
     "output_type": "stream",
     "text": [
      "EPOCH: 17 / 20 step: 5 / 8 | lm position loss: 0.007687827106565237  | weighted loss: 0.07687827106565237\n"
     ]
    },
    {
     "name": "stderr",
     "output_type": "stream",
     "text": [
      "\r",
      " 75%|███████████████████████████████████████████████████████████████████████████████████████████████████████████████████████████                                         | 6/8 [02:56<00:58, 29.23s/it]"
     ]
    },
    {
     "name": "stdout",
     "output_type": "stream",
     "text": [
      "EPOCH: 17 / 20 step: 6 / 8 | lm position loss: 0.0074685378931462765  | weighted loss: 0.07468537893146276\n"
     ]
    },
    {
     "name": "stderr",
     "output_type": "stream",
     "text": [
      "\r",
      " 88%|███████████████████████████████████████████████████████████████████████████████████████████████████████████████████████████████████████████████▌                    | 7/8 [03:27<00:29, 29.77s/it]"
     ]
    },
    {
     "name": "stdout",
     "output_type": "stream",
     "text": [
      "EPOCH: 17 / 20 step: 7 / 8 | lm position loss: 0.007137863896787167  | weighted loss: 0.07137863896787167\n"
     ]
    },
    {
     "name": "stderr",
     "output_type": "stream",
     "text": [
      "100%|████████████████████████████████████████████████████████████████████████████████████████████████████████████████████████████████████████████████████████████████████| 8/8 [03:50<00:00, 28.84s/it]\n"
     ]
    },
    {
     "name": "stdout",
     "output_type": "stream",
     "text": [
      "EPOCH: 17 / 20 step: 8 / 8 | lm position loss: 0.006990612018853426  | weighted loss: 0.06990612018853426\n",
      "---End traing---\n",
      "---Start evaluation---\n"
     ]
    },
    {
     "name": "stderr",
     "output_type": "stream",
     "text": [
      "100%|████████████████████████████████████████████████████████████████████████████████████████████████████████████████████████████████████████████████████████████████████| 3/3 [01:00<00:00, 20.22s/it]\n"
     ]
    },
    {
     "name": "stdout",
     "output_type": "stream",
     "text": [
      "metrics/dist_part_0_L.Che 0.215498343236222\n",
      "metrics/dist_part_1_R.Che 0.4986338117888064\n",
      "metrics/dist_part_2_Sho.A 0.2736716976598076\n",
      "metrics/dist_part_3_Sho.B 0.34704501811333033\n",
      "metrics/dist_part_4_Sho.C 0.34689668730535916\n",
      "metrics/dist_part_5_Sho.D 0.4302778143391947\n",
      "metrics/dist_part_6_Sho.E 0.6326801762975747\n",
      "metrics/dist_part_7_Arm.A 0.29983705475319433\n",
      "metrics/dist_part_8_Arm.B 0.2758561065304844\n",
      "metrics/dist_part_9_L.Wai 0.3259197735886498\n",
      "metrics/dist_part_10_R.Wai 0.44221612605952854\n",
      "metrics/dist_part_11_Arm.E 0.3955210442026726\n",
      "metrics/dist_all 0.37367113782290207\n",
      "EPOCH: 17 / 20 | lm distance: 0.37367113782290207\n",
      "---End evaluation---\n",
      "---Starting traing---\n"
     ]
    },
    {
     "name": "stderr",
     "output_type": "stream",
     "text": [
      " 12%|████████████████████▌                                                                                                                                               | 1/8 [00:29<03:28, 29.82s/it]"
     ]
    },
    {
     "name": "stdout",
     "output_type": "stream",
     "text": [
      "EPOCH: 18 / 20 step: 1 / 8 | lm position loss: 0.007405787240713835  | weighted loss: 0.07405787240713835\n"
     ]
    },
    {
     "name": "stderr",
     "output_type": "stream",
     "text": [
      "\r",
      " 25%|█████████████████████████████████████████                                                                                                                           | 2/8 [01:00<03:00, 30.09s/it]"
     ]
    },
    {
     "name": "stdout",
     "output_type": "stream",
     "text": [
      "EPOCH: 18 / 20 step: 2 / 8 | lm position loss: 0.007419940549880266  | weighted loss: 0.07419940549880266\n"
     ]
    },
    {
     "name": "stderr",
     "output_type": "stream",
     "text": [
      "\r",
      " 38%|█████████████████████████████████████████████████████████████▌                                                                                                      | 3/8 [01:29<02:27, 29.55s/it]"
     ]
    },
    {
     "name": "stdout",
     "output_type": "stream",
     "text": [
      "EPOCH: 18 / 20 step: 3 / 8 | lm position loss: 0.00753159960731864  | weighted loss: 0.0753159960731864\n"
     ]
    },
    {
     "name": "stderr",
     "output_type": "stream",
     "text": [
      "\r",
      " 50%|██████████████████████████████████████████████████████████████████████████████████                                                                                  | 4/8 [01:58<01:57, 29.43s/it]"
     ]
    },
    {
     "name": "stdout",
     "output_type": "stream",
     "text": [
      "EPOCH: 18 / 20 step: 4 / 8 | lm position loss: 0.0069295610301196575  | weighted loss: 0.06929561030119658\n"
     ]
    },
    {
     "name": "stderr",
     "output_type": "stream",
     "text": [
      "\r",
      " 62%|██████████████████████████████████████████████████████████████████████████████████████████████████████▌                                                             | 5/8 [02:27<01:27, 29.25s/it]"
     ]
    },
    {
     "name": "stdout",
     "output_type": "stream",
     "text": [
      "EPOCH: 18 / 20 step: 5 / 8 | lm position loss: 0.007379287853837013  | weighted loss: 0.07379287853837013\n"
     ]
    },
    {
     "name": "stderr",
     "output_type": "stream",
     "text": [
      "\r",
      " 75%|███████████████████████████████████████████████████████████████████████████████████████████████████████████████████████████                                         | 6/8 [02:58<00:59, 29.87s/it]"
     ]
    },
    {
     "name": "stdout",
     "output_type": "stream",
     "text": [
      "EPOCH: 18 / 20 step: 6 / 8 | lm position loss: 0.006966226268559694  | weighted loss: 0.06966226268559694\n"
     ]
    },
    {
     "name": "stderr",
     "output_type": "stream",
     "text": [
      "\r",
      " 88%|███████████████████████████████████████████████████████████████████████████████████████████████████████████████████████████████████████████████▌                    | 7/8 [03:27<00:29, 29.61s/it]"
     ]
    },
    {
     "name": "stdout",
     "output_type": "stream",
     "text": [
      "EPOCH: 18 / 20 step: 7 / 8 | lm position loss: 0.006879613269120455  | weighted loss: 0.06879613269120455\n"
     ]
    },
    {
     "name": "stderr",
     "output_type": "stream",
     "text": [
      "100%|████████████████████████████████████████████████████████████████████████████████████████████████████████████████████████████████████████████████████████████████████| 8/8 [03:50<00:00, 28.85s/it]\n"
     ]
    },
    {
     "name": "stdout",
     "output_type": "stream",
     "text": [
      "EPOCH: 18 / 20 step: 8 / 8 | lm position loss: 0.007106867618858814  | weighted loss: 0.07106867618858814\n",
      "---End traing---\n",
      "---Start evaluation---\n"
     ]
    },
    {
     "name": "stderr",
     "output_type": "stream",
     "text": [
      "100%|████████████████████████████████████████████████████████████████████████████████████████████████████████████████████████████████████████████████████████████████████| 3/3 [01:02<00:00, 20.83s/it]\n"
     ]
    },
    {
     "name": "stdout",
     "output_type": "stream",
     "text": [
      "metrics/dist_part_0_L.Che 0.21126379965197836\n",
      "metrics/dist_part_1_R.Che 0.47652169810300193\n",
      "metrics/dist_part_2_Sho.A 0.2729144549709822\n",
      "metrics/dist_part_3_Sho.B 0.33583373068948097\n",
      "metrics/dist_part_4_Sho.C 0.3360483719640267\n",
      "metrics/dist_part_5_Sho.D 0.41398823544254937\n",
      "metrics/dist_part_6_Sho.E 0.6040727385232908\n",
      "metrics/dist_part_7_Arm.A 0.28854246135643274\n",
      "metrics/dist_part_8_Arm.B 0.26760252627083614\n",
      "metrics/dist_part_9_L.Wai 0.31395466831009106\n",
      "metrics/dist_part_10_R.Wai 0.42185335034919647\n",
      "metrics/dist_part_11_Arm.E 0.37867051786360645\n",
      "metrics/dist_all 0.36010554612462276\n",
      "EPOCH: 18 / 20 | lm distance: 0.36010554612462276\n",
      "---End evaluation---\n",
      "---Starting traing---\n"
     ]
    },
    {
     "name": "stderr",
     "output_type": "stream",
     "text": [
      " 12%|████████████████████▌                                                                                                                                               | 1/8 [00:30<03:32, 30.38s/it]"
     ]
    },
    {
     "name": "stdout",
     "output_type": "stream",
     "text": [
      "EPOCH: 19 / 20 step: 1 / 8 | lm position loss: 0.007140574976801872  | weighted loss: 0.07140574976801872\n"
     ]
    },
    {
     "name": "stderr",
     "output_type": "stream",
     "text": [
      "\r",
      " 25%|█████████████████████████████████████████                                                                                                                           | 2/8 [00:59<02:57, 29.51s/it]"
     ]
    },
    {
     "name": "stdout",
     "output_type": "stream",
     "text": [
      "EPOCH: 19 / 20 step: 2 / 8 | lm position loss: 0.007375891320407391  | weighted loss: 0.0737589132040739\n"
     ]
    },
    {
     "name": "stderr",
     "output_type": "stream",
     "text": [
      "\r",
      " 38%|█████████████████████████████████████████████████████████████▌                                                                                                      | 3/8 [01:28<02:26, 29.30s/it]"
     ]
    },
    {
     "name": "stdout",
     "output_type": "stream",
     "text": [
      "EPOCH: 19 / 20 step: 3 / 8 | lm position loss: 0.006914352998137474  | weighted loss: 0.06914352998137474\n"
     ]
    },
    {
     "name": "stderr",
     "output_type": "stream",
     "text": [
      "\r",
      " 50%|██████████████████████████████████████████████████████████████████████████████████                                                                                  | 4/8 [01:58<01:58, 29.69s/it]"
     ]
    },
    {
     "name": "stdout",
     "output_type": "stream",
     "text": [
      "EPOCH: 19 / 20 step: 4 / 8 | lm position loss: 0.006937349680811167  | weighted loss: 0.06937349680811167\n"
     ]
    },
    {
     "name": "stderr",
     "output_type": "stream",
     "text": [
      "\r",
      " 62%|██████████████████████████████████████████████████████████████████████████████████████████████████████▌                                                             | 5/8 [02:28<01:29, 29.91s/it]"
     ]
    },
    {
     "name": "stdout",
     "output_type": "stream",
     "text": [
      "EPOCH: 19 / 20 step: 5 / 8 | lm position loss: 0.006978372577577829  | weighted loss: 0.0697837257757783\n"
     ]
    },
    {
     "name": "stderr",
     "output_type": "stream",
     "text": [
      "\r",
      " 75%|███████████████████████████████████████████████████████████████████████████████████████████████████████████████████████████                                         | 6/8 [02:57<00:59, 29.56s/it]"
     ]
    },
    {
     "name": "stdout",
     "output_type": "stream",
     "text": [
      "EPOCH: 19 / 20 step: 6 / 8 | lm position loss: 0.006959222257137299  | weighted loss: 0.06959222257137299\n"
     ]
    },
    {
     "name": "stderr",
     "output_type": "stream",
     "text": [
      "\r",
      " 88%|███████████████████████████████████████████████████████████████████████████████████████████████████████████████████████████████████████████████▌                    | 7/8 [03:26<00:29, 29.34s/it]"
     ]
    },
    {
     "name": "stdout",
     "output_type": "stream",
     "text": [
      "EPOCH: 19 / 20 step: 7 / 8 | lm position loss: 0.006815677508711815  | weighted loss: 0.06815677508711815\n"
     ]
    },
    {
     "name": "stderr",
     "output_type": "stream",
     "text": [
      "100%|████████████████████████████████████████████████████████████████████████████████████████████████████████████████████████████████████████████████████████████████████| 8/8 [03:50<00:00, 28.86s/it]\n"
     ]
    },
    {
     "name": "stdout",
     "output_type": "stream",
     "text": [
      "EPOCH: 19 / 20 step: 8 / 8 | lm position loss: 0.006721942685544491  | weighted loss: 0.06721942685544491\n",
      "---End traing---\n",
      "---Start evaluation---\n"
     ]
    },
    {
     "name": "stderr",
     "output_type": "stream",
     "text": [
      "100%|████████████████████████████████████████████████████████████████████████████████████████████████████████████████████████████████████████████████████████████████████| 3/3 [01:01<00:00, 20.64s/it]\n"
     ]
    },
    {
     "name": "stdout",
     "output_type": "stream",
     "text": [
      "metrics/dist_part_0_L.Che 0.20652569154752407\n",
      "metrics/dist_part_1_R.Che 0.4560635799358445\n",
      "metrics/dist_part_2_Sho.A 0.2709430519008196\n",
      "metrics/dist_part_3_Sho.B 0.326342012574649\n",
      "metrics/dist_part_4_Sho.C 0.3263257449180567\n",
      "metrics/dist_part_5_Sho.D 0.40071410579769684\n",
      "metrics/dist_part_6_Sho.E 0.5767430710759412\n",
      "metrics/dist_part_7_Arm.A 0.2784872504350889\n",
      "metrics/dist_part_8_Arm.B 0.2620865081088825\n",
      "metrics/dist_part_9_L.Wai 0.30424144178105805\n",
      "metrics/dist_part_10_R.Wai 0.40351908741413817\n",
      "metrics/dist_part_11_Arm.E 0.36369412729651285\n",
      "metrics/dist_all 0.34797380606551775\n",
      "EPOCH: 19 / 20 | lm distance: 0.34797380606551775\n",
      "---End evaluation---\n",
      "---Starting traing---\n"
     ]
    },
    {
     "name": "stderr",
     "output_type": "stream",
     "text": [
      " 12%|████████████████████▌                                                                                                                                               | 1/8 [00:29<03:23, 29.13s/it]"
     ]
    },
    {
     "name": "stdout",
     "output_type": "stream",
     "text": [
      "EPOCH: 20 / 20 step: 1 / 8 | lm position loss: 0.006900465115904808  | weighted loss: 0.06900465115904808\n"
     ]
    },
    {
     "name": "stderr",
     "output_type": "stream",
     "text": [
      "\r",
      " 25%|█████████████████████████████████████████                                                                                                                           | 2/8 [00:59<02:58, 29.70s/it]"
     ]
    },
    {
     "name": "stdout",
     "output_type": "stream",
     "text": [
      "EPOCH: 20 / 20 step: 2 / 8 | lm position loss: 0.007257362827658653  | weighted loss: 0.07257362827658653\n"
     ]
    },
    {
     "name": "stderr",
     "output_type": "stream",
     "text": [
      "\r",
      " 38%|█████████████████████████████████████████████████████████████▌                                                                                                      | 3/8 [01:28<02:27, 29.51s/it]"
     ]
    },
    {
     "name": "stdout",
     "output_type": "stream",
     "text": [
      "EPOCH: 20 / 20 step: 3 / 8 | lm position loss: 0.006679594051092863  | weighted loss: 0.06679594051092863\n"
     ]
    },
    {
     "name": "stderr",
     "output_type": "stream",
     "text": [
      "\r",
      " 50%|██████████████████████████████████████████████████████████████████████████████████                                                                                  | 4/8 [01:58<01:59, 29.89s/it]"
     ]
    },
    {
     "name": "stdout",
     "output_type": "stream",
     "text": [
      "EPOCH: 20 / 20 step: 4 / 8 | lm position loss: 0.006963042076677084  | weighted loss: 0.06963042076677084\n"
     ]
    },
    {
     "name": "stderr",
     "output_type": "stream",
     "text": [
      "\r",
      " 62%|██████████████████████████████████████████████████████████████████████████████████████████████████████▌                                                             | 5/8 [02:27<01:28, 29.47s/it]"
     ]
    },
    {
     "name": "stdout",
     "output_type": "stream",
     "text": [
      "EPOCH: 20 / 20 step: 5 / 8 | lm position loss: 0.00656090909615159  | weighted loss: 0.0656090909615159\n"
     ]
    },
    {
     "name": "stderr",
     "output_type": "stream",
     "text": [
      "\r",
      " 75%|███████████████████████████████████████████████████████████████████████████████████████████████████████████████████████████                                         | 6/8 [02:57<00:59, 29.74s/it]"
     ]
    },
    {
     "name": "stdout",
     "output_type": "stream",
     "text": [
      "EPOCH: 20 / 20 step: 6 / 8 | lm position loss: 0.006917532533407211  | weighted loss: 0.06917532533407211\n"
     ]
    },
    {
     "name": "stderr",
     "output_type": "stream",
     "text": [
      "\r",
      " 88%|███████████████████████████████████████████████████████████████████████████████████████████████████████████████████████████████████████████████▌                    | 7/8 [03:26<00:29, 29.47s/it]"
     ]
    },
    {
     "name": "stdout",
     "output_type": "stream",
     "text": [
      "EPOCH: 20 / 20 step: 7 / 8 | lm position loss: 0.006593751721084118  | weighted loss: 0.06593751721084118\n"
     ]
    },
    {
     "name": "stderr",
     "output_type": "stream",
     "text": [
      "100%|████████████████████████████████████████████████████████████████████████████████████████████████████████████████████████████████████████████████████████████████████| 8/8 [03:51<00:00, 28.89s/it]\n"
     ]
    },
    {
     "name": "stdout",
     "output_type": "stream",
     "text": [
      "EPOCH: 20 / 20 step: 8 / 8 | lm position loss: 0.006856433115899563  | weighted loss: 0.06856433115899563\n",
      "---End traing---\n",
      "---Start evaluation---\n"
     ]
    },
    {
     "name": "stderr",
     "output_type": "stream",
     "text": [
      "100%|████████████████████████████████████████████████████████████████████████████████████████████████████████████████████████████████████████████████████████████████████| 3/3 [01:01<00:00, 20.37s/it]\n"
     ]
    },
    {
     "name": "stdout",
     "output_type": "stream",
     "text": [
      "metrics/dist_part_0_L.Che 0.2031374427455843\n",
      "metrics/dist_part_1_R.Che 0.43824862144884874\n",
      "metrics/dist_part_2_Sho.A 0.2695497702129031\n",
      "metrics/dist_part_3_Sho.B 0.3179389789405349\n",
      "metrics/dist_part_4_Sho.C 0.3179900380547825\n",
      "metrics/dist_part_5_Sho.D 0.3885310607224241\n",
      "metrics/dist_part_6_Sho.E 0.5527300393644938\n",
      "metrics/dist_part_7_Arm.A 0.26965589848785837\n",
      "metrics/dist_part_8_Arm.B 0.2553013717441919\n",
      "metrics/dist_part_9_L.Wai 0.2944618058199028\n",
      "metrics/dist_part_10_R.Wai 0.3874484711388367\n",
      "metrics/dist_part_11_Arm.E 0.35019310171543855\n",
      "metrics/dist_all 0.33709888336631666\n",
      "EPOCH: 20 / 20 | lm distance: 0.33709888336631666\n",
      "---End evaluation---\n",
      "Building model\n",
      "Loading model...\n",
      "Number of out channels 12\n",
      "training set 78\n",
      "val set 21\n",
      "LM_branch.stage5.0.branches.0.0.conv1.weight\n",
      "921 LM_branch.stage5.0.branches.0.0.conv1.weight\n",
      "LM_branch.stage5.0.branches.0.0.bn1.weight\n",
      "922 LM_branch.stage5.0.branches.0.0.bn1.weight\n",
      "923 LM_branch.stage5.0.branches.0.0.bn1.bias\n",
      "LM_branch.stage5.0.branches.0.0.conv2.weight\n",
      "924 LM_branch.stage5.0.branches.0.0.conv2.weight\n",
      "LM_branch.stage5.0.branches.0.0.bn2.weight\n",
      "925 LM_branch.stage5.0.branches.0.0.bn2.weight\n",
      "926 LM_branch.stage5.0.branches.0.0.bn2.bias\n",
      "LM_branch.stage5.0.branches.0.1.conv1.weight\n",
      "927 LM_branch.stage5.0.branches.0.1.conv1.weight\n",
      "LM_branch.stage5.0.branches.0.1.bn1.weight\n",
      "928 LM_branch.stage5.0.branches.0.1.bn1.weight\n",
      "929 LM_branch.stage5.0.branches.0.1.bn1.bias\n",
      "LM_branch.stage5.0.branches.0.1.conv2.weight\n",
      "930 LM_branch.stage5.0.branches.0.1.conv2.weight\n",
      "LM_branch.stage5.0.branches.0.1.bn2.weight\n",
      "931 LM_branch.stage5.0.branches.0.1.bn2.weight\n",
      "932 LM_branch.stage5.0.branches.0.1.bn2.bias\n",
      "LM_branch.stage5.0.branches.0.2.conv1.weight\n",
      "933 LM_branch.stage5.0.branches.0.2.conv1.weight\n",
      "LM_branch.stage5.0.branches.0.2.bn1.weight\n",
      "934 LM_branch.stage5.0.branches.0.2.bn1.weight\n",
      "935 LM_branch.stage5.0.branches.0.2.bn1.bias\n",
      "LM_branch.stage5.0.branches.0.2.conv2.weight\n",
      "936 LM_branch.stage5.0.branches.0.2.conv2.weight\n",
      "LM_branch.stage5.0.branches.0.2.bn2.weight\n",
      "937 LM_branch.stage5.0.branches.0.2.bn2.weight\n",
      "938 LM_branch.stage5.0.branches.0.2.bn2.bias\n",
      "LM_branch.stage5.0.branches.0.3.conv1.weight\n",
      "939 LM_branch.stage5.0.branches.0.3.conv1.weight\n",
      "LM_branch.stage5.0.branches.0.3.bn1.weight\n",
      "940 LM_branch.stage5.0.branches.0.3.bn1.weight\n",
      "941 LM_branch.stage5.0.branches.0.3.bn1.bias\n",
      "LM_branch.stage5.0.branches.0.3.conv2.weight\n",
      "942 LM_branch.stage5.0.branches.0.3.conv2.weight\n",
      "LM_branch.stage5.0.branches.0.3.bn2.weight\n",
      "943 LM_branch.stage5.0.branches.0.3.bn2.weight\n",
      "944 LM_branch.stage5.0.branches.0.3.bn2.bias\n",
      "LM_branch.stage5.0.branches.1.0.conv1.weight\n",
      "945 LM_branch.stage5.0.branches.1.0.conv1.weight\n",
      "LM_branch.stage5.0.branches.1.0.bn1.weight\n",
      "946 LM_branch.stage5.0.branches.1.0.bn1.weight\n",
      "947 LM_branch.stage5.0.branches.1.0.bn1.bias\n",
      "LM_branch.stage5.0.branches.1.0.conv2.weight\n",
      "948 LM_branch.stage5.0.branches.1.0.conv2.weight\n",
      "LM_branch.stage5.0.branches.1.0.bn2.weight\n",
      "949 LM_branch.stage5.0.branches.1.0.bn2.weight\n",
      "950 LM_branch.stage5.0.branches.1.0.bn2.bias\n",
      "LM_branch.stage5.0.branches.1.1.conv1.weight\n",
      "951 LM_branch.stage5.0.branches.1.1.conv1.weight\n",
      "LM_branch.stage5.0.branches.1.1.bn1.weight\n",
      "952 LM_branch.stage5.0.branches.1.1.bn1.weight\n",
      "953 LM_branch.stage5.0.branches.1.1.bn1.bias\n",
      "LM_branch.stage5.0.branches.1.1.conv2.weight\n",
      "954 LM_branch.stage5.0.branches.1.1.conv2.weight\n",
      "LM_branch.stage5.0.branches.1.1.bn2.weight\n",
      "955 LM_branch.stage5.0.branches.1.1.bn2.weight\n",
      "956 LM_branch.stage5.0.branches.1.1.bn2.bias\n",
      "LM_branch.stage5.0.branches.1.2.conv1.weight\n",
      "957 LM_branch.stage5.0.branches.1.2.conv1.weight\n",
      "LM_branch.stage5.0.branches.1.2.bn1.weight\n",
      "958 LM_branch.stage5.0.branches.1.2.bn1.weight\n",
      "959 LM_branch.stage5.0.branches.1.2.bn1.bias\n",
      "LM_branch.stage5.0.branches.1.2.conv2.weight\n",
      "960 LM_branch.stage5.0.branches.1.2.conv2.weight\n",
      "LM_branch.stage5.0.branches.1.2.bn2.weight\n",
      "961 LM_branch.stage5.0.branches.1.2.bn2.weight\n",
      "962 LM_branch.stage5.0.branches.1.2.bn2.bias\n",
      "LM_branch.stage5.0.branches.1.3.conv1.weight\n",
      "963 LM_branch.stage5.0.branches.1.3.conv1.weight\n",
      "LM_branch.stage5.0.branches.1.3.bn1.weight\n",
      "964 LM_branch.stage5.0.branches.1.3.bn1.weight\n",
      "965 LM_branch.stage5.0.branches.1.3.bn1.bias\n",
      "LM_branch.stage5.0.branches.1.3.conv2.weight\n",
      "966 LM_branch.stage5.0.branches.1.3.conv2.weight\n",
      "LM_branch.stage5.0.branches.1.3.bn2.weight\n",
      "967 LM_branch.stage5.0.branches.1.3.bn2.weight\n",
      "968 LM_branch.stage5.0.branches.1.3.bn2.bias\n",
      "LM_branch.stage5.0.branches.2.0.conv1.weight\n",
      "969 LM_branch.stage5.0.branches.2.0.conv1.weight\n",
      "LM_branch.stage5.0.branches.2.0.bn1.weight\n",
      "970 LM_branch.stage5.0.branches.2.0.bn1.weight\n",
      "971 LM_branch.stage5.0.branches.2.0.bn1.bias\n",
      "LM_branch.stage5.0.branches.2.0.conv2.weight\n",
      "972 LM_branch.stage5.0.branches.2.0.conv2.weight\n",
      "LM_branch.stage5.0.branches.2.0.bn2.weight\n",
      "973 LM_branch.stage5.0.branches.2.0.bn2.weight\n",
      "974 LM_branch.stage5.0.branches.2.0.bn2.bias\n",
      "LM_branch.stage5.0.branches.2.1.conv1.weight\n",
      "975 LM_branch.stage5.0.branches.2.1.conv1.weight\n",
      "LM_branch.stage5.0.branches.2.1.bn1.weight\n",
      "976 LM_branch.stage5.0.branches.2.1.bn1.weight\n",
      "977 LM_branch.stage5.0.branches.2.1.bn1.bias\n",
      "LM_branch.stage5.0.branches.2.1.conv2.weight\n",
      "978 LM_branch.stage5.0.branches.2.1.conv2.weight\n",
      "LM_branch.stage5.0.branches.2.1.bn2.weight\n",
      "979 LM_branch.stage5.0.branches.2.1.bn2.weight\n",
      "980 LM_branch.stage5.0.branches.2.1.bn2.bias\n",
      "LM_branch.stage5.0.branches.2.2.conv1.weight\n",
      "981 LM_branch.stage5.0.branches.2.2.conv1.weight\n",
      "LM_branch.stage5.0.branches.2.2.bn1.weight\n",
      "982 LM_branch.stage5.0.branches.2.2.bn1.weight\n",
      "983 LM_branch.stage5.0.branches.2.2.bn1.bias\n",
      "LM_branch.stage5.0.branches.2.2.conv2.weight\n",
      "984 LM_branch.stage5.0.branches.2.2.conv2.weight\n",
      "LM_branch.stage5.0.branches.2.2.bn2.weight\n",
      "985 LM_branch.stage5.0.branches.2.2.bn2.weight\n",
      "986 LM_branch.stage5.0.branches.2.2.bn2.bias\n",
      "LM_branch.stage5.0.branches.2.3.conv1.weight\n",
      "987 LM_branch.stage5.0.branches.2.3.conv1.weight\n",
      "LM_branch.stage5.0.branches.2.3.bn1.weight\n",
      "988 LM_branch.stage5.0.branches.2.3.bn1.weight\n",
      "989 LM_branch.stage5.0.branches.2.3.bn1.bias\n",
      "LM_branch.stage5.0.branches.2.3.conv2.weight\n",
      "990 LM_branch.stage5.0.branches.2.3.conv2.weight\n",
      "LM_branch.stage5.0.branches.2.3.bn2.weight\n",
      "991 LM_branch.stage5.0.branches.2.3.bn2.weight\n",
      "992 LM_branch.stage5.0.branches.2.3.bn2.bias\n",
      "LM_branch.stage5.0.branches.3.0.conv1.weight\n",
      "993 LM_branch.stage5.0.branches.3.0.conv1.weight\n",
      "LM_branch.stage5.0.branches.3.0.bn1.weight\n",
      "994 LM_branch.stage5.0.branches.3.0.bn1.weight\n",
      "995 LM_branch.stage5.0.branches.3.0.bn1.bias\n",
      "LM_branch.stage5.0.branches.3.0.conv2.weight\n",
      "996 LM_branch.stage5.0.branches.3.0.conv2.weight\n",
      "LM_branch.stage5.0.branches.3.0.bn2.weight\n",
      "997 LM_branch.stage5.0.branches.3.0.bn2.weight\n",
      "998 LM_branch.stage5.0.branches.3.0.bn2.bias\n",
      "LM_branch.stage5.0.branches.3.1.conv1.weight\n",
      "999 LM_branch.stage5.0.branches.3.1.conv1.weight\n",
      "LM_branch.stage5.0.branches.3.1.bn1.weight\n",
      "1000 LM_branch.stage5.0.branches.3.1.bn1.weight\n",
      "1001 LM_branch.stage5.0.branches.3.1.bn1.bias\n",
      "LM_branch.stage5.0.branches.3.1.conv2.weight\n",
      "1002 LM_branch.stage5.0.branches.3.1.conv2.weight\n",
      "LM_branch.stage5.0.branches.3.1.bn2.weight\n",
      "1003 LM_branch.stage5.0.branches.3.1.bn2.weight\n",
      "1004 LM_branch.stage5.0.branches.3.1.bn2.bias\n",
      "LM_branch.stage5.0.branches.3.2.conv1.weight\n",
      "1005 LM_branch.stage5.0.branches.3.2.conv1.weight\n",
      "LM_branch.stage5.0.branches.3.2.bn1.weight\n",
      "1006 LM_branch.stage5.0.branches.3.2.bn1.weight\n",
      "1007 LM_branch.stage5.0.branches.3.2.bn1.bias\n",
      "LM_branch.stage5.0.branches.3.2.conv2.weight\n",
      "1008 LM_branch.stage5.0.branches.3.2.conv2.weight\n",
      "LM_branch.stage5.0.branches.3.2.bn2.weight\n",
      "1009 LM_branch.stage5.0.branches.3.2.bn2.weight\n",
      "1010 LM_branch.stage5.0.branches.3.2.bn2.bias\n",
      "LM_branch.stage5.0.branches.3.3.conv1.weight\n",
      "1011 LM_branch.stage5.0.branches.3.3.conv1.weight\n",
      "LM_branch.stage5.0.branches.3.3.bn1.weight\n",
      "1012 LM_branch.stage5.0.branches.3.3.bn1.weight\n",
      "1013 LM_branch.stage5.0.branches.3.3.bn1.bias\n",
      "LM_branch.stage5.0.branches.3.3.conv2.weight\n",
      "1014 LM_branch.stage5.0.branches.3.3.conv2.weight\n",
      "LM_branch.stage5.0.branches.3.3.bn2.weight\n",
      "1015 LM_branch.stage5.0.branches.3.3.bn2.weight\n",
      "1016 LM_branch.stage5.0.branches.3.3.bn2.bias\n",
      "LM_branch.stage5.0.fuse_layers.0.1.0.weight\n",
      "1017 LM_branch.stage5.0.fuse_layers.0.1.0.weight\n",
      "LM_branch.stage5.0.fuse_layers.0.1.1.weight\n",
      "1018 LM_branch.stage5.0.fuse_layers.0.1.1.weight\n",
      "1019 LM_branch.stage5.0.fuse_layers.0.1.1.bias\n",
      "LM_branch.stage5.0.fuse_layers.0.2.0.weight\n",
      "1020 LM_branch.stage5.0.fuse_layers.0.2.0.weight\n",
      "LM_branch.stage5.0.fuse_layers.0.2.1.weight\n",
      "1021 LM_branch.stage5.0.fuse_layers.0.2.1.weight\n",
      "1022 LM_branch.stage5.0.fuse_layers.0.2.1.bias\n",
      "LM_branch.stage5.0.fuse_layers.0.3.0.weight\n",
      "1023 LM_branch.stage5.0.fuse_layers.0.3.0.weight\n",
      "LM_branch.stage5.0.fuse_layers.0.3.1.weight\n",
      "1024 LM_branch.stage5.0.fuse_layers.0.3.1.weight\n",
      "1025 LM_branch.stage5.0.fuse_layers.0.3.1.bias\n",
      "LM_branch.stage5.0.fuse_layers.1.0.0.0.weight\n",
      "1026 LM_branch.stage5.0.fuse_layers.1.0.0.0.weight\n",
      "LM_branch.stage5.0.fuse_layers.1.0.0.1.weight\n",
      "1027 LM_branch.stage5.0.fuse_layers.1.0.0.1.weight\n",
      "1028 LM_branch.stage5.0.fuse_layers.1.0.0.1.bias\n",
      "LM_branch.stage5.0.fuse_layers.1.2.0.weight\n",
      "1029 LM_branch.stage5.0.fuse_layers.1.2.0.weight\n",
      "LM_branch.stage5.0.fuse_layers.1.2.1.weight\n",
      "1030 LM_branch.stage5.0.fuse_layers.1.2.1.weight\n",
      "1031 LM_branch.stage5.0.fuse_layers.1.2.1.bias\n",
      "LM_branch.stage5.0.fuse_layers.1.3.0.weight\n",
      "1032 LM_branch.stage5.0.fuse_layers.1.3.0.weight\n",
      "LM_branch.stage5.0.fuse_layers.1.3.1.weight\n",
      "1033 LM_branch.stage5.0.fuse_layers.1.3.1.weight\n",
      "1034 LM_branch.stage5.0.fuse_layers.1.3.1.bias\n",
      "LM_branch.stage5.0.fuse_layers.2.0.0.0.weight\n",
      "1035 LM_branch.stage5.0.fuse_layers.2.0.0.0.weight\n",
      "LM_branch.stage5.0.fuse_layers.2.0.0.1.weight\n",
      "1036 LM_branch.stage5.0.fuse_layers.2.0.0.1.weight\n",
      "1037 LM_branch.stage5.0.fuse_layers.2.0.0.1.bias\n",
      "LM_branch.stage5.0.fuse_layers.2.0.1.0.weight\n",
      "1038 LM_branch.stage5.0.fuse_layers.2.0.1.0.weight\n",
      "LM_branch.stage5.0.fuse_layers.2.0.1.1.weight\n",
      "1039 LM_branch.stage5.0.fuse_layers.2.0.1.1.weight\n",
      "1040 LM_branch.stage5.0.fuse_layers.2.0.1.1.bias\n",
      "LM_branch.stage5.0.fuse_layers.2.1.0.0.weight\n",
      "1041 LM_branch.stage5.0.fuse_layers.2.1.0.0.weight\n",
      "LM_branch.stage5.0.fuse_layers.2.1.0.1.weight\n",
      "1042 LM_branch.stage5.0.fuse_layers.2.1.0.1.weight\n",
      "1043 LM_branch.stage5.0.fuse_layers.2.1.0.1.bias\n",
      "LM_branch.stage5.0.fuse_layers.2.3.0.weight\n",
      "1044 LM_branch.stage5.0.fuse_layers.2.3.0.weight\n",
      "LM_branch.stage5.0.fuse_layers.2.3.1.weight\n",
      "1045 LM_branch.stage5.0.fuse_layers.2.3.1.weight\n",
      "1046 LM_branch.stage5.0.fuse_layers.2.3.1.bias\n",
      "LM_branch.stage5.0.fuse_layers.3.0.0.0.weight\n",
      "1047 LM_branch.stage5.0.fuse_layers.3.0.0.0.weight\n",
      "LM_branch.stage5.0.fuse_layers.3.0.0.1.weight\n",
      "1048 LM_branch.stage5.0.fuse_layers.3.0.0.1.weight\n",
      "1049 LM_branch.stage5.0.fuse_layers.3.0.0.1.bias\n",
      "LM_branch.stage5.0.fuse_layers.3.0.1.0.weight\n",
      "1050 LM_branch.stage5.0.fuse_layers.3.0.1.0.weight\n",
      "LM_branch.stage5.0.fuse_layers.3.0.1.1.weight\n",
      "1051 LM_branch.stage5.0.fuse_layers.3.0.1.1.weight\n",
      "1052 LM_branch.stage5.0.fuse_layers.3.0.1.1.bias\n",
      "LM_branch.stage5.0.fuse_layers.3.0.2.0.weight\n",
      "1053 LM_branch.stage5.0.fuse_layers.3.0.2.0.weight\n",
      "LM_branch.stage5.0.fuse_layers.3.0.2.1.weight\n",
      "1054 LM_branch.stage5.0.fuse_layers.3.0.2.1.weight\n",
      "1055 LM_branch.stage5.0.fuse_layers.3.0.2.1.bias\n",
      "LM_branch.stage5.0.fuse_layers.3.1.0.0.weight\n",
      "1056 LM_branch.stage5.0.fuse_layers.3.1.0.0.weight\n",
      "LM_branch.stage5.0.fuse_layers.3.1.0.1.weight\n",
      "1057 LM_branch.stage5.0.fuse_layers.3.1.0.1.weight\n",
      "1058 LM_branch.stage5.0.fuse_layers.3.1.0.1.bias\n",
      "LM_branch.stage5.0.fuse_layers.3.1.1.0.weight\n",
      "1059 LM_branch.stage5.0.fuse_layers.3.1.1.0.weight\n",
      "LM_branch.stage5.0.fuse_layers.3.1.1.1.weight\n",
      "1060 LM_branch.stage5.0.fuse_layers.3.1.1.1.weight\n",
      "1061 LM_branch.stage5.0.fuse_layers.3.1.1.1.bias\n",
      "LM_branch.stage5.0.fuse_layers.3.2.0.0.weight\n",
      "1062 LM_branch.stage5.0.fuse_layers.3.2.0.0.weight\n",
      "LM_branch.stage5.0.fuse_layers.3.2.0.1.weight\n",
      "1063 LM_branch.stage5.0.fuse_layers.3.2.0.1.weight\n",
      "1064 LM_branch.stage5.0.fuse_layers.3.2.0.1.bias\n",
      "LM_branch.last_layer_landmark.0.weight\n",
      "1065 LM_branch.last_layer_landmark.0.weight\n",
      "1066 LM_branch.last_layer_landmark.0.bias\n",
      "LM_branch.last_layer_landmark.1.weight\n",
      "1067 LM_branch.last_layer_landmark.1.weight\n",
      "1068 LM_branch.last_layer_landmark.1.bias\n",
      "LM_branch.last_layer_landmark.3.weight\n",
      "1069 LM_branch.last_layer_landmark.3.weight\n",
      "1070 LM_branch.last_layer_landmark.3.bias\n",
      "---Starting traing---\n"
     ]
    },
    {
     "name": "stderr",
     "output_type": "stream",
     "text": [
      " 12%|████████████████████▌                                                                                                                                               | 1/8 [00:31<03:38, 31.21s/it]"
     ]
    },
    {
     "name": "stdout",
     "output_type": "stream",
     "text": [
      "EPOCH: 1 / 20 step: 1 / 8 | lm position loss: 25534.53125  | weighted loss: 255345.3125\n"
     ]
    },
    {
     "name": "stderr",
     "output_type": "stream",
     "text": [
      "\r",
      " 25%|█████████████████████████████████████████                                                                                                                           | 2/8 [01:01<03:04, 30.68s/it]"
     ]
    },
    {
     "name": "stdout",
     "output_type": "stream",
     "text": [
      "EPOCH: 1 / 20 step: 2 / 8 | lm position loss: 20381.12890625  | weighted loss: 203811.2890625\n"
     ]
    },
    {
     "name": "stderr",
     "output_type": "stream",
     "text": [
      "\r",
      " 38%|█████████████████████████████████████████████████████████████▌                                                                                                      | 3/8 [01:30<02:29, 29.86s/it]"
     ]
    },
    {
     "name": "stdout",
     "output_type": "stream",
     "text": [
      "EPOCH: 1 / 20 step: 3 / 8 | lm position loss: 13177.1044921875  | weighted loss: 131771.044921875\n"
     ]
    },
    {
     "name": "stderr",
     "output_type": "stream",
     "text": [
      "\r",
      " 50%|██████████████████████████████████████████████████████████████████████████████████                                                                                  | 4/8 [02:00<02:00, 30.11s/it]"
     ]
    },
    {
     "name": "stdout",
     "output_type": "stream",
     "text": [
      "EPOCH: 1 / 20 step: 4 / 8 | lm position loss: 13203.8671875  | weighted loss: 132038.671875\n"
     ]
    },
    {
     "name": "stderr",
     "output_type": "stream",
     "text": [
      "\r",
      " 62%|██████████████████████████████████████████████████████████████████████████████████████████████████████▌                                                             | 5/8 [02:29<01:29, 29.67s/it]"
     ]
    },
    {
     "name": "stdout",
     "output_type": "stream",
     "text": [
      "EPOCH: 1 / 20 step: 5 / 8 | lm position loss: 7158.15673828125  | weighted loss: 71581.5673828125\n"
     ]
    },
    {
     "name": "stderr",
     "output_type": "stream",
     "text": [
      "\r",
      " 75%|███████████████████████████████████████████████████████████████████████████████████████████████████████████████████████████                                         | 6/8 [02:59<00:59, 29.60s/it]"
     ]
    },
    {
     "name": "stdout",
     "output_type": "stream",
     "text": [
      "EPOCH: 1 / 20 step: 6 / 8 | lm position loss: 5426.046875  | weighted loss: 54260.46875\n"
     ]
    },
    {
     "name": "stderr",
     "output_type": "stream",
     "text": [
      "\r",
      " 88%|███████████████████████████████████████████████████████████████████████████████████████████████████████████████████████████████████████████████▌                    | 7/8 [03:28<00:29, 29.63s/it]"
     ]
    },
    {
     "name": "stdout",
     "output_type": "stream",
     "text": [
      "EPOCH: 1 / 20 step: 7 / 8 | lm position loss: 4491.701171875  | weighted loss: 44917.01171875\n"
     ]
    },
    {
     "name": "stderr",
     "output_type": "stream",
     "text": [
      "100%|████████████████████████████████████████████████████████████████████████████████████████████████████████████████████████████████████████████████████████████████████| 8/8 [03:52<00:00, 29.12s/it]\n"
     ]
    },
    {
     "name": "stdout",
     "output_type": "stream",
     "text": [
      "EPOCH: 1 / 20 step: 8 / 8 | lm position loss: 2650.503662109375  | weighted loss: 26505.03662109375\n",
      "---End traing---\n",
      "---Start evaluation---\n"
     ]
    },
    {
     "name": "stderr",
     "output_type": "stream",
     "text": [
      "100%|████████████████████████████████████████████████████████████████████████████████████████████████████████████████████████████████████████████████████████████████████| 3/3 [01:00<00:00, 20.15s/it]\n"
     ]
    },
    {
     "name": "stdout",
     "output_type": "stream",
     "text": [
      "metrics/dist_part_0_L.Che 0.35405898530138896\n",
      "metrics/dist_part_1_R.Che 0.7463720839729072\n",
      "metrics/dist_part_2_Sho.A 0.27566833831129295\n",
      "metrics/dist_part_3_Sho.B 0.38038496349680107\n",
      "metrics/dist_part_4_Sho.C 0.5083782082395935\n",
      "metrics/dist_part_5_Sho.D 0.6519334753888648\n",
      "metrics/dist_part_6_Sho.E 0.7675549984207027\n",
      "metrics/dist_part_7_Arm.A 0.3162277811648754\n",
      "metrics/dist_part_8_Arm.B 0.4064574439468179\n",
      "metrics/dist_part_9_L.Wai 0.5401301653920152\n",
      "metrics/dist_part_10_R.Wai 0.820559873606866\n",
      "metrics/dist_part_11_Arm.E 1.0235595382024159\n",
      "metrics/dist_all 0.5659404879537118\n",
      "EPOCH: 1 / 20 | lm distance: 0.5659404879537118\n",
      "---End evaluation---\n",
      "---Starting traing---\n"
     ]
    },
    {
     "name": "stderr",
     "output_type": "stream",
     "text": [
      " 12%|████████████████████▌                                                                                                                                               | 1/8 [00:30<03:35, 30.81s/it]"
     ]
    },
    {
     "name": "stdout",
     "output_type": "stream",
     "text": [
      "EPOCH: 2 / 20 step: 1 / 8 | lm position loss: 3089.697265625  | weighted loss: 30896.97265625\n"
     ]
    },
    {
     "name": "stderr",
     "output_type": "stream",
     "text": [
      "\r",
      " 25%|█████████████████████████████████████████                                                                                                                           | 2/8 [01:01<03:02, 30.49s/it]"
     ]
    },
    {
     "name": "stdout",
     "output_type": "stream",
     "text": [
      "EPOCH: 2 / 20 step: 2 / 8 | lm position loss: 1428.1083984375  | weighted loss: 14281.083984375\n"
     ]
    },
    {
     "name": "stderr",
     "output_type": "stream",
     "text": [
      "\r",
      " 38%|█████████████████████████████████████████████████████████████▌                                                                                                      | 3/8 [01:30<02:29, 29.94s/it]"
     ]
    },
    {
     "name": "stdout",
     "output_type": "stream",
     "text": [
      "EPOCH: 2 / 20 step: 3 / 8 | lm position loss: 1152.780517578125  | weighted loss: 11527.80517578125\n"
     ]
    },
    {
     "name": "stderr",
     "output_type": "stream",
     "text": [
      "\r",
      " 50%|██████████████████████████████████████████████████████████████████████████████████                                                                                  | 4/8 [01:59<01:58, 29.52s/it]"
     ]
    },
    {
     "name": "stdout",
     "output_type": "stream",
     "text": [
      "EPOCH: 2 / 20 step: 4 / 8 | lm position loss: 1037.571533203125  | weighted loss: 10375.71533203125\n"
     ]
    },
    {
     "name": "stderr",
     "output_type": "stream",
     "text": [
      "\r",
      " 62%|██████████████████████████████████████████████████████████████████████████████████████████████████████▌                                                             | 5/8 [02:28<01:28, 29.58s/it]"
     ]
    },
    {
     "name": "stdout",
     "output_type": "stream",
     "text": [
      "EPOCH: 2 / 20 step: 5 / 8 | lm position loss: 687.7900390625  | weighted loss: 6877.900390625\n"
     ]
    },
    {
     "name": "stderr",
     "output_type": "stream",
     "text": [
      "\r",
      " 75%|███████████████████████████████████████████████████████████████████████████████████████████████████████████████████████████                                         | 6/8 [02:59<00:59, 29.82s/it]"
     ]
    },
    {
     "name": "stdout",
     "output_type": "stream",
     "text": [
      "EPOCH: 2 / 20 step: 6 / 8 | lm position loss: 449.1323547363281  | weighted loss: 4491.323547363281\n"
     ]
    },
    {
     "name": "stderr",
     "output_type": "stream",
     "text": [
      "\r",
      " 88%|███████████████████████████████████████████████████████████████████████████████████████████████████████████████████████████████████████████████▌                    | 7/8 [03:28<00:29, 29.65s/it]"
     ]
    },
    {
     "name": "stdout",
     "output_type": "stream",
     "text": [
      "EPOCH: 2 / 20 step: 7 / 8 | lm position loss: 177.75965881347656  | weighted loss: 1777.5965881347656\n"
     ]
    },
    {
     "name": "stderr",
     "output_type": "stream",
     "text": [
      "100%|████████████████████████████████████████████████████████████████████████████████████████████████████████████████████████████████████████████████████████████████████| 8/8 [03:51<00:00, 28.97s/it]\n"
     ]
    },
    {
     "name": "stdout",
     "output_type": "stream",
     "text": [
      "EPOCH: 2 / 20 step: 8 / 8 | lm position loss: 226.4444580078125  | weighted loss: 2264.444580078125\n",
      "---End traing---\n",
      "---Start evaluation---\n"
     ]
    },
    {
     "name": "stderr",
     "output_type": "stream",
     "text": [
      "100%|████████████████████████████████████████████████████████████████████████████████████████████████████████████████████████████████████████████████████████████████████| 3/3 [01:03<00:00, 21.13s/it]\n"
     ]
    },
    {
     "name": "stdout",
     "output_type": "stream",
     "text": [
      "metrics/dist_part_0_L.Che 0.3540589853013889\n",
      "metrics/dist_part_1_R.Che 0.7463720839729071\n",
      "metrics/dist_part_2_Sho.A 0.27566833831129295\n",
      "metrics/dist_part_3_Sho.B 0.38038496349680107\n",
      "metrics/dist_part_4_Sho.C 0.5083782082395935\n",
      "metrics/dist_part_5_Sho.D 0.6519334753888648\n",
      "metrics/dist_part_6_Sho.E 0.7675549984207028\n",
      "metrics/dist_part_7_Arm.A 0.3162277811648754\n",
      "metrics/dist_part_8_Arm.B 0.406457443946818\n",
      "metrics/dist_part_9_L.Wai 0.5401301653920152\n",
      "metrics/dist_part_10_R.Wai 0.820559873606866\n",
      "metrics/dist_part_11_Arm.E 1.0235595382024156\n",
      "metrics/dist_all 0.5659404879537118\n",
      "EPOCH: 2 / 20 | lm distance: 0.5659404879537118\n",
      "---End evaluation---\n",
      "---Starting traing---\n"
     ]
    },
    {
     "name": "stderr",
     "output_type": "stream",
     "text": [
      " 12%|████████████████████▌                                                                                                                                               | 1/8 [00:29<03:29, 29.90s/it]"
     ]
    },
    {
     "name": "stdout",
     "output_type": "stream",
     "text": [
      "EPOCH: 3 / 20 step: 1 / 8 | lm position loss: 67.12644958496094  | weighted loss: 671.2644958496094\n"
     ]
    },
    {
     "name": "stderr",
     "output_type": "stream",
     "text": [
      "\r",
      " 25%|█████████████████████████████████████████                                                                                                                           | 2/8 [00:58<02:56, 29.40s/it]"
     ]
    },
    {
     "name": "stdout",
     "output_type": "stream",
     "text": [
      "EPOCH: 3 / 20 step: 2 / 8 | lm position loss: 42.596351623535156  | weighted loss: 425.96351623535156\n"
     ]
    },
    {
     "name": "stderr",
     "output_type": "stream",
     "text": [
      "\r",
      " 38%|█████████████████████████████████████████████████████████████▌                                                                                                      | 3/8 [01:27<02:25, 29.17s/it]"
     ]
    },
    {
     "name": "stdout",
     "output_type": "stream",
     "text": [
      "EPOCH: 3 / 20 step: 3 / 8 | lm position loss: 48.37224197387695  | weighted loss: 483.72241973876953\n"
     ]
    },
    {
     "name": "stderr",
     "output_type": "stream",
     "text": [
      "\r",
      " 50%|██████████████████████████████████████████████████████████████████████████████████                                                                                  | 4/8 [01:57<01:58, 29.53s/it]"
     ]
    },
    {
     "name": "stdout",
     "output_type": "stream",
     "text": [
      "EPOCH: 3 / 20 step: 4 / 8 | lm position loss: 3.941685438156128  | weighted loss: 39.41685438156128\n"
     ]
    },
    {
     "name": "stderr",
     "output_type": "stream",
     "text": [
      "\r",
      " 62%|██████████████████████████████████████████████████████████████████████████████████████████████████████▌                                                             | 5/8 [02:28<01:29, 29.73s/it]"
     ]
    },
    {
     "name": "stdout",
     "output_type": "stream",
     "text": [
      "EPOCH: 3 / 20 step: 5 / 8 | lm position loss: 6.733173370361328  | weighted loss: 67.33173370361328\n"
     ]
    },
    {
     "name": "stderr",
     "output_type": "stream",
     "text": [
      "\r",
      " 75%|███████████████████████████████████████████████████████████████████████████████████████████████████████████████████████████                                         | 6/8 [02:56<00:58, 29.44s/it]"
     ]
    },
    {
     "name": "stdout",
     "output_type": "stream",
     "text": [
      "EPOCH: 3 / 20 step: 6 / 8 | lm position loss: 1.8255064487457275  | weighted loss: 18.255064487457275\n"
     ]
    },
    {
     "name": "stderr",
     "output_type": "stream",
     "text": [
      "\r",
      " 88%|███████████████████████████████████████████████████████████████████████████████████████████████████████████████████████████████████████████████▌                    | 7/8 [03:26<00:29, 29.45s/it]"
     ]
    },
    {
     "name": "stdout",
     "output_type": "stream",
     "text": [
      "EPOCH: 3 / 20 step: 7 / 8 | lm position loss: 3.2065343856811523  | weighted loss: 32.06534385681152\n"
     ]
    },
    {
     "name": "stderr",
     "output_type": "stream",
     "text": [
      "100%|████████████████████████████████████████████████████████████████████████████████████████████████████████████████████████████████████████████████████████████████████| 8/8 [03:49<00:00, 28.70s/it]\n"
     ]
    },
    {
     "name": "stdout",
     "output_type": "stream",
     "text": [
      "EPOCH: 3 / 20 step: 8 / 8 | lm position loss: 0.5858011841773987  | weighted loss: 5.858011841773987\n",
      "---End traing---\n",
      "---Start evaluation---\n"
     ]
    },
    {
     "name": "stderr",
     "output_type": "stream",
     "text": [
      "100%|████████████████████████████████████████████████████████████████████████████████████████████████████████████████████████████████████████████████████████████████████| 3/3 [01:02<00:00, 21.00s/it]\n"
     ]
    },
    {
     "name": "stdout",
     "output_type": "stream",
     "text": [
      "metrics/dist_part_0_L.Che 0.35405898530138896\n",
      "metrics/dist_part_1_R.Che 0.7463720839729071\n",
      "metrics/dist_part_2_Sho.A 0.2756683383112929\n",
      "metrics/dist_part_3_Sho.B 0.38038496349680107\n",
      "metrics/dist_part_4_Sho.C 0.5083782082395933\n",
      "metrics/dist_part_5_Sho.D 0.6519334753888648\n",
      "metrics/dist_part_6_Sho.E 0.7675549984207028\n",
      "metrics/dist_part_7_Arm.A 0.3162277811648754\n",
      "metrics/dist_part_8_Arm.B 0.40645744394681793\n",
      "metrics/dist_part_9_L.Wai 0.5401301653920152\n",
      "metrics/dist_part_10_R.Wai 0.8205598736068659\n",
      "metrics/dist_part_11_Arm.E 1.0235595382024159\n",
      "metrics/dist_all 0.5659404879537118\n",
      "EPOCH: 3 / 20 | lm distance: 0.5659404879537118\n",
      "---End evaluation---\n",
      "---Starting traing---\n"
     ]
    },
    {
     "name": "stderr",
     "output_type": "stream",
     "text": [
      " 12%|████████████████████▌                                                                                                                                               | 1/8 [00:28<03:22, 28.88s/it]"
     ]
    },
    {
     "name": "stdout",
     "output_type": "stream",
     "text": [
      "EPOCH: 4 / 20 step: 1 / 8 | lm position loss: 0.9094261527061462  | weighted loss: 9.094261527061462\n"
     ]
    },
    {
     "name": "stderr",
     "output_type": "stream",
     "text": [
      "\r",
      " 25%|█████████████████████████████████████████                                                                                                                           | 2/8 [00:58<02:54, 29.10s/it]"
     ]
    },
    {
     "name": "stdout",
     "output_type": "stream",
     "text": [
      "EPOCH: 4 / 20 step: 2 / 8 | lm position loss: 0.1912357062101364  | weighted loss: 1.9123570621013641\n"
     ]
    },
    {
     "name": "stderr",
     "output_type": "stream",
     "text": [
      "\r",
      " 38%|█████████████████████████████████████████████████████████████▌                                                                                                      | 3/8 [01:29<02:30, 30.19s/it]"
     ]
    },
    {
     "name": "stdout",
     "output_type": "stream",
     "text": [
      "EPOCH: 4 / 20 step: 3 / 8 | lm position loss: 0.08236553519964218  | weighted loss: 0.8236553519964218\n"
     ]
    },
    {
     "name": "stderr",
     "output_type": "stream",
     "text": [
      "\r",
      " 50%|██████████████████████████████████████████████████████████████████████████████████                                                                                  | 4/8 [01:59<01:59, 29.99s/it]"
     ]
    },
    {
     "name": "stdout",
     "output_type": "stream",
     "text": [
      "EPOCH: 4 / 20 step: 4 / 8 | lm position loss: 0.0588722825050354  | weighted loss: 0.588722825050354\n"
     ]
    },
    {
     "name": "stderr",
     "output_type": "stream",
     "text": [
      "\r",
      " 62%|██████████████████████████████████████████████████████████████████████████████████████████████████████▌                                                             | 5/8 [02:28<01:28, 29.59s/it]"
     ]
    },
    {
     "name": "stdout",
     "output_type": "stream",
     "text": [
      "EPOCH: 4 / 20 step: 5 / 8 | lm position loss: 0.08046037703752518  | weighted loss: 0.8046037703752518\n"
     ]
    },
    {
     "name": "stderr",
     "output_type": "stream",
     "text": [
      "\r",
      " 75%|███████████████████████████████████████████████████████████████████████████████████████████████████████████████████████████                                         | 6/8 [02:57<00:58, 29.35s/it]"
     ]
    },
    {
     "name": "stdout",
     "output_type": "stream",
     "text": [
      "EPOCH: 4 / 20 step: 6 / 8 | lm position loss: 0.11643197387456894  | weighted loss: 1.1643197387456894\n"
     ]
    },
    {
     "name": "stderr",
     "output_type": "stream",
     "text": [
      "\r",
      " 88%|███████████████████████████████████████████████████████████████████████████████████████████████████████████████████████████████████████████████▌                    | 7/8 [03:27<00:29, 29.66s/it]"
     ]
    },
    {
     "name": "stdout",
     "output_type": "stream",
     "text": [
      "EPOCH: 4 / 20 step: 7 / 8 | lm position loss: 0.18436971306800842  | weighted loss: 1.8436971306800842\n"
     ]
    },
    {
     "name": "stderr",
     "output_type": "stream",
     "text": [
      "100%|████████████████████████████████████████████████████████████████████████████████████████████████████████████████████████████████████████████████████████████████████| 8/8 [03:51<00:00, 28.90s/it]\n"
     ]
    },
    {
     "name": "stdout",
     "output_type": "stream",
     "text": [
      "EPOCH: 4 / 20 step: 8 / 8 | lm position loss: 0.1061374768614769  | weighted loss: 1.061374768614769\n",
      "---End traing---\n",
      "---Start evaluation---\n"
     ]
    },
    {
     "name": "stderr",
     "output_type": "stream",
     "text": [
      "100%|████████████████████████████████████████████████████████████████████████████████████████████████████████████████████████████████████████████████████████████████████| 3/3 [01:01<00:00, 20.44s/it]\n"
     ]
    },
    {
     "name": "stdout",
     "output_type": "stream",
     "text": [
      "metrics/dist_part_0_L.Che 0.41980340125803306\n",
      "metrics/dist_part_1_R.Che 0.7557920002194501\n",
      "metrics/dist_part_2_Sho.A 0.3870105940396508\n",
      "metrics/dist_part_3_Sho.B 0.4760355959237566\n",
      "metrics/dist_part_4_Sho.C 0.5898714262181862\n",
      "metrics/dist_part_5_Sho.D 0.7024726796443787\n",
      "metrics/dist_part_6_Sho.E 0.7974790519908831\n",
      "metrics/dist_part_7_Arm.A 0.37426549422075767\n",
      "metrics/dist_part_8_Arm.B 0.43089273063036626\n",
      "metrics/dist_part_9_L.Wai 0.5003211518538421\n",
      "metrics/dist_part_10_R.Wai 0.7648341073279852\n",
      "metrics/dist_part_11_Arm.E 1.0235595382024159\n",
      "metrics/dist_all 0.6018614809608087\n",
      "EPOCH: 4 / 20 | lm distance: 0.6018614809608087\n",
      "---End evaluation---\n",
      "---Starting traing---\n"
     ]
    },
    {
     "name": "stderr",
     "output_type": "stream",
     "text": [
      " 12%|████████████████████▌                                                                                                                                               | 1/8 [00:31<03:42, 31.75s/it]"
     ]
    },
    {
     "name": "stdout",
     "output_type": "stream",
     "text": [
      "EPOCH: 5 / 20 step: 1 / 8 | lm position loss: 0.028724003583192825  | weighted loss: 0.28724003583192825\n"
     ]
    },
    {
     "name": "stderr",
     "output_type": "stream",
     "text": [
      "\r",
      " 25%|█████████████████████████████████████████                                                                                                                           | 2/8 [01:04<03:14, 32.42s/it]"
     ]
    },
    {
     "name": "stdout",
     "output_type": "stream",
     "text": [
      "EPOCH: 5 / 20 step: 2 / 8 | lm position loss: 0.8046196103096008  | weighted loss: 8.046196103096008\n"
     ]
    },
    {
     "name": "stderr",
     "output_type": "stream",
     "text": [
      "\r",
      " 38%|█████████████████████████████████████████████████████████████▌                                                                                                      | 3/8 [01:35<02:38, 31.71s/it]"
     ]
    },
    {
     "name": "stdout",
     "output_type": "stream",
     "text": [
      "EPOCH: 5 / 20 step: 3 / 8 | lm position loss: 0.1374538242816925  | weighted loss: 1.374538242816925\n"
     ]
    },
    {
     "name": "stderr",
     "output_type": "stream",
     "text": [
      "\r",
      " 50%|██████████████████████████████████████████████████████████████████████████████████                                                                                  | 4/8 [02:06<02:05, 31.47s/it]"
     ]
    },
    {
     "name": "stdout",
     "output_type": "stream",
     "text": [
      "EPOCH: 5 / 20 step: 4 / 8 | lm position loss: 0.10749495029449463  | weighted loss: 1.0749495029449463\n"
     ]
    },
    {
     "name": "stderr",
     "output_type": "stream",
     "text": [
      "\r",
      " 62%|██████████████████████████████████████████████████████████████████████████████████████████████████████▌                                                             | 5/8 [02:38<01:35, 31.69s/it]"
     ]
    },
    {
     "name": "stdout",
     "output_type": "stream",
     "text": [
      "EPOCH: 5 / 20 step: 5 / 8 | lm position loss: 0.1094544529914856  | weighted loss: 1.094544529914856\n"
     ]
    },
    {
     "name": "stderr",
     "output_type": "stream",
     "text": [
      "\r",
      " 75%|███████████████████████████████████████████████████████████████████████████████████████████████████████████████████████████                                         | 6/8 [03:11<01:04, 32.10s/it]"
     ]
    },
    {
     "name": "stdout",
     "output_type": "stream",
     "text": [
      "EPOCH: 5 / 20 step: 6 / 8 | lm position loss: 0.10135990381240845  | weighted loss: 1.0135990381240845\n"
     ]
    },
    {
     "name": "stderr",
     "output_type": "stream",
     "text": [
      "\r",
      " 88%|███████████████████████████████████████████████████████████████████████████████████████████████████████████████████████████████████████████████▌                    | 7/8 [03:43<00:32, 32.02s/it]"
     ]
    },
    {
     "name": "stdout",
     "output_type": "stream",
     "text": [
      "EPOCH: 5 / 20 step: 7 / 8 | lm position loss: 0.16679686307907104  | weighted loss: 1.6679686307907104\n"
     ]
    },
    {
     "name": "stderr",
     "output_type": "stream",
     "text": [
      "100%|████████████████████████████████████████████████████████████████████████████████████████████████████████████████████████████████████████████████████████████████████| 8/8 [04:08<00:00, 31.06s/it]\n"
     ]
    },
    {
     "name": "stdout",
     "output_type": "stream",
     "text": [
      "EPOCH: 5 / 20 step: 8 / 8 | lm position loss: 0.07006654143333435  | weighted loss: 0.7006654143333435\n",
      "---End traing---\n",
      "---Start evaluation---\n"
     ]
    },
    {
     "name": "stderr",
     "output_type": "stream",
     "text": [
      "100%|████████████████████████████████████████████████████████████████████████████████████████████████████████████████████████████████████████████████████████████████████| 3/3 [01:07<00:00, 22.38s/it]\n"
     ]
    },
    {
     "name": "stdout",
     "output_type": "stream",
     "text": [
      "metrics/dist_part_0_L.Che 0.40023269806310113\n",
      "metrics/dist_part_1_R.Che 0.7740226726709527\n",
      "metrics/dist_part_2_Sho.A 0.3932543195988696\n",
      "metrics/dist_part_3_Sho.B 0.4764551856151094\n",
      "metrics/dist_part_4_Sho.C 0.5371986406518633\n",
      "metrics/dist_part_5_Sho.D 0.6495023639167297\n",
      "metrics/dist_part_6_Sho.E 0.7437308981813502\n",
      "metrics/dist_part_7_Arm.A 0.3209243353531029\n",
      "metrics/dist_part_8_Arm.B 0.3566061002956837\n",
      "metrics/dist_part_9_L.Wai 0.4279347031968578\n",
      "metrics/dist_part_10_R.Wai 0.7183673018591242\n",
      "metrics/dist_part_11_Arm.E 0.9723908513019488\n",
      "metrics/dist_all 0.5642183392253911\n",
      "EPOCH: 5 / 20 | lm distance: 0.5642183392253911\n",
      "---End evaluation---\n",
      "---Starting traing---\n"
     ]
    },
    {
     "name": "stderr",
     "output_type": "stream",
     "text": [
      " 12%|████████████████████▌                                                                                                                                               | 1/8 [00:31<03:43, 31.92s/it]"
     ]
    },
    {
     "name": "stdout",
     "output_type": "stream",
     "text": [
      "EPOCH: 6 / 20 step: 1 / 8 | lm position loss: 0.0641624704003334  | weighted loss: 0.641624704003334\n"
     ]
    },
    {
     "name": "stderr",
     "output_type": "stream",
     "text": [
      "\r",
      " 25%|█████████████████████████████████████████                                                                                                                           | 2/8 [01:03<03:10, 31.78s/it]"
     ]
    },
    {
     "name": "stdout",
     "output_type": "stream",
     "text": [
      "EPOCH: 6 / 20 step: 2 / 8 | lm position loss: 0.08474135398864746  | weighted loss: 0.8474135398864746\n"
     ]
    },
    {
     "name": "stderr",
     "output_type": "stream",
     "text": [
      "\r",
      " 38%|█████████████████████████████████████████████████████████████▌                                                                                                      | 3/8 [01:34<02:37, 31.57s/it]"
     ]
    },
    {
     "name": "stdout",
     "output_type": "stream",
     "text": [
      "EPOCH: 6 / 20 step: 3 / 8 | lm position loss: 0.027019567787647247  | weighted loss: 0.2701956778764725\n"
     ]
    },
    {
     "name": "stderr",
     "output_type": "stream",
     "text": [
      "\r",
      " 50%|██████████████████████████████████████████████████████████████████████████████████                                                                                  | 4/8 [02:06<02:07, 31.76s/it]"
     ]
    },
    {
     "name": "stdout",
     "output_type": "stream",
     "text": [
      "EPOCH: 6 / 20 step: 4 / 8 | lm position loss: 0.025174930691719055  | weighted loss: 0.25174930691719055\n"
     ]
    },
    {
     "name": "stderr",
     "output_type": "stream",
     "text": [
      "\r",
      " 62%|██████████████████████████████████████████████████████████████████████████████████████████████████████▌                                                             | 5/8 [02:37<01:34, 31.38s/it]"
     ]
    },
    {
     "name": "stdout",
     "output_type": "stream",
     "text": [
      "EPOCH: 6 / 20 step: 5 / 8 | lm position loss: 0.022028455510735512  | weighted loss: 0.22028455510735512\n"
     ]
    },
    {
     "name": "stderr",
     "output_type": "stream",
     "text": [
      "\r",
      " 75%|███████████████████████████████████████████████████████████████████████████████████████████████████████████████████████████                                         | 6/8 [03:07<01:01, 30.93s/it]"
     ]
    },
    {
     "name": "stdout",
     "output_type": "stream",
     "text": [
      "EPOCH: 6 / 20 step: 6 / 8 | lm position loss: 0.02176479622721672  | weighted loss: 0.2176479622721672\n"
     ]
    },
    {
     "name": "stderr",
     "output_type": "stream",
     "text": [
      "\r",
      " 88%|███████████████████████████████████████████████████████████████████████████████████████████████████████████████████████████████████████████████▌                    | 7/8 [03:36<00:30, 30.33s/it]"
     ]
    },
    {
     "name": "stdout",
     "output_type": "stream",
     "text": [
      "EPOCH: 6 / 20 step: 7 / 8 | lm position loss: 0.016246670857071877  | weighted loss: 0.16246670857071877\n"
     ]
    },
    {
     "name": "stderr",
     "output_type": "stream",
     "text": [
      "100%|████████████████████████████████████████████████████████████████████████████████████████████████████████████████████████████████████████████████████████████████████| 8/8 [04:00<00:00, 30.06s/it]\n"
     ]
    },
    {
     "name": "stdout",
     "output_type": "stream",
     "text": [
      "EPOCH: 6 / 20 step: 8 / 8 | lm position loss: 0.01551677193492651  | weighted loss: 0.1551677193492651\n",
      "---End traing---\n",
      "---Start evaluation---\n"
     ]
    },
    {
     "name": "stderr",
     "output_type": "stream",
     "text": [
      "100%|████████████████████████████████████████████████████████████████████████████████████████████████████████████████████████████████████████████████████████████████████| 3/3 [01:04<00:00, 21.54s/it]\n"
     ]
    },
    {
     "name": "stdout",
     "output_type": "stream",
     "text": [
      "metrics/dist_part_0_L.Che 0.3925370792694824\n",
      "metrics/dist_part_1_R.Che 0.7694142412212783\n",
      "metrics/dist_part_2_Sho.A 0.3736566560509401\n",
      "metrics/dist_part_3_Sho.B 0.46044348192872475\n",
      "metrics/dist_part_4_Sho.C 0.5323952352498184\n",
      "metrics/dist_part_5_Sho.D 0.6499075491620856\n",
      "metrics/dist_part_6_Sho.E 0.7477015815545756\n",
      "metrics/dist_part_7_Arm.A 0.3201415763217317\n",
      "metrics/dist_part_8_Arm.B 0.3649146575708727\n",
      "metrics/dist_part_9_L.Wai 0.4466339468960507\n",
      "metrics/dist_part_10_R.Wai 0.7353993971504146\n",
      "metrics/dist_part_11_Arm.E 0.98091896578536\n",
      "metrics/dist_all 0.5645053640134446\n",
      "EPOCH: 6 / 20 | lm distance: 0.5645053640134446\n",
      "---End evaluation---\n",
      "---Starting traing---\n"
     ]
    },
    {
     "name": "stderr",
     "output_type": "stream",
     "text": [
      " 12%|████████████████████▌                                                                                                                                               | 1/8 [00:29<03:24, 29.22s/it]"
     ]
    },
    {
     "name": "stdout",
     "output_type": "stream",
     "text": [
      "EPOCH: 7 / 20 step: 1 / 8 | lm position loss: 0.27491259574890137  | weighted loss: 2.7491259574890137\n"
     ]
    },
    {
     "name": "stderr",
     "output_type": "stream",
     "text": [
      "\r",
      " 25%|█████████████████████████████████████████                                                                                                                           | 2/8 [00:58<02:54, 29.14s/it]"
     ]
    },
    {
     "name": "stdout",
     "output_type": "stream",
     "text": [
      "EPOCH: 7 / 20 step: 2 / 8 | lm position loss: 0.024106614291667938  | weighted loss: 0.24106614291667938\n"
     ]
    },
    {
     "name": "stderr",
     "output_type": "stream",
     "text": [
      "\r",
      " 38%|█████████████████████████████████████████████████████████████▌                                                                                                      | 3/8 [01:29<02:29, 29.85s/it]"
     ]
    },
    {
     "name": "stdout",
     "output_type": "stream",
     "text": [
      "EPOCH: 7 / 20 step: 3 / 8 | lm position loss: 0.029245784506201744  | weighted loss: 0.29245784506201744\n"
     ]
    },
    {
     "name": "stderr",
     "output_type": "stream",
     "text": [
      "\r",
      " 50%|██████████████████████████████████████████████████████████████████████████████████                                                                                  | 4/8 [01:59<02:00, 30.01s/it]"
     ]
    },
    {
     "name": "stdout",
     "output_type": "stream",
     "text": [
      "EPOCH: 7 / 20 step: 4 / 8 | lm position loss: 0.024667290970683098  | weighted loss: 0.24667290970683098\n"
     ]
    },
    {
     "name": "stderr",
     "output_type": "stream",
     "text": [
      "\r",
      " 62%|██████████████████████████████████████████████████████████████████████████████████████████████████████▌                                                             | 5/8 [02:28<01:28, 29.61s/it]"
     ]
    },
    {
     "name": "stdout",
     "output_type": "stream",
     "text": [
      "EPOCH: 7 / 20 step: 5 / 8 | lm position loss: 0.020671088248491287  | weighted loss: 0.20671088248491287\n"
     ]
    },
    {
     "name": "stderr",
     "output_type": "stream",
     "text": [
      "\r",
      " 75%|███████████████████████████████████████████████████████████████████████████████████████████████████████████████████████████                                         | 6/8 [02:57<00:58, 29.37s/it]"
     ]
    },
    {
     "name": "stdout",
     "output_type": "stream",
     "text": [
      "EPOCH: 7 / 20 step: 6 / 8 | lm position loss: 0.01776685193181038  | weighted loss: 0.1776685193181038\n"
     ]
    },
    {
     "name": "stderr",
     "output_type": "stream",
     "text": [
      "\r",
      " 88%|███████████████████████████████████████████████████████████████████████████████████████████████████████████████████████████████████████████████▌                    | 7/8 [03:26<00:29, 29.47s/it]"
     ]
    },
    {
     "name": "stdout",
     "output_type": "stream",
     "text": [
      "EPOCH: 7 / 20 step: 7 / 8 | lm position loss: 0.016541987657546997  | weighted loss: 0.16541987657546997\n"
     ]
    },
    {
     "name": "stderr",
     "output_type": "stream",
     "text": [
      "100%|████████████████████████████████████████████████████████████████████████████████████████████████████████████████████████████████████████████████████████████████████| 8/8 [03:50<00:00, 28.85s/it]\n"
     ]
    },
    {
     "name": "stdout",
     "output_type": "stream",
     "text": [
      "EPOCH: 7 / 20 step: 8 / 8 | lm position loss: 0.016342228278517723  | weighted loss: 0.16342228278517723\n",
      "---End traing---\n",
      "---Start evaluation---\n"
     ]
    },
    {
     "name": "stderr",
     "output_type": "stream",
     "text": [
      "100%|████████████████████████████████████████████████████████████████████████████████████████████████████████████████████████████████████████████████████████████████████| 3/3 [01:01<00:00, 20.39s/it]\n"
     ]
    },
    {
     "name": "stdout",
     "output_type": "stream",
     "text": [
      "metrics/dist_part_0_L.Che 0.35248022786301125\n",
      "metrics/dist_part_1_R.Che 0.765693023531735\n",
      "metrics/dist_part_2_Sho.A 0.3407312391177334\n",
      "metrics/dist_part_3_Sho.B 0.4263601157226758\n",
      "metrics/dist_part_4_Sho.C 0.5073347762711473\n",
      "metrics/dist_part_5_Sho.D 0.6251286198917035\n",
      "metrics/dist_part_6_Sho.E 0.6717485973769171\n",
      "metrics/dist_part_7_Arm.A 0.2896643019232806\n",
      "metrics/dist_part_8_Arm.B 0.33514254274207655\n",
      "metrics/dist_part_9_L.Wai 0.4243496636474941\n",
      "metrics/dist_part_10_R.Wai 0.7138991578310493\n",
      "metrics/dist_part_11_Arm.E 0.9504614140588915\n",
      "metrics/dist_all 0.5335828066648096\n",
      "EPOCH: 7 / 20 | lm distance: 0.5335828066648096\n",
      "---End evaluation---\n",
      "---Starting traing---\n"
     ]
    },
    {
     "name": "stderr",
     "output_type": "stream",
     "text": [
      " 12%|████████████████████▌                                                                                                                                               | 1/8 [00:29<03:27, 29.66s/it]"
     ]
    },
    {
     "name": "stdout",
     "output_type": "stream",
     "text": [
      "EPOCH: 8 / 20 step: 1 / 8 | lm position loss: 0.017067501321434975  | weighted loss: 0.17067501321434975\n"
     ]
    },
    {
     "name": "stderr",
     "output_type": "stream",
     "text": [
      "\r",
      " 25%|█████████████████████████████████████████                                                                                                                           | 2/8 [01:00<03:03, 30.62s/it]"
     ]
    },
    {
     "name": "stdout",
     "output_type": "stream",
     "text": [
      "EPOCH: 8 / 20 step: 2 / 8 | lm position loss: 0.013387531973421574  | weighted loss: 0.13387531973421574\n"
     ]
    },
    {
     "name": "stderr",
     "output_type": "stream",
     "text": [
      "\r",
      " 38%|█████████████████████████████████████████████████████████████▌                                                                                                      | 3/8 [01:31<02:31, 30.37s/it]"
     ]
    },
    {
     "name": "stdout",
     "output_type": "stream",
     "text": [
      "EPOCH: 8 / 20 step: 3 / 8 | lm position loss: 0.013042070902884007  | weighted loss: 0.13042070902884007\n"
     ]
    },
    {
     "name": "stderr",
     "output_type": "stream",
     "text": [
      "\r",
      " 50%|██████████████████████████████████████████████████████████████████████████████████                                                                                  | 4/8 [02:00<01:59, 29.87s/it]"
     ]
    },
    {
     "name": "stdout",
     "output_type": "stream",
     "text": [
      "EPOCH: 8 / 20 step: 4 / 8 | lm position loss: 0.012953536584973335  | weighted loss: 0.12953536584973335\n"
     ]
    },
    {
     "name": "stderr",
     "output_type": "stream",
     "text": [
      "\r",
      " 62%|██████████████████████████████████████████████████████████████████████████████████████████████████████▌                                                             | 5/8 [02:29<01:28, 29.65s/it]"
     ]
    },
    {
     "name": "stdout",
     "output_type": "stream",
     "text": [
      "EPOCH: 8 / 20 step: 5 / 8 | lm position loss: 0.012448479421436787  | weighted loss: 0.12448479421436787\n"
     ]
    },
    {
     "name": "stderr",
     "output_type": "stream",
     "text": [
      "\r",
      " 75%|███████████████████████████████████████████████████████████████████████████████████████████████████████████████████████████                                         | 6/8 [02:59<00:59, 29.74s/it]"
     ]
    },
    {
     "name": "stdout",
     "output_type": "stream",
     "text": [
      "EPOCH: 8 / 20 step: 6 / 8 | lm position loss: 0.012903339229524136  | weighted loss: 0.12903339229524136\n"
     ]
    },
    {
     "name": "stderr",
     "output_type": "stream",
     "text": [
      "\r",
      " 88%|███████████████████████████████████████████████████████████████████████████████████████████████████████████████████████████████████████████████▌                    | 7/8 [03:29<00:29, 29.85s/it]"
     ]
    },
    {
     "name": "stdout",
     "output_type": "stream",
     "text": [
      "EPOCH: 8 / 20 step: 7 / 8 | lm position loss: 0.012353876605629921  | weighted loss: 0.12353876605629921\n"
     ]
    },
    {
     "name": "stderr",
     "output_type": "stream",
     "text": [
      "100%|████████████████████████████████████████████████████████████████████████████████████████████████████████████████████████████████████████████████████████████████████| 8/8 [03:52<00:00, 29.10s/it]\n"
     ]
    },
    {
     "name": "stdout",
     "output_type": "stream",
     "text": [
      "EPOCH: 8 / 20 step: 8 / 8 | lm position loss: 0.01195395365357399  | weighted loss: 0.1195395365357399\n",
      "---End traing---\n",
      "---Start evaluation---\n"
     ]
    },
    {
     "name": "stderr",
     "output_type": "stream",
     "text": [
      "100%|████████████████████████████████████████████████████████████████████████████████████████████████████████████████████████████████████████████████████████████████████| 3/3 [01:01<00:00, 20.35s/it]\n"
     ]
    },
    {
     "name": "stdout",
     "output_type": "stream",
     "text": [
      "metrics/dist_part_0_L.Che 0.4117342535580384\n",
      "metrics/dist_part_1_R.Che 0.7490832432620245\n",
      "metrics/dist_part_2_Sho.A 0.4140695310559558\n",
      "metrics/dist_part_3_Sho.B 0.48374047468694076\n",
      "metrics/dist_part_4_Sho.C 0.5074652052672031\n",
      "metrics/dist_part_5_Sho.D 0.6284792268288487\n",
      "metrics/dist_part_6_Sho.E 0.6783090462328967\n",
      "metrics/dist_part_7_Arm.A 0.36249626029328874\n",
      "metrics/dist_part_8_Arm.B 0.35674419734777046\n",
      "metrics/dist_part_9_L.Wai 0.4524219103227998\n",
      "metrics/dist_part_10_R.Wai 0.6867879730856224\n",
      "metrics/dist_part_11_Arm.E 0.8727454373257059\n",
      "metrics/dist_all 0.5503397299389245\n",
      "EPOCH: 8 / 20 | lm distance: 0.5503397299389245\n",
      "---End evaluation---\n",
      "---Starting traing---\n"
     ]
    },
    {
     "name": "stderr",
     "output_type": "stream",
     "text": [
      " 12%|████████████████████▌                                                                                                                                               | 1/8 [00:32<03:50, 32.99s/it]"
     ]
    },
    {
     "name": "stdout",
     "output_type": "stream",
     "text": [
      "EPOCH: 9 / 20 step: 1 / 8 | lm position loss: 0.011858432553708553  | weighted loss: 0.11858432553708553\n"
     ]
    },
    {
     "name": "stderr",
     "output_type": "stream",
     "text": [
      "\r",
      " 25%|█████████████████████████████████████████                                                                                                                           | 2/8 [01:03<03:09, 31.64s/it]"
     ]
    },
    {
     "name": "stdout",
     "output_type": "stream",
     "text": [
      "EPOCH: 9 / 20 step: 2 / 8 | lm position loss: 0.012648475356400013  | weighted loss: 0.12648475356400013\n"
     ]
    },
    {
     "name": "stderr",
     "output_type": "stream",
     "text": [
      "\r",
      " 38%|█████████████████████████████████████████████████████████████▌                                                                                                      | 3/8 [01:34<02:36, 31.30s/it]"
     ]
    },
    {
     "name": "stdout",
     "output_type": "stream",
     "text": [
      "EPOCH: 9 / 20 step: 3 / 8 | lm position loss: 0.011382429860532284  | weighted loss: 0.11382429860532284\n"
     ]
    },
    {
     "name": "stderr",
     "output_type": "stream",
     "text": [
      "\r",
      " 50%|██████████████████████████████████████████████████████████████████████████████████                                                                                  | 4/8 [02:05<02:04, 31.22s/it]"
     ]
    },
    {
     "name": "stdout",
     "output_type": "stream",
     "text": [
      "EPOCH: 9 / 20 step: 4 / 8 | lm position loss: 0.011613938957452774  | weighted loss: 0.11613938957452774\n"
     ]
    },
    {
     "name": "stderr",
     "output_type": "stream",
     "text": [
      "\r",
      " 62%|██████████████████████████████████████████████████████████████████████████████████████████████████████▌                                                             | 5/8 [02:39<01:36, 32.25s/it]"
     ]
    },
    {
     "name": "stdout",
     "output_type": "stream",
     "text": [
      "EPOCH: 9 / 20 step: 5 / 8 | lm position loss: 0.011485062539577484  | weighted loss: 0.11485062539577484\n"
     ]
    },
    {
     "name": "stderr",
     "output_type": "stream",
     "text": [
      "\r",
      " 75%|███████████████████████████████████████████████████████████████████████████████████████████████████████████████████████████                                         | 6/8 [03:11<01:03, 31.92s/it]"
     ]
    },
    {
     "name": "stdout",
     "output_type": "stream",
     "text": [
      "EPOCH: 9 / 20 step: 6 / 8 | lm position loss: 0.011608097702264786  | weighted loss: 0.11608097702264786\n"
     ]
    },
    {
     "name": "stderr",
     "output_type": "stream",
     "text": [
      "\r",
      " 88%|███████████████████████████████████████████████████████████████████████████████████████████████████████████████████████████████████████████████▌                    | 7/8 [03:41<00:31, 31.58s/it]"
     ]
    },
    {
     "name": "stdout",
     "output_type": "stream",
     "text": [
      "EPOCH: 9 / 20 step: 7 / 8 | lm position loss: 0.010818157345056534  | weighted loss: 0.10818157345056534\n"
     ]
    },
    {
     "name": "stderr",
     "output_type": "stream",
     "text": [
      "100%|████████████████████████████████████████████████████████████████████████████████████████████████████████████████████████████████████████████████████████████████████| 8/8 [04:07<00:00, 30.89s/it]\n"
     ]
    },
    {
     "name": "stdout",
     "output_type": "stream",
     "text": [
      "EPOCH: 9 / 20 step: 8 / 8 | lm position loss: 0.01084491889923811  | weighted loss: 0.1084491889923811\n",
      "---End traing---\n",
      "---Start evaluation---\n"
     ]
    },
    {
     "name": "stderr",
     "output_type": "stream",
     "text": [
      "100%|████████████████████████████████████████████████████████████████████████████████████████████████████████████████████████████████████████████████████████████████████| 3/3 [01:06<00:00, 22.23s/it]\n"
     ]
    },
    {
     "name": "stdout",
     "output_type": "stream",
     "text": [
      "metrics/dist_part_0_L.Che 0.37592652382579084\n",
      "metrics/dist_part_1_R.Che 0.6798255555024485\n",
      "metrics/dist_part_2_Sho.A 0.39869162075099324\n",
      "metrics/dist_part_3_Sho.B 0.47225652899914744\n",
      "metrics/dist_part_4_Sho.C 0.507566650041913\n",
      "metrics/dist_part_5_Sho.D 0.6310852544466283\n",
      "metrics/dist_part_6_Sho.E 0.688225263142653\n",
      "metrics/dist_part_7_Arm.A 0.3355367003048433\n",
      "metrics/dist_part_8_Arm.B 0.3371662952250532\n",
      "metrics/dist_part_9_L.Wai 0.4346737301904537\n",
      "metrics/dist_part_10_R.Wai 0.6540723206561108\n",
      "metrics/dist_part_11_Arm.E 0.7938092373697324\n",
      "metrics/dist_all 0.5257363067046473\n",
      "EPOCH: 9 / 20 | lm distance: 0.5257363067046473\n",
      "---End evaluation---\n",
      "---Starting traing---\n"
     ]
    },
    {
     "name": "stderr",
     "output_type": "stream",
     "text": [
      " 12%|████████████████████▌                                                                                                                                               | 1/8 [00:29<03:24, 29.17s/it]"
     ]
    },
    {
     "name": "stdout",
     "output_type": "stream",
     "text": [
      "EPOCH: 10 / 20 step: 1 / 8 | lm position loss: 0.010916662402451038  | weighted loss: 0.10916662402451038\n"
     ]
    },
    {
     "name": "stderr",
     "output_type": "stream",
     "text": [
      "\r",
      " 25%|█████████████████████████████████████████                                                                                                                           | 2/8 [00:59<02:58, 29.71s/it]"
     ]
    },
    {
     "name": "stdout",
     "output_type": "stream",
     "text": [
      "EPOCH: 10 / 20 step: 2 / 8 | lm position loss: 0.012380661442875862  | weighted loss: 0.12380661442875862\n"
     ]
    },
    {
     "name": "stderr",
     "output_type": "stream",
     "text": [
      "\r",
      " 38%|█████████████████████████████████████████████████████████████▌                                                                                                      | 3/8 [01:29<02:28, 29.80s/it]"
     ]
    },
    {
     "name": "stdout",
     "output_type": "stream",
     "text": [
      "EPOCH: 10 / 20 step: 3 / 8 | lm position loss: 0.010798160918056965  | weighted loss: 0.10798160918056965\n"
     ]
    },
    {
     "name": "stderr",
     "output_type": "stream",
     "text": [
      "\r",
      " 50%|██████████████████████████████████████████████████████████████████████████████████                                                                                  | 4/8 [01:58<01:58, 29.66s/it]"
     ]
    },
    {
     "name": "stdout",
     "output_type": "stream",
     "text": [
      "EPOCH: 10 / 20 step: 4 / 8 | lm position loss: 0.010808756574988365  | weighted loss: 0.10808756574988365\n"
     ]
    },
    {
     "name": "stderr",
     "output_type": "stream",
     "text": [
      "\r",
      " 62%|██████████████████████████████████████████████████████████████████████████████████████████████████████▌                                                             | 5/8 [02:27<01:28, 29.45s/it]"
     ]
    },
    {
     "name": "stdout",
     "output_type": "stream",
     "text": [
      "EPOCH: 10 / 20 step: 5 / 8 | lm position loss: 0.01061485055834055  | weighted loss: 0.1061485055834055\n"
     ]
    },
    {
     "name": "stderr",
     "output_type": "stream",
     "text": [
      "\r",
      " 75%|███████████████████████████████████████████████████████████████████████████████████████████████████████████████████████████                                         | 6/8 [02:57<00:59, 29.54s/it]"
     ]
    },
    {
     "name": "stdout",
     "output_type": "stream",
     "text": [
      "EPOCH: 10 / 20 step: 6 / 8 | lm position loss: 0.010373527184128761  | weighted loss: 0.10373527184128761\n"
     ]
    },
    {
     "name": "stderr",
     "output_type": "stream",
     "text": [
      "\r",
      " 88%|███████████████████████████████████████████████████████████████████████████████████████████████████████████████████████████████████████████████▌                    | 7/8 [03:27<00:29, 29.65s/it]"
     ]
    },
    {
     "name": "stdout",
     "output_type": "stream",
     "text": [
      "EPOCH: 10 / 20 step: 7 / 8 | lm position loss: 0.010297993198037148  | weighted loss: 0.10297993198037148\n"
     ]
    },
    {
     "name": "stderr",
     "output_type": "stream",
     "text": [
      "100%|████████████████████████████████████████████████████████████████████████████████████████████████████████████████████████████████████████████████████████████████████| 8/8 [03:52<00:00, 29.01s/it]\n"
     ]
    },
    {
     "name": "stdout",
     "output_type": "stream",
     "text": [
      "EPOCH: 10 / 20 step: 8 / 8 | lm position loss: 0.010372514836490154  | weighted loss: 0.10372514836490154\n",
      "---End traing---\n",
      "---Start evaluation---\n"
     ]
    },
    {
     "name": "stderr",
     "output_type": "stream",
     "text": [
      "100%|████████████████████████████████████████████████████████████████████████████████████████████████████████████████████████████████████████████████████████████████████| 3/3 [01:03<00:00, 21.29s/it]\n"
     ]
    },
    {
     "name": "stdout",
     "output_type": "stream",
     "text": [
      "metrics/dist_part_0_L.Che 0.3737397699733506\n",
      "metrics/dist_part_1_R.Che 0.6243174403146458\n",
      "metrics/dist_part_2_Sho.A 0.38638929250702325\n",
      "metrics/dist_part_3_Sho.B 0.46306937244891283\n",
      "metrics/dist_part_4_Sho.C 0.5076478058616811\n",
      "metrics/dist_part_5_Sho.D 0.6331700765408521\n",
      "metrics/dist_part_6_Sho.E 0.6961582366704581\n",
      "metrics/dist_part_7_Arm.A 0.33360580839084647\n",
      "metrics/dist_part_8_Arm.B 0.319607958355906\n",
      "metrics/dist_part_9_L.Wai 0.41757261839712684\n",
      "metrics/dist_part_10_R.Wai 0.6271805100596674\n",
      "metrics/dist_part_11_Arm.E 0.7311747879776677\n",
      "metrics/dist_all 0.5094694731248448\n",
      "EPOCH: 10 / 20 | lm distance: 0.5094694731248448\n",
      "---End evaluation---\n",
      "---Starting traing---\n"
     ]
    },
    {
     "name": "stderr",
     "output_type": "stream",
     "text": [
      " 12%|████████████████████▌                                                                                                                                               | 1/8 [00:30<03:36, 31.00s/it]"
     ]
    },
    {
     "name": "stdout",
     "output_type": "stream",
     "text": [
      "EPOCH: 11 / 20 step: 1 / 8 | lm position loss: 0.009860788471996784  | weighted loss: 0.09860788471996784\n"
     ]
    },
    {
     "name": "stderr",
     "output_type": "stream",
     "text": [
      "\r",
      " 25%|█████████████████████████████████████████                                                                                                                           | 2/8 [01:04<03:13, 32.23s/it]"
     ]
    },
    {
     "name": "stdout",
     "output_type": "stream",
     "text": [
      "EPOCH: 11 / 20 step: 2 / 8 | lm position loss: 0.011213710531592369  | weighted loss: 0.11213710531592369\n"
     ]
    },
    {
     "name": "stderr",
     "output_type": "stream",
     "text": [
      "\r",
      " 38%|█████████████████████████████████████████████████████████████▌                                                                                                      | 3/8 [01:35<02:40, 32.06s/it]"
     ]
    },
    {
     "name": "stdout",
     "output_type": "stream",
     "text": [
      "EPOCH: 11 / 20 step: 3 / 8 | lm position loss: 0.009486186318099499  | weighted loss: 0.09486186318099499\n"
     ]
    },
    {
     "name": "stderr",
     "output_type": "stream",
     "text": [
      "\r",
      " 50%|██████████████████████████████████████████████████████████████████████████████████                                                                                  | 4/8 [02:08<02:09, 32.31s/it]"
     ]
    },
    {
     "name": "stdout",
     "output_type": "stream",
     "text": [
      "EPOCH: 11 / 20 step: 4 / 8 | lm position loss: 0.010132621973752975  | weighted loss: 0.10132621973752975\n"
     ]
    },
    {
     "name": "stderr",
     "output_type": "stream",
     "text": [
      "\r",
      " 62%|██████████████████████████████████████████████████████████████████████████████████████████████████████▌                                                             | 5/8 [02:38<01:34, 31.44s/it]"
     ]
    },
    {
     "name": "stdout",
     "output_type": "stream",
     "text": [
      "EPOCH: 11 / 20 step: 5 / 8 | lm position loss: 0.010411183349788189  | weighted loss: 0.10411183349788189\n"
     ]
    },
    {
     "name": "stderr",
     "output_type": "stream",
     "text": [
      "\r",
      " 75%|███████████████████████████████████████████████████████████████████████████████████████████████████████████████████████████                                         | 6/8 [03:08<01:02, 31.05s/it]"
     ]
    },
    {
     "name": "stdout",
     "output_type": "stream",
     "text": [
      "EPOCH: 11 / 20 step: 6 / 8 | lm position loss: 0.009884282015264034  | weighted loss: 0.09884282015264034\n"
     ]
    },
    {
     "name": "stderr",
     "output_type": "stream",
     "text": [
      "\r",
      " 88%|███████████████████████████████████████████████████████████████████████████████████████████████████████████████████████████████████████████████▌                    | 7/8 [03:38<00:30, 30.47s/it]"
     ]
    },
    {
     "name": "stdout",
     "output_type": "stream",
     "text": [
      "EPOCH: 11 / 20 step: 7 / 8 | lm position loss: 0.009395875968039036  | weighted loss: 0.09395875968039036\n"
     ]
    },
    {
     "name": "stderr",
     "output_type": "stream",
     "text": [
      "100%|████████████████████████████████████████████████████████████████████████████████████████████████████████████████████████████████████████████████████████████████████| 8/8 [04:02<00:00, 30.29s/it]\n"
     ]
    },
    {
     "name": "stdout",
     "output_type": "stream",
     "text": [
      "EPOCH: 11 / 20 step: 8 / 8 | lm position loss: 0.009218293242156506  | weighted loss: 0.09218293242156506\n",
      "---End traing---\n",
      "---Start evaluation---\n"
     ]
    },
    {
     "name": "stderr",
     "output_type": "stream",
     "text": [
      "100%|████████████████████████████████████████████████████████████████████████████████████████████████████████████████████████████████████████████████████████████████████| 3/3 [01:00<00:00, 20.23s/it]\n"
     ]
    },
    {
     "name": "stdout",
     "output_type": "stream",
     "text": [
      "metrics/dist_part_0_L.Che 0.3719506077304451\n",
      "metrics/dist_part_1_R.Che 0.5780488069663433\n",
      "metrics/dist_part_2_Sho.A 0.3763237512165023\n",
      "metrics/dist_part_3_Sho.B 0.4555526079987209\n",
      "metrics/dist_part_4_Sho.C 0.5077142060778549\n",
      "metrics/dist_part_5_Sho.D 0.6348758400724897\n",
      "metrics/dist_part_6_Sho.E 0.7026488513750256\n",
      "metrics/dist_part_7_Arm.A 0.33202598773394004\n",
      "metrics/dist_part_8_Arm.B 0.3050460342667077\n",
      "metrics/dist_part_9_L.Wai 0.4057420375477735\n",
      "metrics/dist_part_10_R.Wai 0.6047768179493844\n",
      "metrics/dist_part_11_Arm.E 0.6791356256658491\n",
      "metrics/dist_all 0.4961534312167531\n",
      "EPOCH: 11 / 20 | lm distance: 0.4961534312167531\n",
      "---End evaluation---\n",
      "---Starting traing---\n"
     ]
    },
    {
     "name": "stderr",
     "output_type": "stream",
     "text": [
      " 12%|████████████████████▌                                                                                                                                               | 1/8 [00:30<03:31, 30.16s/it]"
     ]
    },
    {
     "name": "stdout",
     "output_type": "stream",
     "text": [
      "EPOCH: 12 / 20 step: 1 / 8 | lm position loss: 0.009436636231839657  | weighted loss: 0.09436636231839657\n"
     ]
    },
    {
     "name": "stderr",
     "output_type": "stream",
     "text": [
      "\r",
      " 25%|█████████████████████████████████████████                                                                                                                           | 2/8 [00:59<02:59, 29.88s/it]"
     ]
    },
    {
     "name": "stdout",
     "output_type": "stream",
     "text": [
      "EPOCH: 12 / 20 step: 2 / 8 | lm position loss: 0.010068043135106564  | weighted loss: 0.10068043135106564\n"
     ]
    },
    {
     "name": "stderr",
     "output_type": "stream",
     "text": [
      "\r",
      " 38%|█████████████████████████████████████████████████████████████▌                                                                                                      | 3/8 [01:29<02:28, 29.60s/it]"
     ]
    },
    {
     "name": "stdout",
     "output_type": "stream",
     "text": [
      "EPOCH: 12 / 20 step: 3 / 8 | lm position loss: 0.00914501491934061  | weighted loss: 0.0914501491934061\n"
     ]
    },
    {
     "name": "stderr",
     "output_type": "stream",
     "text": [
      "\r",
      " 50%|██████████████████████████████████████████████████████████████████████████████████                                                                                  | 4/8 [01:58<01:57, 29.40s/it]"
     ]
    },
    {
     "name": "stdout",
     "output_type": "stream",
     "text": [
      "EPOCH: 12 / 20 step: 4 / 8 | lm position loss: 0.008854854851961136  | weighted loss: 0.08854854851961136\n"
     ]
    },
    {
     "name": "stderr",
     "output_type": "stream",
     "text": [
      "\r",
      " 62%|██████████████████████████████████████████████████████████████████████████████████████████████████████▌                                                             | 5/8 [02:28<01:29, 29.72s/it]"
     ]
    },
    {
     "name": "stdout",
     "output_type": "stream",
     "text": [
      "EPOCH: 12 / 20 step: 5 / 8 | lm position loss: 0.009862028993666172  | weighted loss: 0.09862028993666172\n"
     ]
    },
    {
     "name": "stderr",
     "output_type": "stream",
     "text": [
      "\r",
      " 75%|███████████████████████████████████████████████████████████████████████████████████████████████████████████████████████████                                         | 6/8 [02:57<00:59, 29.64s/it]"
     ]
    },
    {
     "name": "stdout",
     "output_type": "stream",
     "text": [
      "EPOCH: 12 / 20 step: 6 / 8 | lm position loss: 0.00909428671002388  | weighted loss: 0.0909428671002388\n"
     ]
    },
    {
     "name": "stderr",
     "output_type": "stream",
     "text": [
      "\r",
      " 88%|███████████████████████████████████████████████████████████████████████████████████████████████████████████████████████████████████████████████▌                    | 7/8 [03:27<00:29, 29.46s/it]"
     ]
    },
    {
     "name": "stdout",
     "output_type": "stream",
     "text": [
      "EPOCH: 12 / 20 step: 7 / 8 | lm position loss: 0.008803574368357658  | weighted loss: 0.08803574368357658\n"
     ]
    },
    {
     "name": "stderr",
     "output_type": "stream",
     "text": [
      "100%|████████████████████████████████████████████████████████████████████████████████████████████████████████████████████████████████████████████████████████████████████| 8/8 [03:50<00:00, 28.79s/it]\n"
     ]
    },
    {
     "name": "stdout",
     "output_type": "stream",
     "text": [
      "EPOCH: 12 / 20 step: 8 / 8 | lm position loss: 0.008542397990822792  | weighted loss: 0.08542397990822792\n",
      "---End traing---\n",
      "---Start evaluation---\n"
     ]
    },
    {
     "name": "stderr",
     "output_type": "stream",
     "text": [
      "100%|████████████████████████████████████████████████████████████████████████████████████████████████████████████████████████████████████████████████████████████████████| 3/3 [01:03<00:00, 21.26s/it]\n"
     ]
    },
    {
     "name": "stdout",
     "output_type": "stream",
     "text": [
      "metrics/dist_part_0_L.Che 0.35167668985201533\n",
      "metrics/dist_part_1_R.Che 0.5561141117077509\n",
      "metrics/dist_part_2_Sho.A 0.3679358001410682\n",
      "metrics/dist_part_3_Sho.B 0.4492886376235609\n",
      "metrics/dist_part_4_Sho.C 0.507769539591333\n",
      "metrics/dist_part_5_Sho.D 0.6362973096821876\n",
      "metrics/dist_part_6_Sho.E 0.7080576969621655\n",
      "metrics/dist_part_7_Arm.A 0.33070947051985133\n",
      "metrics/dist_part_8_Arm.B 0.2928918776158468\n",
      "metrics/dist_part_9_L.Wai 0.38932847116988367\n",
      "metrics/dist_part_10_R.Wai 0.5738864885870173\n",
      "metrics/dist_part_11_Arm.E 0.6316748479112099\n",
      "metrics/dist_all 0.4829692451136575\n",
      "EPOCH: 12 / 20 | lm distance: 0.4829692451136575\n",
      "---End evaluation---\n",
      "---Starting traing---\n"
     ]
    },
    {
     "name": "stderr",
     "output_type": "stream",
     "text": [
      " 12%|████████████████████▌                                                                                                                                               | 1/8 [00:31<03:41, 31.70s/it]"
     ]
    },
    {
     "name": "stdout",
     "output_type": "stream",
     "text": [
      "EPOCH: 13 / 20 step: 1 / 8 | lm position loss: 0.008686695247888565  | weighted loss: 0.08686695247888565\n"
     ]
    },
    {
     "name": "stderr",
     "output_type": "stream",
     "text": [
      "\r",
      " 25%|█████████████████████████████████████████                                                                                                                           | 2/8 [01:02<03:08, 31.33s/it]"
     ]
    },
    {
     "name": "stdout",
     "output_type": "stream",
     "text": [
      "EPOCH: 13 / 20 step: 2 / 8 | lm position loss: 0.009404904209077358  | weighted loss: 0.09404904209077358\n"
     ]
    },
    {
     "name": "stderr",
     "output_type": "stream",
     "text": [
      "\r",
      " 38%|█████████████████████████████████████████████████████████████▌                                                                                                      | 3/8 [01:34<02:36, 31.31s/it]"
     ]
    },
    {
     "name": "stdout",
     "output_type": "stream",
     "text": [
      "EPOCH: 13 / 20 step: 3 / 8 | lm position loss: 0.00928895827382803  | weighted loss: 0.0928895827382803\n"
     ]
    },
    {
     "name": "stderr",
     "output_type": "stream",
     "text": [
      "\r",
      " 50%|██████████████████████████████████████████████████████████████████████████████████                                                                                  | 4/8 [02:07<02:09, 32.25s/it]"
     ]
    },
    {
     "name": "stdout",
     "output_type": "stream",
     "text": [
      "EPOCH: 13 / 20 step: 4 / 8 | lm position loss: 0.008732274174690247  | weighted loss: 0.08732274174690247\n"
     ]
    },
    {
     "name": "stderr",
     "output_type": "stream",
     "text": [
      "\r",
      " 62%|██████████████████████████████████████████████████████████████████████████████████████████████████████▌                                                             | 5/8 [02:39<01:36, 32.05s/it]"
     ]
    },
    {
     "name": "stdout",
     "output_type": "stream",
     "text": [
      "EPOCH: 13 / 20 step: 5 / 8 | lm position loss: 0.00906020775437355  | weighted loss: 0.0906020775437355\n"
     ]
    },
    {
     "name": "stderr",
     "output_type": "stream",
     "text": [
      "\r",
      " 75%|███████████████████████████████████████████████████████████████████████████████████████████████████████████████████████████                                         | 6/8 [03:10<01:03, 31.72s/it]"
     ]
    },
    {
     "name": "stdout",
     "output_type": "stream",
     "text": [
      "EPOCH: 13 / 20 step: 6 / 8 | lm position loss: 0.008912612684071064  | weighted loss: 0.08912612684071064\n"
     ]
    },
    {
     "name": "stderr",
     "output_type": "stream",
     "text": [
      "\r",
      " 88%|███████████████████████████████████████████████████████████████████████████████████████████████████████████████████████████████████████████████▌                    | 7/8 [03:41<00:31, 31.46s/it]"
     ]
    },
    {
     "name": "stdout",
     "output_type": "stream",
     "text": [
      "EPOCH: 13 / 20 step: 7 / 8 | lm position loss: 0.008283806964755058  | weighted loss: 0.08283806964755058\n"
     ]
    },
    {
     "name": "stderr",
     "output_type": "stream",
     "text": [
      "100%|████████████████████████████████████████████████████████████████████████████████████████████████████████████████████████████████████████████████████████████████████| 8/8 [04:08<00:00, 31.01s/it]\n"
     ]
    },
    {
     "name": "stdout",
     "output_type": "stream",
     "text": [
      "EPOCH: 13 / 20 step: 8 / 8 | lm position loss: 0.008183435536921024  | weighted loss: 0.08183435536921024\n",
      "---End traing---\n",
      "---Start evaluation---\n"
     ]
    },
    {
     "name": "stderr",
     "output_type": "stream",
     "text": [
      "100%|████████████████████████████████████████████████████████████████████████████████████████████████████████████████████████████████████████████████████████████████████| 3/3 [01:05<00:00, 21.90s/it]\n"
     ]
    },
    {
     "name": "stdout",
     "output_type": "stream",
     "text": [
      "metrics/dist_part_0_L.Che 0.3331431718904491\n",
      "metrics/dist_part_1_R.Che 0.5380915031786055\n",
      "metrics/dist_part_2_Sho.A 0.35711780917578173\n",
      "metrics/dist_part_3_Sho.B 0.428589471544312\n",
      "metrics/dist_part_4_Sho.C 0.48408202073992757\n",
      "metrics/dist_part_5_Sho.D 0.6096222214412146\n",
      "metrics/dist_part_6_Sho.E 0.6786476028544348\n",
      "metrics/dist_part_7_Arm.A 0.31772923455432267\n",
      "metrics/dist_part_8_Arm.B 0.2829644607156479\n",
      "metrics/dist_part_9_L.Wai 0.3741982387757748\n",
      "metrics/dist_part_10_R.Wai 0.544021779883415\n",
      "metrics/dist_part_11_Arm.E 0.5917684579204213\n",
      "metrics/dist_all 0.46166466438952564\n",
      "EPOCH: 13 / 20 | lm distance: 0.46166466438952564\n",
      "---End evaluation---\n",
      "---Starting traing---\n"
     ]
    },
    {
     "name": "stderr",
     "output_type": "stream",
     "text": [
      " 12%|████████████████████▌                                                                                                                                               | 1/8 [00:31<03:43, 31.99s/it]"
     ]
    },
    {
     "name": "stdout",
     "output_type": "stream",
     "text": [
      "EPOCH: 14 / 20 step: 1 / 8 | lm position loss: 0.0082291504368186  | weighted loss: 0.082291504368186\n"
     ]
    },
    {
     "name": "stderr",
     "output_type": "stream",
     "text": [
      "\r",
      " 25%|█████████████████████████████████████████                                                                                                                           | 2/8 [01:05<03:15, 32.62s/it]"
     ]
    },
    {
     "name": "stdout",
     "output_type": "stream",
     "text": [
      "EPOCH: 14 / 20 step: 2 / 8 | lm position loss: 0.009380730800330639  | weighted loss: 0.09380730800330639\n"
     ]
    },
    {
     "name": "stderr",
     "output_type": "stream",
     "text": [
      "\r",
      " 38%|█████████████████████████████████████████████████████████████▌                                                                                                      | 3/8 [01:36<02:40, 32.01s/it]"
     ]
    },
    {
     "name": "stdout",
     "output_type": "stream",
     "text": [
      "EPOCH: 14 / 20 step: 3 / 8 | lm position loss: 0.008505446836352348  | weighted loss: 0.08505446836352348\n"
     ]
    },
    {
     "name": "stderr",
     "output_type": "stream",
     "text": [
      "\r",
      " 50%|██████████████████████████████████████████████████████████████████████████████████                                                                                  | 4/8 [02:07<02:06, 31.57s/it]"
     ]
    },
    {
     "name": "stdout",
     "output_type": "stream",
     "text": [
      "EPOCH: 14 / 20 step: 4 / 8 | lm position loss: 0.007986165583133698  | weighted loss: 0.07986165583133698\n"
     ]
    },
    {
     "name": "stderr",
     "output_type": "stream",
     "text": [
      "\r",
      " 62%|██████████████████████████████████████████████████████████████████████████████████████████████████████▌                                                             | 5/8 [02:38<01:34, 31.53s/it]"
     ]
    },
    {
     "name": "stdout",
     "output_type": "stream",
     "text": [
      "EPOCH: 14 / 20 step: 5 / 8 | lm position loss: 0.008739490993320942  | weighted loss: 0.08739490993320942\n"
     ]
    },
    {
     "name": "stderr",
     "output_type": "stream",
     "text": [
      "\r",
      " 75%|███████████████████████████████████████████████████████████████████████████████████████████████████████████████████████████                                         | 6/8 [03:11<01:04, 32.07s/it]"
     ]
    },
    {
     "name": "stdout",
     "output_type": "stream",
     "text": [
      "EPOCH: 14 / 20 step: 6 / 8 | lm position loss: 0.008092555217444897  | weighted loss: 0.08092555217444897\n"
     ]
    },
    {
     "name": "stderr",
     "output_type": "stream",
     "text": [
      "\r",
      " 88%|███████████████████████████████████████████████████████████████████████████████████████████████████████████████████████████████████████████████▌                    | 7/8 [03:43<00:31, 31.94s/it]"
     ]
    },
    {
     "name": "stdout",
     "output_type": "stream",
     "text": [
      "EPOCH: 14 / 20 step: 7 / 8 | lm position loss: 0.007975004613399506  | weighted loss: 0.07975004613399506\n"
     ]
    },
    {
     "name": "stderr",
     "output_type": "stream",
     "text": [
      "100%|████████████████████████████████████████████████████████████████████████████████████████████████████████████████████████████████████████████████████████████████████| 8/8 [04:08<00:00, 31.04s/it]\n"
     ]
    },
    {
     "name": "stdout",
     "output_type": "stream",
     "text": [
      "EPOCH: 14 / 20 step: 8 / 8 | lm position loss: 0.00771297374740243  | weighted loss: 0.0771297374740243\n",
      "---End traing---\n",
      "---Start evaluation---\n"
     ]
    },
    {
     "name": "stderr",
     "output_type": "stream",
     "text": [
      "100%|████████████████████████████████████████████████████████████████████████████████████████████████████████████████████████████████████████████████████████████████████| 3/3 [01:06<00:00, 22.25s/it]\n"
     ]
    },
    {
     "name": "stdout",
     "output_type": "stream",
     "text": [
      "metrics/dist_part_0_L.Che 0.31746186128267534\n",
      "metrics/dist_part_1_R.Che 0.5214880768635148\n",
      "metrics/dist_part_2_Sho.A 0.35099128155138015\n",
      "metrics/dist_part_3_Sho.B 0.4094070375955691\n",
      "metrics/dist_part_4_Sho.C 0.4563941151448247\n",
      "metrics/dist_part_5_Sho.D 0.5797182122977839\n",
      "metrics/dist_part_6_Sho.E 0.6511748819912636\n",
      "metrics/dist_part_7_Arm.A 0.31223401435890946\n",
      "metrics/dist_part_8_Arm.B 0.2747189100944375\n",
      "metrics/dist_part_9_L.Wai 0.36061259774435667\n",
      "metrics/dist_part_10_R.Wai 0.5167829687632051\n",
      "metrics/dist_part_11_Arm.E 0.5564216384336845\n",
      "metrics/dist_all 0.44228379967680037\n",
      "EPOCH: 14 / 20 | lm distance: 0.44228379967680037\n",
      "---End evaluation---\n",
      "---Starting traing---\n"
     ]
    },
    {
     "name": "stderr",
     "output_type": "stream",
     "text": [
      " 12%|████████████████████▌                                                                                                                                               | 1/8 [00:31<03:40, 31.56s/it]"
     ]
    },
    {
     "name": "stdout",
     "output_type": "stream",
     "text": [
      "EPOCH: 15 / 20 step: 1 / 8 | lm position loss: 0.008373023010790348  | weighted loss: 0.08373023010790348\n"
     ]
    },
    {
     "name": "stderr",
     "output_type": "stream",
     "text": [
      "\r",
      " 25%|█████████████████████████████████████████                                                                                                                           | 2/8 [01:02<03:06, 31.15s/it]"
     ]
    },
    {
     "name": "stdout",
     "output_type": "stream",
     "text": [
      "EPOCH: 15 / 20 step: 2 / 8 | lm position loss: 0.00824006274342537  | weighted loss: 0.08240062743425369\n"
     ]
    },
    {
     "name": "stderr",
     "output_type": "stream",
     "text": [
      "\r",
      " 38%|█████████████████████████████████████████████████████████████▌                                                                                                      | 3/8 [01:34<02:36, 31.40s/it]"
     ]
    },
    {
     "name": "stdout",
     "output_type": "stream",
     "text": [
      "EPOCH: 15 / 20 step: 3 / 8 | lm position loss: 0.00801993440836668  | weighted loss: 0.0801993440836668\n"
     ]
    },
    {
     "name": "stderr",
     "output_type": "stream",
     "text": [
      "\r",
      " 50%|██████████████████████████████████████████████████████████████████████████████████                                                                                  | 4/8 [02:06<02:07, 31.76s/it]"
     ]
    },
    {
     "name": "stdout",
     "output_type": "stream",
     "text": [
      "EPOCH: 15 / 20 step: 4 / 8 | lm position loss: 0.007842102088034153  | weighted loss: 0.07842102088034153\n"
     ]
    },
    {
     "name": "stderr",
     "output_type": "stream",
     "text": [
      "\r",
      " 62%|██████████████████████████████████████████████████████████████████████████████████████████████████████▌                                                             | 5/8 [02:38<01:35, 31.95s/it]"
     ]
    },
    {
     "name": "stdout",
     "output_type": "stream",
     "text": [
      "EPOCH: 15 / 20 step: 5 / 8 | lm position loss: 0.007869536057114601  | weighted loss: 0.07869536057114601\n"
     ]
    },
    {
     "name": "stderr",
     "output_type": "stream",
     "text": [
      "\r",
      " 75%|███████████████████████████████████████████████████████████████████████████████████████████████████████████████████████████                                         | 6/8 [03:09<01:03, 31.58s/it]"
     ]
    },
    {
     "name": "stdout",
     "output_type": "stream",
     "text": [
      "EPOCH: 15 / 20 step: 6 / 8 | lm position loss: 0.007769986521452665  | weighted loss: 0.07769986521452665\n"
     ]
    },
    {
     "name": "stderr",
     "output_type": "stream",
     "text": [
      "\r",
      " 88%|███████████████████████████████████████████████████████████████████████████████████████████████████████████████████████████████████████████████▌                    | 7/8 [03:41<00:31, 31.81s/it]"
     ]
    },
    {
     "name": "stdout",
     "output_type": "stream",
     "text": [
      "EPOCH: 15 / 20 step: 7 / 8 | lm position loss: 0.008393334224820137  | weighted loss: 0.08393334224820137\n"
     ]
    },
    {
     "name": "stderr",
     "output_type": "stream",
     "text": [
      "100%|████████████████████████████████████████████████████████████████████████████████████████████████████████████████████████████████████████████████████████████████████| 8/8 [04:06<00:00, 30.81s/it]\n"
     ]
    },
    {
     "name": "stdout",
     "output_type": "stream",
     "text": [
      "EPOCH: 15 / 20 step: 8 / 8 | lm position loss: 0.007526915520429611  | weighted loss: 0.07526915520429611\n",
      "---End traing---\n",
      "---Start evaluation---\n"
     ]
    },
    {
     "name": "stderr",
     "output_type": "stream",
     "text": [
      "100%|████████████████████████████████████████████████████████████████████████████████████████████████████████████████████████████████████████████████████████████████████| 3/3 [01:06<00:00, 22.23s/it]\n"
     ]
    },
    {
     "name": "stdout",
     "output_type": "stream",
     "text": [
      "metrics/dist_part_0_L.Che 0.3030872260777874\n",
      "metrics/dist_part_1_R.Che 0.503131564080072\n",
      "metrics/dist_part_2_Sho.A 0.34578752760374415\n",
      "metrics/dist_part_3_Sho.B 0.39277273645246186\n",
      "metrics/dist_part_4_Sho.C 0.43422630137195184\n",
      "metrics/dist_part_5_Sho.D 0.5546611733765855\n",
      "metrics/dist_part_6_Sho.E 0.6268191267137347\n",
      "metrics/dist_part_7_Arm.A 0.3028402519269227\n",
      "metrics/dist_part_8_Arm.B 0.2670043520808914\n",
      "metrics/dist_part_9_L.Wai 0.3464182719055866\n",
      "metrics/dist_part_10_R.Wai 0.4922602645729943\n",
      "metrics/dist_part_11_Arm.E 0.5273004728805469\n",
      "metrics/dist_all 0.42469243908694\n",
      "EPOCH: 15 / 20 | lm distance: 0.42469243908694\n",
      "---End evaluation---\n",
      "---Starting traing---\n"
     ]
    },
    {
     "name": "stderr",
     "output_type": "stream",
     "text": [
      " 12%|████████████████████▌                                                                                                                                               | 1/8 [00:31<03:42, 31.76s/it]"
     ]
    },
    {
     "name": "stdout",
     "output_type": "stream",
     "text": [
      "EPOCH: 16 / 20 step: 1 / 8 | lm position loss: 0.007426905445754528  | weighted loss: 0.07426905445754528\n"
     ]
    },
    {
     "name": "stderr",
     "output_type": "stream",
     "text": [
      "\r",
      " 25%|█████████████████████████████████████████                                                                                                                           | 2/8 [01:01<03:01, 30.30s/it]"
     ]
    },
    {
     "name": "stdout",
     "output_type": "stream",
     "text": [
      "EPOCH: 16 / 20 step: 2 / 8 | lm position loss: 0.008115462027490139  | weighted loss: 0.08115462027490139\n"
     ]
    },
    {
     "name": "stderr",
     "output_type": "stream",
     "text": [
      "\r",
      " 38%|█████████████████████████████████████████████████████████████▌                                                                                                      | 3/8 [01:31<02:32, 30.58s/it]"
     ]
    },
    {
     "name": "stdout",
     "output_type": "stream",
     "text": [
      "EPOCH: 16 / 20 step: 3 / 8 | lm position loss: 0.008034656755626202  | weighted loss: 0.08034656755626202\n"
     ]
    },
    {
     "name": "stderr",
     "output_type": "stream",
     "text": [
      "\r",
      " 50%|██████████████████████████████████████████████████████████████████████████████████                                                                                  | 4/8 [02:01<02:00, 30.06s/it]"
     ]
    },
    {
     "name": "stdout",
     "output_type": "stream",
     "text": [
      "EPOCH: 16 / 20 step: 4 / 8 | lm position loss: 0.007792855612933636  | weighted loss: 0.07792855612933636\n"
     ]
    },
    {
     "name": "stderr",
     "output_type": "stream",
     "text": [
      "\r",
      " 62%|██████████████████████████████████████████████████████████████████████████████████████████████████████▌                                                             | 5/8 [02:31<01:30, 30.07s/it]"
     ]
    },
    {
     "name": "stdout",
     "output_type": "stream",
     "text": [
      "EPOCH: 16 / 20 step: 5 / 8 | lm position loss: 0.007764496374875307  | weighted loss: 0.07764496374875307\n"
     ]
    },
    {
     "name": "stderr",
     "output_type": "stream",
     "text": [
      "\r",
      " 75%|███████████████████████████████████████████████████████████████████████████████████████████████████████████████████████████                                         | 6/8 [03:00<00:59, 29.73s/it]"
     ]
    },
    {
     "name": "stdout",
     "output_type": "stream",
     "text": [
      "EPOCH: 16 / 20 step: 6 / 8 | lm position loss: 0.007652191445231438  | weighted loss: 0.07652191445231438\n"
     ]
    },
    {
     "name": "stderr",
     "output_type": "stream",
     "text": [
      "\r",
      " 88%|███████████████████████████████████████████████████████████████████████████████████████████████████████████████████████████████████████████████▌                    | 7/8 [03:31<00:30, 30.18s/it]"
     ]
    },
    {
     "name": "stdout",
     "output_type": "stream",
     "text": [
      "EPOCH: 16 / 20 step: 7 / 8 | lm position loss: 0.007441906724125147  | weighted loss: 0.07441906724125147\n"
     ]
    },
    {
     "name": "stderr",
     "output_type": "stream",
     "text": [
      "100%|████████████████████████████████████████████████████████████████████████████████████████████████████████████████████████████████████████████████████████████████████| 8/8 [03:55<00:00, 29.44s/it]\n"
     ]
    },
    {
     "name": "stdout",
     "output_type": "stream",
     "text": [
      "EPOCH: 16 / 20 step: 8 / 8 | lm position loss: 0.007631031796336174  | weighted loss: 0.07631031796336174\n",
      "---End traing---\n",
      "---Start evaluation---\n"
     ]
    },
    {
     "name": "stderr",
     "output_type": "stream",
     "text": [
      "100%|████████████████████████████████████████████████████████████████████████████████████████████████████████████████████████████████████████████████████████████████████| 3/3 [01:01<00:00, 20.56s/it]\n"
     ]
    },
    {
     "name": "stdout",
     "output_type": "stream",
     "text": [
      "metrics/dist_part_0_L.Che 0.29110877462946894\n",
      "metrics/dist_part_1_R.Che 0.4819795785833327\n",
      "metrics/dist_part_2_Sho.A 0.3382112837844036\n",
      "metrics/dist_part_3_Sho.B 0.3775858439637359\n",
      "metrics/dist_part_4_Sho.C 0.41427008078464767\n",
      "metrics/dist_part_5_Sho.D 0.5339043761288869\n",
      "metrics/dist_part_6_Sho.E 0.6051088909936155\n",
      "metrics/dist_part_7_Arm.A 0.2943814145425205\n",
      "metrics/dist_part_8_Arm.B 0.25836002324802276\n",
      "metrics/dist_part_9_L.Wai 0.33307519012131365\n",
      "metrics/dist_part_10_R.Wai 0.4691918205323311\n",
      "metrics/dist_part_11_Arm.E 0.500198798368997\n",
      "metrics/dist_all 0.4081146729734397\n",
      "EPOCH: 16 / 20 | lm distance: 0.4081146729734397\n",
      "---End evaluation---\n",
      "---Starting traing---\n"
     ]
    },
    {
     "name": "stderr",
     "output_type": "stream",
     "text": [
      " 12%|████████████████████▌                                                                                                                                               | 1/8 [00:29<03:24, 29.18s/it]"
     ]
    },
    {
     "name": "stdout",
     "output_type": "stream",
     "text": [
      "EPOCH: 17 / 20 step: 1 / 8 | lm position loss: 0.00751734571531415  | weighted loss: 0.0751734571531415\n"
     ]
    },
    {
     "name": "stderr",
     "output_type": "stream",
     "text": [
      "\r",
      " 25%|█████████████████████████████████████████                                                                                                                           | 2/8 [01:00<03:01, 30.30s/it]"
     ]
    },
    {
     "name": "stdout",
     "output_type": "stream",
     "text": [
      "EPOCH: 17 / 20 step: 2 / 8 | lm position loss: 0.00772675359621644  | weighted loss: 0.0772675359621644\n"
     ]
    },
    {
     "name": "stderr",
     "output_type": "stream",
     "text": [
      "\r",
      " 38%|█████████████████████████████████████████████████████████████▌                                                                                                      | 3/8 [01:30<02:31, 30.30s/it]"
     ]
    },
    {
     "name": "stdout",
     "output_type": "stream",
     "text": [
      "EPOCH: 17 / 20 step: 3 / 8 | lm position loss: 0.007102576084434986  | weighted loss: 0.07102576084434986\n"
     ]
    },
    {
     "name": "stderr",
     "output_type": "stream",
     "text": [
      "\r",
      " 50%|██████████████████████████████████████████████████████████████████████████████████                                                                                  | 4/8 [01:59<01:58, 29.74s/it]"
     ]
    },
    {
     "name": "stdout",
     "output_type": "stream",
     "text": [
      "EPOCH: 17 / 20 step: 4 / 8 | lm position loss: 0.007109852973371744  | weighted loss: 0.07109852973371744\n"
     ]
    },
    {
     "name": "stderr",
     "output_type": "stream",
     "text": [
      "\r",
      " 62%|██████████████████████████████████████████████████████████████████████████████████████████████████████▌                                                             | 5/8 [02:28<01:28, 29.58s/it]"
     ]
    },
    {
     "name": "stdout",
     "output_type": "stream",
     "text": [
      "EPOCH: 17 / 20 step: 5 / 8 | lm position loss: 0.007361340802162886  | weighted loss: 0.07361340802162886\n"
     ]
    },
    {
     "name": "stderr",
     "output_type": "stream",
     "text": [
      "\r",
      " 75%|███████████████████████████████████████████████████████████████████████████████████████████████████████████████████████████                                         | 6/8 [02:59<00:59, 29.96s/it]"
     ]
    },
    {
     "name": "stdout",
     "output_type": "stream",
     "text": [
      "EPOCH: 17 / 20 step: 6 / 8 | lm position loss: 0.007141142152249813  | weighted loss: 0.07141142152249813\n"
     ]
    },
    {
     "name": "stderr",
     "output_type": "stream",
     "text": [
      "\r",
      " 88%|███████████████████████████████████████████████████████████████████████████████████████████████████████████████████████████████████████████████▌                    | 7/8 [03:29<00:29, 30.00s/it]"
     ]
    },
    {
     "name": "stdout",
     "output_type": "stream",
     "text": [
      "EPOCH: 17 / 20 step: 7 / 8 | lm position loss: 0.006821313872933388  | weighted loss: 0.06821313872933388\n"
     ]
    },
    {
     "name": "stderr",
     "output_type": "stream",
     "text": [
      "100%|████████████████████████████████████████████████████████████████████████████████████████████████████████████████████████████████████████████████████████████████████| 8/8 [03:52<00:00, 29.12s/it]\n"
     ]
    },
    {
     "name": "stdout",
     "output_type": "stream",
     "text": [
      "EPOCH: 17 / 20 step: 8 / 8 | lm position loss: 0.007086046505719423  | weighted loss: 0.07086046505719423\n",
      "---End traing---\n",
      "---Start evaluation---\n"
     ]
    },
    {
     "name": "stderr",
     "output_type": "stream",
     "text": [
      "100%|████████████████████████████████████████████████████████████████████████████████████████████████████████████████████████████████████████████████████████████████████| 3/3 [01:01<00:00, 20.38s/it]\n"
     ]
    },
    {
     "name": "stdout",
     "output_type": "stream",
     "text": [
      "metrics/dist_part_0_L.Che 0.280638964354944\n",
      "metrics/dist_part_1_R.Che 0.4613302086129225\n",
      "metrics/dist_part_2_Sho.A 0.3256251591689879\n",
      "metrics/dist_part_3_Sho.B 0.36217679271915404\n",
      "metrics/dist_part_4_Sho.C 0.3983573652228864\n",
      "metrics/dist_part_5_Sho.D 0.5178930957020009\n",
      "metrics/dist_part_6_Sho.E 0.586934886320235\n",
      "metrics/dist_part_7_Arm.A 0.2838801281846954\n",
      "metrics/dist_part_8_Arm.B 0.250253875417517\n",
      "metrics/dist_part_9_L.Wai 0.3203700042022175\n",
      "metrics/dist_part_10_R.Wai 0.44760967279885394\n",
      "metrics/dist_part_11_Arm.E 0.476187046399959\n",
      "metrics/dist_all 0.39260476659203114\n",
      "EPOCH: 17 / 20 | lm distance: 0.39260476659203114\n",
      "---End evaluation---\n",
      "---Starting traing---\n"
     ]
    },
    {
     "name": "stderr",
     "output_type": "stream",
     "text": [
      " 12%|████████████████████▌                                                                                                                                               | 1/8 [00:31<03:39, 31.32s/it]"
     ]
    },
    {
     "name": "stdout",
     "output_type": "stream",
     "text": [
      "EPOCH: 18 / 20 step: 1 / 8 | lm position loss: 0.007166809402406216  | weighted loss: 0.07166809402406216\n"
     ]
    },
    {
     "name": "stderr",
     "output_type": "stream",
     "text": [
      "\r",
      " 25%|█████████████████████████████████████████                                                                                                                           | 2/8 [01:00<03:00, 30.01s/it]"
     ]
    },
    {
     "name": "stdout",
     "output_type": "stream",
     "text": [
      "EPOCH: 18 / 20 step: 2 / 8 | lm position loss: 0.007531164679676294  | weighted loss: 0.07531164679676294\n"
     ]
    },
    {
     "name": "stderr",
     "output_type": "stream",
     "text": [
      "\r",
      " 38%|█████████████████████████████████████████████████████████████▌                                                                                                      | 3/8 [01:29<02:27, 29.49s/it]"
     ]
    },
    {
     "name": "stdout",
     "output_type": "stream",
     "text": [
      "EPOCH: 18 / 20 step: 3 / 8 | lm position loss: 0.00714885164052248  | weighted loss: 0.0714885164052248\n"
     ]
    },
    {
     "name": "stderr",
     "output_type": "stream",
     "text": [
      "\r",
      " 50%|██████████████████████████████████████████████████████████████████████████████████                                                                                  | 4/8 [01:58<01:57, 29.49s/it]"
     ]
    },
    {
     "name": "stdout",
     "output_type": "stream",
     "text": [
      "EPOCH: 18 / 20 step: 4 / 8 | lm position loss: 0.006889549549669027  | weighted loss: 0.06889549549669027\n"
     ]
    },
    {
     "name": "stderr",
     "output_type": "stream",
     "text": [
      "\r",
      " 62%|██████████████████████████████████████████████████████████████████████████████████████████████████████▌                                                             | 5/8 [02:30<01:30, 30.28s/it]"
     ]
    },
    {
     "name": "stdout",
     "output_type": "stream",
     "text": [
      "EPOCH: 18 / 20 step: 5 / 8 | lm position loss: 0.0069875395856797695  | weighted loss: 0.0698753958567977\n"
     ]
    },
    {
     "name": "stderr",
     "output_type": "stream",
     "text": [
      "\r",
      " 75%|███████████████████████████████████████████████████████████████████████████████████████████████████████████████████████████                                         | 6/8 [03:00<01:00, 30.35s/it]"
     ]
    },
    {
     "name": "stdout",
     "output_type": "stream",
     "text": [
      "EPOCH: 18 / 20 step: 6 / 8 | lm position loss: 0.007058819755911827  | weighted loss: 0.07058819755911827\n"
     ]
    },
    {
     "name": "stderr",
     "output_type": "stream",
     "text": [
      "\r",
      " 88%|███████████████████████████████████████████████████████████████████████████████████████████████████████████████████████████████████████████████▌                    | 7/8 [03:30<00:30, 30.06s/it]"
     ]
    },
    {
     "name": "stdout",
     "output_type": "stream",
     "text": [
      "EPOCH: 18 / 20 step: 7 / 8 | lm position loss: 0.006784530822187662  | weighted loss: 0.06784530822187662\n"
     ]
    },
    {
     "name": "stderr",
     "output_type": "stream",
     "text": [
      "100%|████████████████████████████████████████████████████████████████████████████████████████████████████████████████████████████████████████████████████████████████████| 8/8 [03:53<00:00, 29.20s/it]\n"
     ]
    },
    {
     "name": "stdout",
     "output_type": "stream",
     "text": [
      "EPOCH: 18 / 20 step: 8 / 8 | lm position loss: 0.006501013413071632  | weighted loss: 0.06501013413071632\n",
      "---End traing---\n",
      "---Start evaluation---\n"
     ]
    },
    {
     "name": "stderr",
     "output_type": "stream",
     "text": [
      "100%|████████████████████████████████████████████████████████████████████████████████████████████████████████████████████████████████████████████████████████████████████| 3/3 [01:05<00:00, 21.87s/it]\n"
     ]
    },
    {
     "name": "stdout",
     "output_type": "stream",
     "text": [
      "metrics/dist_part_0_L.Che 0.27114582583875135\n",
      "metrics/dist_part_1_R.Che 0.4408076374795092\n",
      "metrics/dist_part_2_Sho.A 0.3149841910945629\n",
      "metrics/dist_part_3_Sho.B 0.3483863482077001\n",
      "metrics/dist_part_4_Sho.C 0.3834277397978633\n",
      "metrics/dist_part_5_Sho.D 0.5048798900296678\n",
      "metrics/dist_part_6_Sho.E 0.5711134345048513\n",
      "metrics/dist_part_7_Arm.A 0.27302332528973317\n",
      "metrics/dist_part_8_Arm.B 0.24237713028996408\n",
      "metrics/dist_part_9_L.Wai 0.31041179442510713\n",
      "metrics/dist_part_10_R.Wai 0.4285857265499627\n",
      "metrics/dist_part_11_Arm.E 0.4542669084568837\n",
      "metrics/dist_all 0.37861749599704636\n",
      "EPOCH: 18 / 20 | lm distance: 0.37861749599704636\n",
      "---End evaluation---\n",
      "---Starting traing---\n"
     ]
    },
    {
     "name": "stderr",
     "output_type": "stream",
     "text": [
      " 12%|████████████████████▌                                                                                                                                               | 1/8 [00:29<03:27, 29.63s/it]"
     ]
    },
    {
     "name": "stdout",
     "output_type": "stream",
     "text": [
      "EPOCH: 19 / 20 step: 1 / 8 | lm position loss: 0.0068912324495613575  | weighted loss: 0.06891232449561357\n"
     ]
    },
    {
     "name": "stderr",
     "output_type": "stream",
     "text": [
      "\r",
      " 25%|█████████████████████████████████████████                                                                                                                           | 2/8 [00:58<02:55, 29.20s/it]"
     ]
    },
    {
     "name": "stdout",
     "output_type": "stream",
     "text": [
      "EPOCH: 19 / 20 step: 2 / 8 | lm position loss: 0.007394047919660807  | weighted loss: 0.07394047919660807\n"
     ]
    },
    {
     "name": "stderr",
     "output_type": "stream",
     "text": [
      "\r",
      " 38%|█████████████████████████████████████████████████████████████▌                                                                                                      | 3/8 [01:28<02:27, 29.42s/it]"
     ]
    },
    {
     "name": "stdout",
     "output_type": "stream",
     "text": [
      "EPOCH: 19 / 20 step: 3 / 8 | lm position loss: 0.0066577657125890255  | weighted loss: 0.06657765712589025\n"
     ]
    },
    {
     "name": "stderr",
     "output_type": "stream",
     "text": [
      "\r",
      " 50%|██████████████████████████████████████████████████████████████████████████████████                                                                                  | 4/8 [01:58<01:59, 29.84s/it]"
     ]
    },
    {
     "name": "stdout",
     "output_type": "stream",
     "text": [
      "EPOCH: 19 / 20 step: 4 / 8 | lm position loss: 0.006856593303382397  | weighted loss: 0.06856593303382397\n"
     ]
    },
    {
     "name": "stderr",
     "output_type": "stream",
     "text": [
      "\r",
      " 62%|██████████████████████████████████████████████████████████████████████████████████████████████████████▌                                                             | 5/8 [02:27<01:28, 29.49s/it]"
     ]
    },
    {
     "name": "stdout",
     "output_type": "stream",
     "text": [
      "EPOCH: 19 / 20 step: 5 / 8 | lm position loss: 0.006928298156708479  | weighted loss: 0.06928298156708479\n"
     ]
    },
    {
     "name": "stderr",
     "output_type": "stream",
     "text": [
      "\r",
      " 75%|███████████████████████████████████████████████████████████████████████████████████████████████████████████████████████████                                         | 6/8 [02:56<00:58, 29.29s/it]"
     ]
    },
    {
     "name": "stdout",
     "output_type": "stream",
     "text": [
      "EPOCH: 19 / 20 step: 6 / 8 | lm position loss: 0.006877617910504341  | weighted loss: 0.06877617910504341\n"
     ]
    },
    {
     "name": "stderr",
     "output_type": "stream",
     "text": [
      "\r",
      " 88%|███████████████████████████████████████████████████████████████████████████████████████████████████████████████████████████████████████████████▌                    | 7/8 [03:25<00:29, 29.22s/it]"
     ]
    },
    {
     "name": "stdout",
     "output_type": "stream",
     "text": [
      "EPOCH: 19 / 20 step: 7 / 8 | lm position loss: 0.007107442710548639  | weighted loss: 0.07107442710548639\n"
     ]
    },
    {
     "name": "stderr",
     "output_type": "stream",
     "text": [
      "100%|████████████████████████████████████████████████████████████████████████████████████████████████████████████████████████████████████████████████████████████████████| 8/8 [03:50<00:00, 28.84s/it]\n"
     ]
    },
    {
     "name": "stdout",
     "output_type": "stream",
     "text": [
      "EPOCH: 19 / 20 step: 8 / 8 | lm position loss: 0.006710362154990435  | weighted loss: 0.06710362154990435\n",
      "---End traing---\n",
      "---Start evaluation---\n"
     ]
    },
    {
     "name": "stderr",
     "output_type": "stream",
     "text": [
      "100%|████████████████████████████████████████████████████████████████████████████████████████████████████████████████████████████████████████████████████████████████████| 3/3 [01:00<00:00, 20.20s/it]\n"
     ]
    },
    {
     "name": "stdout",
     "output_type": "stream",
     "text": [
      "metrics/dist_part_0_L.Che 0.2629488407913855\n",
      "metrics/dist_part_1_R.Che 0.42277465819174287\n",
      "metrics/dist_part_2_Sho.A 0.30650107972128793\n",
      "metrics/dist_part_3_Sho.B 0.33585182601700475\n",
      "metrics/dist_part_4_Sho.C 0.36931068573829634\n",
      "metrics/dist_part_5_Sho.D 0.49094879871440084\n",
      "metrics/dist_part_6_Sho.E 0.5560035426058144\n",
      "metrics/dist_part_7_Arm.A 0.26286077851532025\n",
      "metrics/dist_part_8_Arm.B 0.23521628407245387\n",
      "metrics/dist_part_9_L.Wai 0.3004749061772389\n",
      "metrics/dist_part_10_R.Wai 0.41125784046859026\n",
      "metrics/dist_part_11_Arm.E 0.43465154571734144\n",
      "metrics/dist_all 0.3657333988942398\n",
      "EPOCH: 19 / 20 | lm distance: 0.3657333988942398\n",
      "---End evaluation---\n",
      "---Starting traing---\n"
     ]
    },
    {
     "name": "stderr",
     "output_type": "stream",
     "text": [
      " 12%|████████████████████▌                                                                                                                                               | 1/8 [00:29<03:27, 29.67s/it]"
     ]
    },
    {
     "name": "stdout",
     "output_type": "stream",
     "text": [
      "EPOCH: 20 / 20 step: 1 / 8 | lm position loss: 0.006875632330775261  | weighted loss: 0.06875632330775261\n"
     ]
    },
    {
     "name": "stderr",
     "output_type": "stream",
     "text": [
      "\r",
      " 25%|█████████████████████████████████████████                                                                                                                           | 2/8 [01:00<03:02, 30.40s/it]"
     ]
    },
    {
     "name": "stdout",
     "output_type": "stream",
     "text": [
      "EPOCH: 20 / 20 step: 2 / 8 | lm position loss: 0.006509900558739901  | weighted loss: 0.065099005587399\n"
     ]
    },
    {
     "name": "stderr",
     "output_type": "stream",
     "text": [
      "\r",
      " 38%|█████████████████████████████████████████████████████████████▌                                                                                                      | 3/8 [01:29<02:29, 29.88s/it]"
     ]
    },
    {
     "name": "stdout",
     "output_type": "stream",
     "text": [
      "EPOCH: 20 / 20 step: 3 / 8 | lm position loss: 0.007297167554497719  | weighted loss: 0.07297167554497719\n"
     ]
    },
    {
     "name": "stderr",
     "output_type": "stream",
     "text": [
      "\r",
      " 50%|██████████████████████████████████████████████████████████████████████████████████                                                                                  | 4/8 [01:58<01:58, 29.56s/it]"
     ]
    },
    {
     "name": "stdout",
     "output_type": "stream",
     "text": [
      "EPOCH: 20 / 20 step: 4 / 8 | lm position loss: 0.006505939643830061  | weighted loss: 0.06505939643830061\n"
     ]
    },
    {
     "name": "stderr",
     "output_type": "stream",
     "text": [
      "\r",
      " 62%|██████████████████████████████████████████████████████████████████████████████████████████████████████▌                                                             | 5/8 [02:27<01:27, 29.25s/it]"
     ]
    },
    {
     "name": "stdout",
     "output_type": "stream",
     "text": [
      "EPOCH: 20 / 20 step: 5 / 8 | lm position loss: 0.006451550871133804  | weighted loss: 0.06451550871133804\n"
     ]
    },
    {
     "name": "stderr",
     "output_type": "stream",
     "text": [
      "\r",
      " 75%|███████████████████████████████████████████████████████████████████████████████████████████████████████████████████████████                                         | 6/8 [02:57<00:58, 29.46s/it]"
     ]
    },
    {
     "name": "stdout",
     "output_type": "stream",
     "text": [
      "EPOCH: 20 / 20 step: 6 / 8 | lm position loss: 0.006659603212028742  | weighted loss: 0.06659603212028742\n"
     ]
    },
    {
     "name": "stderr",
     "output_type": "stream",
     "text": [
      "\r",
      " 88%|███████████████████████████████████████████████████████████████████████████████████████████████████████████████████████████████████████████████▌                    | 7/8 [03:27<00:29, 29.67s/it]"
     ]
    },
    {
     "name": "stdout",
     "output_type": "stream",
     "text": [
      "EPOCH: 20 / 20 step: 7 / 8 | lm position loss: 0.006377619691193104  | weighted loss: 0.06377619691193104\n"
     ]
    },
    {
     "name": "stderr",
     "output_type": "stream",
     "text": [
      "100%|████████████████████████████████████████████████████████████████████████████████████████████████████████████████████████████████████████████████████████████████████| 8/8 [03:50<00:00, 28.85s/it]\n"
     ]
    },
    {
     "name": "stdout",
     "output_type": "stream",
     "text": [
      "EPOCH: 20 / 20 step: 8 / 8 | lm position loss: 0.006637394893914461  | weighted loss: 0.06637394893914461\n",
      "---End traing---\n",
      "---Start evaluation---\n"
     ]
    },
    {
     "name": "stderr",
     "output_type": "stream",
     "text": [
      "100%|████████████████████████████████████████████████████████████████████████████████████████████████████████████████████████████████████████████████████████████████████| 3/3 [01:01<00:00, 20.43s/it]\n"
     ]
    },
    {
     "name": "stdout",
     "output_type": "stream",
     "text": [
      "metrics/dist_part_0_L.Che 0.2556587943365828\n",
      "metrics/dist_part_1_R.Che 0.4062070090389776\n",
      "metrics/dist_part_2_Sho.A 0.29705015797657514\n",
      "metrics/dist_part_3_Sho.B 0.3254748545307097\n",
      "metrics/dist_part_4_Sho.C 0.3567127664776075\n",
      "metrics/dist_part_5_Sho.D 0.4802504342138423\n",
      "metrics/dist_part_6_Sho.E 0.5400377929822535\n",
      "metrics/dist_part_7_Arm.A 0.25399360982202374\n",
      "metrics/dist_part_8_Arm.B 0.22905744309634782\n",
      "metrics/dist_part_9_L.Wai 0.29246007887236913\n",
      "metrics/dist_part_10_R.Wai 0.3954201046152034\n",
      "metrics/dist_part_11_Arm.E 0.416843238238784\n",
      "metrics/dist_all 0.3540971903501064\n",
      "EPOCH: 20 / 20 | lm distance: 0.3540971903501064\n",
      "---End evaluation---\n"
     ]
    },
    {
     "ename": "RuntimeError",
     "evalue": "[enforce fail at ..\\caffe2\\serialize\\inline_container.cc:274] . unexpected pos 134167744 vs 134167632",
     "output_type": "error",
     "traceback": [
      "\u001b[1;31m---------------------------------------------------------------------------\u001b[0m",
      "\u001b[1;31mOSError\u001b[0m                                   Traceback (most recent call last)",
      "\u001b[1;32m~\\anaconda3\\envs\\pytorch1.7\\lib\\site-packages\\torch\\serialization.py\u001b[0m in \u001b[0;36msave\u001b[1;34m(obj, f, pickle_module, pickle_protocol, _use_new_zipfile_serialization)\u001b[0m\n\u001b[0;32m    371\u001b[0m             \u001b[1;32mwith\u001b[0m \u001b[0m_open_zipfile_writer\u001b[0m\u001b[1;33m(\u001b[0m\u001b[0mopened_file\u001b[0m\u001b[1;33m)\u001b[0m \u001b[1;32mas\u001b[0m \u001b[0mopened_zipfile\u001b[0m\u001b[1;33m:\u001b[0m\u001b[1;33m\u001b[0m\u001b[1;33m\u001b[0m\u001b[0m\n\u001b[1;32m--> 372\u001b[1;33m                 \u001b[0m_save\u001b[0m\u001b[1;33m(\u001b[0m\u001b[0mobj\u001b[0m\u001b[1;33m,\u001b[0m \u001b[0mopened_zipfile\u001b[0m\u001b[1;33m,\u001b[0m \u001b[0mpickle_module\u001b[0m\u001b[1;33m,\u001b[0m \u001b[0mpickle_protocol\u001b[0m\u001b[1;33m)\u001b[0m\u001b[1;33m\u001b[0m\u001b[1;33m\u001b[0m\u001b[0m\n\u001b[0m\u001b[0;32m    373\u001b[0m                 \u001b[1;32mreturn\u001b[0m\u001b[1;33m\u001b[0m\u001b[1;33m\u001b[0m\u001b[0m\n",
      "\u001b[1;32m~\\anaconda3\\envs\\pytorch1.7\\lib\\site-packages\\torch\\serialization.py\u001b[0m in \u001b[0;36m_save\u001b[1;34m(obj, zip_file, pickle_module, pickle_protocol)\u001b[0m\n\u001b[0;32m    492\u001b[0m             \u001b[0mbuf_value\u001b[0m \u001b[1;33m=\u001b[0m \u001b[0mbuf\u001b[0m\u001b[1;33m.\u001b[0m\u001b[0mgetvalue\u001b[0m\u001b[1;33m(\u001b[0m\u001b[1;33m)\u001b[0m\u001b[1;33m\u001b[0m\u001b[1;33m\u001b[0m\u001b[0m\n\u001b[1;32m--> 493\u001b[1;33m             \u001b[0mzip_file\u001b[0m\u001b[1;33m.\u001b[0m\u001b[0mwrite_record\u001b[0m\u001b[1;33m(\u001b[0m\u001b[0mname\u001b[0m\u001b[1;33m,\u001b[0m \u001b[0mbuf_value\u001b[0m\u001b[1;33m,\u001b[0m \u001b[0mlen\u001b[0m\u001b[1;33m(\u001b[0m\u001b[0mbuf_value\u001b[0m\u001b[1;33m)\u001b[0m\u001b[1;33m)\u001b[0m\u001b[1;33m\u001b[0m\u001b[1;33m\u001b[0m\u001b[0m\n\u001b[0m\u001b[0;32m    494\u001b[0m \u001b[1;33m\u001b[0m\u001b[0m\n",
      "\u001b[1;31mOSError\u001b[0m: [Errno 28] No space left on device",
      "\nDuring handling of the above exception, another exception occurred:\n",
      "\u001b[1;31mRuntimeError\u001b[0m                              Traceback (most recent call last)",
      "\u001b[1;32m~\\AppData\\Local\\Temp\\ipykernel_17216\\2578967577.py\u001b[0m in \u001b[0;36m<module>\u001b[1;34m\u001b[0m\n\u001b[0;32m      1\u001b[0m \u001b[0mlist_lr\u001b[0m\u001b[1;33m=\u001b[0m\u001b[1;33m[\u001b[0m\u001b[1;36m0.023\u001b[0m\u001b[1;33m,\u001b[0m\u001b[1;36m0.024\u001b[0m\u001b[1;33m,\u001b[0m\u001b[1;36m0.025\u001b[0m\u001b[1;33m,\u001b[0m\u001b[1;36m0.026\u001b[0m\u001b[1;33m,\u001b[0m\u001b[1;36m0.027\u001b[0m\u001b[1;33m,\u001b[0m\u001b[1;36m0.028\u001b[0m\u001b[1;33m,\u001b[0m\u001b[1;36m0.029\u001b[0m\u001b[1;33m,\u001b[0m\u001b[1;36m0.03\u001b[0m\u001b[1;33m]\u001b[0m \u001b[1;31m#0.021,0.022,\u001b[0m\u001b[1;33m\u001b[0m\u001b[1;33m\u001b[0m\u001b[0m\n\u001b[0;32m      2\u001b[0m \u001b[1;32mfor\u001b[0m \u001b[0mi\u001b[0m \u001b[1;32min\u001b[0m \u001b[0mlist_lr\u001b[0m\u001b[1;33m:\u001b[0m\u001b[1;33m\u001b[0m\u001b[1;33m\u001b[0m\u001b[0m\n\u001b[1;32m----> 3\u001b[1;33m     \u001b[0mtraining_mod\u001b[0m\u001b[1;33m(\u001b[0m\u001b[0mi\u001b[0m\u001b[1;33m,\u001b[0m\u001b[1;36m20\u001b[0m\u001b[1;33m)\u001b[0m\u001b[1;33m\u001b[0m\u001b[1;33m\u001b[0m\u001b[0m\n\u001b[0m",
      "\u001b[1;32m~\\AppData\\Local\\Temp\\ipykernel_17216\\2725700896.py\u001b[0m in \u001b[0;36mtraining_mod\u001b[1;34m(learn, NUMEPOCH)\u001b[0m\n\u001b[0;32m    135\u001b[0m     \u001b[0mexperiment\u001b[0m\u001b[1;33m=\u001b[0m\u001b[1;34m''\u001b[0m\u001b[1;33m\u001b[0m\u001b[1;33m\u001b[0m\u001b[0m\n\u001b[0;32m    136\u001b[0m     \u001b[0mname\u001b[0m \u001b[1;33m=\u001b[0m\u001b[1;34m'lm param epoch='\u001b[0m\u001b[1;33m+\u001b[0m\u001b[0mstr\u001b[0m\u001b[1;33m(\u001b[0m\u001b[0mNUMEPOCH\u001b[0m\u001b[1;33m)\u001b[0m\u001b[1;33m+\u001b[0m\u001b[1;34m' lr ='\u001b[0m \u001b[1;33m+\u001b[0m \u001b[0mstr\u001b[0m\u001b[1;33m(\u001b[0m\u001b[0mlearn\u001b[0m\u001b[1;33m)\u001b[0m \u001b[1;33m+\u001b[0m \u001b[1;34m'R='\u001b[0m \u001b[1;33m+\u001b[0m \u001b[0mstr\u001b[0m\u001b[1;33m(\u001b[0m\u001b[1;36m12\u001b[0m\u001b[1;33m)\u001b[0m\u001b[1;33m\u001b[0m\u001b[1;33m\u001b[0m\u001b[0m\n\u001b[1;32m--> 137\u001b[1;33m     \u001b[0mtorch\u001b[0m\u001b[1;33m.\u001b[0m\u001b[0msave\u001b[0m\u001b[1;33m(\u001b[0m\u001b[0mmodel\u001b[0m\u001b[1;33m.\u001b[0m\u001b[0mstate_dict\u001b[0m\u001b[1;33m(\u001b[0m\u001b[1;33m)\u001b[0m\u001b[1;33m,\u001b[0m \u001b[1;34m'./'\u001b[0m\u001b[1;33m+\u001b[0m \u001b[0mexperiment\u001b[0m \u001b[1;33m+\u001b[0m \u001b[0mname\u001b[0m \u001b[1;33m+\u001b[0m \u001b[0mstr\u001b[0m\u001b[1;33m(\u001b[0m\u001b[0mtrainstartparam\u001b[0m\u001b[1;33m)\u001b[0m \u001b[1;33m+\u001b[0m \u001b[1;34m'-78'\u001b[0m\u001b[1;33m+\u001b[0m\u001b[1;34m' dataset '\u001b[0m\u001b[1;33m+\u001b[0m\u001b[0mstr\u001b[0m\u001b[1;33m(\u001b[0m\u001b[0mdssize\u001b[0m\u001b[1;33m)\u001b[0m \u001b[1;33m+\u001b[0m\u001b[1;34m'.pkl'\u001b[0m\u001b[1;33m)\u001b[0m\u001b[1;33m\u001b[0m\u001b[1;33m\u001b[0m\u001b[0m\n\u001b[0m\u001b[0;32m    138\u001b[0m     \u001b[1;32mimport\u001b[0m \u001b[0mmatplotlib\u001b[0m\u001b[1;33m.\u001b[0m\u001b[0mpyplot\u001b[0m \u001b[1;32mas\u001b[0m \u001b[0mplt\u001b[0m\u001b[1;33m\u001b[0m\u001b[1;33m\u001b[0m\u001b[0m\n\u001b[0;32m    139\u001b[0m     \u001b[0mplt\u001b[0m\u001b[1;33m.\u001b[0m\u001b[0mplot\u001b[0m\u001b[1;33m(\u001b[0m\u001b[0mtrain_pos_loss\u001b[0m\u001b[1;33m,\u001b[0m\u001b[0mlabel\u001b[0m\u001b[1;33m=\u001b[0m\u001b[1;34m'training pos loss'\u001b[0m\u001b[1;33m)\u001b[0m\u001b[1;33m\u001b[0m\u001b[1;33m\u001b[0m\u001b[0m\n",
      "\u001b[1;32m~\\anaconda3\\envs\\pytorch1.7\\lib\\site-packages\\torch\\serialization.py\u001b[0m in \u001b[0;36msave\u001b[1;34m(obj, f, pickle_module, pickle_protocol, _use_new_zipfile_serialization)\u001b[0m\n\u001b[0;32m    371\u001b[0m             \u001b[1;32mwith\u001b[0m \u001b[0m_open_zipfile_writer\u001b[0m\u001b[1;33m(\u001b[0m\u001b[0mopened_file\u001b[0m\u001b[1;33m)\u001b[0m \u001b[1;32mas\u001b[0m \u001b[0mopened_zipfile\u001b[0m\u001b[1;33m:\u001b[0m\u001b[1;33m\u001b[0m\u001b[1;33m\u001b[0m\u001b[0m\n\u001b[0;32m    372\u001b[0m                 \u001b[0m_save\u001b[0m\u001b[1;33m(\u001b[0m\u001b[0mobj\u001b[0m\u001b[1;33m,\u001b[0m \u001b[0mopened_zipfile\u001b[0m\u001b[1;33m,\u001b[0m \u001b[0mpickle_module\u001b[0m\u001b[1;33m,\u001b[0m \u001b[0mpickle_protocol\u001b[0m\u001b[1;33m)\u001b[0m\u001b[1;33m\u001b[0m\u001b[1;33m\u001b[0m\u001b[0m\n\u001b[1;32m--> 373\u001b[1;33m                 \u001b[1;32mreturn\u001b[0m\u001b[1;33m\u001b[0m\u001b[1;33m\u001b[0m\u001b[0m\n\u001b[0m\u001b[0;32m    374\u001b[0m         \u001b[0m_legacy_save\u001b[0m\u001b[1;33m(\u001b[0m\u001b[0mobj\u001b[0m\u001b[1;33m,\u001b[0m \u001b[0mopened_file\u001b[0m\u001b[1;33m,\u001b[0m \u001b[0mpickle_module\u001b[0m\u001b[1;33m,\u001b[0m \u001b[0mpickle_protocol\u001b[0m\u001b[1;33m)\u001b[0m\u001b[1;33m\u001b[0m\u001b[1;33m\u001b[0m\u001b[0m\n\u001b[0;32m    375\u001b[0m \u001b[1;33m\u001b[0m\u001b[0m\n",
      "\u001b[1;32m~\\anaconda3\\envs\\pytorch1.7\\lib\\site-packages\\torch\\serialization.py\u001b[0m in \u001b[0;36m__exit__\u001b[1;34m(self, *args)\u001b[0m\n\u001b[0;32m    257\u001b[0m \u001b[1;33m\u001b[0m\u001b[0m\n\u001b[0;32m    258\u001b[0m     \u001b[1;32mdef\u001b[0m \u001b[0m__exit__\u001b[0m\u001b[1;33m(\u001b[0m\u001b[0mself\u001b[0m\u001b[1;33m,\u001b[0m \u001b[1;33m*\u001b[0m\u001b[0margs\u001b[0m\u001b[1;33m)\u001b[0m \u001b[1;33m->\u001b[0m \u001b[1;32mNone\u001b[0m\u001b[1;33m:\u001b[0m\u001b[1;33m\u001b[0m\u001b[1;33m\u001b[0m\u001b[0m\n\u001b[1;32m--> 259\u001b[1;33m         \u001b[0mself\u001b[0m\u001b[1;33m.\u001b[0m\u001b[0mfile_like\u001b[0m\u001b[1;33m.\u001b[0m\u001b[0mwrite_end_of_file\u001b[0m\u001b[1;33m(\u001b[0m\u001b[1;33m)\u001b[0m\u001b[1;33m\u001b[0m\u001b[1;33m\u001b[0m\u001b[0m\n\u001b[0m\u001b[0;32m    260\u001b[0m         \u001b[0mself\u001b[0m\u001b[1;33m.\u001b[0m\u001b[0mbuffer\u001b[0m\u001b[1;33m.\u001b[0m\u001b[0mflush\u001b[0m\u001b[1;33m(\u001b[0m\u001b[1;33m)\u001b[0m\u001b[1;33m\u001b[0m\u001b[1;33m\u001b[0m\u001b[0m\n\u001b[0;32m    261\u001b[0m \u001b[1;33m\u001b[0m\u001b[0m\n",
      "\u001b[1;31mRuntimeError\u001b[0m: [enforce fail at ..\\caffe2\\serialize\\inline_container.cc:274] . unexpected pos 134167744 vs 134167632"
     ]
    },
    {
     "data": {
      "image/png": "[encoded data removed]",
      "text/plain": [
       "<Figure size 432x288 with 1 Axes>"
      ]
     },
     "metadata": {
      "needs_background": "light"
     },
     "output_type": "display_data"
    }
   ],
   "source": [
    "list_lr=[0.026,0.027,0.028,0.029,0.03] #0.021,0.022,0.023,0.024,0.025,\n",
    "for i in list_lr:\n",
    "    training_mod(i,20)"
   ]
  },
  {
   "cell_type": "code",
   "execution_count": null,
   "id": "f1ba6c1b",
   "metadata": {},
   "outputs": [],
   "source": [
    "list_lr=[0.003,0.004,0.005,0.006,0.007,0.008,0.009,0.01,0.011,0.012,0.013,0.014,0.015,0.016,0.017,0.018,0.019,0.02]\n",
    "for i in list_lr:\n",
    "    training_mod(i,50)"
   ]
  },
  {
   "cell_type": "code",
   "execution_count": null,
   "id": "290902cf",
   "metadata": {},
   "outputs": [],
   "source": [
    "list_lr=[0.0275]\n",
    "for i in list_lr:\n",
    "    training_mod(i,20)"
   ]
  }
 ],
 "metadata": {
  "kernelspec": {
   "display_name": "Python 3 (ipykernel)",
   "language": "python",
   "name": "python3"
  },
  "language_info": {
   "codemirror_mode": {
    "name": "ipython",
    "version": 3
   },
   "file_extension": ".py",
   "mimetype": "text/x-python",
   "name": "python",
   "nbconvert_exporter": "python",
   "pygments_lexer": "ipython3",
   "version": "3.7.7"
  }
 },
 "nbformat": 4,
 "nbformat_minor": 5
}
